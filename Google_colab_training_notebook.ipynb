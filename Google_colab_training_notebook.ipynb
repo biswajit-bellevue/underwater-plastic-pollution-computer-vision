{
 "cells": [
  {
   "cell_type": "markdown",
   "metadata": {},
   "source": [
    "## Google Colab notebook for model training"
   ]
  },
  {
   "cell_type": "code",
   "execution_count": null,
   "metadata": {
    "colab": {
     "base_uri": "https://localhost:8080/"
    },
    "id": "sQmZ0XubIeFV",
    "outputId": "a0226ba5-15b3-4191-83fb-85b03816a915"
   },
   "outputs": [
    {
     "name": "stdout",
     "output_type": "stream",
     "text": [
      "Mounted at /content/drive\n"
     ]
    }
   ],
   "source": [
    "# mount google drive for retrieving datasets\n",
    "from google.colab import drive\n",
    "drive.mount(\"/content/drive\")"
   ]
  },
  {
   "cell_type": "code",
   "execution_count": null,
   "metadata": {},
   "outputs": [],
   "source": [
    "# Unzip the archive datasets from Google drive to local for training"
   ]
  },
  {
   "cell_type": "code",
   "execution_count": null,
   "metadata": {
    "colab": {
     "base_uri": "https://localhost:8080/"
    },
    "id": "tjtzgJuRMP85",
    "outputId": "7601b027-aa99-4540-da20-1897f8cef232"
   },
   "outputs": [
    {
     "name": "stdout",
     "output_type": "stream",
     "text": [
      "\u001b[1;30;43mStreaming output truncated to the last 5000 lines.\u001b[0m\n",
      "  inflating: yolo_dataset/labels/train/bio0001_frame0000039.txt  \n",
      "  inflating: yolo_dataset/labels/train/obj1648_frame0000249.txt  \n",
      "  inflating: yolo_dataset/labels/train/obj1505_frame0000192.txt  \n",
      "  inflating: yolo_dataset/labels/train/obj1294_frame0000037.txt  \n",
      "  inflating: yolo_dataset/labels/train/bio0015_frame0000359.txt  \n",
      "  inflating: yolo_dataset/labels/train/obj0248_frame0000032.txt  \n",
      "  inflating: yolo_dataset/labels/train/bio0016_frame0000151.txt  \n",
      "  inflating: yolo_dataset/labels/train/obj1505_frame0000179.txt  \n",
      "  inflating: yolo_dataset/labels/train/obj0017_frame0000028.txt  \n",
      "  inflating: yolo_dataset/labels/train/bio0014_frame0000313.txt  \n",
      "  inflating: yolo_dataset/labels/train/obj0340_frame0000009.txt  \n",
      "  inflating: yolo_dataset/labels/train/obj1616_frame0000005.txt  \n",
      "  inflating: yolo_dataset/labels/train/bio0003_frame0000284.txt  \n",
      "  inflating: yolo_dataset/labels/train/bio0000_frame0000067.txt  \n",
      "  inflating: yolo_dataset/labels/train/bio0016_frame0000145.txt  \n",
      "  inflating: yolo_dataset/labels/train/bio0004_frame0000301.txt  \n",
      "  inflating: yolo_dataset/labels/train/obj1505_frame0000145.txt  \n",
      "  inflating: yolo_dataset/labels/train/obj0007_frame0000012.txt  \n",
      "  inflating: yolo_dataset/labels/train/obj0350_frame0000027.txt  \n",
      "  inflating: yolo_dataset/labels/train/obj0204_frame0000012.txt  \n",
      "  inflating: yolo_dataset/labels/train/obj0340_frame0000021.txt  \n",
      "  inflating: yolo_dataset/labels/train/obj0747_frame0000080.txt  \n",
      "  inflating: yolo_dataset/labels/train/obj1616_frame0000039.txt  \n",
      "  inflating: yolo_dataset/labels/train/obj0204_frame0000006.txt  \n",
      "  inflating: yolo_dataset/labels/train/obj0350_frame0000033.txt  \n",
      "  inflating: yolo_dataset/labels/train/bio0016_frame0000179.txt  \n",
      "  inflating: yolo_dataset/labels/train/obj1617_frame0000098.txt  \n",
      "  inflating: yolo_dataset/labels/train/bio0002_frame0000218.txt  \n",
      "  inflating: yolo_dataset/labels/train/obj1654_frame0000041.txt  \n",
      "  inflating: yolo_dataset/labels/train/obj1505_frame0000150.txt  \n",
      "  inflating: yolo_dataset/labels/train/obj0350_frame0000032.txt  \n",
      "  inflating: yolo_dataset/labels/train/obj1051_frame0000041.txt  \n",
      "  inflating: yolo_dataset/labels/train/obj1024_frame0000133.txt  \n",
      "  inflating: yolo_dataset/labels/train/obj0340_frame0000020.txt  \n",
      "  inflating: yolo_dataset/labels/train/obj0204_frame0000013.txt  \n",
      "  inflating: yolo_dataset/labels/train/bio0002_frame0000224.txt  \n",
      "  inflating: yolo_dataset/labels/train/obj0340_frame0000008.txt  \n",
      "  inflating: yolo_dataset/labels/train/bio0004_frame0000466.txt  \n",
      "  inflating: yolo_dataset/labels/train/obj1663_frame0000176.txt  \n",
      "  inflating: yolo_dataset/labels/train/bio0012_frame0000222.txt  \n",
      "  inflating: yolo_dataset/labels/train/bio0012_frame0000236.txt  \n",
      "  inflating: yolo_dataset/labels/train/obj1505_frame0000178.txt  \n",
      "  inflating: yolo_dataset/labels/train/bio0004_frame0000472.txt  \n",
      "  inflating: yolo_dataset/labels/train/bio0002_frame0000230.txt  \n",
      "  inflating: yolo_dataset/labels/train/obj0017_frame0000029.txt  \n",
      "  inflating: yolo_dataset/labels/train/obj0248_frame0000033.txt  \n",
      "  inflating: yolo_dataset/labels/train/obj1255_frame0000113.txt  \n",
      "  inflating: yolo_dataset/labels/train/bio0000_frame0000099.txt  \n",
      "  inflating: yolo_dataset/labels/train/obj1658_frame0001622.txt  \n",
      "  inflating: yolo_dataset/labels/train/obj1505_frame0000187.txt  \n",
      "  inflating: yolo_dataset/labels/train/obj0248_frame0000027.txt  \n",
      "  inflating: yolo_dataset/labels/train/obj1294_frame0000022.txt  \n",
      "  inflating: yolo_dataset/labels/train/obj0332_frame0000014.txt  \n",
      "  inflating: yolo_dataset/labels/train/bio0018_frame0000121.txt  \n",
      "  inflating: yolo_dataset/labels/train/obj0348_frame0000149.txt  \n",
      "  inflating: yolo_dataset/labels/train/obj0313_frame0000015.txt  \n",
      "  inflating: yolo_dataset/labels/train/obj1629_frame0000066.txt  \n",
      "  inflating: yolo_dataset/labels/train/bio0016_frame0000187.txt  \n",
      "  inflating: yolo_dataset/labels/train/bio0015_frame0000364.txt  \n",
      "  inflating: yolo_dataset/labels/train/bio0016_frame0000193.txt  \n",
      "  inflating: yolo_dataset/labels/train/obj1617_frame0000072.txt  \n",
      "  inflating: yolo_dataset/labels/train/obj0748_frame0000045.txt  \n",
      "  inflating: yolo_dataset/labels/train/obj0348_frame0000175.txt  \n",
      "  inflating: yolo_dataset/labels/train/obj1629_frame0000072.txt  \n",
      "  inflating: yolo_dataset/labels/train/obj0332_frame0000028.txt  \n",
      "  inflating: yolo_dataset/labels/train/obj0228_frame0000041.txt  \n",
      "  inflating: yolo_dataset/labels/train/obj1505_frame0000352.txt  \n",
      "  inflating: yolo_dataset/labels/train/bio0000_frame0000258.txt  \n",
      "  inflating: yolo_dataset/labels/train/obj1648_frame0000089.txt  \n",
      "  inflating: yolo_dataset/labels/train/obj0331_frame0000022.txt  \n",
      "  inflating: yolo_dataset/labels/train/obj0331_frame0000036.txt  \n",
      "  inflating: yolo_dataset/labels/train/obj1250_frame0000001.txt  \n",
      "  inflating: yolo_dataset/labels/train/bio0016_frame0000408.txt  \n",
      "  inflating: yolo_dataset/labels/train/obj0309_frame0000112.txt  \n",
      "  inflating: yolo_dataset/labels/train/bio0012_frame0000008.txt  \n",
      "  inflating: yolo_dataset/labels/train/obj1505_frame0000346.txt  \n",
      "  inflating: yolo_dataset/labels/train/obj0300_frame0000019.txt  \n",
      "  inflating: yolo_dataset/labels/train/obj1251_frame0000088.txt  \n",
      "  inflating: yolo_dataset/labels/train/obj0300_frame0000031.txt  \n",
      "  inflating: yolo_dataset/labels/train/obj0310_frame0000037.txt  \n",
      "  inflating: yolo_dataset/labels/train/bio0016_frame0000420.txt  \n",
      "  inflating: yolo_dataset/labels/train/bio0013_frame0000081.txt  \n",
      "  inflating: yolo_dataset/labels/train/obj1667_frame0000006.txt  \n",
      "  inflating: yolo_dataset/labels/train/obj1107_frame0000008.txt  \n",
      "  inflating: yolo_dataset/labels/train/obj1657_frame0000088.txt  \n",
      "  inflating: yolo_dataset/labels/train/obj0310_frame0000023.txt  \n",
      "  inflating: yolo_dataset/labels/train/bio0016_frame0000434.txt  \n",
      "  inflating: yolo_dataset/labels/train/bio0004_frame0000116.txt  \n",
      "  inflating: yolo_dataset/labels/train/obj0300_frame0000025.txt  \n",
      "  inflating: yolo_dataset/labels/train/bio0000_frame0000270.txt  \n",
      "  inflating: yolo_dataset/labels/train/obj1617_frame0000258.txt  \n",
      "  inflating: yolo_dataset/labels/train/obj0708_frame0000054.txt  \n",
      "  inflating: yolo_dataset/labels/train/obj1502_frame0000214.txt  \n",
      "  inflating: yolo_dataset/labels/train/obj0343_frame0000016.txt  \n",
      "  inflating: yolo_dataset/labels/train/obj0865_frame0000057.txt  \n",
      "  inflating: yolo_dataset/labels/train/obj0865_frame0000043.txt  \n",
      "  inflating: yolo_dataset/labels/train/obj0014_frame0000037.txt  \n",
      "  inflating: yolo_dataset/labels/train/obj0226_frame0000018.txt  \n",
      "  inflating: yolo_dataset/labels/train/obj1006_frame0000138.txt  \n",
      "  inflating: yolo_dataset/labels/train/obj1502_frame0000200.txt  \n",
      "  inflating: yolo_dataset/labels/train/obj1251_frame0000063.txt  \n",
      "  inflating: yolo_dataset/labels/train/obj1655_frame0000235.txt  \n",
      "  inflating: yolo_dataset/labels/train/obj0236_frame0000036.txt  \n",
      "  inflating: yolo_dataset/labels/train/bio0016_frame0000385.txt  \n",
      "  inflating: yolo_dataset/labels/train/bio0011_frame0000200.txt  \n",
      "  inflating: yolo_dataset/labels/train/bio0001_frame0000206.txt  \n",
      "  inflating: yolo_dataset/labels/train/obj0226_frame0000030.txt  \n",
      "  inflating: yolo_dataset/labels/train/obj0301_frame0000053.txt  \n",
      "  inflating: yolo_dataset/labels/train/obj1660_frame0000140.txt  \n",
      "  inflating: yolo_dataset/labels/train/bio0017_frame0000330.txt  \n",
      "  inflating: yolo_dataset/labels/train/obj0226_frame0000024.txt  \n",
      "  inflating: yolo_dataset/labels/train/obj0301_frame0000047.txt  \n",
      "  inflating: yolo_dataset/labels/train/obj1664_frame0000226.txt  \n",
      "  inflating: yolo_dataset/labels/train/bio0001_frame0000212.txt  \n",
      "  inflating: yolo_dataset/labels/train/obj1016_frame0000102.txt  \n",
      "  inflating: yolo_dataset/labels/train/bio0016_frame0000391.txt  \n",
      "  inflating: yolo_dataset/labels/train/obj0236_frame0000022.txt  \n",
      "  inflating: yolo_dataset/labels/train/obj1654_frame0000451.txt  \n",
      "  inflating: yolo_dataset/labels/train/obj1505_frame0000226.txt  \n",
      "  inflating: yolo_dataset/labels/train/obj0309_frame0000072.txt  \n",
      "  inflating: yolo_dataset/labels/train/obj0309_frame0000066.txt  \n",
      "  inflating: yolo_dataset/labels/train/obj0319_frame0000060.txt  \n",
      "  inflating: yolo_dataset/labels/train/obj1505_frame0000232.txt  \n",
      "  inflating: yolo_dataset/labels/train/obj0319_frame0000048.txt  \n",
      "  inflating: yolo_dataset/labels/train/obj1064_frame0000056.txt  \n",
      "  inflating: yolo_dataset/labels/train/obj1602_frame0000012.txt  \n",
      "  inflating: yolo_dataset/labels/train/obj1202_frame0000122.txt  \n",
      "  inflating: yolo_dataset/labels/train/obj1202_frame0000644.txt  \n",
      "  inflating: yolo_dataset/labels/train/obj0221_frame0000016.txt  \n",
      "  inflating: yolo_dataset/labels/train/obj1667_frame0000172.txt  \n",
      "  inflating: yolo_dataset/labels/train/obj1602_frame0000006.txt  \n",
      "  inflating: yolo_dataset/labels/train/bio0000_frame0000304.txt  \n",
      "  inflating: yolo_dataset/labels/train/bio0001_frame0000428.txt  \n",
      "  inflating: yolo_dataset/labels/train/obj1251_frame0000103.txt  \n",
      "  inflating: yolo_dataset/labels/train/obj0753_frame0000054.txt  \n",
      "  inflating: yolo_dataset/labels/train/obj1502_frame0000360.txt  \n",
      "  inflating: yolo_dataset/labels/train/obj0002_frame0000075.txt  \n",
      "  inflating: yolo_dataset/labels/train/obj1672_frame0000258.txt  \n",
      "  inflating: yolo_dataset/labels/train/obj1658_frame0001232.txt  \n",
      "  inflating: yolo_dataset/labels/train/obj1502_frame0000374.txt  \n",
      "  inflating: yolo_dataset/labels/train/obj1224_frame0000065.txt  \n",
      "  inflating: yolo_dataset/labels/train/obj0243_frame0000018.txt  \n",
      "  inflating: yolo_dataset/labels/train/obj0753_frame0000068.txt  \n",
      "  inflating: yolo_dataset/labels/train/obj0243_frame0000030.txt  \n",
      "  inflating: yolo_dataset/labels/train/bio0001_frame0000372.txt  \n",
      "  inflating: yolo_dataset/labels/train/obj0317_frame0000005.txt  \n",
      "  inflating: yolo_dataset/labels/train/obj0762_frame0000047.txt  \n",
      "  inflating: yolo_dataset/labels/train/obj0002_frame0000049.txt  \n",
      "  inflating: yolo_dataset/labels/train/bio0017_frame0000244.txt  \n",
      "  inflating: yolo_dataset/labels/train/bio0011_frame0000406.txt  \n",
      "  inflating: yolo_dataset/labels/train/bio0001_frame0000366.txt  \n",
      "  inflating: yolo_dataset/labels/train/obj0309_frame0000099.txt  \n",
      "  inflating: yolo_dataset/labels/train/obj0317_frame0000011.txt  \n",
      "  inflating: yolo_dataset/labels/train/obj0243_frame0000024.txt  \n",
      "  inflating: yolo_dataset/labels/train/obj1502_frame0000348.txt  \n",
      "  inflating: yolo_dataset/labels/train/obj1672_frame0000099.txt  \n",
      "  inflating: yolo_dataset/labels/train/bio0018_frame0000082.txt  \n",
      "  inflating: yolo_dataset/labels/train/bio0010_frame0000128.txt  \n",
      "  inflating: yolo_dataset/labels/train/obj0212_frame0000051.txt  \n",
      "  inflating: yolo_dataset/labels/train/obj0333_frame0000116.txt  \n",
      "  inflating: yolo_dataset/labels/train/obj0871_frame0000082.txt  \n",
      "  inflating: yolo_dataset/labels/train/obj0750_frame0000062.txt  \n",
      "  inflating: yolo_dataset/labels/train/obj0871_frame0000096.txt  \n",
      "  inflating: yolo_dataset/labels/train/obj1505_frame0000030.txt  \n",
      "  inflating: yolo_dataset/labels/train/obj1655_frame0000180.txt  \n",
      "  inflating: yolo_dataset/labels/train/obj0212_frame0000045.txt  \n",
      "  inflating: yolo_dataset/labels/train/obj1283_frame0000016.txt  \n",
      "  inflating: yolo_dataset/labels/train/bio0018_frame0000096.txt  \n",
      "  inflating: yolo_dataset/labels/train/obj0314_frame0000027.txt  \n",
      "  inflating: yolo_dataset/labels/train/bio0014_frame0000272.txt  \n",
      "  inflating: yolo_dataset/labels/train/bio0004_frame0000274.txt  \n",
      "  inflating: yolo_dataset/labels/train/obj1658_frame0001965.txt  \n",
      "  inflating: yolo_dataset/labels/train/obj0749_frame0000153.txt  \n",
      "  inflating: yolo_dataset/labels/train/obj1076_frame0000004.txt  \n",
      "  inflating: yolo_dataset/labels/train/obj1502_frame0000189.txt  \n",
      "  inflating: yolo_dataset/labels/train/obj1652_frame0000039.txt  \n",
      "  inflating: yolo_dataset/labels/train/obj0314_frame0000033.txt  \n",
      "  inflating: yolo_dataset/labels/train/obj1664_frame0000178.txt  \n",
      "  inflating: yolo_dataset/labels/train/obj1502_frame0000162.txt  \n",
      "  inflating: yolo_dataset/labels/train/obj0000_frame0000035.txt  \n",
      "  inflating: yolo_dataset/labels/train/obj0334_frame0000050.txt  \n",
      "  inflating: yolo_dataset/labels/train/obj1655_frame0000157.txt  \n",
      "  inflating: yolo_dataset/labels/train/obj0334_frame0000044.txt  \n",
      "  inflating: yolo_dataset/labels/train/obj1648_frame0000328.txt  \n",
      "  inflating: yolo_dataset/labels/train/obj1502_frame0000176.txt  \n",
      "  inflating: yolo_dataset/labels/train/obj1653_frame0000067.txt  \n",
      "  inflating: yolo_dataset/labels/train/obj0241_frame0000058.txt  \n",
      "  inflating: yolo_dataset/labels/train/obj0347_frame0000012.txt  \n",
      "  inflating: yolo_dataset/labels/train/bio0015_frame0000576.txt  \n",
      "  inflating: yolo_dataset/labels/train/bio0002_frame0000393.txt  \n",
      "  inflating: yolo_dataset/labels/train/obj0348_frame0000015.txt  \n",
      "  inflating: yolo_dataset/labels/train/obj1061_frame0000150.txt  \n",
      "  inflating: yolo_dataset/labels/train/bio0011_frame0000176.txt  \n",
      "  inflating: yolo_dataset/labels/train/obj1648_frame0000300.txt  \n",
      "  inflating: yolo_dataset/labels/train/obj1662_frame0000060.txt  \n",
      "  inflating: yolo_dataset/labels/train/obj0000_frame0000009.txt  \n",
      "  inflating: yolo_dataset/labels/train/bio0015_frame0000204.txt  \n",
      "  inflating: yolo_dataset/labels/train/obj1658_frame0002263.txt  \n",
      "  inflating: yolo_dataset/labels/train/bio0003_frame0000326.txt  \n",
      "  inflating: yolo_dataset/labels/train/obj1218_frame0000019.txt  \n",
      "  inflating: yolo_dataset/labels/train/obj1617_frame0000106.txt  \n",
      "  inflating: yolo_dataset/labels/train/obj0241_frame0000064.txt  \n",
      "  inflating: yolo_dataset/labels/train/bio0002_frame0000387.txt  \n",
      "  inflating: yolo_dataset/labels/train/obj1672_frame0000072.txt  \n",
      "  inflating: yolo_dataset/labels/train/obj1617_frame0000110.txt  \n",
      "  inflating: yolo_dataset/labels/train/obj0347_frame0000038.txt  \n",
      "  inflating: yolo_dataset/labels/train/obj1061_frame0000152.txt  \n",
      "  inflating: yolo_dataset/labels/train/obj0348_frame0000017.txt  \n",
      "  inflating: yolo_dataset/labels/train/obj1648_frame0000470.txt  \n",
      "  inflating: yolo_dataset/labels/train/obj0241_frame0000066.txt  \n",
      "  inflating: yolo_dataset/labels/train/obj1617_frame0000104.txt  \n",
      "  inflating: yolo_dataset/labels/train/obj1648_frame0000316.txt  \n",
      "  inflating: yolo_dataset/labels/train/obj1662_frame0000076.txt  \n",
      "  inflating: yolo_dataset/labels/train/obj1502_frame0000148.txt  \n",
      "  inflating: yolo_dataset/labels/train/obj1658_frame0001998.txt  \n",
      "  inflating: yolo_dataset/labels/train/obj0334_frame0000052.txt  \n",
      "  inflating: yolo_dataset/labels/train/obj0000_frame0000037.txt  \n",
      "  inflating: yolo_dataset/labels/train/bio0004_frame0000289.txt  \n",
      "  inflating: yolo_dataset/labels/train/obj1502_frame0000160.txt  \n",
      "  inflating: yolo_dataset/labels/train/obj1648_frame0000458.txt  \n",
      "  inflating: yolo_dataset/labels/train/obj0000_frame0000023.txt  \n",
      "  inflating: yolo_dataset/labels/train/obj1502_frame0000174.txt  \n",
      "  inflating: yolo_dataset/labels/train/obj1617_frame0000138.txt  \n",
      "  inflating: yolo_dataset/labels/train/obj1050_frame0000155.txt  \n",
      "  inflating: yolo_dataset/labels/train/obj0304_frame0000023.txt  \n",
      "  inflating: yolo_dataset/labels/train/obj0749_frame0000145.txt  \n",
      "  inflating: yolo_dataset/labels/train/bio0000_frame0000110.txt  \n",
      "  inflating: yolo_dataset/labels/train/bio0012_frame0000354.txt  \n",
      "  inflating: yolo_dataset/labels/train/obj0750_frame0000048.txt  \n",
      "  inflating: yolo_dataset/labels/train/obj1202_frame0000444.txt  \n",
      "  inflating: yolo_dataset/labels/train/obj0314_frame0000025.txt  \n",
      "  inflating: yolo_dataset/labels/train/bio0004_frame0000262.txt  \n",
      "  inflating: yolo_dataset/labels/train/bio0002_frame0000420.txt  \n",
      "  inflating: yolo_dataset/labels/train/obj0871_frame0000080.txt  \n",
      "  inflating: yolo_dataset/labels/train/obj0333_frame0000114.txt  \n",
      "  inflating: yolo_dataset/labels/train/obj1505_frame0000026.txt  \n",
      "  inflating: yolo_dataset/labels/train/bio0002_frame0000408.txt  \n",
      "  inflating: yolo_dataset/labels/train/obj0212_frame0000053.txt  \n",
      "  inflating: yolo_dataset/labels/train/obj0314_frame0000019.txt  \n",
      "  inflating: yolo_dataset/labels/train/obj0212_frame0000047.txt  \n",
      "  inflating: yolo_dataset/labels/train/obj1505_frame0000032.txt  \n",
      "  inflating: yolo_dataset/labels/train/obj0871_frame0000094.txt  \n",
      "  inflating: yolo_dataset/labels/train/obj0011_frame0000047.txt  \n",
      "  inflating: yolo_dataset/labels/train/obj0317_frame0000007.txt  \n",
      "  inflating: yolo_dataset/labels/train/bio0001_frame0000370.txt  \n",
      "  inflating: yolo_dataset/labels/train/obj0243_frame0000032.txt  \n",
      "  inflating: yolo_dataset/labels/train/bio0012_frame0000195.txt  \n",
      "  inflating: yolo_dataset/labels/train/bio0015_frame0000004.txt  \n",
      "  inflating: yolo_dataset/labels/train/obj1297_frame0000189.txt  \n",
      "  inflating: yolo_dataset/labels/train/bio0011_frame0000362.txt  \n",
      "  inflating: yolo_dataset/labels/train/bio0001_frame0000402.txt  \n",
      "  inflating: yolo_dataset/labels/train/obj0243_frame0000026.txt  \n",
      "  inflating: yolo_dataset/labels/train/bio0001_frame0000364.txt  \n",
      "  inflating: yolo_dataset/labels/train/obj1246_frame0000082.txt  \n",
      "  inflating: yolo_dataset/labels/train/obj0002_frame0000077.txt  \n",
      "  inflating: yolo_dataset/labels/train/obj1502_frame0000362.txt  \n",
      "  inflating: yolo_dataset/labels/train/obj1281_frame0000097.txt  \n",
      "  inflating: yolo_dataset/labels/train/obj1658_frame0001556.txt  \n",
      "  inflating: yolo_dataset/labels/train/obj0307_frame0000029.txt  \n",
      "  inflating: yolo_dataset/labels/train/obj1502_frame0000376.txt  \n",
      "  inflating: yolo_dataset/labels/train/obj0002_frame0000063.txt  \n",
      "  inflating: yolo_dataset/labels/train/obj1657_frame0000101.txt  \n",
      "  inflating: yolo_dataset/labels/train/bio0002_frame0000150.txt  \n",
      "  inflating: yolo_dataset/labels/train/obj0002_frame0000088.txt  \n",
      "  inflating: yolo_dataset/labels/train/bio0017_frame0000291.txt  \n",
      "  inflating: yolo_dataset/labels/train/obj1202_frame0000646.txt  \n",
      "  inflating: yolo_dataset/labels/train/bio0002_frame0000636.txt  \n",
      "  inflating: yolo_dataset/labels/train/obj1505_frame0000218.txt  \n",
      "  inflating: yolo_dataset/labels/train/obj1281_frame0000068.txt  \n",
      "  inflating: yolo_dataset/labels/train/bio0000_frame0000306.txt  \n",
      "  inflating: yolo_dataset/labels/train/bio0004_frame0000060.txt  \n",
      "  inflating: yolo_dataset/labels/train/obj1502_frame0000389.txt  \n",
      "  inflating: yolo_dataset/labels/train/obj1663_frame0000570.txt  \n",
      "  inflating: yolo_dataset/labels/train/obj1202_frame0000652.txt  \n",
      "  inflating: yolo_dataset/labels/train/obj0309_frame0000058.txt  \n",
      "  inflating: yolo_dataset/labels/train/bio0002_frame0000144.txt  \n",
      "  inflating: yolo_dataset/labels/train/obj1024_frame0000253.txt  \n",
      "  inflating: yolo_dataset/labels/train/obj0309_frame0000070.txt  \n",
      "  inflating: yolo_dataset/labels/train/obj1505_frame0000224.txt  \n",
      "  inflating: yolo_dataset/labels/train/bio0004_frame0000048.txt  \n",
      "  inflating: yolo_dataset/labels/train/obj0319_frame0000062.txt  \n",
      "  inflating: yolo_dataset/labels/train/obj0221_frame0000028.txt  \n",
      "  inflating: yolo_dataset/labels/train/obj1654_frame0000321.txt  \n",
      "  inflating: yolo_dataset/labels/train/obj0309_frame0000064.txt  \n",
      "  inflating: yolo_dataset/labels/train/bio0002_frame0000178.txt  \n",
      "  inflating: yolo_dataset/labels/train/obj0343_frame0000028.txt  \n",
      "  inflating: yolo_dataset/labels/train/obj0301_frame0000051.txt  \n",
      "  inflating: yolo_dataset/labels/train/bio0001_frame0000204.txt  \n",
      "  inflating: yolo_dataset/labels/train/bio0013_frame0000040.txt  \n",
      "  inflating: yolo_dataset/labels/train/obj0865_frame0000069.txt  \n",
      "  inflating: yolo_dataset/labels/train/obj0854_frame0000046.txt  \n",
      "  inflating: yolo_dataset/labels/train/bio0016_frame0000387.txt  \n",
      "  inflating: yolo_dataset/labels/train/obj0236_frame0000034.txt  \n",
      "  inflating: yolo_dataset/labels/train/bio0015_frame0000164.txt  \n",
      "  inflating: yolo_dataset/labels/train/obj0236_frame0000020.txt  \n",
      "  inflating: yolo_dataset/labels/train/obj1662_frame0000300.txt  \n",
      "  inflating: yolo_dataset/labels/train/obj1657_frame0000049.txt  \n",
      "  inflating: yolo_dataset/labels/train/bio0001_frame0000210.txt  \n",
      "  inflating: yolo_dataset/labels/train/obj0301_frame0000045.txt  \n",
      "  inflating: yolo_dataset/labels/train/obj0226_frame0000026.txt  \n",
      "  inflating: yolo_dataset/labels/train/obj1654_frame0000282.txt  \n",
      "  inflating: yolo_dataset/labels/train/obj0865_frame0000055.txt  \n",
      "  inflating: yolo_dataset/labels/train/obj0343_frame0000014.txt  \n",
      "  inflating: yolo_dataset/labels/train/obj0002_frame0000103.txt  \n",
      "  inflating: yolo_dataset/labels/train/obj0753_frame0000122.txt  \n",
      "  inflating: yolo_dataset/labels/train/obj1502_frame0000216.txt  \n",
      "  inflating: yolo_dataset/labels/train/obj1502_frame0000202.txt  \n",
      "  inflating: yolo_dataset/labels/train/obj0014_frame0000035.txt  \n",
      "  inflating: yolo_dataset/labels/train/obj0865_frame0000041.txt  \n",
      "  inflating: yolo_dataset/labels/train/obj0309_frame0000138.txt  \n",
      "  inflating: yolo_dataset/labels/train/bio0016_frame0000422.txt  \n",
      "  inflating: yolo_dataset/labels/train/obj0310_frame0000035.txt  \n",
      "  inflating: yolo_dataset/labels/train/obj0300_frame0000033.txt  \n",
      "  inflating: yolo_dataset/labels/train/obj1663_frame0000410.txt  \n",
      "  inflating: yolo_dataset/labels/train/bio0000_frame0000272.txt  \n",
      "  inflating: yolo_dataset/labels/train/obj0300_frame0000027.txt  \n",
      "  inflating: yolo_dataset/labels/train/bio0016_frame0000436.txt  \n",
      "  inflating: yolo_dataset/labels/train/bio0014_frame0000112.txt  \n",
      "  inflating: yolo_dataset/labels/train/obj0310_frame0000021.txt  \n",
      "  inflating: yolo_dataset/labels/train/obj0331_frame0000020.txt  \n",
      "  inflating: yolo_dataset/labels/train/obj0310_frame0000009.txt  \n",
      "  inflating: yolo_dataset/labels/train/obj0309_frame0000104.txt  \n",
      "  inflating: yolo_dataset/labels/train/obj1107_frame0000022.txt  \n",
      "  inflating: yolo_dataset/labels/train/obj1505_frame0000350.txt  \n",
      "  inflating: yolo_dataset/labels/train/obj1281_frame0000120.txt  \n",
      "  inflating: yolo_dataset/labels/train/obj0309_frame0000110.txt  \n",
      "  inflating: yolo_dataset/labels/train/obj1111_frame0000114.txt  \n",
      "  inflating: yolo_dataset/labels/train/obj0331_frame0000034.txt  \n",
      "  inflating: yolo_dataset/labels/train/obj1662_frame0000116.txt  \n",
      "  inflating: yolo_dataset/labels/train/bio0016_frame0000185.txt  \n",
      "  inflating: yolo_dataset/labels/train/obj1648_frame0000276.txt  \n",
      "  inflating: yolo_dataset/labels/train/obj1629_frame0000064.txt  \n",
      "  inflating: yolo_dataset/labels/train/obj0348_frame0000163.txt  \n",
      "  inflating: yolo_dataset/labels/train/obj0009_frame0000074.txt  \n",
      "  inflating: yolo_dataset/labels/train/obj0748_frame0000053.txt  \n",
      "  inflating: yolo_dataset/labels/train/obj0313_frame0000017.txt  \n",
      "  inflating: yolo_dataset/labels/train/bio0017_frame0000124.txt  \n",
      "  inflating: yolo_dataset/labels/train/obj1629_frame0000070.txt  \n",
      "  inflating: yolo_dataset/labels/train/obj0009_frame0000060.txt  \n",
      "  inflating: yolo_dataset/labels/train/obj0348_frame0000177.txt  \n",
      "  inflating: yolo_dataset/labels/train/obj1658_frame0000264.txt  \n",
      "  inflating: yolo_dataset/labels/train/bio0002_frame0000597.txt  \n",
      "  inflating: yolo_dataset/labels/train/obj0248_frame0000019.txt  \n",
      "  inflating: yolo_dataset/labels/train/bio0016_frame0000191.txt  \n",
      "  inflating: yolo_dataset/labels/train/obj1050_frame0000035.txt  \n",
      "  inflating: yolo_dataset/labels/train/obj1505_frame0000191.txt  \n",
      "  inflating: yolo_dataset/labels/train/obj1629_frame0000058.txt  \n",
      "  inflating: yolo_dataset/labels/train/obj0009_frame0000048.txt  \n",
      "  inflating: yolo_dataset/labels/train/obj1672_frame0000138.txt  \n",
      "  inflating: yolo_dataset/labels/train/obj1523_frame0000029.txt  \n",
      "  inflating: yolo_dataset/labels/train/obj1505_frame0000185.txt  \n",
      "  inflating: yolo_dataset/labels/train/bio0002_frame0000540.txt  \n",
      "  inflating: yolo_dataset/labels/train/obj0204_frame0000039.txt  \n",
      "  inflating: yolo_dataset/labels/train/bio0002_frame0000232.txt  \n",
      "  inflating: yolo_dataset/labels/train/obj0350_frame0000018.txt  \n",
      "  inflating: yolo_dataset/labels/train/bio0004_frame0000316.txt  \n",
      "  inflating: yolo_dataset/labels/train/obj0350_frame0000030.txt  \n",
      "  inflating: yolo_dataset/labels/train/obj0312_frame0000049.txt  \n",
      "  inflating: yolo_dataset/labels/train/obj1505_frame0000152.txt  \n",
      "  inflating: yolo_dataset/labels/train/obj0204_frame0000011.txt  \n",
      "  inflating: yolo_dataset/labels/train/obj0340_frame0000022.txt  \n",
      "  inflating: yolo_dataset/labels/train/obj1024_frame0000131.txt  \n",
      "  inflating: yolo_dataset/labels/train/obj0348_frame0000188.txt  \n",
      "  inflating: yolo_dataset/labels/train/obj0017_frame0000017.txt  \n",
      "  inflating: yolo_dataset/labels/train/obj1606_frame0000028.txt  \n",
      "  inflating: yolo_dataset/labels/train/obj0350_frame0000024.txt  \n",
      "  inflating: yolo_dataset/labels/train/obj1654_frame0000056.txt  \n",
      "  inflating: yolo_dataset/labels/train/obj0348_frame0000189.txt  \n",
      "  inflating: yolo_dataset/labels/train/obj1024_frame0000130.txt  \n",
      "  inflating: yolo_dataset/labels/train/obj0340_frame0000023.txt  \n",
      "  inflating: yolo_dataset/labels/train/obj0204_frame0000010.txt  \n",
      "  inflating: yolo_dataset/labels/train/obj0350_frame0000025.txt  \n",
      "  inflating: yolo_dataset/labels/train/obj1505_frame0000147.txt  \n",
      "  inflating: yolo_dataset/labels/train/obj1003_frame0000029.txt  \n",
      "  inflating: yolo_dataset/labels/train/obj1648_frame0000288.txt  \n",
      "  inflating: yolo_dataset/labels/train/bio0000_frame0000059.txt  \n",
      "  inflating: yolo_dataset/labels/train/obj1505_frame0000153.txt  \n",
      "  inflating: yolo_dataset/labels/train/bio0015_frame0000398.txt  \n",
      "  inflating: yolo_dataset/labels/train/obj0312_frame0000048.txt  \n",
      "  inflating: yolo_dataset/labels/train/obj0350_frame0000031.txt  \n",
      "  inflating: yolo_dataset/labels/train/obj1297_frame0000215.txt  \n",
      "  inflating: yolo_dataset/labels/train/obj0747_frame0000082.txt  \n",
      "  inflating: yolo_dataset/labels/train/obj1616_frame0000013.txt  \n",
      "  inflating: yolo_dataset/labels/train/bio0010_frame0000077.txt  \n",
      "  inflating: yolo_dataset/labels/train/obj1667_frame0000207.txt  \n",
      "  inflating: yolo_dataset/labels/train/bio0000_frame0000071.txt  \n",
      "  inflating: yolo_dataset/labels/train/bio0002_frame0000555.txt  \n",
      "  inflating: yolo_dataset/labels/train/bio0003_frame0000292.txt  \n",
      "  inflating: yolo_dataset/labels/train/obj0312_frame0000060.txt  \n",
      "  inflating: yolo_dataset/labels/train/obj0350_frame0000019.txt  \n",
      "  inflating: yolo_dataset/labels/train/bio0016_frame0000153.txt  \n",
      "  inflating: yolo_dataset/labels/train/bio0016_frame0000147.txt  \n",
      "  inflating: yolo_dataset/labels/train/bio0000_frame0000065.txt  \n",
      "  inflating: yolo_dataset/labels/train/obj0007_frame0000038.txt  \n",
      "  inflating: yolo_dataset/labels/train/obj1658_frame0001812.txt  \n",
      "  inflating: yolo_dataset/labels/train/bio0003_frame0000286.txt  \n",
      "  inflating: yolo_dataset/labels/train/obj1616_frame0000007.txt  \n",
      "  inflating: yolo_dataset/labels/train/bio0015_frame0000429.txt  \n",
      "  inflating: yolo_dataset/labels/train/obj0332_frame0000017.txt  \n",
      "  inflating: yolo_dataset/labels/train/obj0751_frame0000177.txt  \n",
      "  inflating: yolo_dataset/labels/train/obj1626_frame0000062.txt  \n",
      "  inflating: yolo_dataset/labels/train/obj1505_frame0000184.txt  \n",
      "  inflating: yolo_dataset/labels/train/obj1050_frame0000020.txt  \n",
      "  inflating: yolo_dataset/labels/train/obj0871_frame0000122.txt  \n",
      "  inflating: yolo_dataset/labels/train/obj0248_frame0000024.txt  \n",
      "  inflating: yolo_dataset/labels/train/obj1523_frame0000028.txt  \n",
      "  inflating: yolo_dataset/labels/train/obj1294_frame0000035.txt  \n",
      "  inflating: yolo_dataset/labels/train/obj1617_frame0000059.txt  \n",
      "  inflating: yolo_dataset/labels/train/obj1505_frame0000190.txt  \n",
      "  inflating: yolo_dataset/labels/train/obj1087_frame0000033.txt  \n",
      "  inflating: yolo_dataset/labels/train/obj0009_frame0000049.txt  \n",
      "  inflating: yolo_dataset/labels/train/obj1654_frame0000081.txt  \n",
      "  inflating: yolo_dataset/labels/train/bio0017_frame0000119.txt  \n",
      "  inflating: yolo_dataset/labels/train/bio0018_frame0000136.txt  \n",
      "  inflating: yolo_dataset/labels/train/bio0001_frame0000013.txt  \n",
      "  inflating: yolo_dataset/labels/train/obj0009_frame0000061.txt  \n",
      "  inflating: yolo_dataset/labels/train/bio0013_frame0000257.txt  \n",
      "  inflating: yolo_dataset/labels/train/obj1672_frame0000105.txt  \n",
      "  inflating: yolo_dataset/labels/train/obj0313_frame0000002.txt  \n",
      "  inflating: yolo_dataset/labels/train/obj1658_frame0002314.txt  \n",
      "  inflating: yolo_dataset/labels/train/obj0248_frame0000018.txt  \n",
      "  inflating: yolo_dataset/labels/train/obj1617_frame0000071.txt  \n",
      "  inflating: yolo_dataset/labels/train/bio0003_frame0000251.txt  \n",
      "  inflating: yolo_dataset/labels/train/obj1658_frame0000503.txt  \n",
      "  inflating: yolo_dataset/labels/train/obj1617_frame0000065.txt  \n",
      "  inflating: yolo_dataset/labels/train/bio0002_frame0000582.txt  \n",
      "  inflating: yolo_dataset/labels/train/bio0003_frame0000245.txt  \n",
      "  inflating: yolo_dataset/labels/train/obj1658_frame0000517.txt  \n",
      "  inflating: yolo_dataset/labels/train/obj0760_frame0000170.txt  \n",
      "  inflating: yolo_dataset/labels/train/obj0313_frame0000016.txt  \n",
      "  inflating: yolo_dataset/labels/train/bio0001_frame0000007.txt  \n",
      "  inflating: yolo_dataset/labels/train/obj0009_frame0000075.txt  \n",
      "  inflating: yolo_dataset/labels/train/obj0348_frame0000162.txt  \n",
      "  inflating: yolo_dataset/labels/train/obj1656_frame0000016.txt  \n",
      "  inflating: yolo_dataset/labels/train/obj1663_frame0000439.txt  \n",
      "  inflating: yolo_dataset/labels/train/obj0331_frame0000035.txt  \n",
      "  inflating: yolo_dataset/labels/train/obj1658_frame0000098.txt  \n",
      "  inflating: yolo_dataset/labels/train/obj1107_frame0000037.txt  \n",
      "  inflating: yolo_dataset/labels/train/obj0865_frame0000083.txt  \n",
      "  inflating: yolo_dataset/labels/train/obj0309_frame0000111.txt  \n",
      "  inflating: yolo_dataset/labels/train/obj1107_frame0000023.txt  \n",
      "  inflating: yolo_dataset/labels/train/obj1280_frame0000194.txt  \n",
      "  inflating: yolo_dataset/labels/train/obj0865_frame0000097.txt  \n",
      "  inflating: yolo_dataset/labels/train/obj0309_frame0000105.txt  \n",
      "  inflating: yolo_dataset/labels/train/obj1654_frame0000240.txt  \n",
      "  inflating: yolo_dataset/labels/train/obj0310_frame0000008.txt  \n",
      "  inflating: yolo_dataset/labels/train/obj0331_frame0000021.txt  \n",
      "  inflating: yolo_dataset/labels/train/obj1505_frame0000351.txt  \n",
      "  inflating: yolo_dataset/labels/train/obj1030_frame0000046.txt  \n",
      "  inflating: yolo_dataset/labels/train/bio0016_frame0000351.txt  \n",
      "  inflating: yolo_dataset/labels/train/bio0012_frame0000037.txt  \n",
      "  inflating: yolo_dataset/labels/train/obj1654_frame0000268.txt  \n",
      "  inflating: yolo_dataset/labels/train/bio0013_frame0000096.txt  \n",
      "  inflating: yolo_dataset/labels/train/obj0310_frame0000020.txt  \n",
      "  inflating: yolo_dataset/labels/train/bio0014_frame0000107.txt  \n",
      "  inflating: yolo_dataset/labels/train/obj1667_frame0000011.txt  \n",
      "  inflating: yolo_dataset/labels/train/obj0309_frame0000139.txt  \n",
      "  inflating: yolo_dataset/labels/train/obj1202_frame0000055.txt  \n",
      "  inflating: yolo_dataset/labels/train/bio0016_frame0000345.txt  \n",
      "  inflating: yolo_dataset/labels/train/bio0004_frame0000101.txt  \n",
      "  inflating: yolo_dataset/labels/train/obj0300_frame0000032.txt  \n",
      "  inflating: yolo_dataset/labels/train/obj1502_frame0000203.txt  \n",
      "  inflating: yolo_dataset/labels/train/obj1251_frame0000060.txt  \n",
      "  inflating: yolo_dataset/labels/train/obj1658_frame0001423.txt  \n",
      "  inflating: yolo_dataset/labels/train/obj1664_frame0000219.txt  \n",
      "  inflating: yolo_dataset/labels/train/obj0014_frame0000034.txt  \n",
      "  inflating: yolo_dataset/labels/train/obj1654_frame0000297.txt  \n",
      "  inflating: yolo_dataset/labels/train/obj0002_frame0000102.txt  \n",
      "  inflating: yolo_dataset/labels/train/obj0343_frame0000015.txt  \n",
      "  inflating: yolo_dataset/labels/train/obj1657_frame0000060.txt  \n",
      "  inflating: yolo_dataset/labels/train/obj1648_frame0000049.txt  \n",
      "  inflating: yolo_dataset/labels/train/obj1655_frame0000222.txt  \n",
      "  inflating: yolo_dataset/labels/train/bio0015_frame0000159.txt  \n",
      "  inflating: yolo_dataset/labels/train/obj1502_frame0000217.txt  \n",
      "  inflating: yolo_dataset/labels/train/obj1648_frame0000061.txt  \n",
      "  inflating: yolo_dataset/labels/train/obj0236_frame0000021.txt  \n",
      "  inflating: yolo_dataset/labels/train/obj0226_frame0000027.txt  \n",
      "  inflating: yolo_dataset/labels/train/obj0226_frame0000033.txt  \n",
      "  inflating: yolo_dataset/labels/train/obj0301_frame0000050.txt  \n",
      "  inflating: yolo_dataset/labels/train/obj0343_frame0000029.txt  \n",
      "  inflating: yolo_dataset/labels/train/obj1202_frame0000096.txt  \n",
      "  inflating: yolo_dataset/labels/train/obj1251_frame0000048.txt  \n",
      "  inflating: yolo_dataset/labels/train/obj1505_frame0000231.txt  \n",
      "  inflating: yolo_dataset/labels/train/obj0319_frame0000063.txt  \n",
      "  inflating: yolo_dataset/labels/train/obj1654_frame0000446.txt  \n",
      "  inflating: yolo_dataset/labels/train/obj0753_frame0000080.txt  \n",
      "  inflating: yolo_dataset/labels/train/obj1602_frame0000039.txt  \n",
      "  inflating: yolo_dataset/labels/train/obj1024_frame0000246.txt  \n",
      "  inflating: yolo_dataset/labels/train/obj0309_frame0000065.txt  \n",
      "  inflating: yolo_dataset/labels/train/obj0221_frame0000029.txt  \n",
      "  inflating: yolo_dataset/labels/train/obj0309_frame0000071.txt  \n",
      "  inflating: yolo_dataset/labels/train/obj1667_frame0000159.txt  \n",
      "  inflating: yolo_dataset/labels/train/obj1111_frame0000075.txt  \n",
      "  inflating: yolo_dataset/labels/train/obj1505_frame0000225.txt  \n",
      "  inflating: yolo_dataset/labels/train/obj1064_frame0000041.txt  \n",
      "  inflating: yolo_dataset/labels/train/bio0016_frame0000225.txt  \n",
      "  inflating: yolo_dataset/labels/train/obj0309_frame0000059.txt  \n",
      "  inflating: yolo_dataset/labels/train/obj0221_frame0000015.txt  \n",
      "  inflating: yolo_dataset/labels/train/bio0014_frame0000067.txt  \n",
      "  inflating: yolo_dataset/labels/train/obj0002_frame0000089.txt  \n",
      "  inflating: yolo_dataset/labels/train/obj1654_frame0000308.txt  \n",
      "  inflating: yolo_dataset/labels/train/obj1667_frame0000165.txt  \n",
      "  inflating: yolo_dataset/labels/train/obj1505_frame0000219.txt  \n",
      "  inflating: yolo_dataset/labels/train/bio0004_frame0000075.txt  \n",
      "  inflating: yolo_dataset/labels/train/obj1602_frame0000011.txt  \n",
      "  inflating: yolo_dataset/labels/train/bio0016_frame0000231.txt  \n",
      "  inflating: yolo_dataset/labels/train/obj1662_frame0000249.txt  \n",
      "  inflating: yolo_dataset/labels/train/obj1502_frame0000377.txt  \n",
      "  inflating: yolo_dataset/labels/train/bio0018_frame0000254.txt  \n",
      "  inflating: yolo_dataset/labels/train/obj0002_frame0000076.txt  \n",
      "  inflating: yolo_dataset/labels/train/obj0318_frame0000015.txt  \n",
      "  inflating: yolo_dataset/labels/train/obj0865_frame0000120.txt  \n",
      "  inflating: yolo_dataset/labels/train/obj1502_frame0000363.txt  \n",
      "  inflating: yolo_dataset/labels/train/bio0012_frame0000180.txt  \n",
      "  inflating: yolo_dataset/labels/train/obj0243_frame0000027.txt  \n",
      "  inflating: yolo_dataset/labels/train/obj1662_frame0000275.txt  \n",
      "  inflating: yolo_dataset/labels/train/obj1006_frame0000073.txt  \n",
      "  inflating: yolo_dataset/labels/train/bio0002_frame0000186.txt  \n",
      "  inflating: yolo_dataset/labels/train/bio0013_frame0000121.txt  \n",
      "  inflating: yolo_dataset/labels/train/obj0865_frame0000108.txt  \n",
      "  inflating: yolo_dataset/labels/train/obj0317_frame0000012.txt  \n",
      "  inflating: yolo_dataset/labels/train/bio0011_frame0000411.txt  \n",
      "  inflating: yolo_dataset/labels/train/obj1658_frame0000107.txt  \n",
      "  inflating: yolo_dataset/labels/train/bio0002_frame0000192.txt  \n",
      "  inflating: yolo_dataset/labels/train/obj0317_frame0000006.txt  \n",
      "  inflating: yolo_dataset/labels/train/obj1202_frame0000684.txt  \n",
      "  inflating: yolo_dataset/labels/train/bio0017_frame0000253.txt  \n",
      "  inflating: yolo_dataset/labels/train/obj1662_frame0000261.txt  \n",
      "  inflating: yolo_dataset/labels/train/bio0015_frame0000011.txt  \n",
      "  inflating: yolo_dataset/labels/train/obj1656_frame0000189.txt  \n",
      "  inflating: yolo_dataset/labels/train/bio0001_frame0000198.txt  \n",
      "  inflating: yolo_dataset/labels/train/obj0011_frame0000046.txt  \n",
      "  inflating: yolo_dataset/labels/train/obj0333_frame0000101.txt  \n",
      "  inflating: yolo_dataset/labels/train/obj1505_frame0000033.txt  \n",
      "  inflating: yolo_dataset/labels/train/obj1655_frame0000183.txt  \n",
      "  inflating: yolo_dataset/labels/train/bio0000_frame0000139.txt  \n",
      "  inflating: yolo_dataset/labels/train/bio0012_frame0000369.txt  \n",
      "  inflating: yolo_dataset/labels/train/obj1655_frame0000197.txt  \n",
      "  inflating: yolo_dataset/labels/train/obj1505_frame0000027.txt  \n",
      "  inflating: yolo_dataset/labels/train/obj0333_frame0000115.txt  \n",
      "  inflating: yolo_dataset/labels/train/obj1080_frame0000001.txt  \n",
      "  inflating: yolo_dataset/labels/train/obj0314_frame0000018.txt  \n",
      "  inflating: yolo_dataset/labels/train/obj0212_frame0000052.txt  \n",
      "  inflating: yolo_dataset/labels/train/obj1283_frame0000001.txt  \n",
      "  inflating: yolo_dataset/labels/train/bio0010_frame0000103.txt  \n",
      "  inflating: yolo_dataset/labels/train/bio0000_frame0000105.txt  \n",
      "  inflating: yolo_dataset/labels/train/obj0304_frame0000036.txt  \n",
      "  inflating: yolo_dataset/labels/train/obj1080_frame0000029.txt  \n",
      "  inflating: yolo_dataset/labels/train/bio0004_frame0000277.txt  \n",
      "  inflating: yolo_dataset/labels/train/bio0002_frame0000435.txt  \n",
      "  inflating: yolo_dataset/labels/train/bio0000_frame0000111.txt  \n",
      "  inflating: yolo_dataset/labels/train/obj0304_frame0000022.txt  \n",
      "  inflating: yolo_dataset/labels/train/obj1667_frame0000401.txt  \n",
      "  inflating: yolo_dataset/labels/train/obj0314_frame0000024.txt  \n",
      "  inflating: yolo_dataset/labels/train/obj1664_frame0000184.txt  \n",
      "  inflating: yolo_dataset/labels/train/bio0017_frame0000092.txt  \n",
      "  inflating: yolo_dataset/labels/train/obj0702_frame0000036.txt  \n",
      "  inflating: yolo_dataset/labels/train/obj0334_frame0000047.txt  \n",
      "  inflating: yolo_dataset/labels/train/obj1658_frame0001755.txt  \n",
      "  inflating: yolo_dataset/labels/train/obj1218_frame0000026.txt  \n",
      "  inflating: yolo_dataset/labels/train/obj1502_frame0000175.txt  \n",
      "  inflating: yolo_dataset/labels/train/obj0000_frame0000022.txt  \n",
      "  inflating: yolo_dataset/labels/train/obj1502_frame0000161.txt  \n",
      "  inflating: yolo_dataset/labels/train/obj0000_frame0000036.txt  \n",
      "  inflating: yolo_dataset/labels/train/obj0334_frame0000053.txt  \n",
      "  inflating: yolo_dataset/labels/train/obj0241_frame0000067.txt  \n",
      "  inflating: yolo_dataset/labels/train/obj0305_frame0000054.txt  \n",
      "  inflating: yolo_dataset/labels/train/bio0001_frame0000167.txt  \n",
      "  inflating: yolo_dataset/labels/train/obj0713_frame0000046.txt  \n",
      "  inflating: yolo_dataset/labels/train/bio0015_frame0000561.txt  \n",
      "  inflating: yolo_dataset/labels/train/obj1648_frame0000303.txt  \n",
      "  inflating: yolo_dataset/labels/train/obj1655_frame0000168.txt  \n",
      "  inflating: yolo_dataset/labels/train/obj0713_frame0000052.txt  \n",
      "  inflating: yolo_dataset/labels/train/obj1672_frame0000065.txt  \n",
      "  inflating: yolo_dataset/labels/train/bio0002_frame0000390.txt  \n",
      "  inflating: yolo_dataset/labels/train/obj1061_frame0000153.txt  \n",
      "  inflating: yolo_dataset/labels/train/bio0001_frame0000173.txt  \n",
      "  inflating: yolo_dataset/labels/train/obj0347_frame0000039.txt  \n",
      "  inflating: yolo_dataset/labels/train/obj0334_frame0000057.txt  \n",
      "  inflating: yolo_dataset/labels/train/obj1502_frame0000165.txt  \n",
      "  inflating: yolo_dataset/labels/train/obj0000_frame0000026.txt  \n",
      "  inflating: yolo_dataset/labels/train/bio0004_frame0000298.txt  \n",
      "  inflating: yolo_dataset/labels/train/obj1502_frame0000171.txt  \n",
      "  inflating: yolo_dataset/labels/train/obj0334_frame0000043.txt  \n",
      "  inflating: yolo_dataset/labels/train/obj1050_frame0000150.txt  \n",
      "  inflating: yolo_dataset/labels/train/obj1648_frame0000449.txt  \n",
      "  inflating: yolo_dataset/labels/train/obj1648_frame0000461.txt  \n",
      "  inflating: yolo_dataset/labels/train/bio0001_frame0000177.txt  \n",
      "  inflating: yolo_dataset/labels/train/obj1664_frame0000143.txt  \n",
      "  inflating: yolo_dataset/labels/train/bio0015_frame0000571.txt  \n",
      "  inflating: yolo_dataset/labels/train/obj1502_frame0000159.txt  \n",
      "  inflating: yolo_dataset/labels/train/obj0305_frame0000050.txt  \n",
      "  inflating: yolo_dataset/labels/train/bio0001_frame0000163.txt  \n",
      "  inflating: yolo_dataset/labels/train/obj0347_frame0000029.txt  \n",
      "  inflating: yolo_dataset/labels/train/obj0241_frame0000063.txt  \n",
      "  inflating: yolo_dataset/labels/train/bio0014_frame0000249.txt  \n",
      "  inflating: yolo_dataset/labels/train/obj0333_frame0000111.txt  \n",
      "  inflating: yolo_dataset/labels/train/bio0000_frame0000129.txt  \n",
      "  inflating: yolo_dataset/labels/train/obj1655_frame0000193.txt  \n",
      "  inflating: yolo_dataset/labels/train/obj1505_frame0000037.txt  \n",
      "  inflating: yolo_dataset/labels/train/bio0012_frame0000379.txt  \n",
      "  inflating: yolo_dataset/labels/train/obj0333_frame0000105.txt  \n",
      "  inflating: yolo_dataset/labels/train/obj0011_frame0000042.txt  \n",
      "  inflating: yolo_dataset/labels/train/bio0018_frame0000091.txt  \n",
      "  inflating: yolo_dataset/labels/train/obj0212_frame0000042.txt  \n",
      "  inflating: yolo_dataset/labels/train/bio0017_frame0000096.txt  \n",
      "  inflating: yolo_dataset/labels/train/bio0002_frame0000357.txt  \n",
      "  inflating: yolo_dataset/labels/train/obj0304_frame0000026.txt  \n",
      "  inflating: yolo_dataset/labels/train/obj0750_frame0000059.txt  \n",
      "  inflating: yolo_dataset/labels/train/obj0304_frame0000032.txt  \n",
      "  inflating: yolo_dataset/labels/train/obj1667_frame0000377.txt  \n",
      "  inflating: yolo_dataset/labels/train/obj0314_frame0000034.txt  \n",
      "  inflating: yolo_dataset/labels/train/obj0308_frame0000017.txt  \n",
      "  inflating: yolo_dataset/labels/train/obj0318_frame0000011.txt  \n",
      "  inflating: yolo_dataset/labels/train/obj0865_frame0000124.txt  \n",
      "  inflating: yolo_dataset/labels/train/bio0001_frame0000349.txt  \n",
      "  inflating: yolo_dataset/labels/train/bio0011_frame0000429.txt  \n",
      "  inflating: yolo_dataset/labels/train/obj1024_frame0000295.txt  \n",
      "  inflating: yolo_dataset/labels/train/obj0002_frame0000072.txt  \n",
      "  inflating: yolo_dataset/labels/train/bio0018_frame0000250.txt  \n",
      "  inflating: yolo_dataset/labels/train/obj0002_frame0000066.txt  \n",
      "  inflating: yolo_dataset/labels/train/obj0865_frame0000130.txt  \n",
      "  inflating: yolo_dataset/labels/train/obj1502_frame0000373.txt  \n",
      "  inflating: yolo_dataset/labels/train/bio0011_frame0000373.txt  \n",
      "  inflating: yolo_dataset/labels/train/obj0243_frame0000037.txt  \n",
      "  inflating: yolo_dataset/labels/train/bio0003_frame0000137.txt  \n",
      "  inflating: yolo_dataset/labels/train/bio0012_frame0000190.txt  \n",
      "  inflating: yolo_dataset/labels/train/obj1297_frame0000198.txt  \n",
      "  inflating: yolo_dataset/labels/train/bio0017_frame0000257.txt  \n",
      "  inflating: yolo_dataset/labels/train/bio0002_frame0000196.txt  \n",
      "  inflating: yolo_dataset/labels/train/bio0013_frame0000131.txt  \n",
      "  inflating: yolo_dataset/labels/train/obj0317_frame0000002.txt  \n",
      "  inflating: yolo_dataset/labels/train/bio0002_frame0000182.txt  \n",
      "  inflating: yolo_dataset/labels/train/bio0011_frame0000401.txt  \n",
      "  inflating: yolo_dataset/labels/train/bio0015_frame0000001.txt  \n",
      "  inflating: yolo_dataset/labels/train/bio0011_frame0000367.txt  \n",
      "  inflating: yolo_dataset/labels/train/obj0243_frame0000023.txt  \n",
      "  inflating: yolo_dataset/labels/train/obj1654_frame0000456.txt  \n",
      "  inflating: yolo_dataset/labels/train/obj1505_frame0000221.txt  \n",
      "  inflating: yolo_dataset/labels/train/obj1602_frame0000029.txt  \n",
      "  inflating: yolo_dataset/labels/train/bio0016_frame0000209.txt  \n",
      "  inflating: yolo_dataset/labels/train/obj0221_frame0000039.txt  \n",
      "  inflating: yolo_dataset/labels/train/obj1654_frame0000330.txt  \n",
      "  inflating: yolo_dataset/labels/train/obj1654_frame0000324.txt  \n",
      "  inflating: yolo_dataset/labels/train/obj0309_frame0000061.txt  \n",
      "  inflating: yolo_dataset/labels/train/obj1297_frame0000173.txt  \n",
      "  inflating: yolo_dataset/labels/train/obj0319_frame0000067.txt  \n",
      "  inflating: yolo_dataset/labels/train/obj1505_frame0000235.txt  \n",
      "  inflating: yolo_dataset/labels/train/obj1602_frame0000015.txt  \n",
      "  inflating: yolo_dataset/labels/train/bio0016_frame0000235.txt  \n",
      "  inflating: yolo_dataset/labels/train/obj1064_frame0000051.txt  \n",
      "  inflating: yolo_dataset/labels/train/bio0002_frame0000633.txt  \n",
      "  inflating: yolo_dataset/labels/train/obj1281_frame0000079.txt  \n",
      "  inflating: yolo_dataset/labels/train/obj0309_frame0000049.txt  \n",
      "  inflating: yolo_dataset/labels/train/obj1202_frame0000643.txt  \n",
      "  inflating: yolo_dataset/labels/train/obj0762_frame0000097.txt  \n",
      "  inflating: yolo_dataset/labels/train/obj0002_frame0000099.txt  \n",
      "  inflating: yolo_dataset/labels/train/bio0002_frame0000627.txt  \n",
      "  inflating: yolo_dataset/labels/train/obj1505_frame0000209.txt  \n",
      "  inflating: yolo_dataset/labels/train/obj1602_frame0000001.txt  \n",
      "  inflating: yolo_dataset/labels/train/bio0016_frame0000221.txt  \n",
      "  inflating: yolo_dataset/labels/train/obj1502_frame0000213.txt  \n",
      "  inflating: yolo_dataset/labels/train/obj0753_frame0000127.txt  \n",
      "  inflating: yolo_dataset/labels/train/obj1042_frame0000076.txt  \n",
      "  inflating: yolo_dataset/labels/train/obj1657_frame0000064.txt  \n",
      "  inflating: yolo_dataset/labels/train/obj1654_frame0000287.txt  \n",
      "  inflating: yolo_dataset/labels/train/obj0014_frame0000030.txt  \n",
      "  inflating: yolo_dataset/labels/train/obj1655_frame0000232.txt  \n",
      "  inflating: yolo_dataset/labels/train/bio0000_frame0000288.txt  \n",
      "  inflating: yolo_dataset/labels/train/obj0236_frame0000019.txt  \n",
      "  inflating: yolo_dataset/labels/train/bio0015_frame0000149.txt  \n",
      "  inflating: yolo_dataset/labels/train/obj1087_frame0000209.txt  \n",
      "  inflating: yolo_dataset/labels/train/obj0236_frame0000031.txt  \n",
      "  inflating: yolo_dataset/labels/train/obj1662_frame0000311.txt  \n",
      "  inflating: yolo_dataset/labels/train/obj1658_frame0002106.txt  \n",
      "  inflating: yolo_dataset/labels/train/obj0301_frame0000054.txt  \n",
      "  inflating: yolo_dataset/labels/train/obj0301_frame0000040.txt  \n",
      "  inflating: yolo_dataset/labels/train/obj0343_frame0000039.txt  \n",
      "  inflating: yolo_dataset/labels/train/obj0226_frame0000023.txt  \n",
      "  inflating: yolo_dataset/labels/train/bio0016_frame0000396.txt  \n",
      "  inflating: yolo_dataset/labels/train/obj1662_frame0000305.txt  \n",
      "  inflating: yolo_dataset/labels/train/obj1505_frame0000355.txt  \n",
      "  inflating: yolo_dataset/labels/train/obj0331_frame0000025.txt  \n",
      "  inflating: yolo_dataset/labels/train/obj0865_frame0000093.txt  \n",
      "  inflating: yolo_dataset/labels/train/obj1107_frame0000027.txt  \n",
      "  inflating: yolo_dataset/labels/train/obj0865_frame0000087.txt  \n",
      "  inflating: yolo_dataset/labels/train/obj1654_frame0000250.txt  \n",
      "  inflating: yolo_dataset/labels/train/obj0309_frame0000115.txt  \n",
      "  inflating: yolo_dataset/labels/train/obj1107_frame0000033.txt  \n",
      "  inflating: yolo_dataset/labels/train/obj1280_frame0000184.txt  \n",
      "  inflating: yolo_dataset/labels/train/obj0310_frame0000018.txt  \n",
      "  inflating: yolo_dataset/labels/train/obj0331_frame0000031.txt  \n",
      "  inflating: yolo_dataset/labels/train/bio0016_frame0000369.txt  \n",
      "  inflating: yolo_dataset/labels/train/obj1505_frame0000341.txt  \n",
      "  inflating: yolo_dataset/labels/train/bio0016_frame0000341.txt  \n",
      "  inflating: yolo_dataset/labels/train/obj1202_frame0000051.txt  \n",
      "  inflating: yolo_dataset/labels/train/bio0003_frame0000080.txt  \n",
      "  inflating: yolo_dataset/labels/train/bio0013_frame0000086.txt  \n",
      "  inflating: yolo_dataset/labels/train/obj0331_frame0000019.txt  \n",
      "  inflating: yolo_dataset/labels/train/obj0310_frame0000024.txt  \n",
      "  inflating: yolo_dataset/labels/train/bio0014_frame0000117.txt  \n",
      "  inflating: yolo_dataset/labels/train/obj0309_frame0000129.txt  \n",
      "  inflating: yolo_dataset/labels/train/obj1667_frame0000001.txt  \n",
      "  inflating: yolo_dataset/labels/train/obj0300_frame0000022.txt  \n",
      "  inflating: yolo_dataset/labels/train/obj1202_frame0000045.txt  \n",
      "  inflating: yolo_dataset/labels/train/bio0016_frame0000355.txt  \n",
      "  inflating: yolo_dataset/labels/train/bio0015_frame0000439.txt  \n",
      "  inflating: yolo_dataset/labels/train/obj1626_frame0000072.txt  \n",
      "  inflating: yolo_dataset/labels/train/bio0010_frame0000098.txt  \n",
      "  inflating: yolo_dataset/labels/train/obj0747_frame0000045.txt  \n",
      "  inflating: yolo_dataset/labels/train/obj1087_frame0000037.txt  \n",
      "  inflating: yolo_dataset/labels/train/obj1523_frame0000038.txt  \n",
      "  inflating: yolo_dataset/labels/train/obj0248_frame0000034.txt  \n",
      "  inflating: yolo_dataset/labels/train/obj1294_frame0000031.txt  \n",
      "  inflating: yolo_dataset/labels/train/obj0871_frame0000126.txt  \n",
      "  inflating: yolo_dataset/labels/train/obj1050_frame0000024.txt  \n",
      "  inflating: yolo_dataset/labels/train/obj1505_frame0000180.txt  \n",
      "  inflating: yolo_dataset/labels/train/obj0332_frame0000013.txt  \n",
      "  inflating: yolo_dataset/labels/train/bio0018_frame0000126.txt  \n",
      "  inflating: yolo_dataset/labels/train/bio0013_frame0000247.txt  \n",
      "  inflating: yolo_dataset/labels/train/bio0001_frame0000003.txt  \n",
      "  inflating: yolo_dataset/labels/train/obj0748_frame0000056.txt  \n",
      "  inflating: yolo_dataset/labels/train/obj0009_frame0000071.txt  \n",
      "  inflating: yolo_dataset/labels/train/obj0248_frame0000008.txt  \n",
      "  inflating: yolo_dataset/labels/train/obj0760_frame0000174.txt  \n",
      "  inflating: yolo_dataset/labels/train/obj1648_frame0000273.txt  \n",
      "  inflating: yolo_dataset/labels/train/obj1255_frame0000128.txt  \n",
      "  inflating: yolo_dataset/labels/train/obj1648_frame0000267.txt  \n",
      "  inflating: yolo_dataset/labels/train/obj1294_frame0000019.txt  \n",
      "  inflating: yolo_dataset/labels/train/obj0313_frame0000006.txt  \n",
      "  inflating: yolo_dataset/labels/train/bio0001_frame0000017.txt  \n",
      "  inflating: yolo_dataset/labels/train/obj0748_frame0000042.txt  \n",
      "  inflating: yolo_dataset/labels/train/obj0009_frame0000065.txt  \n",
      "  inflating: yolo_dataset/labels/train/obj0348_frame0000172.txt  \n",
      "  inflating: yolo_dataset/labels/train/obj1061_frame0000037.txt  \n",
      "  inflating: yolo_dataset/labels/train/obj1654_frame0000046.txt  \n",
      "  inflating: yolo_dataset/labels/train/obj0214_frame0000006.txt  \n",
      "  inflating: yolo_dataset/labels/train/obj1505_frame0000157.txt  \n",
      "  inflating: yolo_dataset/labels/train/bio0002_frame0000579.txt  \n",
      "  inflating: yolo_dataset/labels/train/obj1505_frame0000143.txt  \n",
      "  inflating: yolo_dataset/labels/train/bio0000_frame0000049.txt  \n",
      "  inflating: yolo_dataset/labels/train/obj0007_frame0000014.txt  \n",
      "  inflating: yolo_dataset/labels/train/obj1297_frame0000205.txt  \n",
      "  inflating: yolo_dataset/labels/train/obj0350_frame0000021.txt  \n",
      "  inflating: yolo_dataset/labels/train/bio0015_frame0000388.txt  \n",
      "  inflating: yolo_dataset/labels/train/obj0204_frame0000014.txt  \n",
      "  inflating: yolo_dataset/labels/train/obj1663_frame0000159.txt  \n",
      "  inflating: yolo_dataset/labels/train/obj0340_frame0000027.txt  \n",
      "  inflating: yolo_dataset/labels/train/obj1024_frame0000134.txt  \n",
      "  inflating: yolo_dataset/labels/train/obj1616_frame0000003.txt  \n",
      "  inflating: yolo_dataset/labels/train/bio0003_frame0000282.txt  \n",
      "  inflating: yolo_dataset/labels/train/bio0000_frame0000061.txt  \n",
      "  inflating: yolo_dataset/labels/train/bio0016_frame0000143.txt  \n",
      "  inflating: yolo_dataset/labels/train/bio0016_frame0000157.txt  \n",
      "  inflating: yolo_dataset/labels/train/obj1297_frame0000239.txt  \n",
      "  inflating: yolo_dataset/labels/train/bio0012_frame0000231.txt  \n",
      "  inflating: yolo_dataset/labels/train/bio0000_frame0000075.txt  \n",
      "  inflating: yolo_dataset/labels/train/obj0007_frame0000028.txt  \n",
      "  inflating: yolo_dataset/labels/train/obj1616_frame0000017.txt  \n",
      "  inflating: yolo_dataset/labels/train/obj0204_frame0000028.txt  \n",
      "  inflating: yolo_dataset/labels/train/obj0007_frame0000029.txt  \n",
      "  inflating: yolo_dataset/labels/train/bio0002_frame0000236.txt  \n",
      "  inflating: yolo_dataset/labels/train/bio0010_frame0000072.txt  \n",
      "  inflating: yolo_dataset/labels/train/bio0002_frame0000222.txt  \n",
      "  inflating: yolo_dataset/labels/train/bio0004_frame0000460.txt  \n",
      "  inflating: yolo_dataset/labels/train/obj0350_frame0000020.txt  \n",
      "  inflating: yolo_dataset/labels/train/obj0312_frame0000059.txt  \n",
      "  inflating: yolo_dataset/labels/train/obj0007_frame0000015.txt  \n",
      "  inflating: yolo_dataset/labels/train/obj1505_frame0000142.txt  \n",
      "  inflating: yolo_dataset/labels/train/obj0340_frame0000026.txt  \n",
      "  inflating: yolo_dataset/labels/train/obj0204_frame0000015.txt  \n",
      "  inflating: yolo_dataset/labels/train/obj0204_frame0000001.txt  \n",
      "  inflating: yolo_dataset/labels/train/obj1658_frame0001195.txt  \n",
      "  inflating: yolo_dataset/labels/train/obj0747_frame0000087.txt  \n",
      "  inflating: yolo_dataset/labels/train/obj0017_frame0000007.txt  \n",
      "  inflating: yolo_dataset/labels/train/obj0214_frame0000007.txt  \n",
      "  inflating: yolo_dataset/labels/train/obj1297_frame0000210.txt  \n",
      "  inflating: yolo_dataset/labels/train/obj0350_frame0000034.txt  \n",
      "  inflating: yolo_dataset/labels/train/bio0016_frame0000195.txt  \n",
      "  inflating: yolo_dataset/labels/train/obj1662_frame0000106.txt  \n",
      "  inflating: yolo_dataset/labels/train/bio0003_frame0000254.txt  \n",
      "  inflating: yolo_dataset/labels/train/obj1617_frame0000074.txt  \n",
      "  inflating: yolo_dataset/labels/train/obj0348_frame0000173.txt  \n",
      "  inflating: yolo_dataset/labels/train/obj0009_frame0000064.txt  \n",
      "  inflating: yolo_dataset/labels/train/bio0013_frame0000252.txt  \n",
      "  inflating: yolo_dataset/labels/train/obj0313_frame0000007.txt  \n",
      "  inflating: yolo_dataset/labels/train/obj0313_frame0000013.txt  \n",
      "  inflating: yolo_dataset/labels/train/obj1061_frame0000022.txt  \n",
      "  inflating: yolo_dataset/labels/train/obj0009_frame0000070.txt  \n",
      "  inflating: yolo_dataset/labels/train/obj0348_frame0000167.txt  \n",
      "  inflating: yolo_dataset/labels/train/obj1629_frame0000060.txt  \n",
      "  inflating: yolo_dataset/labels/train/bio0016_frame0000181.txt  \n",
      "  inflating: yolo_dataset/labels/train/obj0248_frame0000009.txt  \n",
      "  inflating: yolo_dataset/labels/train/obj0248_frame0000021.txt  \n",
      "  inflating: yolo_dataset/labels/train/obj1284_frame0000022.txt  \n",
      "  inflating: yolo_dataset/labels/train/obj0751_frame0000172.txt  \n",
      "  inflating: yolo_dataset/labels/train/obj0332_frame0000012.txt  \n",
      "  inflating: yolo_dataset/labels/train/bio0017_frame0000108.txt  \n",
      "  inflating: yolo_dataset/labels/train/obj0009_frame0000058.txt  \n",
      "  inflating: yolo_dataset/labels/train/obj0747_frame0000044.txt  \n",
      "  inflating: yolo_dataset/labels/train/obj1672_frame0000128.txt  \n",
      "  inflating: yolo_dataset/labels/train/obj0248_frame0000035.txt  \n",
      "  inflating: yolo_dataset/labels/train/obj1523_frame0000039.txt  \n",
      "  inflating: yolo_dataset/labels/train/obj1505_frame0000195.txt  \n",
      "  inflating: yolo_dataset/labels/train/obj0310_frame0000025.txt  \n",
      "  inflating: yolo_dataset/labels/train/bio0016_frame0000432.txt  \n",
      "  inflating: yolo_dataset/labels/train/obj0300_frame0000023.txt  \n",
      "  inflating: yolo_dataset/labels/train/bio0004_frame0000110.txt  \n",
      "  inflating: yolo_dataset/labels/train/bio0003_frame0000095.txt  \n",
      "  inflating: yolo_dataset/labels/train/bio0000_frame0000276.txt  \n",
      "  inflating: yolo_dataset/labels/train/bio0000_frame0000262.txt  \n",
      "  inflating: yolo_dataset/labels/train/obj1202_frame0000050.txt  \n",
      "  inflating: yolo_dataset/labels/train/bio0014_frame0000102.txt  \n",
      "  inflating: yolo_dataset/labels/train/obj0331_frame0000018.txt  \n",
      "  inflating: yolo_dataset/labels/train/obj0310_frame0000031.txt  \n",
      "  inflating: yolo_dataset/labels/train/bio0016_frame0000426.txt  \n",
      "  inflating: yolo_dataset/labels/train/obj0331_frame0000030.txt  \n",
      "  inflating: yolo_dataset/labels/train/obj1658_frame0001383.txt  \n",
      "  inflating: yolo_dataset/labels/train/obj0309_frame0000114.txt  \n",
      "  inflating: yolo_dataset/labels/train/obj1505_frame0000340.txt  \n",
      "  inflating: yolo_dataset/labels/train/obj1656_frame0000013.txt  \n",
      "  inflating: yolo_dataset/labels/train/obj1202_frame0000078.txt  \n",
      "  inflating: yolo_dataset/labels/train/obj1505_frame0000354.txt  \n",
      "  inflating: yolo_dataset/labels/train/obj1030_frame0000043.txt  \n",
      "  inflating: yolo_dataset/labels/train/obj1656_frame0000007.txt  \n",
      "  inflating: yolo_dataset/labels/train/obj0309_frame0000100.txt  \n",
      "  inflating: yolo_dataset/labels/train/obj1654_frame0000245.txt  \n",
      "  inflating: yolo_dataset/labels/train/obj0331_frame0000024.txt  \n",
      "  inflating: yolo_dataset/labels/train/obj0343_frame0000038.txt  \n",
      "  inflating: yolo_dataset/labels/train/obj0301_frame0000041.txt  \n",
      "  inflating: yolo_dataset/labels/train/bio0001_frame0000214.txt  \n",
      "  inflating: yolo_dataset/labels/train/obj1658_frame0000062.txt  \n",
      "  inflating: yolo_dataset/labels/train/bio0015_frame0000174.txt  \n",
      "  inflating: yolo_dataset/labels/train/obj0236_frame0000024.txt  \n",
      "  inflating: yolo_dataset/labels/train/obj0236_frame0000030.txt  \n",
      "  inflating: yolo_dataset/labels/train/bio0016_frame0000383.txt  \n",
      "  inflating: yolo_dataset/labels/train/obj1617_frame0000262.txt  \n",
      "  inflating: yolo_dataset/labels/train/obj0854_frame0000042.txt  \n",
      "  inflating: yolo_dataset/labels/train/bio0001_frame0000200.txt  \n",
      "  inflating: yolo_dataset/labels/train/obj0226_frame0000036.txt  \n",
      "  inflating: yolo_dataset/labels/train/bio0015_frame0000606.txt  \n",
      "  inflating: yolo_dataset/labels/train/obj0301_frame0000055.txt  \n",
      "  inflating: yolo_dataset/labels/train/obj0014_frame0000031.txt  \n",
      "  inflating: yolo_dataset/labels/train/obj1654_frame0000292.txt  \n",
      "  inflating: yolo_dataset/labels/train/bio0001_frame0000228.txt  \n",
      "  inflating: yolo_dataset/labels/train/obj1663_frame0000399.txt  \n",
      "  inflating: yolo_dataset/labels/train/obj1502_frame0000206.txt  \n",
      "  inflating: yolo_dataset/labels/train/obj1502_frame0000212.txt  \n",
      "  inflating: yolo_dataset/labels/train/obj1251_frame0000071.txt  \n",
      "  inflating: yolo_dataset/labels/train/obj0865_frame0000051.txt  \n",
      "  inflating: yolo_dataset/labels/train/bio0002_frame0000140.txt  \n",
      "  inflating: yolo_dataset/labels/train/obj1202_frame0000656.txt  \n",
      "  inflating: yolo_dataset/labels/train/bio0017_frame0000281.txt  \n",
      "  inflating: yolo_dataset/labels/train/obj0002_frame0000098.txt  \n",
      "  inflating: yolo_dataset/labels/train/obj1064_frame0000044.txt  \n",
      "  inflating: yolo_dataset/labels/train/obj1202_frame0000130.txt  \n",
      "  inflating: yolo_dataset/labels/train/bio0000_frame0000302.txt  \n",
      "  inflating: yolo_dataset/labels/train/obj1505_frame0000208.txt  \n",
      "  inflating: yolo_dataset/labels/train/obj1202_frame0000642.txt  \n",
      "  inflating: yolo_dataset/labels/train/bio0002_frame0000154.txt  \n",
      "  inflating: yolo_dataset/labels/train/obj1246_frame0000079.txt  \n",
      "  inflating: yolo_dataset/labels/train/obj1108_frame0000141.txt  \n",
      "  inflating: yolo_dataset/labels/train/obj1006_frame0000089.txt  \n",
      "  inflating: yolo_dataset/labels/train/obj0309_frame0000060.txt  \n",
      "  inflating: yolo_dataset/labels/train/obj1505_frame0000234.txt  \n",
      "  inflating: yolo_dataset/labels/train/obj0319_frame0000066.txt  \n",
      "  inflating: yolo_dataset/labels/train/obj0753_frame0000085.txt  \n",
      "  inflating: yolo_dataset/labels/train/obj1202_frame0000118.txt  \n",
      "  inflating: yolo_dataset/labels/train/obj1602_frame0000028.txt  \n",
      "  inflating: yolo_dataset/labels/train/obj1505_frame0000220.txt  \n",
      "  inflating: yolo_dataset/labels/train/obj1658_frame0000843.txt  \n",
      "  inflating: yolo_dataset/labels/train/obj0309_frame0000074.txt  \n",
      "  inflating: yolo_dataset/labels/train/bio0002_frame0000168.txt  \n",
      "  inflating: yolo_dataset/labels/train/obj0221_frame0000038.txt  \n",
      "  inflating: yolo_dataset/labels/train/bio0001_frame0000360.txt  \n",
      "  inflating: yolo_dataset/labels/train/obj1658_frame0001208.txt  \n",
      "  inflating: yolo_dataset/labels/train/bio0003_frame0000122.txt  \n",
      "  inflating: yolo_dataset/labels/train/obj0307_frame0000011.txt  \n",
      "  inflating: yolo_dataset/labels/train/obj0243_frame0000022.txt  \n",
      "  inflating: yolo_dataset/labels/train/bio0001_frame0000406.txt  \n",
      "  inflating: yolo_dataset/labels/train/bio0015_frame0000014.txt  \n",
      "  inflating: yolo_dataset/labels/train/obj1016_frame0000064.txt  \n",
      "  inflating: yolo_dataset/labels/train/obj0243_frame0000036.txt  \n",
      "  inflating: yolo_dataset/labels/train/bio0001_frame0000374.txt  \n",
      "  inflating: yolo_dataset/labels/train/obj0317_frame0000003.txt  \n",
      "  inflating: yolo_dataset/labels/train/obj1006_frame0000062.txt  \n",
      "  inflating: yolo_dataset/labels/train/obj0002_frame0000067.txt  \n",
      "  inflating: yolo_dataset/labels/train/obj0307_frame0000039.txt  \n",
      "  inflating: yolo_dataset/labels/train/obj0002_frame0000073.txt  \n",
      "  inflating: yolo_dataset/labels/train/bio0018_frame0000245.txt  \n",
      "  inflating: yolo_dataset/labels/train/bio0012_frame0000344.txt  \n",
      "  inflating: yolo_dataset/labels/train/obj0702_frame0000027.txt  \n",
      "  inflating: yolo_dataset/labels/train/obj0314_frame0000035.txt  \n",
      "  inflating: yolo_dataset/labels/train/bio0002_frame0000342.txt  \n",
      "  inflating: yolo_dataset/labels/train/obj1664_frame0000195.txt  \n",
      "  inflating: yolo_dataset/labels/train/obj0314_frame0000021.txt  \n",
      "  inflating: yolo_dataset/labels/train/obj0702_frame0000033.txt  \n",
      "  inflating: yolo_dataset/labels/train/obj0871_frame0000090.txt  \n",
      "  inflating: yolo_dataset/labels/train/obj0011_frame0000043.txt  \n",
      "  inflating: yolo_dataset/labels/train/obj0333_frame0000104.txt  \n",
      "  inflating: yolo_dataset/labels/train/obj1655_frame0000186.txt  \n",
      "  inflating: yolo_dataset/labels/train/obj1505_frame0000036.txt  \n",
      "  inflating: yolo_dataset/labels/train/bio0001_frame0000189.txt  \n",
      "  inflating: yolo_dataset/labels/train/obj1283_frame0000004.txt  \n",
      "  inflating: yolo_dataset/labels/train/obj0871_frame0000084.txt  \n",
      "  inflating: yolo_dataset/labels/train/obj1648_frame0000312.txt  \n",
      "  inflating: yolo_dataset/labels/train/obj1617_frame0000100.txt  \n",
      "  inflating: yolo_dataset/labels/train/bio0002_frame0000381.txt  \n",
      "  inflating: yolo_dataset/labels/train/obj0241_frame0000062.txt  \n",
      "  inflating: yolo_dataset/labels/train/obj0347_frame0000028.txt  \n",
      "  inflating: yolo_dataset/labels/train/obj1061_frame0000142.txt  \n",
      "  inflating: yolo_dataset/labels/train/obj0713_frame0000057.txt  \n",
      "  inflating: yolo_dataset/labels/train/obj1658_frame0000466.txt  \n",
      "  inflating: yolo_dataset/labels/train/obj1648_frame0000306.txt  \n",
      "  inflating: yolo_dataset/labels/train/obj1502_frame0000158.txt  \n",
      "  inflating: yolo_dataset/labels/train/obj0334_frame0000042.txt  \n",
      "  inflating: yolo_dataset/labels/train/obj1655_frame0000145.txt  \n",
      "  inflating: yolo_dataset/labels/train/obj1502_frame0000170.txt  \n",
      "  inflating: yolo_dataset/labels/train/obj0000_frame0000027.txt  \n",
      "  inflating: yolo_dataset/labels/train/bio0018_frame0000053.txt  \n",
      "  inflating: yolo_dataset/labels/train/obj0305_frame0000079.txt  \n",
      "  inflating: yolo_dataset/labels/train/obj1502_frame0000164.txt  \n",
      "  inflating: yolo_dataset/labels/train/obj0334_frame0000056.txt  \n",
      "  inflating: yolo_dataset/labels/train/obj1617_frame0000128.txt  \n",
      "  inflating: yolo_dataset/labels/train/obj0348_frame0000039.txt  \n",
      "  inflating: yolo_dataset/labels/train/obj0347_frame0000016.txt  \n",
      "  inflating: yolo_dataset/labels/train/obj0000_frame0000025.txt  \n",
      "  inflating: yolo_dataset/labels/train/obj1502_frame0000172.txt  \n",
      "  inflating: yolo_dataset/labels/train/obj1218_frame0000021.txt  \n",
      "  inflating: yolo_dataset/labels/train/obj0334_frame0000040.txt  \n",
      "  inflating: yolo_dataset/labels/train/obj1655_frame0000153.txt  \n",
      "  inflating: yolo_dataset/labels/train/obj0334_frame0000054.txt  \n",
      "  inflating: yolo_dataset/labels/train/obj0000_frame0000031.txt  \n",
      "  inflating: yolo_dataset/labels/train/obj1502_frame0000166.txt  \n",
      "  inflating: yolo_dataset/labels/train/bio0015_frame0000566.txt  \n",
      "  inflating: yolo_dataset/labels/train/bio0017_frame0000042.txt  \n",
      "  inflating: yolo_dataset/labels/train/obj1658_frame0000316.txt  \n",
      "  inflating: yolo_dataset/labels/train/obj1648_frame0000476.txt  \n",
      "  inflating: yolo_dataset/labels/train/obj1617_frame0000102.txt  \n",
      "  inflating: yolo_dataset/labels/train/obj1662_frame0000070.txt  \n",
      "  inflating: yolo_dataset/labels/train/bio0015_frame0000214.txt  \n",
      "  inflating: yolo_dataset/labels/train/bio0011_frame0000172.txt  \n",
      "  inflating: yolo_dataset/labels/train/obj0334_frame0000068.txt  \n",
      "  inflating: yolo_dataset/labels/train/obj1061_frame0000154.txt  \n",
      "  inflating: yolo_dataset/labels/train/obj0212_frame0000041.txt  \n",
      "  inflating: yolo_dataset/labels/train/obj1050_frame0000190.txt  \n",
      "  inflating: yolo_dataset/labels/train/obj1505_frame0000034.txt  \n",
      "  inflating: yolo_dataset/labels/train/obj1652_frame0000001.txt  \n",
      "  inflating: yolo_dataset/labels/train/obj0011_frame0000041.txt  \n",
      "  inflating: yolo_dataset/labels/train/obj0333_frame0000106.txt  \n",
      "  inflating: yolo_dataset/labels/train/obj0871_frame0000092.txt  \n",
      "  inflating: yolo_dataset/labels/train/obj1080_frame0000012.txt  \n",
      "  inflating: yolo_dataset/labels/train/obj0333_frame0000112.txt  \n",
      "  inflating: yolo_dataset/labels/train/obj0871_frame0000086.txt  \n",
      "  inflating: yolo_dataset/labels/train/obj0304_frame0000019.txt  \n",
      "  inflating: yolo_dataset/labels/train/bio0018_frame0000086.txt  \n",
      "  inflating: yolo_dataset/labels/train/bio0017_frame0000081.txt  \n",
      "  inflating: yolo_dataset/labels/train/obj0304_frame0000031.txt  \n",
      "  inflating: yolo_dataset/labels/train/bio0002_frame0000426.txt  \n",
      "  inflating: yolo_dataset/labels/train/obj0304_frame0000025.txt  \n",
      "  inflating: yolo_dataset/labels/train/bio0002_frame0000432.txt  \n",
      "  inflating: yolo_dataset/labels/train/obj1652_frame0000029.txt  \n",
      "  inflating: yolo_dataset/labels/train/obj1502_frame0000199.txt  \n",
      "  inflating: yolo_dataset/labels/train/bio0016_frame0000034.txt  \n",
      "  inflating: yolo_dataset/labels/train/obj0702_frame0000031.txt  \n",
      "  inflating: yolo_dataset/labels/train/obj1653_frame0000088.txt  \n",
      "  inflating: yolo_dataset/labels/train/bio0002_frame0000354.txt  \n",
      "  inflating: yolo_dataset/labels/train/obj0314_frame0000023.txt  \n",
      "  inflating: yolo_dataset/labels/train/bio0004_frame0000099.txt  \n",
      "  inflating: yolo_dataset/labels/train/obj1502_frame0000370.txt  \n",
      "  inflating: yolo_dataset/labels/train/obj0002_frame0000065.txt  \n",
      "  inflating: yolo_dataset/labels/train/obj0317_frame0000029.txt  \n",
      "  inflating: yolo_dataset/labels/train/obj0318_frame0000012.txt  \n",
      "  inflating: yolo_dataset/labels/train/obj0002_frame0000071.txt  \n",
      "  inflating: yolo_dataset/labels/train/obj0753_frame0000050.txt  \n",
      "  inflating: yolo_dataset/labels/train/obj1502_frame0000364.txt  \n",
      "  inflating: yolo_dataset/labels/train/bio0001_frame0000404.txt  \n",
      "  inflating: yolo_dataset/labels/train/obj0243_frame0000020.txt  \n",
      "  inflating: yolo_dataset/labels/train/obj0307_frame0000013.txt  \n",
      "  inflating: yolo_dataset/labels/train/bio0013_frame0000126.txt  \n",
      "  inflating: yolo_dataset/labels/train/obj0317_frame0000015.txt  \n",
      "  inflating: yolo_dataset/labels/train/bio0001_frame0000362.txt  \n",
      "  inflating: yolo_dataset/labels/train/bio0017_frame0000240.txt  \n",
      "  inflating: yolo_dataset/labels/train/obj0002_frame0000059.txt  \n",
      "  inflating: yolo_dataset/labels/train/obj0309_frame0000089.txt  \n",
      "  inflating: yolo_dataset/labels/train/obj0317_frame0000001.txt  \n",
      "  inflating: yolo_dataset/labels/train/bio0001_frame0000376.txt  \n",
      "  inflating: yolo_dataset/labels/train/obj0243_frame0000034.txt  \n",
      "  inflating: yolo_dataset/labels/train/bio0001_frame0000410.txt  \n",
      "  inflating: yolo_dataset/labels/train/obj0307_frame0000007.txt  \n",
      "  inflating: yolo_dataset/labels/train/obj1502_frame0000358.txt  \n",
      "  inflating: yolo_dataset/labels/train/obj1505_frame0000236.txt  \n",
      "  inflating: yolo_dataset/labels/train/bio0002_frame0000618.txt  \n",
      "  inflating: yolo_dataset/labels/train/obj1654_frame0000441.txt  \n",
      "  inflating: yolo_dataset/labels/train/obj0319_frame0000064.txt  \n",
      "  inflating: yolo_dataset/labels/train/obj1281_frame0000052.txt  \n",
      "  inflating: yolo_dataset/labels/train/obj1654_frame0000327.txt  \n",
      "  inflating: yolo_dataset/labels/train/obj1024_frame0000241.txt  \n",
      "  inflating: yolo_dataset/labels/train/obj0309_frame0000076.txt  \n",
      "  inflating: yolo_dataset/labels/train/obj1505_frame0000222.txt  \n",
      "  inflating: yolo_dataset/labels/train/obj0753_frame0000093.txt  \n",
      "  inflating: yolo_dataset/labels/train/obj1016_frame0000099.txt  \n",
      "  inflating: yolo_dataset/labels/train/obj0319_frame0000058.txt  \n",
      "  inflating: yolo_dataset/labels/train/bio0002_frame0000624.txt  \n",
      "  inflating: yolo_dataset/labels/train/bio0000_frame0000300.txt  \n",
      "  inflating: yolo_dataset/labels/train/obj1602_frame0000002.txt  \n",
      "  inflating: yolo_dataset/labels/train/obj1064_frame0000046.txt  \n",
      "  inflating: yolo_dataset/labels/train/bio0004_frame0000066.txt  \n",
      "  inflating: yolo_dataset/labels/train/obj1663_frame0000210.txt  \n",
      "  inflating: yolo_dataset/labels/train/obj0221_frame0000012.txt  \n",
      "  inflating: yolo_dataset/labels/train/bio0002_frame0000142.txt  \n",
      "  inflating: yolo_dataset/labels/train/bio0002_frame0000156.txt  \n",
      "  inflating: yolo_dataset/labels/train/bio0014_frame0000074.txt  \n",
      "  inflating: yolo_dataset/labels/train/obj1202_frame0000640.txt  \n",
      "  inflating: yolo_dataset/labels/train/obj1602_frame0000016.txt  \n",
      "  inflating: yolo_dataset/labels/train/obj1202_frame0000126.txt  \n",
      "  inflating: yolo_dataset/labels/train/obj1663_frame0000562.txt  \n",
      "  inflating: yolo_dataset/labels/train/bio0012_frame0000150.txt  \n",
      "  inflating: yolo_dataset/labels/train/bio0002_frame0000630.txt  \n",
      "  inflating: yolo_dataset/labels/train/obj1042_frame0000061.txt  \n",
      "  inflating: yolo_dataset/labels/train/bio0003_frame0000068.txt  \n",
      "  inflating: yolo_dataset/labels/train/obj1617_frame0000248.txt  \n",
      "  inflating: yolo_dataset/labels/train/obj1251_frame0000067.txt  \n",
      "  inflating: yolo_dataset/labels/train/obj1502_frame0000204.txt  \n",
      "  inflating: yolo_dataset/labels/train/obj0014_frame0000033.txt  \n",
      "  inflating: yolo_dataset/labels/train/obj0865_frame0000053.txt  \n",
      "  inflating: yolo_dataset/labels/train/obj0014_frame0000027.txt  \n",
      "  inflating: yolo_dataset/labels/train/obj1502_frame0000210.txt  \n",
      "  inflating: yolo_dataset/labels/train/obj0236_frame0000026.txt  \n",
      "  inflating: yolo_dataset/labels/train/obj1502_frame0000238.txt  \n",
      "  inflating: yolo_dataset/labels/train/bio0001_frame0000216.txt  \n",
      "  inflating: yolo_dataset/labels/train/bio0013_frame0000052.txt  \n",
      "  inflating: yolo_dataset/labels/train/obj0301_frame0000043.txt  \n",
      "  inflating: yolo_dataset/labels/train/obj0301_frame0000057.txt  \n",
      "  inflating: yolo_dataset/labels/train/obj1658_frame0000074.txt  \n",
      "  inflating: yolo_dataset/labels/train/bio0001_frame0000202.txt  \n",
      "  inflating: yolo_dataset/labels/train/obj0854_frame0000040.txt  \n",
      "  inflating: yolo_dataset/labels/train/obj1655_frame0000219.txt  \n",
      "  inflating: yolo_dataset/labels/train/bio0011_frame0000204.txt  \n",
      "  inflating: yolo_dataset/labels/train/bio0016_frame0000381.txt  \n",
      "  inflating: yolo_dataset/labels/train/obj0236_frame0000032.txt  \n",
      "  inflating: yolo_dataset/labels/train/bio0015_frame0000189.txt  \n",
      "  inflating: yolo_dataset/labels/train/bio0000_frame0000248.txt  \n",
      "  inflating: yolo_dataset/labels/train/obj1505_frame0000342.txt  \n",
      "  inflating: yolo_dataset/labels/train/obj1030_frame0000055.txt  \n",
      "  inflating: yolo_dataset/labels/train/obj0309_frame0000116.txt  \n",
      "  inflating: yolo_dataset/labels/train/obj1654_frame0000253.txt  \n",
      "  inflating: yolo_dataset/labels/train/obj0331_frame0000032.txt  \n",
      "  inflating: yolo_dataset/labels/train/obj0331_frame0000026.txt  \n",
      "  inflating: yolo_dataset/labels/train/obj1505_frame0000356.txt  \n",
      "  inflating: yolo_dataset/labels/train/bio0000_frame0000274.txt  \n",
      "  inflating: yolo_dataset/labels/train/obj0300_frame0000021.txt  \n",
      "  inflating: yolo_dataset/labels/train/obj1202_frame0000046.txt  \n",
      "  inflating: yolo_dataset/labels/train/bio0016_frame0000430.txt  \n",
      "  inflating: yolo_dataset/labels/train/bio0013_frame0000091.txt  \n",
      "  inflating: yolo_dataset/labels/train/obj1667_frame0000016.txt  \n",
      "  inflating: yolo_dataset/labels/train/bio0016_frame0000424.txt  \n",
      "  inflating: yolo_dataset/labels/train/obj0310_frame0000033.txt  \n",
      "  inflating: yolo_dataset/labels/train/obj0300_frame0000035.txt  \n",
      "  inflating: yolo_dataset/labels/train/bio0000_frame0000260.txt  \n",
      "  inflating: yolo_dataset/labels/train/bio0003_frame0000083.txt  \n",
      "  inflating: yolo_dataset/labels/train/obj0856_frame0000028.txt  \n",
      "  inflating: yolo_dataset/labels/train/obj0747_frame0000052.txt  \n",
      "  inflating: yolo_dataset/labels/train/obj0248_frame0000023.txt  \n",
      "  inflating: yolo_dataset/labels/train/obj1648_frame0000258.txt  \n",
      "  inflating: yolo_dataset/labels/train/bio0000_frame0000089.txt  \n",
      "  inflating: yolo_dataset/labels/train/obj1505_frame0000183.txt  \n",
      "  inflating: yolo_dataset/labels/train/obj1033_frame0000063.txt  \n",
      "  inflating: yolo_dataset/labels/train/obj1505_frame0000197.txt  \n",
      "  inflating: yolo_dataset/labels/train/obj0248_frame0000037.txt  \n",
      "  inflating: yolo_dataset/labels/train/obj1294_frame0000032.txt  \n",
      "  inflating: yolo_dataset/labels/train/bio0018_frame0000131.txt  \n",
      "  inflating: yolo_dataset/labels/train/obj0348_frame0000159.txt  \n",
      "  inflating: yolo_dataset/labels/train/obj0313_frame0000005.txt  \n",
      "  inflating: yolo_dataset/labels/train/obj1672_frame0000102.txt  \n",
      "  inflating: yolo_dataset/labels/train/obj1629_frame0000076.txt  \n",
      "  inflating: yolo_dataset/labels/train/obj0009_frame0000066.txt  \n",
      "  inflating: yolo_dataset/labels/train/obj0348_frame0000171.txt  \n",
      "  inflating: yolo_dataset/labels/train/obj1648_frame0000264.txt  \n",
      "  inflating: yolo_dataset/labels/train/bio0002_frame0000591.txt  \n",
      "  inflating: yolo_dataset/labels/train/bio0015_frame0000374.txt  \n",
      "  inflating: yolo_dataset/labels/train/bio0016_frame0000197.txt  \n",
      "  inflating: yolo_dataset/labels/train/bio0016_frame0000183.txt  \n",
      "  inflating: yolo_dataset/labels/train/obj0760_frame0000177.txt  \n",
      "  inflating: yolo_dataset/labels/train/bio0002_frame0000585.txt  \n",
      "  inflating: yolo_dataset/labels/train/bio0003_frame0000242.txt  \n",
      "  inflating: yolo_dataset/labels/train/obj1629_frame0000062.txt  \n",
      "  inflating: yolo_dataset/labels/train/obj0348_frame0000165.txt  \n",
      "  inflating: yolo_dataset/labels/train/obj0332_frame0000038.txt  \n",
      "  inflating: yolo_dataset/labels/train/obj0313_frame0000011.txt  \n",
      "  inflating: yolo_dataset/labels/train/obj1672_frame0000116.txt  \n",
      "  inflating: yolo_dataset/labels/train/obj0204_frame0000017.txt  \n",
      "  inflating: yolo_dataset/labels/train/obj0017_frame0000011.txt  \n",
      "  inflating: yolo_dataset/labels/train/obj1654_frame0000051.txt  \n",
      "  inflating: yolo_dataset/labels/train/bio0002_frame0000208.txt  \n",
      "  inflating: yolo_dataset/labels/train/obj1505_frame0000140.txt  \n",
      "  inflating: yolo_dataset/labels/train/obj0007_frame0000017.txt  \n",
      "  inflating: yolo_dataset/labels/train/obj0350_frame0000022.txt  \n",
      "  inflating: yolo_dataset/labels/train/obj0350_frame0000036.txt  \n",
      "  inflating: yolo_dataset/labels/train/obj0214_frame0000005.txt  \n",
      "  inflating: yolo_dataset/labels/train/obj1505_frame0000154.txt  \n",
      "  inflating: yolo_dataset/labels/train/obj0017_frame0000005.txt  \n",
      "  inflating: yolo_dataset/labels/train/obj1656_frame0000561.txt  \n",
      "  inflating: yolo_dataset/labels/train/obj0340_frame0000030.txt  \n",
      "  inflating: yolo_dataset/labels/train/bio0002_frame0000234.txt  \n",
      "  inflating: yolo_dataset/labels/train/obj0340_frame0000018.txt  \n",
      "  inflating: yolo_dataset/labels/train/bio0004_frame0000310.txt  \n",
      "  inflating: yolo_dataset/labels/train/bio0002_frame0000552.txt  \n",
      "  inflating: yolo_dataset/labels/train/obj1658_frame0001801.txt  \n",
      "  inflating: yolo_dataset/labels/train/bio0002_frame0000546.txt  \n",
      "  inflating: yolo_dataset/labels/train/obj1505_frame0000168.txt  \n",
      "  inflating: yolo_dataset/labels/train/bio0012_frame0000226.txt  \n",
      "  inflating: yolo_dataset/labels/train/bio0004_frame0000304.txt  \n",
      "  inflating: yolo_dataset/labels/train/obj1667_frame0000214.txt  \n",
      "  inflating: yolo_dataset/labels/train/bio0002_frame0000220.txt  \n",
      "  inflating: yolo_dataset/labels/train/bio0016_frame0000141.txt  \n",
      "  inflating: yolo_dataset/labels/train/bio0000_frame0000063.txt  \n",
      "  inflating: yolo_dataset/labels/train/obj1616_frame0000001.txt  \n",
      "  inflating: yolo_dataset/labels/train/bio0004_frame0000463.txt  \n",
      "  inflating: yolo_dataset/labels/train/obj0340_frame0000019.txt  \n",
      "  inflating: yolo_dataset/labels/train/obj1616_frame0000015.txt  \n",
      "  inflating: yolo_dataset/labels/train/obj1667_frame0000201.txt  \n",
      "  inflating: yolo_dataset/labels/train/bio0016_frame0000155.txt  \n",
      "  inflating: yolo_dataset/labels/train/obj1505_frame0000155.txt  \n",
      "  inflating: yolo_dataset/labels/train/obj0214_frame0000004.txt  \n",
      "  inflating: yolo_dataset/labels/train/obj0350_frame0000037.txt  \n",
      "  inflating: yolo_dataset/labels/train/obj0340_frame0000031.txt  \n",
      "  inflating: yolo_dataset/labels/train/obj0204_frame0000002.txt  \n",
      "  inflating: yolo_dataset/labels/train/obj0747_frame0000084.txt  \n",
      "  inflating: yolo_dataset/labels/train/obj1616_frame0000029.txt  \n",
      "  inflating: yolo_dataset/labels/train/obj1658_frame0001182.txt  \n",
      "  inflating: yolo_dataset/labels/train/obj1024_frame0000136.txt  \n",
      "  inflating: yolo_dataset/labels/train/obj0340_frame0000025.txt  \n",
      "  inflating: yolo_dataset/labels/train/obj0204_frame0000016.txt  \n",
      "  inflating: yolo_dataset/labels/train/obj0214_frame0000010.txt  \n",
      "  inflating: yolo_dataset/labels/train/obj0350_frame0000023.txt  \n",
      "  inflating: yolo_dataset/labels/train/bio0016_frame0000169.txt  \n",
      "  inflating: yolo_dataset/labels/train/obj1505_frame0000141.txt  \n",
      "  inflating: yolo_dataset/labels/train/obj1617_frame0000088.txt  \n",
      "  inflating: yolo_dataset/labels/train/obj1617_frame0000063.txt  \n",
      "  inflating: yolo_dataset/labels/train/obj1662_frame0000111.txt  \n",
      "  inflating: yolo_dataset/labels/train/obj0313_frame0000010.txt  \n",
      "  inflating: yolo_dataset/labels/train/obj0332_frame0000039.txt  \n",
      "  inflating: yolo_dataset/labels/train/obj0009_frame0000073.txt  \n",
      "  inflating: yolo_dataset/labels/train/obj0348_frame0000164.txt  \n",
      "  inflating: yolo_dataset/labels/train/bio0001_frame0000001.txt  \n",
      "  inflating: yolo_dataset/labels/train/obj0348_frame0000170.txt  \n",
      "  inflating: yolo_dataset/labels/train/obj0009_frame0000067.txt  \n",
      "  inflating: yolo_dataset/labels/train/bio0001_frame0000015.txt  \n",
      "  inflating: yolo_dataset/labels/train/obj0748_frame0000040.txt  \n",
      "  inflating: yolo_dataset/labels/train/obj1626_frame0000058.txt  \n",
      "  inflating: yolo_dataset/labels/train/bio0015_frame0000413.txt  \n",
      "  inflating: yolo_dataset/labels/train/obj0313_frame0000004.txt  \n",
      "  inflating: yolo_dataset/labels/train/bio0003_frame0000257.txt  \n",
      "  inflating: yolo_dataset/labels/train/obj0248_frame0000036.txt  \n",
      "  inflating: yolo_dataset/labels/train/obj1505_frame0000196.txt  \n",
      "  inflating: yolo_dataset/labels/train/obj1050_frame0000032.txt  \n",
      "  inflating: yolo_dataset/labels/train/obj0348_frame0000158.txt  \n",
      "  inflating: yolo_dataset/labels/train/obj0313_frame0000038.txt  \n",
      "  inflating: yolo_dataset/labels/train/bio0001_frame0000029.txt  \n",
      "  inflating: yolo_dataset/labels/train/obj1626_frame0000064.txt  \n",
      "  inflating: yolo_dataset/labels/train/obj0871_frame0000124.txt  \n",
      "  inflating: yolo_dataset/labels/train/obj0310_frame0000032.txt  \n",
      "  inflating: yolo_dataset/labels/train/bio0012_frame0000025.txt  \n",
      "  inflating: yolo_dataset/labels/train/obj1202_frame0000053.txt  \n",
      "  inflating: yolo_dataset/labels/train/obj0300_frame0000034.txt  \n",
      "  inflating: yolo_dataset/labels/train/bio0004_frame0000107.txt  \n",
      "  inflating: yolo_dataset/labels/train/obj1251_frame0000099.txt  \n",
      "  inflating: yolo_dataset/labels/train/bio0016_frame0000357.txt  \n",
      "  inflating: yolo_dataset/labels/train/obj1202_frame0000047.txt  \n",
      "  inflating: yolo_dataset/labels/train/obj0300_frame0000020.txt  \n",
      "  inflating: yolo_dataset/labels/train/bio0004_frame0000113.txt  \n",
      "  inflating: yolo_dataset/labels/train/obj0310_frame0000026.txt  \n",
      "  inflating: yolo_dataset/labels/train/obj0309_frame0000103.txt  \n",
      "  inflating: yolo_dataset/labels/train/obj0865_frame0000091.txt  \n",
      "  inflating: yolo_dataset/labels/train/obj0331_frame0000027.txt  \n",
      "  inflating: yolo_dataset/labels/train/obj1111_frame0000107.txt  \n",
      "  inflating: yolo_dataset/labels/train/obj1656_frame0000004.txt  \n",
      "  inflating: yolo_dataset/labels/train/obj1505_frame0000343.txt  \n",
      "  inflating: yolo_dataset/labels/train/obj0331_frame0000033.txt  \n",
      "  inflating: yolo_dataset/labels/train/obj1107_frame0000031.txt  \n",
      "  inflating: yolo_dataset/labels/train/obj0309_frame0000117.txt  \n",
      "  inflating: yolo_dataset/labels/train/obj0865_frame0000085.txt  \n",
      "  inflating: yolo_dataset/labels/train/bio0017_frame0000321.txt  \n",
      "  inflating: yolo_dataset/labels/train/obj0301_frame0000056.txt  \n",
      "  inflating: yolo_dataset/labels/train/obj1202_frame0000090.txt  \n",
      "  inflating: yolo_dataset/labels/train/obj0236_frame0000033.txt  \n",
      "  inflating: yolo_dataset/labels/train/obj1648_frame0000073.txt  \n",
      "  inflating: yolo_dataset/labels/train/bio0011_frame0000211.txt  \n",
      "  inflating: yolo_dataset/labels/train/obj1502_frame0000239.txt  \n",
      "  inflating: yolo_dataset/labels/train/bio0016_frame0000394.txt  \n",
      "  inflating: yolo_dataset/labels/train/obj0236_frame0000027.txt  \n",
      "  inflating: yolo_dataset/labels/train/bio0017_frame0000335.txt  \n",
      "  inflating: yolo_dataset/labels/train/obj0226_frame0000021.txt  \n",
      "  inflating: yolo_dataset/labels/train/bio0015_frame0000611.txt  \n",
      "  inflating: yolo_dataset/labels/train/obj0301_frame0000042.txt  \n",
      "  inflating: yolo_dataset/labels/train/obj0226_frame0000009.txt  \n",
      "  inflating: yolo_dataset/labels/train/bio0015_frame0000639.txt  \n",
      "  inflating: yolo_dataset/labels/train/obj1006_frame0000129.txt  \n",
      "  inflating: yolo_dataset/labels/train/obj0014_frame0000026.txt  \n",
      "  inflating: yolo_dataset/labels/train/obj1658_frame0000049.txt  \n",
      "  inflating: yolo_dataset/labels/train/obj1655_frame0000224.txt  \n",
      "  inflating: yolo_dataset/labels/train/obj1502_frame0000211.txt  \n",
      "  inflating: yolo_dataset/labels/train/obj0753_frame0000131.txt  \n",
      "  inflating: yolo_dataset/labels/train/obj1502_frame0000205.txt  \n",
      "  inflating: yolo_dataset/labels/train/obj1655_frame0000230.txt  \n",
      "  inflating: yolo_dataset/labels/train/obj0014_frame0000032.txt  \n",
      "  inflating: yolo_dataset/labels/train/obj1280_frame0000145.txt  \n",
      "  inflating: yolo_dataset/labels/train/obj1657_frame0000072.txt  \n",
      "  inflating: yolo_dataset/labels/train/bio0017_frame0000296.txt  \n",
      "  inflating: yolo_dataset/labels/train/obj1202_frame0000641.txt  \n",
      "  inflating: yolo_dataset/labels/train/bio0016_frame0000237.txt  \n",
      "  inflating: yolo_dataset/labels/train/obj1602_frame0000017.txt  \n",
      "  inflating: yolo_dataset/labels/train/obj1202_frame0000133.txt  \n",
      "  inflating: yolo_dataset/labels/train/bio0016_frame0000223.txt  \n",
      "  inflating: yolo_dataset/labels/train/obj1602_frame0000003.txt  \n",
      "  inflating: yolo_dataset/labels/train/obj0319_frame0000059.txt  \n",
      "  inflating: yolo_dataset/labels/train/obj0221_frame0000013.txt  \n",
      "  inflating: yolo_dataset/labels/train/bio0014_frame0000061.txt  \n",
      "  inflating: yolo_dataset/labels/train/obj0309_frame0000077.txt  \n",
      "  inflating: yolo_dataset/labels/train/bio0001_frame0000388.txt  \n",
      "  inflating: yolo_dataset/labels/train/obj1297_frame0000165.txt  \n",
      "  inflating: yolo_dataset/labels/train/obj1281_frame0000047.txt  \n",
      "  inflating: yolo_dataset/labels/train/obj1505_frame0000223.txt  \n",
      "  inflating: yolo_dataset/labels/train/obj1656_frame0000164.txt  \n",
      "  inflating: yolo_dataset/labels/train/obj0319_frame0000065.txt  \n",
      "  inflating: yolo_dataset/labels/train/obj1505_frame0000237.txt  \n",
      "  inflating: yolo_dataset/labels/train/obj0309_frame0000063.txt  \n",
      "  inflating: yolo_dataset/labels/train/bio0011_frame0000417.txt  \n",
      "  inflating: yolo_dataset/labels/train/bio0002_frame0000194.txt  \n",
      "  inflating: yolo_dataset/labels/train/bio0015_frame0000017.txt  \n",
      "  inflating: yolo_dataset/labels/train/obj1502_frame0000359.txt  \n",
      "  inflating: yolo_dataset/labels/train/obj0243_frame0000021.txt  \n",
      "  inflating: yolo_dataset/labels/train/obj0317_frame0000014.txt  \n",
      "  inflating: yolo_dataset/labels/train/bio0002_frame0000180.txt  \n",
      "  inflating: yolo_dataset/labels/train/obj0002_frame0000070.txt  \n",
      "  inflating: yolo_dataset/labels/train/bio0017_frame0000269.txt  \n",
      "  inflating: yolo_dataset/labels/train/obj1246_frame0000085.txt  \n",
      "  inflating: yolo_dataset/labels/train/obj0865_frame0000126.txt  \n",
      "  inflating: yolo_dataset/labels/train/obj0318_frame0000013.txt  \n",
      "  inflating: yolo_dataset/labels/train/obj0308_frame0000015.txt  \n",
      "  inflating: yolo_dataset/labels/train/obj1251_frame0000106.txt  \n",
      "  inflating: yolo_dataset/labels/train/obj1502_frame0000365.txt  \n",
      "  inflating: yolo_dataset/labels/train/obj1502_frame0000371.txt  \n",
      "  inflating: yolo_dataset/labels/train/obj1281_frame0000090.txt  \n",
      "  inflating: yolo_dataset/labels/train/obj0002_frame0000064.txt  \n",
      "  inflating: yolo_dataset/labels/train/obj1076_frame0000015.txt  \n",
      "  inflating: yolo_dataset/labels/train/obj1502_frame0000198.txt  \n",
      "  inflating: yolo_dataset/labels/train/bio0004_frame0000271.txt  \n",
      "  inflating: yolo_dataset/labels/train/obj1667_frame0000407.txt  \n",
      "  inflating: yolo_dataset/labels/train/obj0749_frame0000142.txt  \n",
      "  inflating: yolo_dataset/labels/train/bio0000_frame0000117.txt  \n",
      "  inflating: yolo_dataset/labels/train/obj0314_frame0000022.txt  \n",
      "  inflating: yolo_dataset/labels/train/obj0702_frame0000030.txt  \n",
      "  inflating: yolo_dataset/labels/train/obj1667_frame0000413.txt  \n",
      "  inflating: yolo_dataset/labels/train/obj0304_frame0000030.txt  \n",
      "  inflating: yolo_dataset/labels/train/bio0000_frame0000103.txt  \n",
      "  inflating: yolo_dataset/labels/train/obj1076_frame0000001.txt  \n",
      "  inflating: yolo_dataset/labels/train/bio0004_frame0000265.txt  \n",
      "  inflating: yolo_dataset/labels/train/obj0304_frame0000018.txt  \n",
      "  inflating: yolo_dataset/labels/train/obj1656_frame0000372.txt  \n",
      "  inflating: yolo_dataset/labels/train/obj1076_frame0000029.txt  \n",
      "  inflating: yolo_dataset/labels/train/obj0333_frame0000113.txt  \n",
      "  inflating: yolo_dataset/labels/train/bio0002_frame0000369.txt  \n",
      "  inflating: yolo_dataset/labels/train/bio0012_frame0000409.txt  \n",
      "  inflating: yolo_dataset/labels/train/obj0212_frame0000040.txt  \n",
      "  inflating: yolo_dataset/labels/train/obj0011_frame0000040.txt  \n",
      "  inflating: yolo_dataset/labels/train/bio0004_frame0000259.txt  \n",
      "  inflating: yolo_dataset/labels/train/obj1505_frame0000035.txt  \n",
      "  inflating: yolo_dataset/labels/train/obj0334_frame0000069.txt  \n",
      "  inflating: yolo_dataset/labels/train/obj1662_frame0000065.txt  \n",
      "  inflating: yolo_dataset/labels/train/obj0305_frame0000046.txt  \n",
      "  inflating: yolo_dataset/labels/train/obj1658_frame0000303.txt  \n",
      "  inflating: yolo_dataset/labels/train/obj1664_frame0000155.txt  \n",
      "  inflating: yolo_dataset/labels/train/bio0001_frame0000161.txt  \n",
      "  inflating: yolo_dataset/labels/train/obj0305_frame0000052.txt  \n",
      "  inflating: yolo_dataset/labels/train/obj0000_frame0000018.txt  \n",
      "  inflating: yolo_dataset/labels/train/bio0012_frame0000384.txt  \n",
      "  inflating: yolo_dataset/labels/train/bio0015_frame0000229.txt  \n",
      "  inflating: yolo_dataset/labels/train/obj0000_frame0000030.txt  \n",
      "  inflating: yolo_dataset/labels/train/obj0334_frame0000055.txt  \n",
      "  inflating: yolo_dataset/labels/train/obj0241_frame0000049.txt  \n",
      "  inflating: yolo_dataset/labels/train/bio0001_frame0000149.txt  \n",
      "  inflating: yolo_dataset/labels/train/bio0014_frame0000288.txt  \n",
      "  inflating: yolo_dataset/labels/train/obj0347_frame0000017.txt  \n",
      "  inflating: yolo_dataset/labels/train/obj0348_frame0000038.txt  \n",
      "  inflating: yolo_dataset/labels/train/obj0334_frame0000041.txt  \n",
      "  inflating: yolo_dataset/labels/train/obj1502_frame0000173.txt  \n",
      "  inflating: yolo_dataset/labels/train/obj0000_frame0000024.txt  \n",
      "  inflating: yolo_dataset/labels/train/obj0760_frame0000033.txt  \n",
      "  inflating: yolo_dataset/labels/train/bio0004_frame0000283.txt  \n",
      "  inflating: yolo_dataset/labels/train/bio0015_frame0000224.txt  \n",
      "  inflating: yolo_dataset/labels/train/obj1617_frame0000126.txt  \n",
      "  inflating: yolo_dataset/labels/train/bio0003_frame0000306.txt  \n",
      "  inflating: yolo_dataset/labels/train/obj0334_frame0000058.txt  \n",
      "  inflating: yolo_dataset/labels/train/obj1648_frame0000452.txt  \n",
      "  inflating: yolo_dataset/labels/train/obj1061_frame0000164.txt  \n",
      "  inflating: yolo_dataset/labels/train/obj0241_frame0000044.txt  \n",
      "  inflating: yolo_dataset/labels/train/obj0713_frame0000065.txt  \n",
      "  inflating: yolo_dataset/labels/train/bio0015_frame0000556.txt  \n",
      "  inflating: yolo_dataset/labels/train/obj0789_frame0000020.txt  \n",
      "  inflating: yolo_dataset/labels/train/obj1658_frame0000326.txt  \n",
      "  inflating: yolo_dataset/labels/train/obj1061_frame0000170.txt  \n",
      "  inflating: yolo_dataset/labels/train/obj0305_frame0000063.txt  \n",
      "  inflating: yolo_dataset/labels/train/obj0348_frame0000035.txt  \n",
      "  inflating: yolo_dataset/labels/train/obj0241_frame0000050.txt  \n",
      "  inflating: yolo_dataset/labels/train/obj1617_frame0000132.txt  \n",
      "  inflating: yolo_dataset/labels/train/obj1648_frame0000320.txt  \n",
      "  inflating: yolo_dataset/labels/train/obj0000_frame0000029.txt  \n",
      "  inflating: yolo_dataset/labels/train/obj0334_frame0000064.txt  \n",
      "  inflating: yolo_dataset/labels/train/obj0000_frame0000001.txt  \n",
      "  inflating: yolo_dataset/labels/train/obj1502_frame0000156.txt  \n",
      "  inflating: yolo_dataset/labels/train/obj0347_frame0000032.txt  \n",
      "  inflating: yolo_dataset/labels/train/obj0347_frame0000026.txt  \n",
      "  inflating: yolo_dataset/labels/train/obj0000_frame0000015.txt  \n",
      "  inflating: yolo_dataset/labels/train/obj1502_frame0000142.txt  \n",
      "  inflating: yolo_dataset/labels/train/obj1255_frame0000047.txt  \n",
      "  inflating: yolo_dataset/labels/train/obj1218_frame0000011.txt  \n",
      "  inflating: yolo_dataset/labels/train/bio0012_frame0000389.txt  \n",
      "  inflating: yolo_dataset/labels/train/obj1655_frame0000177.txt  \n",
      "  inflating: yolo_dataset/labels/train/obj0304_frame0000015.txt  \n",
      "  inflating: yolo_dataset/labels/train/obj1652_frame0000019.txt  \n",
      "  inflating: yolo_dataset/labels/train/obj0702_frame0000001.txt  \n",
      "  inflating: yolo_dataset/labels/train/bio0015_frame0000581.txt  \n",
      "  inflating: yolo_dataset/labels/train/bio0012_frame0000404.txt  \n",
      "  inflating: yolo_dataset/labels/train/bio0001_frame0000187.txt  \n",
      "  inflating: yolo_dataset/labels/train/obj0314_frame0000013.txt  \n",
      "  inflating: yolo_dataset/labels/train/bio0001_frame0000193.txt  \n",
      "  inflating: yolo_dataset/labels/train/obj1667_frame0000344.txt  \n",
      "  inflating: yolo_dataset/labels/train/obj1505_frame0000038.txt  \n",
      "  inflating: yolo_dataset/labels/train/obj1502_frame0000195.txt  \n",
      "  inflating: yolo_dataset/labels/train/obj0702_frame0000029.txt  \n",
      "  inflating: yolo_dataset/labels/train/bio0010_frame0000108.txt  \n",
      "  inflating: yolo_dataset/labels/train/obj1502_frame0000181.txt  \n",
      "  inflating: yolo_dataset/labels/train/bio0004_frame0000268.txt  \n",
      "  inflating: yolo_dataset/labels/train/obj0750_frame0000056.txt  \n",
      "  inflating: yolo_dataset/labels/train/obj1672_frame0000250.txt  \n",
      "  inflating: yolo_dataset/labels/train/obj0317_frame0000031.txt  \n",
      "  inflating: yolo_dataset/labels/train/obj1246_frame0000088.txt  \n",
      "  inflating: yolo_dataset/labels/train/bio0001_frame0000420.txt  \n",
      "  inflating: yolo_dataset/labels/train/obj1648_frame0000136.txt  \n",
      "  inflating: yolo_dataset/labels/train/bio0003_frame0000104.txt  \n",
      "  inflating: yolo_dataset/labels/train/obj0308_frame0000018.txt  \n",
      "  inflating: yolo_dataset/labels/train/bio0004_frame0000081.txt  \n",
      "  inflating: yolo_dataset/labels/train/obj1038_frame0000044.txt  \n",
      "  inflating: yolo_dataset/labels/train/bio0003_frame0000110.txt  \n",
      "  inflating: yolo_dataset/labels/train/obj0317_frame0000025.txt  \n",
      "  inflating: yolo_dataset/labels/train/obj0002_frame0000069.txt  \n",
      "  inflating: yolo_dataset/labels/train/obj0309_frame0000085.txt  \n",
      "  inflating: yolo_dataset/labels/train/obj0318_frame0000022.txt  \n",
      "  inflating: yolo_dataset/labels/train/obj1111_frame0000081.txt  \n",
      "  inflating: yolo_dataset/labels/train/obj1502_frame0000354.txt  \n",
      "  inflating: yolo_dataset/labels/train/obj0243_frame0000038.txt  \n",
      "  inflating: yolo_dataset/labels/train/obj0308_frame0000024.txt  \n",
      "  inflating: yolo_dataset/labels/train/obj0308_frame0000030.txt  \n",
      "  inflating: yolo_dataset/labels/train/obj1502_frame0000340.txt  \n",
      "  inflating: yolo_dataset/labels/train/obj0002_frame0000055.txt  \n",
      "  inflating: yolo_dataset/labels/train/obj0317_frame0000019.txt  \n",
      "  inflating: yolo_dataset/labels/train/obj0309_frame0000091.txt  \n",
      "  inflating: yolo_dataset/labels/train/obj1667_frame0000152.txt  \n",
      "  inflating: yolo_dataset/labels/train/obj0221_frame0000036.txt  \n",
      "  inflating: yolo_dataset/labels/train/bio0002_frame0000166.txt  \n",
      "  inflating: yolo_dataset/labels/train/obj1006_frame0000093.txt  \n",
      "  inflating: yolo_dataset/labels/train/obj1602_frame0000026.txt  \n",
      "  inflating: yolo_dataset/labels/train/bio0012_frame0000160.txt  \n",
      "  inflating: yolo_dataset/labels/train/bio0002_frame0000600.txt  \n",
      "  inflating: yolo_dataset/labels/train/bio0011_frame0000383.txt  \n",
      "  inflating: yolo_dataset/labels/train/obj0319_frame0000068.txt  \n",
      "  inflating: yolo_dataset/labels/train/obj1602_frame0000032.txt  \n",
      "  inflating: yolo_dataset/labels/train/obj1662_frame0000281.txt  \n",
      "  inflating: yolo_dataset/labels/train/bio0014_frame0000050.txt  \n",
      "  inflating: yolo_dataset/labels/train/obj0221_frame0000022.txt  \n",
      "  inflating: yolo_dataset/labels/train/bio0002_frame0000172.txt  \n",
      "  inflating: yolo_dataset/labels/train/obj0002_frame0000082.txt  \n",
      "  inflating: yolo_dataset/labels/train/obj1246_frame0000077.txt  \n",
      "  inflating: yolo_dataset/labels/train/obj0337_frame0000046.txt  \n",
      "  inflating: yolo_dataset/labels/train/obj0319_frame0000040.txt  \n",
      "  inflating: yolo_dataset/labels/train/obj1024_frame0000517.txt  \n",
      "  inflating: yolo_dataset/labels/train/obj1502_frame0000383.txt  \n",
      "  inflating: yolo_dataset/labels/train/obj1505_frame0000206.txt  \n",
      "  inflating: yolo_dataset/labels/train/obj1654_frame0000471.txt  \n",
      "  inflating: yolo_dataset/labels/train/obj0319_frame0000054.txt  \n",
      "  inflating: yolo_dataset/labels/train/obj1281_frame0000062.txt  \n",
      "  inflating: yolo_dataset/labels/train/obj0309_frame0000052.txt  \n",
      "  inflating: yolo_dataset/labels/train/obj0002_frame0000096.txt  \n",
      "  inflating: yolo_dataset/labels/train/bio0015_frame0000634.txt  \n",
      "  inflating: yolo_dataset/labels/train/obj0226_frame0000004.txt  \n",
      "  inflating: yolo_dataset/labels/train/bio0013_frame0000076.txt  \n",
      "  inflating: yolo_dataset/labels/train/obj1617_frame0000250.txt  \n",
      "  inflating: yolo_dataset/labels/train/obj1502_frame0000208.txt  \n",
      "  inflating: yolo_dataset/labels/train/obj0708_frame0000048.txt  \n",
      "  inflating: yolo_dataset/labels/train/obj1617_frame0000244.txt  \n",
      "  inflating: yolo_dataset/labels/train/obj0764_frame0000037.txt  \n",
      "  inflating: yolo_dataset/labels/train/bio0001_frame0000226.txt  \n",
      "  inflating: yolo_dataset/labels/train/bio0013_frame0000062.txt  \n",
      "  inflating: yolo_dataset/labels/train/obj0226_frame0000010.txt  \n",
      "  inflating: yolo_dataset/labels/train/obj1502_frame0000220.txt  \n",
      "  inflating: yolo_dataset/labels/train/obj1502_frame0000234.txt  \n",
      "  inflating: yolo_dataset/labels/train/obj0343_frame0000036.txt  \n",
      "  inflating: yolo_dataset/labels/train/obj1660_frame0000148.txt  \n",
      "  inflating: yolo_dataset/labels/train/obj0865_frame0000077.txt  \n",
      "  inflating: yolo_dataset/labels/train/obj1667_frame0000026.txt  \n",
      "  inflating: yolo_dataset/labels/train/bio0016_frame0000414.txt  \n",
      "  inflating: yolo_dataset/labels/train/obj0310_frame0000003.txt  \n",
      "  inflating: yolo_dataset/labels/train/obj1663_frame0000426.txt  \n",
      "  inflating: yolo_dataset/labels/train/obj1648_frame0000081.txt  \n",
      "  inflating: yolo_dataset/labels/train/bio0000_frame0000250.txt  \n",
      "  inflating: yolo_dataset/labels/train/bio0000_frame0000244.txt  \n",
      "  inflating: yolo_dataset/labels/train/obj0300_frame0000011.txt  \n",
      "  inflating: yolo_dataset/labels/train/bio0004_frame0000122.txt  \n",
      "  inflating: yolo_dataset/labels/train/bio0016_frame0000400.txt  \n",
      "  inflating: yolo_dataset/labels/train/obj1250_frame0000009.txt  \n",
      "  inflating: yolo_dataset/labels/train/obj0310_frame0000017.txt  \n",
      "  inflating: yolo_dataset/labels/train/bio0016_frame0000428.txt  \n",
      "  inflating: yolo_dataset/labels/train/obj0331_frame0000016.txt  \n",
      "  inflating: yolo_dataset/labels/train/obj0309_frame0000132.txt  \n",
      "  inflating: yolo_dataset/labels/train/obj1654_frame0000277.txt  \n",
      "  inflating: yolo_dataset/labels/train/obj1107_frame0000014.txt  \n",
      "  inflating: yolo_dataset/labels/train/obj1042_frame0000086.txt  \n",
      "  inflating: yolo_dataset/labels/train/bio0000_frame0000278.txt  \n",
      "  inflating: yolo_dataset/labels/train/obj0309_frame0000126.txt  \n",
      "  inflating: yolo_dataset/labels/train/obj1654_frame0000263.txt  \n",
      "  inflating: yolo_dataset/labels/train/obj1657_frame0000080.txt  \n",
      "  inflating: yolo_dataset/labels/train/obj1523_frame0000037.txt  \n",
      "  inflating: yolo_dataset/labels/train/bio0000_frame0000091.txt  \n",
      "  inflating: yolo_dataset/labels/train/obj1648_frame0000240.txt  \n",
      "  inflating: yolo_dataset/labels/train/bio0003_frame0000272.txt  \n",
      "  inflating: yolo_dataset/labels/train/obj1629_frame0000052.txt  \n",
      "  inflating: yolo_dataset/labels/train/obj0348_frame0000155.txt  \n",
      "  inflating: yolo_dataset/labels/train/obj0856_frame0000030.txt  \n",
      "  inflating: yolo_dataset/labels/train/obj0313_frame0000021.txt  \n",
      "  inflating: yolo_dataset/labels/train/obj1672_frame0000126.txt  \n",
      "  inflating: yolo_dataset/labels/train/obj1284_frame0000038.txt  \n",
      "  inflating: yolo_dataset/labels/train/obj0313_frame0000035.txt  \n",
      "  inflating: yolo_dataset/labels/train/obj1672_frame0000132.txt  \n",
      "  inflating: yolo_dataset/labels/train/obj1663_frame0000195.txt  \n",
      "  inflating: yolo_dataset/labels/train/obj0348_frame0000141.txt  \n",
      "  inflating: yolo_dataset/labels/train/obj0009_frame0000056.txt  \n",
      "  inflating: yolo_dataset/labels/train/obj0856_frame0000024.txt  \n",
      "  inflating: yolo_dataset/labels/train/bio0000_frame0000085.txt  \n",
      "  inflating: yolo_dataset/labels/train/obj0248_frame0000007.txt  \n",
      "  inflating: yolo_dataset/labels/train/bio0018_frame0000101.txt  \n",
      "  inflating: yolo_dataset/labels/train/obj0348_frame0000169.txt  \n",
      "  inflating: yolo_dataset/labels/train/obj0748_frame0000059.txt  \n",
      "  inflating: yolo_dataset/labels/train/obj0313_frame0000009.txt  \n",
      "  inflating: yolo_dataset/labels/train/obj0332_frame0000020.txt  \n",
      "  inflating: yolo_dataset/labels/train/bio0015_frame0000378.txt  \n",
      "  inflating: yolo_dataset/labels/train/obj0248_frame0000013.txt  \n",
      "  inflating: yolo_dataset/labels/train/obj0333_frame0000081.txt  \n",
      "  inflating: yolo_dataset/labels/train/obj1505_frame0000158.txt  \n",
      "  inflating: yolo_dataset/labels/train/bio0002_frame0000576.txt  \n",
      "  inflating: yolo_dataset/labels/train/obj0312_frame0000043.txt  \n",
      "  inflating: yolo_dataset/labels/train/bio0015_frame0000393.txt  \n",
      "  inflating: yolo_dataset/labels/train/bio0004_frame0000334.txt  \n",
      "  inflating: yolo_dataset/labels/train/obj0214_frame0000009.txt  \n",
      "  inflating: yolo_dataset/labels/train/bio0002_frame0000210.txt  \n",
      "  inflating: yolo_dataset/labels/train/obj1667_frame0000230.txt  \n",
      "  inflating: yolo_dataset/labels/train/bio0002_frame0000204.txt  \n",
      "  inflating: yolo_dataset/labels/train/bio0004_frame0000446.txt  \n",
      "  inflating: yolo_dataset/labels/train/obj0340_frame0000028.txt  \n",
      "  inflating: yolo_dataset/labels/train/obj0312_frame0000057.txt  \n",
      "  inflating: yolo_dataset/labels/train/obj1648_frame0000297.txt  \n",
      "  inflating: yolo_dataset/labels/train/obj1505_frame0000164.txt  \n",
      "  inflating: yolo_dataset/labels/train/obj0007_frame0000033.txt  \n",
      "  inflating: yolo_dataset/labels/train/bio0010_frame0000068.txt  \n",
      "  inflating: yolo_dataset/labels/train/obj0204_frame0000027.txt  \n",
      "  inflating: yolo_dataset/labels/train/obj0751_frame0000183.txt  \n",
      "  inflating: yolo_dataset/labels/train/obj0340_frame0000014.txt  \n",
      "  inflating: yolo_dataset/labels/train/obj1654_frame0000061.txt  \n",
      "  inflating: yolo_dataset/labels/train/bio0002_frame0000238.txt  \n",
      "  inflating: yolo_dataset/labels/train/obj0333_frame0000042.txt  \n",
      "  inflating: yolo_dataset/labels/train/obj0340_frame0000015.txt  \n",
      "  inflating: yolo_dataset/labels/train/obj0214_frame0000020.txt  \n",
      "  inflating: yolo_dataset/labels/train/obj1652_frame0000144.txt  \n",
      "  inflating: yolo_dataset/labels/train/obj0333_frame0000043.txt  \n",
      "  inflating: yolo_dataset/labels/train/bio0016_frame0000159.txt  \n",
      "  inflating: yolo_dataset/labels/train/obj1505_frame0000171.txt  \n",
      "  inflating: yolo_dataset/labels/train/bio0003_frame0000298.txt  \n",
      "  inflating: yolo_dataset/labels/train/obj0007_frame0000032.txt  \n",
      "  inflating: yolo_dataset/labels/train/obj1505_frame0000165.txt  \n",
      "  inflating: yolo_dataset/labels/train/obj1297_frame0000223.txt  \n",
      "  inflating: yolo_dataset/labels/train/obj0340_frame0000029.txt  \n",
      "  inflating: yolo_dataset/labels/train/obj1629_frame0000084.txt  \n",
      "  inflating: yolo_dataset/labels/train/obj1656_frame0000578.txt  \n",
      "  inflating: yolo_dataset/labels/train/obj0348_frame0000183.txt  \n",
      "  inflating: yolo_dataset/labels/train/bio0000_frame0000047.txt  \n",
      "  inflating: yolo_dataset/labels/train/obj1617_frame0000084.txt  \n",
      "  inflating: yolo_dataset/labels/train/bio0012_frame0000203.txt  \n",
      "  inflating: yolo_dataset/labels/train/obj0312_frame0000056.txt  \n",
      "  inflating: yolo_dataset/labels/train/bio0016_frame0000165.txt  \n",
      "  inflating: yolo_dataset/labels/train/obj0312_frame0000042.txt  \n",
      "  inflating: yolo_dataset/labels/train/bio0016_frame0000171.txt  \n",
      "  inflating: yolo_dataset/labels/train/obj1648_frame0000282.txt  \n",
      "  inflating: yolo_dataset/labels/train/bio0000_frame0000053.txt  \n",
      "  inflating: yolo_dataset/labels/train/obj1617_frame0000090.txt  \n",
      "  inflating: yolo_dataset/labels/train/obj1505_frame0000159.txt  \n",
      "  inflating: yolo_dataset/labels/train/obj1284_frame0000011.txt  \n",
      "  inflating: yolo_dataset/labels/train/obj0332_frame0000021.txt  \n",
      "  inflating: yolo_dataset/labels/train/bio0001_frame0000019.txt  \n",
      "  inflating: yolo_dataset/labels/train/obj0747_frame0000063.txt  \n",
      "  inflating: yolo_dataset/labels/train/obj1626_frame0000054.txt  \n",
      "  inflating: yolo_dataset/labels/train/obj1033_frame0000046.txt  \n",
      "  inflating: yolo_dataset/labels/train/obj1050_frame0000016.txt  \n",
      "  inflating: yolo_dataset/labels/train/obj0871_frame0000114.txt  \n",
      "  inflating: yolo_dataset/labels/train/obj0248_frame0000012.txt  \n",
      "  inflating: yolo_dataset/labels/train/obj0248_frame0000006.txt  \n",
      "  inflating: yolo_dataset/labels/train/bio0002_frame0000588.txt  \n",
      "  inflating: yolo_dataset/labels/train/obj1087_frame0000005.txt  \n",
      "  inflating: yolo_dataset/labels/train/obj0348_frame0000168.txt  \n",
      "  inflating: yolo_dataset/labels/train/obj1626_frame0000040.txt  \n",
      "  inflating: yolo_dataset/labels/train/bio0010_frame0000082.txt  \n",
      "  inflating: yolo_dataset/labels/train/bio0001_frame0000025.txt  \n",
      "  inflating: yolo_dataset/labels/train/obj0348_frame0000140.txt  \n",
      "  inflating: yolo_dataset/labels/train/obj1629_frame0000047.txt  \n",
      "  inflating: yolo_dataset/labels/train/obj1617_frame0000047.txt  \n",
      "  inflating: yolo_dataset/labels/train/obj1648_frame0000255.txt  \n",
      "  inflating: yolo_dataset/labels/train/obj1523_frame0000036.txt  \n",
      "  inflating: yolo_dataset/labels/train/obj1662_frame0000121.txt  \n",
      "  inflating: yolo_dataset/labels/train/bio0015_frame0000351.txt  \n",
      "  inflating: yolo_dataset/labels/train/obj0751_frame0000169.txt  \n",
      "  inflating: yolo_dataset/labels/train/obj0313_frame0000020.txt  \n",
      "  inflating: yolo_dataset/labels/train/bio0001_frame0000031.txt  \n",
      "  inflating: yolo_dataset/labels/train/obj1657_frame0000268.txt  \n",
      "  inflating: yolo_dataset/labels/train/obj0348_frame0000154.txt  \n",
      "  inflating: yolo_dataset/labels/train/obj0009_frame0000043.txt  \n",
      "  inflating: yolo_dataset/labels/train/obj1111_frame0000123.txt  \n",
      "  inflating: yolo_dataset/labels/train/obj1107_frame0000001.txt  \n",
      "  inflating: yolo_dataset/labels/train/obj0309_frame0000127.txt  \n",
      "  inflating: yolo_dataset/labels/train/obj1107_frame0000015.txt  \n",
      "  inflating: yolo_dataset/labels/train/obj0309_frame0000133.txt  \n",
      "  inflating: yolo_dataset/labels/train/obj0331_frame0000017.txt  \n",
      "  inflating: yolo_dataset/labels/train/bio0012_frame0000029.txt  \n",
      "  inflating: yolo_dataset/labels/train/bio0016_frame0000367.txt  \n",
      "  inflating: yolo_dataset/labels/train/obj0300_frame0000010.txt  \n",
      "  inflating: yolo_dataset/labels/train/obj1663_frame0000433.txt  \n",
      "  inflating: yolo_dataset/labels/train/bio0012_frame0000001.txt  \n",
      "  inflating: yolo_dataset/labels/train/obj0865_frame0000089.txt  \n",
      "  inflating: yolo_dataset/labels/train/bio0002_frame0000007.txt  \n",
      "  inflating: yolo_dataset/labels/train/obj1663_frame0000341.txt  \n",
      "  inflating: yolo_dataset/labels/train/obj0310_frame0000002.txt  \n",
      "  inflating: yolo_dataset/labels/train/obj1107_frame0000029.txt  \n",
      "  inflating: yolo_dataset/labels/train/bio0016_frame0000373.txt  \n",
      "  inflating: yolo_dataset/labels/train/bio0004_frame0000137.txt  \n",
      "  inflating: yolo_dataset/labels/train/bio0016_frame0000398.txt  \n",
      "  inflating: yolo_dataset/labels/train/bio0003_frame0000059.txt  \n",
      "  inflating: yolo_dataset/labels/train/obj1042_frame0000050.txt  \n",
      "  inflating: yolo_dataset/labels/train/obj0343_frame0000037.txt  \n",
      "  inflating: yolo_dataset/labels/train/obj0343_frame0000023.txt  \n",
      "  inflating: yolo_dataset/labels/train/obj0708_frame0000061.txt  \n",
      "  inflating: yolo_dataset/labels/train/obj1502_frame0000221.txt  \n",
      "  inflating: yolo_dataset/labels/train/bio0000_frame0000286.txt  \n",
      "  inflating: yolo_dataset/labels/train/bio0003_frame0000065.txt  \n",
      "  inflating: yolo_dataset/labels/train/obj1502_frame0000209.txt  \n",
      "  inflating: yolo_dataset/labels/train/obj0226_frame0000011.txt  \n",
      "  inflating: yolo_dataset/labels/train/obj1006_frame0000131.txt  \n",
      "  inflating: yolo_dataset/labels/train/bio0015_frame0000621.txt  \n",
      "  inflating: yolo_dataset/labels/train/obj1664_frame0000213.txt  \n",
      "  inflating: yolo_dataset/labels/train/obj1660_frame0000161.txt  \n",
      "  inflating: yolo_dataset/labels/train/obj0226_frame0000005.txt  \n",
      "  inflating: yolo_dataset/labels/train/obj1662_frame0000323.txt  \n",
      "  inflating: yolo_dataset/labels/train/obj1655_frame0000228.txt  \n",
      "  inflating: yolo_dataset/labels/train/bio0003_frame0000071.txt  \n",
      "  inflating: yolo_dataset/labels/train/obj1505_frame0000207.txt  \n",
      "  inflating: yolo_dataset/labels/train/obj1502_frame0000382.txt  \n",
      "  inflating: yolo_dataset/labels/train/obj1111_frame0000057.txt  \n",
      "  inflating: yolo_dataset/labels/train/obj0002_frame0000097.txt  \n",
      "  inflating: yolo_dataset/labels/train/obj1654_frame0000316.txt  \n",
      "  inflating: yolo_dataset/labels/train/obj0309_frame0000053.txt  \n",
      "  inflating: yolo_dataset/labels/train/obj0309_frame0000047.txt  \n",
      "  inflating: yolo_dataset/labels/train/obj1111_frame0000043.txt  \n",
      "  inflating: yolo_dataset/labels/train/obj0002_frame0000083.txt  \n",
      "  inflating: yolo_dataset/labels/train/bio0014_frame0000079.txt  \n",
      "  inflating: yolo_dataset/labels/train/obj0319_frame0000041.txt  \n",
      "  inflating: yolo_dataset/labels/train/obj1505_frame0000213.txt  \n",
      "  inflating: yolo_dataset/labels/train/obj1038_frame0000086.txt  \n",
      "  inflating: yolo_dataset/labels/train/obj1016_frame0000080.txt  \n",
      "  inflating: yolo_dataset/labels/train/bio0004_frame0000057.txt  \n",
      "  inflating: yolo_dataset/labels/train/obj1602_frame0000033.txt  \n",
      "  inflating: yolo_dataset/labels/train/bio0011_frame0000396.txt  \n",
      "  inflating: yolo_dataset/labels/train/bio0002_frame0000615.txt  \n",
      "  inflating: yolo_dataset/labels/train/bio0012_frame0000175.txt  \n",
      "  inflating: yolo_dataset/labels/train/bio0001_frame0000390.txt  \n",
      "  inflating: yolo_dataset/labels/train/obj0221_frame0000023.txt  \n",
      "  inflating: yolo_dataset/labels/train/obj1667_frame0000147.txt  \n",
      "  inflating: yolo_dataset/labels/train/obj1202_frame0000665.txt  \n",
      "  inflating: yolo_dataset/labels/train/bio0014_frame0000045.txt  \n",
      "  inflating: yolo_dataset/labels/train/obj0221_frame0000037.txt  \n",
      "  inflating: yolo_dataset/labels/train/bio0001_frame0000384.txt  \n",
      "  inflating: yolo_dataset/labels/train/obj1662_frame0000294.txt  \n",
      "  inflating: yolo_dataset/labels/train/obj1016_frame0000094.txt  \n",
      "  inflating: yolo_dataset/labels/train/obj1602_frame0000027.txt  \n",
      "  inflating: yolo_dataset/labels/train/bio0016_frame0000207.txt  \n",
      "  inflating: yolo_dataset/labels/train/obj1502_frame0000341.txt  \n",
      "  inflating: yolo_dataset/labels/train/obj1657_frame0000136.txt  \n",
      "  inflating: yolo_dataset/labels/train/obj0309_frame0000090.txt  \n",
      "  inflating: yolo_dataset/labels/train/obj0865_frame0000102.txt  \n",
      "  inflating: yolo_dataset/labels/train/obj0317_frame0000018.txt  \n",
      "  inflating: yolo_dataset/labels/train/obj0002_frame0000054.txt  \n",
      "  inflating: yolo_dataset/labels/train/obj0002_frame0000040.txt  \n",
      "  inflating: yolo_dataset/labels/train/bio0002_frame0000198.txt  \n",
      "  inflating: yolo_dataset/labels/train/obj0318_frame0000023.txt  \n",
      "  inflating: yolo_dataset/labels/train/obj0309_frame0000084.txt  \n",
      "  inflating: yolo_dataset/labels/train/obj0865_frame0000116.txt  \n",
      "  inflating: yolo_dataset/labels/train/obj0243_frame0000039.txt  \n",
      "  inflating: yolo_dataset/labels/train/obj0307_frame0000022.txt  \n",
      "  inflating: yolo_dataset/labels/train/bio0014_frame0000092.txt  \n",
      "  inflating: yolo_dataset/labels/train/obj0002_frame0000068.txt  \n",
      "  inflating: yolo_dataset/labels/train/bio0001_frame0000353.txt  \n",
      "  inflating: yolo_dataset/labels/train/obj1667_frame0000184.txt  \n",
      "  inflating: yolo_dataset/labels/train/obj0317_frame0000024.txt  \n",
      "  inflating: yolo_dataset/labels/train/bio0001_frame0000347.txt  \n",
      "  inflating: yolo_dataset/labels/train/obj1667_frame0000190.txt  \n",
      "  inflating: yolo_dataset/labels/train/obj0317_frame0000030.txt  \n",
      "  inflating: yolo_dataset/labels/train/bio0014_frame0000086.txt  \n",
      "  inflating: yolo_dataset/labels/train/obj0307_frame0000036.txt  \n",
      "  inflating: yolo_dataset/labels/train/obj1654_frame0000114.txt  \n",
      "  inflating: yolo_dataset/labels/train/obj0702_frame0000028.txt  \n",
      "  inflating: yolo_dataset/labels/train/obj1502_frame0000180.txt  \n",
      "  inflating: yolo_dataset/labels/train/obj0304_frame0000028.txt  \n",
      "  inflating: yolo_dataset/labels/train/bio0016_frame0000039.txt  \n",
      "  inflating: yolo_dataset/labels/train/obj1202_frame0000329.txt  \n",
      "  inflating: yolo_dataset/labels/train/obj1080_frame0000037.txt  \n",
      "  inflating: yolo_dataset/labels/train/obj1652_frame0000024.txt  \n",
      "  inflating: yolo_dataset/labels/train/bio0012_frame0000439.txt  \n",
      "  inflating: yolo_dataset/labels/train/obj1672_frame0000084.txt  \n",
      "  inflating: yolo_dataset/labels/train/obj0702_frame0000014.txt  \n",
      "  inflating: yolo_dataset/labels/train/obj1505_frame0000039.txt  \n",
      "  inflating: yolo_dataset/labels/train/obj1655_frame0000189.txt  \n",
      "  inflating: yolo_dataset/labels/train/bio0000_frame0000133.txt  \n",
      "  inflating: yolo_dataset/labels/train/obj1658_frame0000482.txt  \n",
      "  inflating: yolo_dataset/labels/train/bio0016_frame0000005.txt  \n",
      "  inflating: yolo_dataset/labels/train/bio0004_frame0000241.txt  \n",
      "  inflating: yolo_dataset/labels/train/obj1662_frame0000096.txt  \n",
      "  inflating: yolo_dataset/labels/train/obj1658_frame0001788.txt  \n",
      "  inflating: yolo_dataset/labels/train/bio0011_frame0000180.txt  \n",
      "  inflating: yolo_dataset/labels/train/obj0304_frame0000014.txt  \n",
      "  inflating: yolo_dataset/labels/train/obj0314_frame0000012.txt  \n",
      "  inflating: yolo_dataset/labels/train/obj1672_frame0000090.txt  \n",
      "  inflating: yolo_dataset/labels/train/obj0751_frame0000035.txt  \n",
      "  inflating: yolo_dataset/labels/train/obj1653_frame0000052.txt  \n",
      "  inflating: yolo_dataset/labels/train/obj0347_frame0000027.txt  \n",
      "  inflating: yolo_dataset/labels/train/obj0334_frame0000071.txt  \n",
      "  inflating: yolo_dataset/labels/train/obj1282_frame0000041.txt  \n",
      "  inflating: yolo_dataset/labels/train/obj1218_frame0000010.txt  \n",
      "  inflating: yolo_dataset/labels/train/obj1502_frame0000143.txt  \n",
      "  inflating: yolo_dataset/labels/train/obj0000_frame0000014.txt  \n",
      "  inflating: yolo_dataset/labels/train/bio0015_frame0000219.txt  \n",
      "  inflating: yolo_dataset/labels/train/obj0334_frame0000065.txt  \n",
      "  inflating: yolo_dataset/labels/train/obj1648_frame0000309.txt  \n",
      "  inflating: yolo_dataset/labels/train/obj0747_frame0000103.txt  \n",
      "  inflating: yolo_dataset/labels/train/obj0347_frame0000033.txt  \n",
      "  inflating: yolo_dataset/labels/train/bio0001_frame0000179.txt  \n",
      "  inflating: yolo_dataset/labels/train/obj0241_frame0000051.txt  \n",
      "  inflating: yolo_dataset/labels/train/obj0348_frame0000034.txt  \n",
      "  inflating: yolo_dataset/labels/train/obj0789_frame0000021.txt  \n",
      "  inflating: yolo_dataset/labels/train/obj0713_frame0000070.txt  \n",
      "  inflating: yolo_dataset/labels/train/bio0017_frame0000073.txt  \n",
      "  inflating: yolo_dataset/labels/train/obj0760_frame0000026.txt  \n",
      "  inflating: yolo_dataset/labels/train/obj0000_frame0000028.txt  \n",
      "  inflating: yolo_dataset/labels/train/obj0334_frame0000059.txt  \n",
      "  inflating: yolo_dataset/labels/train/bio0018_frame0000048.txt  \n",
      "  inflating: yolo_dataset/labels/train/obj0241_frame0000045.txt  \n",
      "  inflating: yolo_dataset/labels/train/obj1667_frame0000392.txt  \n",
      "  inflating: yolo_dataset/labels/train/obj0348_frame0000020.txt  \n",
      "  inflating: yolo_dataset/labels/train/bio0001_frame0000145.txt  \n",
      "  inflating: yolo_dataset/labels/train/obj0789_frame0000023.txt  \n",
      "  inflating: yolo_dataset/labels/train/obj0347_frame0000019.txt  \n",
      "  inflating: yolo_dataset/labels/train/bio0001_frame0000153.txt  \n",
      "  inflating: yolo_dataset/labels/train/obj1667_frame0000384.txt  \n",
      "  inflating: yolo_dataset/labels/train/obj0348_frame0000036.txt  \n",
      "  inflating: yolo_dataset/labels/train/obj0241_frame0000053.txt  \n",
      "  inflating: yolo_dataset/labels/train/obj1664_frame0000167.txt  \n",
      "  inflating: yolo_dataset/labels/train/bio0001_frame0000147.txt  \n",
      "  inflating: yolo_dataset/labels/train/obj1061_frame0000167.txt  \n",
      "  inflating: yolo_dataset/labels/train/obj0241_frame0000047.txt  \n",
      "  inflating: yolo_dataset/labels/train/obj1664_frame0000173.txt  \n",
      "  inflating: yolo_dataset/labels/train/bio0017_frame0000065.txt  \n",
      "  inflating: yolo_dataset/labels/train/obj1502_frame0000169.txt  \n",
      "  inflating: yolo_dataset/labels/train/bio0004_frame0000280.txt  \n",
      "  inflating: yolo_dataset/labels/train/obj1658_frame0000457.txt  \n",
      "  inflating: yolo_dataset/labels/train/obj0000_frame0000016.txt  \n",
      "  inflating: yolo_dataset/labels/train/obj1502_frame0000141.txt  \n",
      "  inflating: yolo_dataset/labels/train/obj1655_frame0000174.txt  \n",
      "  inflating: yolo_dataset/labels/train/obj1657_frame0000336.txt  \n",
      "  inflating: yolo_dataset/labels/train/obj0347_frame0000025.txt  \n",
      "  inflating: yolo_dataset/labels/train/obj1658_frame0001007.txt  \n",
      "  inflating: yolo_dataset/labels/train/bio0018_frame0000062.txt  \n",
      "  inflating: yolo_dataset/labels/train/obj0347_frame0000031.txt  \n",
      "  inflating: yolo_dataset/labels/train/obj0305_frame0000048.txt  \n",
      "  inflating: yolo_dataset/labels/train/obj1655_frame0000160.txt  \n",
      "  inflating: yolo_dataset/labels/train/obj0334_frame0000067.txt  \n",
      "  inflating: yolo_dataset/labels/train/obj0000_frame0000002.txt  \n",
      "  inflating: yolo_dataset/labels/train/bio0011_frame0000196.txt  \n",
      "  inflating: yolo_dataset/labels/train/bio0000_frame0000131.txt  \n",
      "  inflating: yolo_dataset/labels/train/bio0010_frame0000137.txt  \n",
      "  inflating: yolo_dataset/labels/train/bio0015_frame0000596.txt  \n",
      "  inflating: yolo_dataset/labels/train/bio0010_frame0000123.txt  \n",
      "  inflating: yolo_dataset/labels/train/obj0314_frame0000010.txt  \n",
      "  inflating: yolo_dataset/labels/train/obj0304_frame0000016.txt  \n",
      "  inflating: yolo_dataset/labels/train/bio0000_frame0000125.txt  \n",
      "  inflating: yolo_dataset/labels/train/bio0002_frame0000429.txt  \n",
      "  inflating: yolo_dataset/labels/train/bio0012_frame0000349.txt  \n",
      "  inflating: yolo_dataset/labels/train/obj1502_frame0000182.txt  \n",
      "  inflating: yolo_dataset/labels/train/obj1080_frame0000021.txt  \n",
      "  inflating: yolo_dataset/labels/train/obj1283_frame0000021.txt  \n",
      "  inflating: yolo_dataset/labels/train/obj0314_frame0000038.txt  \n",
      "  inflating: yolo_dataset/labels/train/obj1502_frame0000196.txt  \n",
      "  inflating: yolo_dataset/labels/train/obj0750_frame0000041.txt  \n",
      "  inflating: yolo_dataset/labels/train/obj0317_frame0000026.txt  \n",
      "  inflating: yolo_dataset/labels/train/bio0001_frame0000351.txt  \n",
      "  inflating: yolo_dataset/labels/train/bio0017_frame0000273.txt  \n",
      "  inflating: yolo_dataset/labels/train/bio0004_frame0000096.txt  \n",
      "  inflating: yolo_dataset/labels/train/obj1016_frame0000041.txt  \n",
      "  inflating: yolo_dataset/labels/train/bio0011_frame0000357.txt  \n",
      "  inflating: yolo_dataset/labels/train/obj0243_frame0000013.txt  \n",
      "  inflating: yolo_dataset/labels/train/bio0003_frame0000113.txt  \n",
      "  inflating: yolo_dataset/labels/train/bio0003_frame0000107.txt  \n",
      "  inflating: yolo_dataset/labels/train/bio0015_frame0000025.txt  \n",
      "  inflating: yolo_dataset/labels/train/obj1662_frame0000255.txt  \n",
      "  inflating: yolo_dataset/labels/train/obj0317_frame0000032.txt  \n",
      "  inflating: yolo_dataset/labels/train/bio0013_frame0000101.txt  \n",
      "  inflating: yolo_dataset/labels/train/obj0002_frame0000056.txt  \n",
      "  inflating: yolo_dataset/labels/train/obj0309_frame0000092.txt  \n",
      "  inflating: yolo_dataset/labels/train/obj0308_frame0000033.txt  \n",
      "  inflating: yolo_dataset/labels/train/obj1502_frame0000343.txt  \n",
      "  inflating: yolo_dataset/labels/train/obj1297_frame0000180.txt  \n",
      "  inflating: yolo_dataset/labels/train/obj1054_frame0000010.txt  \n",
      "  inflating: yolo_dataset/labels/train/obj1502_frame0000357.txt  \n",
      "  inflating: yolo_dataset/labels/train/obj0865_frame0000114.txt  \n",
      "  inflating: yolo_dataset/labels/train/obj0309_frame0000086.txt  \n",
      "  inflating: yolo_dataset/labels/train/bio0018_frame0000274.txt  \n",
      "  inflating: yolo_dataset/labels/train/obj0002_frame0000042.txt  \n",
      "  inflating: yolo_dataset/labels/train/obj1006_frame0000084.txt  \n",
      "  inflating: yolo_dataset/labels/train/obj1111_frame0000069.txt  \n",
      "  inflating: yolo_dataset/labels/train/obj0221_frame0000021.txt  \n",
      "  inflating: yolo_dataset/labels/train/bio0001_frame0000392.txt  \n",
      "  inflating: yolo_dataset/labels/train/obj1505_frame0000239.txt  \n",
      "  inflating: yolo_dataset/labels/train/bio0016_frame0000211.txt  \n",
      "  inflating: yolo_dataset/labels/train/obj1602_frame0000031.txt  \n",
      "  inflating: yolo_dataset/labels/train/bio0016_frame0000205.txt  \n",
      "  inflating: yolo_dataset/labels/train/obj1202_frame0000115.txt  \n",
      "  inflating: yolo_dataset/labels/train/obj1602_frame0000025.txt  \n",
      "  inflating: yolo_dataset/labels/train/bio0004_frame0000041.txt  \n",
      "  inflating: yolo_dataset/labels/train/obj1658_frame0002081.txt  \n",
      "  inflating: yolo_dataset/labels/train/bio0002_frame0000603.txt  \n",
      "  inflating: yolo_dataset/labels/train/bio0001_frame0000386.txt  \n",
      "  inflating: yolo_dataset/labels/train/obj0309_frame0000051.txt  \n",
      "  inflating: yolo_dataset/labels/train/obj0002_frame0000095.txt  \n",
      "  inflating: yolo_dataset/labels/train/obj1502_frame0000380.txt  \n",
      "  inflating: yolo_dataset/labels/train/obj0319_frame0000057.txt  \n",
      "  inflating: yolo_dataset/labels/train/obj1505_frame0000205.txt  \n",
      "  inflating: yolo_dataset/labels/train/obj0319_frame0000043.txt  \n",
      "  inflating: yolo_dataset/labels/train/obj1654_frame0000466.txt  \n",
      "  inflating: yolo_dataset/labels/train/obj1505_frame0000211.txt  \n",
      "  inflating: yolo_dataset/labels/train/obj1658_frame0000872.txt  \n",
      "  inflating: yolo_dataset/labels/train/obj1602_frame0000019.txt  \n",
      "  inflating: yolo_dataset/labels/train/obj0002_frame0000081.txt  \n",
      "  inflating: yolo_dataset/labels/train/obj1246_frame0000074.txt  \n",
      "  inflating: yolo_dataset/labels/train/obj0309_frame0000045.txt  \n",
      "  inflating: yolo_dataset/labels/train/obj1006_frame0000133.txt  \n",
      "  inflating: yolo_dataset/labels/train/obj0226_frame0000013.txt  \n",
      "  inflating: yolo_dataset/labels/train/bio0015_frame0000145.txt  \n",
      "  inflating: yolo_dataset/labels/train/bio0000_frame0000284.txt  \n",
      "  inflating: yolo_dataset/labels/train/bio0011_frame0000237.txt  \n",
      "  inflating: yolo_dataset/labels/train/obj0301_frame0000064.txt  \n",
      "  inflating: yolo_dataset/labels/train/obj0226_frame0000007.txt  \n",
      "  inflating: yolo_dataset/labels/train/obj1657_frame0000068.txt  \n",
      "  inflating: yolo_dataset/labels/train/obj0014_frame0000028.txt  \n",
      "  inflating: yolo_dataset/labels/train/obj0343_frame0000035.txt  \n",
      "  inflating: yolo_dataset/labels/train/obj1655_frame0000202.txt  \n",
      "  inflating: yolo_dataset/labels/train/obj1502_frame0000237.txt  \n",
      "  inflating: yolo_dataset/labels/train/bio0015_frame0000179.txt  \n",
      "  inflating: yolo_dataset/labels/train/obj1251_frame0000040.txt  \n",
      "  inflating: yolo_dataset/labels/train/obj1502_frame0000223.txt  \n",
      "  inflating: yolo_dataset/labels/train/obj1655_frame0000216.txt  \n",
      "  inflating: yolo_dataset/labels/train/obj1087_frame0000205.txt  \n",
      "  inflating: yolo_dataset/labels/train/obj0343_frame0000021.txt  \n",
      "  inflating: yolo_dataset/labels/train/obj0301_frame0000058.txt  \n",
      "  inflating: yolo_dataset/labels/train/bio0014_frame0000127.txt  \n",
      "  inflating: yolo_dataset/labels/train/obj0310_frame0000014.txt  \n",
      "  inflating: yolo_dataset/labels/train/bio0002_frame0000005.txt  \n",
      "  inflating: yolo_dataset/labels/train/obj0309_frame0000119.txt  \n",
      "  inflating: yolo_dataset/labels/train/obj1667_frame0000031.txt  \n",
      "  inflating: yolo_dataset/labels/train/obj0300_frame0000012.txt  \n",
      "  inflating: yolo_dataset/labels/train/obj1202_frame0000075.txt  \n",
      "  inflating: yolo_dataset/labels/train/bio0016_frame0000371.txt  \n",
      "  inflating: yolo_dataset/labels/train/obj1505_frame0000359.txt  \n",
      "  inflating: yolo_dataset/labels/train/obj0331_frame0000029.txt  \n",
      "  inflating: yolo_dataset/labels/train/bio0016_frame0000359.txt  \n",
      "  inflating: yolo_dataset/labels/train/obj1202_frame0000049.txt  \n",
      "  inflating: yolo_dataset/labels/train/obj1656_frame0000022.txt  \n",
      "  inflating: yolo_dataset/labels/train/bio0003_frame0000098.txt  \n",
      "  inflating: yolo_dataset/labels/train/obj1281_frame0000101.txt  \n",
      "  inflating: yolo_dataset/labels/train/obj0331_frame0000015.txt  \n",
      "  inflating: yolo_dataset/labels/train/obj0309_frame0000131.txt  \n",
      "  inflating: yolo_dataset/labels/train/obj1107_frame0000017.txt  \n",
      "  inflating: yolo_dataset/labels/train/obj1617_frame0000045.txt  \n",
      "  inflating: yolo_dataset/labels/train/bio0015_frame0000347.txt  \n",
      "  inflating: yolo_dataset/labels/train/obj0313_frame0000036.txt  \n",
      "  inflating: yolo_dataset/labels/train/obj1629_frame0000045.txt  \n",
      "  inflating: yolo_dataset/labels/train/obj0348_frame0000142.txt  \n",
      "  inflating: yolo_dataset/labels/train/obj0009_frame0000055.txt  \n",
      "  inflating: yolo_dataset/labels/train/bio0001_frame0000027.txt  \n",
      "  inflating: yolo_dataset/labels/train/obj0348_frame0000156.txt  \n",
      "  inflating: yolo_dataset/labels/train/obj1658_frame0000245.txt  \n",
      "  inflating: yolo_dataset/labels/train/bio0001_frame0000033.txt  \n",
      "  inflating: yolo_dataset/labels/train/obj0313_frame0000022.txt  \n",
      "  inflating: yolo_dataset/labels/train/bio0017_frame0000111.txt  \n",
      "  inflating: yolo_dataset/labels/train/obj0248_frame0000038.txt  \n",
      "  inflating: yolo_dataset/labels/train/obj1523_frame0000034.txt  \n",
      "  inflating: yolo_dataset/labels/train/obj1648_frame0000243.txt  \n",
      "  inflating: yolo_dataset/labels/train/obj1505_frame0000198.txt  \n",
      "  inflating: yolo_dataset/labels/train/obj1617_frame0000051.txt  \n",
      "  inflating: yolo_dataset/labels/train/obj1294_frame0000015.txt  \n",
      "  inflating: yolo_dataset/labels/train/obj0248_frame0000010.txt  \n",
      "  inflating: yolo_dataset/labels/train/obj1626_frame0000056.txt  \n",
      "  inflating: yolo_dataset/labels/train/obj0009_frame0000069.txt  \n",
      "  inflating: yolo_dataset/labels/train/bio0018_frame0000116.txt  \n",
      "  inflating: yolo_dataset/labels/train/obj0332_frame0000037.txt  \n",
      "  inflating: yolo_dataset/labels/train/obj1626_frame0000042.txt  \n",
      "  inflating: yolo_dataset/labels/train/obj1294_frame0000001.txt  \n",
      "  inflating: yolo_dataset/labels/train/obj0248_frame0000004.txt  \n",
      "  inflating: yolo_dataset/labels/train/obj0871_frame0000102.txt  \n",
      "  inflating: yolo_dataset/labels/train/bio0016_frame0000167.txt  \n",
      "  inflating: yolo_dataset/labels/train/obj0312_frame0000054.txt  \n",
      "  inflating: yolo_dataset/labels/train/bio0002_frame0000561.txt  \n",
      "  inflating: yolo_dataset/labels/train/obj1617_frame0000086.txt  \n",
      "  inflating: yolo_dataset/labels/train/bio0000_frame0000045.txt  \n",
      "  inflating: yolo_dataset/labels/train/obj0348_frame0000181.txt  \n",
      "  inflating: yolo_dataset/labels/train/bio0010_frame0000043.txt  \n",
      "  inflating: yolo_dataset/labels/train/obj0204_frame0000018.txt  \n",
      "  inflating: yolo_dataset/labels/train/bio0004_frame0000451.txt  \n",
      "  inflating: yolo_dataset/labels/train/obj1616_frame0000033.txt  \n",
      "  inflating: yolo_dataset/labels/train/obj1617_frame0000092.txt  \n",
      "  inflating: yolo_dataset/labels/train/bio0000_frame0000051.txt  \n",
      "  inflating: yolo_dataset/labels/train/bio0016_frame0000173.txt  \n",
      "  inflating: yolo_dataset/labels/train/obj0312_frame0000040.txt  \n",
      "  inflating: yolo_dataset/labels/train/bio0004_frame0000337.txt  \n",
      "  inflating: yolo_dataset/labels/train/bio0000_frame0000079.txt  \n",
      "  inflating: yolo_dataset/labels/train/obj0007_frame0000024.txt  \n",
      "  inflating: yolo_dataset/labels/train/obj0333_frame0000041.txt  \n",
      "  inflating: yolo_dataset/labels/train/obj0204_frame0000024.txt  \n",
      "  inflating: yolo_dataset/labels/train/obj0751_frame0000180.txt  \n",
      "  inflating: yolo_dataset/labels/train/obj0340_frame0000017.txt  \n",
      "  inflating: yolo_dataset/labels/train/obj0017_frame0000036.txt  \n",
      "  inflating: yolo_dataset/labels/train/obj0333_frame0000055.txt  \n",
      "  inflating: yolo_dataset/labels/train/bio0002_frame0000549.txt  \n",
      "  inflating: yolo_dataset/labels/train/obj1505_frame0000167.txt  \n",
      "  inflating: yolo_dataset/labels/train/obj0007_frame0000030.txt  \n",
      "  inflating: yolo_dataset/labels/train/obj1626_frame0000080.txt  \n",
      "  inflating: yolo_dataset/labels/train/obj0017_frame0000037.txt  \n",
      "  inflating: yolo_dataset/labels/train/obj1505_frame0000166.txt  \n",
      "  inflating: yolo_dataset/labels/train/obj0333_frame0000054.txt  \n",
      "  inflating: yolo_dataset/labels/train/obj0333_frame0000040.txt  \n",
      "  inflating: yolo_dataset/labels/train/obj0007_frame0000025.txt  \n",
      "  inflating: yolo_dataset/labels/train/obj1505_frame0000172.txt  \n",
      "  inflating: yolo_dataset/labels/train/obj0340_frame0000016.txt  \n",
      "  inflating: yolo_dataset/labels/train/bio0014_frame0000318.txt  \n",
      "  inflating: yolo_dataset/labels/train/obj0204_frame0000025.txt  \n",
      "  inflating: yolo_dataset/labels/train/bio0002_frame0000212.txt  \n",
      "  inflating: yolo_dataset/labels/train/obj0312_frame0000041.txt  \n",
      "  inflating: yolo_dataset/labels/train/obj1658_frame0001827.txt  \n",
      "  inflating: yolo_dataset/labels/train/obj1606_frame0000034.txt  \n",
      "  inflating: yolo_dataset/labels/train/obj0007_frame0000019.txt  \n",
      "  inflating: yolo_dataset/labels/train/bio0004_frame0000322.txt  \n",
      "  inflating: yolo_dataset/labels/train/obj0312_frame0000055.txt  \n",
      "  inflating: yolo_dataset/labels/train/obj0204_frame0000019.txt  \n",
      "  inflating: yolo_dataset/labels/train/bio0002_frame0000206.txt  \n",
      "  inflating: yolo_dataset/labels/train/obj0348_frame0000180.txt  \n",
      "  inflating: yolo_dataset/labels/train/obj1672_frame0000118.txt  \n",
      "  inflating: yolo_dataset/labels/train/obj0248_frame0000005.txt  \n",
      "  inflating: yolo_dataset/labels/train/obj1050_frame0000001.txt  \n",
      "  inflating: yolo_dataset/labels/train/obj1617_frame0000078.txt  \n",
      "  inflating: yolo_dataset/labels/train/obj1655_frame0000001.txt  \n",
      "  inflating: yolo_dataset/labels/train/bio0016_frame0000199.txt  \n",
      "  inflating: yolo_dataset/labels/train/obj0248_frame0000011.txt  \n",
      "  inflating: yolo_dataset/labels/train/obj0332_frame0000022.txt  \n",
      "  inflating: yolo_dataset/labels/train/bio0017_frame0000138.txt  \n",
      "  inflating: yolo_dataset/labels/train/obj0009_frame0000068.txt  \n",
      "  inflating: yolo_dataset/labels/train/obj1658_frame0001172.txt  \n",
      "  inflating: yolo_dataset/labels/train/obj1629_frame0000078.txt  \n",
      "  inflating: yolo_dataset/labels/train/obj1672_frame0000124.txt  \n",
      "  inflating: yolo_dataset/labels/train/obj0856_frame0000032.txt  \n",
      "  inflating: yolo_dataset/labels/train/obj0348_frame0000157.txt  \n",
      "  inflating: yolo_dataset/labels/train/obj0009_frame0000040.txt  \n",
      "  inflating: yolo_dataset/labels/train/obj1629_frame0000050.txt  \n",
      "  inflating: yolo_dataset/labels/train/obj1505_frame0000199.txt  \n",
      "  inflating: yolo_dataset/labels/train/bio0000_frame0000093.txt  \n",
      "  inflating: yolo_dataset/labels/train/obj0248_frame0000039.txt  \n",
      "  inflating: yolo_dataset/labels/train/bio0000_frame0000087.txt  \n",
      "  inflating: yolo_dataset/labels/train/obj0856_frame0000026.txt  \n",
      "  inflating: yolo_dataset/labels/train/obj0009_frame0000054.txt  \n",
      "  inflating: yolo_dataset/labels/train/obj0348_frame0000143.txt  \n",
      "  inflating: yolo_dataset/labels/train/bio0013_frame0000262.txt  \n",
      "  inflating: yolo_dataset/labels/train/obj1672_frame0000130.txt  \n",
      "  inflating: yolo_dataset/labels/train/bio0017_frame0000104.txt  \n",
      "  inflating: yolo_dataset/labels/train/obj0313_frame0000037.txt  \n",
      "  inflating: yolo_dataset/labels/train/obj1251_frame0000082.txt  \n",
      "  inflating: yolo_dataset/labels/train/obj1663_frame0000418.txt  \n",
      "  inflating: yolo_dataset/labels/train/obj1657_frame0000096.txt  \n",
      "  inflating: yolo_dataset/labels/train/obj0309_frame0000130.txt  \n",
      "  inflating: yolo_dataset/labels/train/obj0331_frame0000014.txt  \n",
      "  inflating: yolo_dataset/labels/train/obj0310_frame0000029.txt  \n",
      "  inflating: yolo_dataset/labels/train/obj1251_frame0000096.txt  \n",
      "  inflating: yolo_dataset/labels/train/bio0012_frame0000016.txt  \n",
      "  inflating: yolo_dataset/labels/train/obj1505_frame0000358.txt  \n",
      "  inflating: yolo_dataset/labels/train/bio0000_frame0000252.txt  \n",
      "  inflating: yolo_dataset/labels/train/bio0004_frame0000134.txt  \n",
      "  inflating: yolo_dataset/labels/train/obj0310_frame0000001.txt  \n",
      "  inflating: yolo_dataset/labels/train/obj0331_frame0000028.txt  \n",
      "  inflating: yolo_dataset/labels/train/obj1658_frame0000085.txt  \n",
      "  inflating: yolo_dataset/labels/train/obj1280_frame0000189.txt  \n",
      "  inflating: yolo_dataset/labels/train/obj0309_frame0000118.txt  \n",
      "  inflating: yolo_dataset/labels/train/obj0310_frame0000015.txt  \n",
      "  inflating: yolo_dataset/labels/train/bio0016_frame0000402.txt  \n",
      "  inflating: yolo_dataset/labels/train/obj0300_frame0000013.txt  \n",
      "  inflating: yolo_dataset/labels/train/bio0000_frame0000246.txt  \n",
      "  inflating: yolo_dataset/labels/train/obj1042_frame0000047.txt  \n",
      "  inflating: yolo_dataset/labels/train/obj1658_frame0001402.txt  \n",
      "  inflating: yolo_dataset/labels/train/obj1502_frame0000222.txt  \n",
      "  inflating: yolo_dataset/labels/train/obj0753_frame0000116.txt  \n",
      "  inflating: yolo_dataset/labels/train/obj0301_frame0000059.txt  \n",
      "  inflating: yolo_dataset/labels/train/obj0343_frame0000020.txt  \n",
      "  inflating: yolo_dataset/labels/train/bio0013_frame0000048.txt  \n",
      "  inflating: yolo_dataset/labels/train/obj1280_frame0000162.txt  \n",
      "  inflating: yolo_dataset/labels/train/obj0865_frame0000075.txt  \n",
      "  inflating: yolo_dataset/labels/train/bio0001_frame0000218.txt  \n",
      "  inflating: yolo_dataset/labels/train/obj0343_frame0000034.txt  \n",
      "  inflating: yolo_dataset/labels/train/obj1502_frame0000236.txt  \n",
      "  inflating: yolo_dataset/labels/train/obj0236_frame0000028.txt  \n",
      "  inflating: yolo_dataset/labels/train/obj1251_frame0000055.txt  \n",
      "  inflating: yolo_dataset/labels/train/obj1648_frame0000040.txt  \n",
      "  inflating: yolo_dataset/labels/train/obj0014_frame0000029.txt  \n",
      "  inflating: yolo_dataset/labels/train/obj0301_frame0000065.txt  \n",
      "  inflating: yolo_dataset/labels/train/obj0226_frame0000012.txt  \n",
      "  inflating: yolo_dataset/labels/train/obj0865_frame0000049.txt  \n",
      "  inflating: yolo_dataset/labels/train/bio0001_frame0000224.txt  \n",
      "  inflating: yolo_dataset/labels/train/bio0011_frame0000222.txt  \n",
      "  inflating: yolo_dataset/labels/train/obj1617_frame0000246.txt  \n",
      "  inflating: yolo_dataset/labels/train/obj1202_frame0000128.txt  \n",
      "  inflating: yolo_dataset/labels/train/obj1505_frame0000210.txt  \n",
      "  inflating: yolo_dataset/labels/train/obj0319_frame0000042.txt  \n",
      "  inflating: yolo_dataset/labels/train/bio0002_frame0000158.txt  \n",
      "  inflating: yolo_dataset/labels/train/obj0309_frame0000044.txt  \n",
      "  inflating: yolo_dataset/labels/train/obj1111_frame0000040.txt  \n",
      "  inflating: yolo_dataset/labels/train/obj0002_frame0000080.txt  \n",
      "  inflating: yolo_dataset/labels/train/obj0002_frame0000094.txt  \n",
      "  inflating: yolo_dataset/labels/train/obj0309_frame0000050.txt  \n",
      "  inflating: yolo_dataset/labels/train/obj1667_frame0000178.txt  \n",
      "  inflating: yolo_dataset/labels/train/obj1505_frame0000204.txt  \n",
      "  inflating: yolo_dataset/labels/train/obj0319_frame0000056.txt  \n",
      "  inflating: yolo_dataset/labels/train/obj1064_frame0000048.txt  \n",
      "  inflating: yolo_dataset/labels/train/obj1502_frame0000381.txt  \n",
      "  inflating: yolo_dataset/labels/train/obj1038_frame0000091.txt  \n",
      "  inflating: yolo_dataset/labels/train/obj1602_frame0000024.txt  \n",
      "  inflating: yolo_dataset/labels/train/bio0002_frame0000164.txt  \n",
      "  inflating: yolo_dataset/labels/train/obj0309_frame0000078.txt  \n",
      "  inflating: yolo_dataset/labels/train/obj0221_frame0000034.txt  \n",
      "  inflating: yolo_dataset/labels/train/bio0002_frame0000170.txt  \n",
      "  inflating: yolo_dataset/labels/train/obj0221_frame0000020.txt  \n",
      "  inflating: yolo_dataset/labels/train/obj1658_frame0002094.txt  \n",
      "  inflating: yolo_dataset/labels/train/bio0004_frame0000054.txt  \n",
      "  inflating: yolo_dataset/labels/train/obj1505_frame0000238.txt  \n",
      "  inflating: yolo_dataset/labels/train/obj0307_frame0000009.txt  \n",
      "  inflating: yolo_dataset/labels/train/obj1662_frame0000268.txt  \n",
      "  inflating: yolo_dataset/labels/train/obj1016_frame0000068.txt  \n",
      "  inflating: yolo_dataset/labels/train/obj1502_frame0000356.txt  \n",
      "  inflating: yolo_dataset/labels/train/obj0002_frame0000043.txt  \n",
      "  inflating: yolo_dataset/labels/train/bio0001_frame0000378.txt  \n",
      "  inflating: yolo_dataset/labels/train/obj0318_frame0000020.txt  \n",
      "  inflating: yolo_dataset/labels/train/obj0309_frame0000087.txt  \n",
      "  inflating: yolo_dataset/labels/train/obj0865_frame0000101.txt  \n",
      "  inflating: yolo_dataset/labels/train/obj0002_frame0000057.txt  \n",
      "  inflating: yolo_dataset/labels/train/bio0018_frame0000261.txt  \n",
      "  inflating: yolo_dataset/labels/train/obj0753_frame0000076.txt  \n",
      "  inflating: yolo_dataset/labels/train/obj1502_frame0000342.txt  \n",
      "  inflating: yolo_dataset/labels/train/obj1663_frame0000593.txt  \n",
      "  inflating: yolo_dataset/labels/train/bio0001_frame0000422.txt  \n",
      "  inflating: yolo_dataset/labels/train/obj0317_frame0000033.txt  \n",
      "  inflating: yolo_dataset/labels/train/obj1006_frame0000052.txt  \n",
      "  inflating: yolo_dataset/labels/train/obj1603_frame0000046.txt  \n",
      "  inflating: yolo_dataset/labels/train/obj1672_frame0000246.txt  \n",
      "  inflating: yolo_dataset/labels/train/obj1658_frame0000126.txt  \n",
      "  inflating: yolo_dataset/labels/train/obj1658_frame0000640.txt  \n",
      "  inflating: yolo_dataset/labels/train/bio0015_frame0000030.txt  \n",
      "  inflating: yolo_dataset/labels/train/bio0000_frame0000118.txt  \n",
      "  inflating: yolo_dataset/labels/train/obj1502_frame0000197.txt  \n",
      "  inflating: yolo_dataset/labels/train/obj1502_frame0000183.txt  \n",
      "  inflating: yolo_dataset/labels/train/obj0314_frame0000039.txt  \n",
      "  inflating: yolo_dataset/labels/train/obj1667_frame0000352.txt  \n",
      "  inflating: yolo_dataset/labels/train/obj0314_frame0000011.txt  \n",
      "  inflating: yolo_dataset/labels/train/bio0002_frame0000366.txt  \n",
      "  inflating: yolo_dataset/labels/train/obj1672_frame0000093.txt  \n",
      "  inflating: yolo_dataset/labels/train/bio0014_frame0000244.txt  \n",
      "  inflating: yolo_dataset/labels/train/obj1080_frame0000008.txt  \n",
      "  inflating: yolo_dataset/labels/train/obj0871_frame0000088.txt  \n",
      "  inflating: yolo_dataset/labels/train/obj1658_frame0002282.txt  \n",
      "  inflating: yolo_dataset/labels/train/bio0002_frame0000414.txt  \n",
      "  inflating: yolo_dataset/labels/train/bio0004_frame0000256.txt  \n",
      "  inflating: yolo_dataset/labels/train/obj1662_frame0000081.txt  \n",
      "  inflating: yolo_dataset/labels/train/bio0001_frame0000191.txt  \n",
      "  inflating: yolo_dataset/labels/train/bio0002_frame0000399.txt  \n",
      "  inflating: yolo_dataset/labels/train/bio0018_frame0000077.txt  \n",
      "  inflating: yolo_dataset/labels/train/obj1502_frame0000154.txt  \n",
      "  inflating: yolo_dataset/labels/train/obj0000_frame0000003.txt  \n",
      "  inflating: yolo_dataset/labels/train/obj0334_frame0000066.txt  \n",
      "  inflating: yolo_dataset/labels/train/obj1617_frame0000118.txt  \n",
      "  inflating: yolo_dataset/labels/train/obj0334_frame0000072.txt  \n",
      "  inflating: yolo_dataset/labels/train/bio0011_frame0000168.txt  \n",
      "  inflating: yolo_dataset/labels/train/obj1218_frame0000013.txt  \n",
      "  inflating: yolo_dataset/labels/train/obj1502_frame0000140.txt  \n",
      "  inflating: yolo_dataset/labels/train/obj0000_frame0000017.txt  \n",
      "  inflating: yolo_dataset/labels/train/obj0760_frame0000019.txt  \n",
      "  inflating: yolo_dataset/labels/train/obj1672_frame0000078.txt  \n",
      "  inflating: yolo_dataset/labels/train/obj0347_frame0000024.txt  \n",
      "  inflating: yolo_dataset/labels/train/obj1672_frame0000050.txt  \n",
      "  inflating: yolo_dataset/labels/train/bio0015_frame0000540.txt  \n",
      "  inflating: yolo_dataset/labels/train/obj0241_frame0000046.txt  \n",
      "  inflating: yolo_dataset/labels/train/obj1648_frame0000336.txt  \n",
      "  inflating: yolo_dataset/labels/train/obj1617_frame0000124.txt  \n",
      "  inflating: yolo_dataset/labels/train/bio0004_frame0000295.txt  \n",
      "  inflating: yolo_dataset/labels/train/obj1655_frame0000149.txt  \n",
      "  inflating: yolo_dataset/labels/train/obj1617_frame0000130.txt  \n",
      "  inflating: yolo_dataset/labels/train/obj0241_frame0000052.txt  \n",
      "  inflating: yolo_dataset/labels/train/obj0348_frame0000037.txt  \n",
      "  inflating: yolo_dataset/labels/train/obj0347_frame0000018.txt  \n",
      "  inflating: yolo_dataset/labels/train/bio0017_frame0000070.txt  \n",
      "  inflating: yolo_dataset/labels/train/obj1672_frame0000044.txt  \n",
      "  inflating: yolo_dataset/labels/train/bio0014_frame0000293.txt  \n",
      "  inflating: yolo_dataset/labels/train/obj0347_frame0000020.txt  \n",
      "  inflating: yolo_dataset/labels/train/obj0000_frame0000013.txt  \n",
      "  inflating: yolo_dataset/labels/train/obj1655_frame0000171.txt  \n",
      "  inflating: yolo_dataset/labels/train/obj1087_frame0000162.txt  \n",
      "  inflating: yolo_dataset/labels/train/obj1655_frame0000165.txt  \n",
      "  inflating: yolo_dataset/labels/train/obj1218_frame0000003.txt  \n",
      "  inflating: yolo_dataset/labels/train/obj0334_frame0000062.txt  \n",
      "  inflating: yolo_dataset/labels/train/obj0000_frame0000007.txt  \n",
      "  inflating: yolo_dataset/labels/train/obj1502_frame0000150.txt  \n",
      "  inflating: yolo_dataset/labels/train/obj1648_frame0000440.txt  \n",
      "  inflating: yolo_dataset/labels/train/obj0348_frame0000033.txt  \n",
      "  inflating: yolo_dataset/labels/train/obj0241_frame0000056.txt  \n",
      "  inflating: yolo_dataset/labels/train/obj1617_frame0000134.txt  \n",
      "  inflating: yolo_dataset/labels/train/obj1050_frame0000159.txt  \n",
      "  inflating: yolo_dataset/labels/train/obj1658_frame0000446.txt  \n",
      "  inflating: yolo_dataset/labels/train/obj1502_frame0000178.txt  \n",
      "  inflating: yolo_dataset/labels/train/obj1617_frame0000120.txt  \n",
      "  inflating: yolo_dataset/labels/train/obj1658_frame0000452.txt  \n",
      "  inflating: yolo_dataset/labels/train/obj0348_frame0000027.txt  \n",
      "  inflating: yolo_dataset/labels/train/obj0241_frame0000042.txt  \n",
      "  inflating: yolo_dataset/labels/train/bio0014_frame0000283.txt  \n",
      "  inflating: yolo_dataset/labels/train/bio0017_frame0000060.txt  \n",
      "  inflating: yolo_dataset/labels/train/obj1502_frame0000187.txt  \n",
      "  inflating: yolo_dataset/labels/train/obj1080_frame0000024.txt  \n",
      "  inflating: yolo_dataset/labels/train/obj0750_frame0000044.txt  \n",
      "  inflating: yolo_dataset/labels/train/bio0002_frame0000438.txt  \n",
      "  inflating: yolo_dataset/labels/train/obj1664_frame0000189.txt  \n",
      "  inflating: yolo_dataset/labels/train/obj0314_frame0000029.txt  \n",
      "  inflating: yolo_dataset/labels/train/bio0001_frame0000195.txt  \n",
      "  inflating: yolo_dataset/labels/train/obj1080_frame0000018.txt  \n",
      "  inflating: yolo_dataset/labels/train/obj0871_frame0000098.txt  \n",
      "  inflating: yolo_dataset/labels/train/obj0304_frame0000013.txt  \n",
      "  inflating: yolo_dataset/labels/train/obj1662_frame0000091.txt  \n",
      "  inflating: yolo_dataset/labels/train/obj1672_frame0000097.txt  \n",
      "  inflating: yolo_dataset/labels/train/bio0001_frame0000181.txt  \n",
      "  inflating: yolo_dataset/labels/train/obj0753_frame0000072.txt  \n",
      "  inflating: yolo_dataset/labels/train/obj1054_frame0000001.txt  \n",
      "  inflating: yolo_dataset/labels/train/obj1502_frame0000346.txt  \n",
      "  inflating: yolo_dataset/labels/train/bio0015_frame0000008.txt  \n",
      "  inflating: yolo_dataset/labels/train/obj0309_frame0000097.txt  \n",
      "  inflating: yolo_dataset/labels/train/bio0001_frame0000368.txt  \n",
      "  inflating: yolo_dataset/labels/train/obj1657_frame0000131.txt  \n",
      "  inflating: yolo_dataset/labels/train/obj0318_frame0000024.txt  \n",
      "  inflating: yolo_dataset/labels/train/obj0762_frame0000049.txt  \n",
      "  inflating: yolo_dataset/labels/train/obj0002_frame0000047.txt  \n",
      "  inflating: yolo_dataset/labels/train/obj1502_frame0000352.txt  \n",
      "  inflating: yolo_dataset/labels/train/bio0012_frame0000199.txt  \n",
      "  inflating: yolo_dataset/labels/train/obj0308_frame0000022.txt  \n",
      "  inflating: yolo_dataset/labels/train/obj1648_frame0000124.txt  \n",
      "  inflating: yolo_dataset/labels/train/obj0243_frame0000016.txt  \n",
      "  inflating: yolo_dataset/labels/train/bio0003_frame0000116.txt  \n",
      "  inflating: yolo_dataset/labels/train/obj0317_frame0000023.txt  \n",
      "  inflating: yolo_dataset/labels/train/bio0015_frame0000752.txt  \n",
      "  inflating: yolo_dataset/labels/train/obj0318_frame0000018.txt  \n",
      "  inflating: yolo_dataset/labels/train/obj0317_frame0000037.txt  \n",
      "  inflating: yolo_dataset/labels/train/obj1658_frame0000650.txt  \n",
      "  inflating: yolo_dataset/labels/train/obj1648_frame0000130.txt  \n",
      "  inflating: yolo_dataset/labels/train/bio0001_frame0000426.txt  \n",
      "  inflating: yolo_dataset/labels/train/bio0004_frame0000087.txt  \n",
      "  inflating: yolo_dataset/labels/train/obj1502_frame0000385.txt  \n",
      "  inflating: yolo_dataset/labels/train/obj0319_frame0000052.txt  \n",
      "  inflating: yolo_dataset/labels/train/obj1505_frame0000200.txt  \n",
      "  inflating: yolo_dataset/labels/train/obj0221_frame0000018.txt  \n",
      "  inflating: yolo_dataset/labels/train/bio0002_frame0000148.txt  \n",
      "  inflating: yolo_dataset/labels/train/obj0309_frame0000054.txt  \n",
      "  inflating: yolo_dataset/labels/train/obj1108_frame0000149.txt  \n",
      "  inflating: yolo_dataset/labels/train/obj1654_frame0000305.txt  \n",
      "  inflating: yolo_dataset/labels/train/obj0309_frame0000040.txt  \n",
      "  inflating: yolo_dataset/labels/train/obj1505_frame0000214.txt  \n",
      "  inflating: yolo_dataset/labels/train/obj0337_frame0000040.txt  \n",
      "  inflating: yolo_dataset/labels/train/bio0004_frame0000078.txt  \n",
      "  inflating: yolo_dataset/labels/train/bio0002_frame0000612.txt  \n",
      "  inflating: yolo_dataset/labels/train/bio0011_frame0000391.txt  \n",
      "  inflating: yolo_dataset/labels/train/obj1602_frame0000034.txt  \n",
      "  inflating: yolo_dataset/labels/train/obj1038_frame0000081.txt  \n",
      "  inflating: yolo_dataset/labels/train/obj1006_frame0000081.txt  \n",
      "  inflating: yolo_dataset/labels/train/obj0221_frame0000024.txt  \n",
      "  inflating: yolo_dataset/labels/train/obj1108_frame0000161.txt  \n",
      "  inflating: yolo_dataset/labels/train/obj1246_frame0000059.txt  \n",
      "  inflating: yolo_dataset/labels/train/bio0002_frame0000174.txt  \n",
      "  inflating: yolo_dataset/labels/train/obj0309_frame0000068.txt  \n",
      "  inflating: yolo_dataset/labels/train/obj0221_frame0000030.txt  \n",
      "  inflating: yolo_dataset/labels/train/obj1654_frame0000339.txt  \n",
      "  inflating: yolo_dataset/labels/train/obj1111_frame0000078.txt  \n",
      "  inflating: yolo_dataset/labels/train/obj1602_frame0000020.txt  \n",
      "  inflating: yolo_dataset/labels/train/obj1202_frame0000110.txt  \n",
      "  inflating: yolo_dataset/labels/train/obj0753_frame0000099.txt  \n",
      "  inflating: yolo_dataset/labels/train/obj1663_frame0000554.txt  \n",
      "  inflating: yolo_dataset/labels/train/obj1042_frame0000057.txt  \n",
      "  inflating: yolo_dataset/labels/train/obj1251_frame0000051.txt  \n",
      "  inflating: yolo_dataset/labels/train/obj1502_frame0000232.txt  \n",
      "  inflating: yolo_dataset/labels/train/obj0753_frame0000106.txt  \n",
      "  inflating: yolo_dataset/labels/train/obj0301_frame0000049.txt  \n",
      "  inflating: yolo_dataset/labels/train/obj0343_frame0000030.txt  \n",
      "  inflating: yolo_dataset/labels/train/obj1280_frame0000172.txt  \n",
      "  inflating: yolo_dataset/labels/train/obj0865_frame0000065.txt  \n",
      "  inflating: yolo_dataset/labels/train/obj0343_frame0000024.txt  \n",
      "  inflating: yolo_dataset/labels/train/obj1502_frame0000226.txt  \n",
      "  inflating: yolo_dataset/labels/train/obj1655_frame0000213.txt  \n",
      "  inflating: yolo_dataset/labels/train/obj1087_frame0000200.txt  \n",
      "  inflating: yolo_dataset/labels/train/obj1662_frame0000330.txt  \n",
      "  inflating: yolo_dataset/labels/train/bio0003_frame0000062.txt  \n",
      "  inflating: yolo_dataset/labels/train/obj1617_frame0000242.txt  \n",
      "  inflating: yolo_dataset/labels/train/bio0001_frame0000220.txt  \n",
      "  inflating: yolo_dataset/labels/train/obj0014_frame0000039.txt  \n",
      "  inflating: yolo_dataset/labels/train/bio0015_frame0000626.txt  \n",
      "  inflating: yolo_dataset/labels/train/obj0226_frame0000016.txt  \n",
      "  inflating: yolo_dataset/labels/train/obj0301_frame0000061.txt  \n",
      "  inflating: yolo_dataset/labels/train/obj0343_frame0000018.txt  \n",
      "  inflating: yolo_dataset/labels/train/obj1617_frame0000256.txt  \n",
      "  inflating: yolo_dataset/labels/train/obj1251_frame0000079.txt  \n",
      "  inflating: yolo_dataset/labels/train/bio0015_frame0000154.txt  \n",
      "  inflating: yolo_dataset/labels/train/obj1251_frame0000092.txt  \n",
      "  inflating: yolo_dataset/labels/train/obj0309_frame0000120.txt  \n",
      "  inflating: yolo_dataset/labels/train/obj1107_frame0000006.txt  \n",
      "  inflating: yolo_dataset/labels/train/obj1024_frame0000317.txt  \n",
      "  inflating: yolo_dataset/labels/train/obj1654_frame0000271.txt  \n",
      "  inflating: yolo_dataset/labels/train/obj1107_frame0000012.txt  \n",
      "  inflating: yolo_dataset/labels/train/obj1657_frame0000092.txt  \n",
      "  inflating: yolo_dataset/labels/train/bio0003_frame0000089.txt  \n",
      "  inflating: yolo_dataset/labels/train/bio0000_frame0000242.txt  \n",
      "  inflating: yolo_dataset/labels/train/obj1505_frame0000348.txt  \n",
      "  inflating: yolo_dataset/labels/train/obj1024_frame0000459.txt  \n",
      "  inflating: yolo_dataset/labels/train/obj1202_frame0000070.txt  \n",
      "  inflating: yolo_dataset/labels/train/bio0016_frame0000406.txt  \n",
      "  inflating: yolo_dataset/labels/train/obj0310_frame0000011.txt  \n",
      "  inflating: yolo_dataset/labels/train/obj0309_frame0000108.txt  \n",
      "  inflating: yolo_dataset/labels/train/obj1108_frame0000001.txt  \n",
      "  inflating: yolo_dataset/labels/train/bio0016_frame0000412.txt  \n",
      "  inflating: yolo_dataset/labels/train/obj0310_frame0000005.txt  \n",
      "  inflating: yolo_dataset/labels/train/obj1202_frame0000064.txt  \n",
      "  inflating: yolo_dataset/labels/train/bio0000_frame0000256.txt  \n",
      "  inflating: yolo_dataset/labels/train/bio0012_frame0000012.txt  \n",
      "  inflating: yolo_dataset/labels/train/obj0747_frame0000064.txt  \n",
      "  inflating: yolo_dataset/labels/train/obj0332_frame0000026.txt  \n",
      "  inflating: yolo_dataset/labels/train/obj0248_frame0000015.txt  \n",
      "  inflating: yolo_dataset/labels/train/bio0003_frame0000248.txt  \n",
      "  inflating: yolo_dataset/labels/train/obj0248_frame0000001.txt  \n",
      "  inflating: yolo_dataset/labels/train/bio0016_frame0000189.txt  \n",
      "  inflating: yolo_dataset/labels/train/obj1629_frame0000068.txt  \n",
      "  inflating: yolo_dataset/labels/train/bio0017_frame0000100.txt  \n",
      "  inflating: yolo_dataset/labels/train/obj0313_frame0000033.txt  \n",
      "  inflating: yolo_dataset/labels/train/bio0015_frame0000424.txt  \n",
      "  inflating: yolo_dataset/labels/train/obj1672_frame0000134.txt  \n",
      "  inflating: yolo_dataset/labels/train/obj0856_frame0000022.txt  \n",
      "  inflating: yolo_dataset/labels/train/obj0348_frame0000147.txt  \n",
      "  inflating: yolo_dataset/labels/train/obj0009_frame0000050.txt  \n",
      "  inflating: yolo_dataset/labels/train/obj0747_frame0000058.txt  \n",
      "  inflating: yolo_dataset/labels/train/bio0000_frame0000083.txt  \n",
      "  inflating: yolo_dataset/labels/train/bio0003_frame0000260.txt  \n",
      "  inflating: yolo_dataset/labels/train/obj1505_frame0000189.txt  \n",
      "  inflating: yolo_dataset/labels/train/obj0248_frame0000029.txt  \n",
      "  inflating: yolo_dataset/labels/train/obj1523_frame0000031.txt  \n",
      "  inflating: yolo_dataset/labels/train/obj1648_frame0000246.txt  \n",
      "  inflating: yolo_dataset/labels/train/obj1050_frame0000039.txt  \n",
      "  inflating: yolo_dataset/labels/train/obj1033_frame0000069.txt  \n",
      "  inflating: yolo_dataset/labels/train/bio0000_frame0000097.txt  \n",
      "  inflating: yolo_dataset/labels/train/obj1629_frame0000054.txt  \n",
      "  inflating: yolo_dataset/labels/train/obj0856_frame0000036.txt  \n",
      "  inflating: yolo_dataset/labels/train/obj0313_frame0000027.txt  \n",
      "  inflating: yolo_dataset/labels/train/obj1672_frame0000120.txt  \n",
      "  inflating: yolo_dataset/labels/train/obj0340_frame0000012.txt  \n",
      "  inflating: yolo_dataset/labels/train/obj0017_frame0000027.txt  \n",
      "  inflating: yolo_dataset/labels/train/obj1283_frame0000150.txt  \n",
      "  inflating: yolo_dataset/labels/train/bio0002_frame0000558.txt  \n",
      "  inflating: yolo_dataset/labels/train/obj0017_frame0000033.txt  \n",
      "  inflating: yolo_dataset/labels/train/bio0014_frame0000308.txt  \n",
      "  inflating: yolo_dataset/labels/train/obj0348_frame0000184.txt  \n",
      "  inflating: yolo_dataset/labels/train/bio0002_frame0000202.txt  \n",
      "  inflating: yolo_dataset/labels/train/bio0004_frame0000440.txt  \n",
      "  inflating: yolo_dataset/labels/train/obj0312_frame0000051.txt  \n",
      "  inflating: yolo_dataset/labels/train/obj0350_frame0000028.txt  \n",
      "  inflating: yolo_dataset/labels/train/bio0002_frame0000564.txt  \n",
      "  inflating: yolo_dataset/labels/train/obj1648_frame0000291.txt  \n",
      "  inflating: yolo_dataset/labels/train/bio0002_frame0000570.txt  \n",
      "  inflating: yolo_dataset/labels/train/obj1648_frame0000285.txt  \n",
      "  inflating: yolo_dataset/labels/train/obj0312_frame0000045.txt  \n",
      "  inflating: yolo_dataset/labels/train/bio0004_frame0000454.txt  \n",
      "  inflating: yolo_dataset/labels/train/obj0204_frame0000009.txt  \n",
      "  inflating: yolo_dataset/labels/train/obj1667_frame0000222.txt  \n",
      "  inflating: yolo_dataset/labels/train/obj0348_frame0000190.txt  \n",
      "  inflating: yolo_dataset/labels/train/bio0002_frame0000216.txt  \n",
      "  inflating: yolo_dataset/labels/train/bio0016_frame0000177.txt  \n",
      "  inflating: yolo_dataset/labels/train/obj0760_frame0000183.txt  \n",
      "  inflating: yolo_dataset/labels/train/obj0312_frame0000044.txt  \n",
      "  inflating: yolo_dataset/labels/train/bio0000_frame0000055.txt  \n",
      "  inflating: yolo_dataset/labels/train/obj1617_frame0000096.txt  \n",
      "  inflating: yolo_dataset/labels/train/obj1616_frame0000037.txt  \n",
      "  inflating: yolo_dataset/labels/train/obj0348_frame0000191.txt  \n",
      "  inflating: yolo_dataset/labels/train/obj1024_frame0000128.txt  \n",
      "  inflating: yolo_dataset/labels/train/obj1629_frame0000082.txt  \n",
      "  inflating: yolo_dataset/labels/train/obj0348_frame0000185.txt  \n",
      "  inflating: yolo_dataset/labels/train/bio0010_frame0000047.txt  \n",
      "  inflating: yolo_dataset/labels/train/obj1617_frame0000082.txt  \n",
      "  inflating: yolo_dataset/labels/train/obj0350_frame0000029.txt  \n",
      "  inflating: yolo_dataset/labels/train/bio0000_frame0000069.txt  \n",
      "  inflating: yolo_dataset/labels/train/obj0007_frame0000034.txt  \n",
      "  inflating: yolo_dataset/labels/train/obj0214_frame0000032.txt  \n",
      "  inflating: yolo_dataset/labels/train/obj0333_frame0000051.txt  \n",
      "  inflating: yolo_dataset/labels/train/obj0340_frame0000007.txt  \n",
      "  inflating: yolo_dataset/labels/train/bio0004_frame0000469.txt  \n",
      "  inflating: yolo_dataset/labels/train/obj0017_frame0000032.txt  \n",
      "  inflating: yolo_dataset/labels/train/obj1654_frame0000066.txt  \n",
      "  inflating: yolo_dataset/labels/train/obj1657_frame0000285.txt  \n",
      "  inflating: yolo_dataset/labels/train/obj0340_frame0000013.txt  \n",
      "  inflating: yolo_dataset/labels/train/obj0214_frame0000026.txt  \n",
      "  inflating: yolo_dataset/labels/train/obj0007_frame0000020.txt  \n",
      "  inflating: yolo_dataset/labels/train/obj1505_frame0000177.txt  \n",
      "  inflating: yolo_dataset/labels/train/obj1617_frame0000055.txt  \n",
      "  inflating: yolo_dataset/labels/train/obj1658_frame0000527.txt  \n",
      "  inflating: yolo_dataset/labels/train/obj1523_frame0000030.txt  \n",
      "  inflating: yolo_dataset/labels/train/obj0313_frame0000026.txt  \n",
      "  inflating: yolo_dataset/labels/train/bio0017_frame0000115.txt  \n",
      "  inflating: yolo_dataset/labels/train/obj0348_frame0000152.txt  \n",
      "  inflating: yolo_dataset/labels/train/bio0001_frame0000037.txt  \n",
      "  inflating: yolo_dataset/labels/train/bio0013_frame0000273.txt  \n",
      "  inflating: yolo_dataset/labels/train/obj0747_frame0000059.txt  \n",
      "  inflating: yolo_dataset/labels/train/obj0009_frame0000051.txt  \n",
      "  inflating: yolo_dataset/labels/train/obj0348_frame0000146.txt  \n",
      "  inflating: yolo_dataset/labels/train/obj1629_frame0000041.txt  \n",
      "  inflating: yolo_dataset/labels/train/obj0313_frame0000032.txt  \n",
      "  inflating: yolo_dataset/labels/train/bio0015_frame0000343.txt  \n",
      "  inflating: yolo_dataset/labels/train/obj0248_frame0000028.txt  \n",
      "  inflating: yolo_dataset/labels/train/obj1505_frame0000188.txt  \n",
      "  inflating: yolo_dataset/labels/train/obj1617_frame0000041.txt  \n",
      "  inflating: yolo_dataset/labels/train/obj0871_frame0000106.txt  \n",
      "  inflating: yolo_dataset/labels/train/obj1617_frame0000069.txt  \n",
      "  inflating: yolo_dataset/labels/train/obj1626_frame0000046.txt  \n",
      "  inflating: yolo_dataset/labels/train/bio0018_frame0000106.txt  \n",
      "  inflating: yolo_dataset/labels/train/obj1672_frame0000109.txt  \n",
      "  inflating: yolo_dataset/labels/train/obj1284_frame0000017.txt  \n",
      "  inflating: yolo_dataset/labels/train/bio0015_frame0000419.txt  \n",
      "  inflating: yolo_dataset/labels/train/obj0332_frame0000027.txt  \n",
      "  inflating: yolo_dataset/labels/train/obj0747_frame0000065.txt  \n",
      "  inflating: yolo_dataset/labels/train/obj1626_frame0000052.txt  \n",
      "  inflating: yolo_dataset/labels/train/obj1655_frame0000004.txt  \n",
      "  inflating: yolo_dataset/labels/train/obj0871_frame0000112.txt  \n",
      "  inflating: yolo_dataset/labels/train/obj0248_frame0000014.txt  \n",
      "  inflating: yolo_dataset/labels/train/bio0014_frame0000137.txt  \n",
      "  inflating: yolo_dataset/labels/train/obj1663_frame0000347.txt  \n",
      "  inflating: yolo_dataset/labels/train/obj0310_frame0000004.txt  \n",
      "  inflating: yolo_dataset/labels/train/obj1667_frame0000021.txt  \n",
      "  inflating: yolo_dataset/labels/train/obj0309_frame0000109.txt  \n",
      "  inflating: yolo_dataset/labels/train/obj0300_frame0000016.txt  \n",
      "  inflating: yolo_dataset/labels/train/bio0004_frame0000125.txt  \n",
      "  inflating: yolo_dataset/labels/train/obj1505_frame0000349.txt  \n",
      "  inflating: yolo_dataset/labels/train/obj1654_frame0000258.txt  \n",
      "  inflating: yolo_dataset/labels/train/obj0331_frame0000039.txt  \n",
      "  inflating: yolo_dataset/labels/train/obj0310_frame0000010.txt  \n",
      "  inflating: yolo_dataset/labels/train/obj0309_frame0000135.txt  \n",
      "  inflating: yolo_dataset/labels/train/obj0310_frame0000038.txt  \n",
      "  inflating: yolo_dataset/labels/train/obj1250_frame0000026.txt  \n",
      "  inflating: yolo_dataset/labels/train/bio0016_frame0000349.txt  \n",
      "  inflating: yolo_dataset/labels/train/obj1202_frame0000059.txt  \n",
      "  inflating: yolo_dataset/labels/train/obj1658_frame0000902.txt  \n",
      "  inflating: yolo_dataset/labels/train/obj1658_frame0000916.txt  \n",
      "  inflating: yolo_dataset/labels/train/obj1281_frame0000111.txt  \n",
      "  inflating: yolo_dataset/labels/train/obj1108_frame0000028.txt  \n",
      "  inflating: yolo_dataset/labels/train/obj0309_frame0000121.txt  \n",
      "  inflating: yolo_dataset/labels/train/bio0013_frame0000071.txt  \n",
      "  inflating: yolo_dataset/labels/train/obj1664_frame0000201.txt  \n",
      "  inflating: yolo_dataset/labels/train/bio0017_frame0000317.txt  \n",
      "  inflating: yolo_dataset/labels/train/obj0343_frame0000019.txt  \n",
      "  inflating: yolo_dataset/labels/train/obj0762_frame0000100.txt  \n",
      "  inflating: yolo_dataset/labels/train/obj0301_frame0000060.txt  \n",
      "  inflating: yolo_dataset/labels/train/bio0000_frame0000294.txt  \n",
      "  inflating: yolo_dataset/labels/train/bio0003_frame0000077.txt  \n",
      "  inflating: yolo_dataset/labels/train/bio0000_frame0000280.txt  \n",
      "  inflating: yolo_dataset/labels/train/obj0226_frame0000017.txt  \n",
      "  inflating: yolo_dataset/labels/train/obj1663_frame0000390.txt  \n",
      "  inflating: yolo_dataset/labels/train/obj0014_frame0000038.txt  \n",
      "  inflating: yolo_dataset/labels/train/obj0343_frame0000025.txt  \n",
      "  inflating: yolo_dataset/labels/train/obj0708_frame0000067.txt  \n",
      "  inflating: yolo_dataset/labels/train/bio0015_frame0000169.txt  \n",
      "  inflating: yolo_dataset/labels/train/obj1502_frame0000227.txt  \n",
      "  inflating: yolo_dataset/labels/train/obj0236_frame0000039.txt  \n",
      "  inflating: yolo_dataset/labels/train/obj1502_frame0000233.txt  \n",
      "  inflating: yolo_dataset/labels/train/obj1042_frame0000056.txt  \n",
      "  inflating: yolo_dataset/labels/train/obj1657_frame0000044.txt  \n",
      "  inflating: yolo_dataset/labels/train/obj0343_frame0000031.txt  \n",
      "  inflating: yolo_dataset/labels/train/obj0301_frame0000048.txt  \n",
      "  inflating: yolo_dataset/labels/train/obj0221_frame0000031.txt  \n",
      "  inflating: yolo_dataset/labels/train/bio0001_frame0000382.txt  \n",
      "  inflating: yolo_dataset/labels/train/obj1505_frame0000229.txt  \n",
      "  inflating: yolo_dataset/labels/train/bio0016_frame0000201.txt  \n",
      "  inflating: yolo_dataset/labels/train/obj1602_frame0000021.txt  \n",
      "  inflating: yolo_dataset/labels/train/bio0004_frame0000051.txt  \n",
      "  inflating: yolo_dataset/labels/train/bio0016_frame0000215.txt  \n",
      "  inflating: yolo_dataset/labels/train/obj1602_frame0000035.txt  \n",
      "  inflating: yolo_dataset/labels/train/obj1658_frame0001598.txt  \n",
      "  inflating: yolo_dataset/labels/train/obj0309_frame0000069.txt  \n",
      "  inflating: yolo_dataset/labels/train/obj0221_frame0000025.txt  \n",
      "  inflating: yolo_dataset/labels/train/obj0309_frame0000041.txt  \n",
      "  inflating: yolo_dataset/labels/train/obj1246_frame0000070.txt  \n",
      "  inflating: yolo_dataset/labels/train/obj1111_frame0000045.txt  \n",
      "  inflating: yolo_dataset/labels/train/obj0002_frame0000085.txt  \n",
      "  inflating: yolo_dataset/labels/train/obj1502_frame0000390.txt  \n",
      "  inflating: yolo_dataset/labels/train/obj1505_frame0000215.txt  \n",
      "  inflating: yolo_dataset/labels/train/obj0337_frame0000041.txt  \n",
      "  inflating: yolo_dataset/labels/train/obj0319_frame0000047.txt  \n",
      "  inflating: yolo_dataset/labels/train/obj1505_frame0000201.txt  \n",
      "  inflating: yolo_dataset/labels/train/obj0319_frame0000053.txt  \n",
      "  inflating: yolo_dataset/labels/train/obj1502_frame0000384.txt  \n",
      "  inflating: yolo_dataset/labels/train/bio0016_frame0000229.txt  \n",
      "  inflating: yolo_dataset/labels/train/obj1297_frame0000147.txt  \n",
      "  inflating: yolo_dataset/labels/train/obj1602_frame0000009.txt  \n",
      "  inflating: yolo_dataset/labels/train/obj0002_frame0000091.txt  \n",
      "  inflating: yolo_dataset/labels/train/obj0309_frame0000055.txt  \n",
      "  inflating: yolo_dataset/labels/train/obj1246_frame0000064.txt  \n",
      "  inflating: yolo_dataset/labels/train/obj0221_frame0000019.txt  \n",
      "  inflating: yolo_dataset/labels/train/obj1667_frame0000196.txt  \n",
      "  inflating: yolo_dataset/labels/train/bio0001_frame0000341.txt  \n",
      "  inflating: yolo_dataset/labels/train/obj1006_frame0000057.txt  \n",
      "  inflating: yolo_dataset/labels/train/obj1603_frame0000043.txt  \n",
      "  inflating: yolo_dataset/labels/train/bio0015_frame0000021.txt  \n",
      "  inflating: yolo_dataset/labels/train/obj0307_frame0000024.txt  \n",
      "  inflating: yolo_dataset/labels/train/bio0001_frame0000355.txt  \n",
      "  inflating: yolo_dataset/labels/train/obj0317_frame0000022.txt  \n",
      "  inflating: yolo_dataset/labels/train/bio0018_frame0000270.txt  \n",
      "  inflating: yolo_dataset/labels/train/obj0865_frame0000110.txt  \n",
      "  inflating: yolo_dataset/labels/train/obj0318_frame0000025.txt  \n",
      "  inflating: yolo_dataset/labels/train/obj0309_frame0000082.txt  \n",
      "  inflating: yolo_dataset/labels/train/obj1502_frame0000353.txt  \n",
      "  inflating: yolo_dataset/labels/train/obj1502_frame0000347.txt  \n",
      "  inflating: yolo_dataset/labels/train/obj0309_frame0000096.txt  \n",
      "  inflating: yolo_dataset/labels/train/obj0002_frame0000052.txt  \n",
      "  inflating: yolo_dataset/labels/train/bio0018_frame0000264.txt  \n",
      "  inflating: yolo_dataset/labels/train/bio0004_frame0000247.txt  \n",
      "  inflating: yolo_dataset/labels/train/obj0304_frame0000012.txt  \n",
      "  inflating: yolo_dataset/labels/train/bio0000_frame0000121.txt  \n",
      "  inflating: yolo_dataset/labels/train/obj0314_frame0000014.txt  \n",
      "  inflating: yolo_dataset/labels/train/bio0002_frame0000363.txt  \n",
      "  inflating: yolo_dataset/labels/train/bio0015_frame0000586.txt  \n",
      "  inflating: yolo_dataset/labels/train/bio0014_frame0000255.txt  \n",
      "  inflating: yolo_dataset/labels/train/bio0010_frame0000133.txt  \n",
      "  inflating: yolo_dataset/labels/train/obj1283_frame0000019.txt  \n",
      "  inflating: yolo_dataset/labels/train/bio0002_frame0000411.txt  \n",
      "  inflating: yolo_dataset/labels/train/bio0000_frame0000135.txt  \n",
      "  inflating: yolo_dataset/labels/train/bio0011_frame0000192.txt  \n",
      "  inflating: yolo_dataset/labels/train/bio0004_frame0000253.txt  \n",
      "  inflating: yolo_dataset/labels/train/bio0012_frame0000359.txt  \n",
      "  inflating: yolo_dataset/labels/train/obj0749_frame0000148.txt  \n",
      "  inflating: yolo_dataset/labels/train/obj1502_frame0000192.txt  \n",
      "  inflating: yolo_dataset/labels/train/obj0314_frame0000028.txt  \n",
      "  inflating: yolo_dataset/labels/train/obj1502_frame0000186.txt  \n",
      "  inflating: yolo_dataset/labels/train/obj1667_frame0000419.txt  \n",
      "  inflating: yolo_dataset/labels/train/bio0000_frame0000109.txt  \n",
      "  inflating: yolo_dataset/labels/train/obj1255_frame0000068.txt  \n",
      "  inflating: yolo_dataset/labels/train/bio0001_frame0000143.txt  \n",
      "  inflating: yolo_dataset/labels/train/obj0348_frame0000026.txt  \n",
      "  inflating: yolo_dataset/labels/train/obj1648_frame0000455.txt  \n",
      "  inflating: yolo_dataset/labels/train/obj0241_frame0000057.txt  \n",
      "  inflating: yolo_dataset/labels/train/bio0001_frame0000157.txt  \n",
      "  inflating: yolo_dataset/labels/train/obj0348_frame0000032.txt  \n",
      "  inflating: yolo_dataset/labels/train/obj0789_frame0000027.txt  \n",
      "  inflating: yolo_dataset/labels/train/bio0015_frame0000551.txt  \n",
      "  inflating: yolo_dataset/labels/train/obj1502_frame0000179.txt  \n",
      "  inflating: yolo_dataset/labels/train/obj1502_frame0000151.txt  \n",
      "  inflating: yolo_dataset/labels/train/obj0000_frame0000006.txt  \n",
      "  inflating: yolo_dataset/labels/train/obj0760_frame0000008.txt  \n",
      "  inflating: yolo_dataset/labels/train/obj0334_frame0000063.txt  \n",
      "  inflating: yolo_dataset/labels/train/obj1658_frame0001017.txt  \n",
      "  inflating: yolo_dataset/labels/train/bio0018_frame0000072.txt  \n",
      "  inflating: yolo_dataset/labels/train/obj0305_frame0000058.txt  \n",
      "  inflating: yolo_dataset/labels/train/obj1218_frame0000016.txt  \n",
      "  inflating: yolo_dataset/labels/train/bio0003_frame0000329.txt  \n",
      "  inflating: yolo_dataset/labels/train/obj1502_frame0000145.txt  \n",
      "  inflating: yolo_dataset/labels/train/obj0348_frame0000018.txt  \n",
      "  inflating: yolo_dataset/labels/train/obj0347_frame0000037.txt  \n",
      "  inflating: yolo_dataset/labels/train/obj1664_frame0000149.txt  \n",
      "  inflating: yolo_dataset/labels/train/obj0334_frame0000061.txt  \n",
      "  inflating: yolo_dataset/labels/train/obj1502_frame0000147.txt  \n",
      "  inflating: yolo_dataset/labels/train/bio0015_frame0000209.txt  \n",
      "  inflating: yolo_dataset/labels/train/obj1218_frame0000014.txt  \n",
      "  inflating: yolo_dataset/labels/train/bio0001_frame0000169.txt  \n",
      "  inflating: yolo_dataset/labels/train/obj0789_frame0000019.txt  \n",
      "  inflating: yolo_dataset/labels/train/obj0305_frame0000072.txt  \n",
      "  inflating: yolo_dataset/labels/train/obj1061_frame0000161.txt  \n",
      "  inflating: yolo_dataset/labels/train/obj0348_frame0000024.txt  \n",
      "  inflating: yolo_dataset/labels/train/bio0001_frame0000141.txt  \n",
      "  inflating: yolo_dataset/labels/train/obj1672_frame0000057.txt  \n",
      "  inflating: yolo_dataset/labels/train/obj1284_frame0000149.txt  \n",
      "  inflating: yolo_dataset/labels/train/obj0000_frame0000038.txt  \n",
      "  inflating: yolo_dataset/labels/train/bio0004_frame0000286.txt  \n",
      "  inflating: yolo_dataset/labels/train/obj0334_frame0000049.txt  \n",
      "  inflating: yolo_dataset/labels/train/bio0015_frame0000235.txt  \n",
      "  inflating: yolo_dataset/labels/train/bio0004_frame0000292.txt  \n",
      "  inflating: yolo_dataset/labels/train/bio0018_frame0000058.txt  \n",
      "  inflating: yolo_dataset/labels/train/bio0017_frame0000077.txt  \n",
      "  inflating: yolo_dataset/labels/train/obj0348_frame0000030.txt  \n",
      "  inflating: yolo_dataset/labels/train/obj1648_frame0000443.txt  \n",
      "  inflating: yolo_dataset/labels/train/bio0001_frame0000155.txt  \n",
      "  inflating: yolo_dataset/labels/train/obj0241_frame0000055.txt  \n",
      "  inflating: yolo_dataset/labels/train/obj0304_frame0000038.txt  \n",
      "  inflating: yolo_dataset/labels/train/obj1652_frame0000034.txt  \n",
      "  inflating: yolo_dataset/labels/train/obj1076_frame0000009.txt  \n",
      "  inflating: yolo_dataset/labels/train/obj1656_frame0000434.txt  \n",
      "  inflating: yolo_dataset/labels/train/obj0314_frame0000016.txt  \n",
      "  inflating: yolo_dataset/labels/train/bio0011_frame0000184.txt  \n",
      "  inflating: yolo_dataset/labels/train/obj1655_frame0000199.txt  \n",
      "  inflating: yolo_dataset/labels/train/obj1505_frame0000029.txt  \n",
      "  inflating: yolo_dataset/labels/train/bio0016_frame0000001.txt  \n",
      "  inflating: yolo_dataset/labels/train/obj1662_frame0000086.txt  \n",
      "  inflating: yolo_dataset/labels/train/obj0011_frame0000048.txt  \n",
      "  inflating: yolo_dataset/labels/train/bio0000_frame0000137.txt  \n",
      "  inflating: yolo_dataset/labels/train/obj0212_frame0000048.txt  \n",
      "  inflating: yolo_dataset/labels/train/bio0002_frame0000375.txt  \n",
      "  inflating: yolo_dataset/labels/train/obj1502_frame0000351.txt  \n",
      "  inflating: yolo_dataset/labels/train/obj0309_frame0000080.txt  \n",
      "  inflating: yolo_dataset/labels/train/obj0318_frame0000027.txt  \n",
      "  inflating: yolo_dataset/labels/train/obj0317_frame0000008.txt  \n",
      "  inflating: yolo_dataset/labels/train/obj0865_frame0000112.txt  \n",
      "  inflating: yolo_dataset/labels/train/obj1657_frame0000126.txt  \n",
      "  inflating: yolo_dataset/labels/train/obj0002_frame0000044.txt  \n",
      "  inflating: yolo_dataset/labels/train/bio0017_frame0000249.txt  \n",
      "  inflating: yolo_dataset/labels/train/bio0018_frame0000266.txt  \n",
      "  inflating: yolo_dataset/labels/train/obj0002_frame0000050.txt  \n",
      "  inflating: yolo_dataset/labels/train/bio0002_frame0000188.txt  \n",
      "  inflating: yolo_dataset/labels/train/obj0309_frame0000094.txt  \n",
      "  inflating: yolo_dataset/labels/train/obj0865_frame0000106.txt  \n",
      "  inflating: yolo_dataset/labels/train/obj1502_frame0000345.txt  \n",
      "  inflating: yolo_dataset/labels/train/obj1648_frame0000133.txt  \n",
      "  inflating: yolo_dataset/labels/train/obj0307_frame0000032.txt  \n",
      "  inflating: yolo_dataset/labels/train/bio0003_frame0000101.txt  \n",
      "  inflating: yolo_dataset/labels/train/obj0753_frame0000059.txt  \n",
      "  inflating: yolo_dataset/labels/train/obj1038_frame0000055.txt  \n",
      "  inflating: yolo_dataset/labels/train/bio0004_frame0000084.txt  \n",
      "  inflating: yolo_dataset/labels/train/bio0017_frame0000261.txt  \n",
      "  inflating: yolo_dataset/labels/train/obj0002_frame0000078.txt  \n",
      "  inflating: yolo_dataset/labels/train/bio0015_frame0000745.txt  \n",
      "  inflating: yolo_dataset/labels/train/obj1006_frame0000055.txt  \n",
      "  inflating: yolo_dataset/labels/train/bio0013_frame0000107.txt  \n",
      "  inflating: yolo_dataset/labels/train/bio0001_frame0000343.txt  \n",
      "  inflating: yolo_dataset/labels/train/obj1658_frame0000135.txt  \n",
      "  inflating: yolo_dataset/labels/train/bio0013_frame0000113.txt  \n",
      "  inflating: yolo_dataset/labels/train/obj0317_frame0000020.txt  \n",
      "  inflating: yolo_dataset/labels/train/obj1502_frame0000379.txt  \n",
      "  inflating: yolo_dataset/labels/train/bio0004_frame0000090.txt  \n",
      "  inflating: yolo_dataset/labels/train/obj1648_frame0000127.txt  \n",
      "  inflating: yolo_dataset/labels/train/obj0243_frame0000015.txt  \n",
      "  inflating: yolo_dataset/labels/train/obj0337_frame0000043.txt  \n",
      "  inflating: yolo_dataset/labels/train/obj1505_frame0000217.txt  \n",
      "  inflating: yolo_dataset/labels/train/obj0319_frame0000045.txt  \n",
      "  inflating: yolo_dataset/labels/train/obj1281_frame0000073.txt  \n",
      "  inflating: yolo_dataset/labels/train/obj0002_frame0000087.txt  \n",
      "  inflating: yolo_dataset/labels/train/obj1111_frame0000047.txt  \n",
      "  inflating: yolo_dataset/labels/train/obj1246_frame0000072.txt  \n",
      "  inflating: yolo_dataset/labels/train/obj0309_frame0000043.txt  \n",
      "  inflating: yolo_dataset/labels/train/obj0002_frame0000093.txt  \n",
      "  inflating: yolo_dataset/labels/train/obj1502_frame0000386.txt  \n",
      "  inflating: yolo_dataset/labels/train/obj0319_frame0000051.txt  \n",
      "  inflating: yolo_dataset/labels/train/bio0000_frame0000309.txt  \n",
      "  inflating: yolo_dataset/labels/train/obj1602_frame0000023.txt  \n",
      "  inflating: yolo_dataset/labels/train/bio0016_frame0000203.txt  \n",
      "  inflating: yolo_dataset/labels/train/obj1202_frame0000113.txt  \n",
      "  inflating: yolo_dataset/labels/train/bio0012_frame0000165.txt  \n",
      "  inflating: yolo_dataset/labels/train/bio0011_frame0000386.txt  \n",
      "  inflating: yolo_dataset/labels/train/bio0001_frame0000380.txt  \n",
      "  inflating: yolo_dataset/labels/train/obj0221_frame0000033.txt  \n",
      "  inflating: yolo_dataset/labels/train/bio0014_frame0000055.txt  \n",
      "  inflating: yolo_dataset/labels/train/obj1024_frame0000248.txt  \n",
      "  inflating: yolo_dataset/labels/train/obj0221_frame0000027.txt  \n",
      "  inflating: yolo_dataset/labels/train/bio0001_frame0000394.txt  \n",
      "  inflating: yolo_dataset/labels/train/obj1602_frame0000037.txt  \n",
      "  inflating: yolo_dataset/labels/train/bio0016_frame0000217.txt  \n",
      "  inflating: yolo_dataset/labels/train/obj1502_frame0000225.txt  \n",
      "  inflating: yolo_dataset/labels/train/obj0753_frame0000111.txt  \n",
      "  inflating: yolo_dataset/labels/train/obj0343_frame0000027.txt  \n",
      "  inflating: yolo_dataset/labels/train/obj0343_frame0000033.txt  \n",
      "  inflating: yolo_dataset/labels/train/obj0226_frame0000029.txt  \n",
      "  inflating: yolo_dataset/labels/train/obj1655_frame0000204.txt  \n",
      "  inflating: yolo_dataset/labels/train/obj1502_frame0000231.txt  \n",
      "  inflating: yolo_dataset/labels/train/bio0000_frame0000296.txt  \n",
      "  inflating: yolo_dataset/labels/train/obj1502_frame0000219.txt  \n",
      "  inflating: yolo_dataset/labels/train/obj0226_frame0000015.txt  \n",
      "  inflating: yolo_dataset/labels/train/obj0753_frame0000139.txt  \n",
      "  inflating: yolo_dataset/labels/train/bio0000_frame0000282.txt  \n",
      "  inflating: yolo_dataset/labels/train/obj1251_frame0000085.txt  \n",
      "  inflating: yolo_dataset/labels/train/obj1111_frame0000133.txt  \n",
      "  inflating: yolo_dataset/labels/train/obj0331_frame0000013.txt  \n",
      "  inflating: yolo_dataset/labels/train/obj0309_frame0000137.txt  \n",
      "  inflating: yolo_dataset/labels/train/obj0309_frame0000123.txt  \n",
      "  inflating: yolo_dataset/labels/train/obj0300_frame0000028.txt  \n",
      "  inflating: yolo_dataset/labels/train/bio0015_frame0000194.txt  \n",
      "  inflating: yolo_dataset/labels/train/bio0016_frame0000377.txt  \n",
      "  inflating: yolo_dataset/labels/train/obj1030_frame0000048.txt  \n",
      "  inflating: yolo_dataset/labels/train/obj0865_frame0000099.txt  \n",
      "  inflating: yolo_dataset/labels/train/obj0310_frame0000006.txt  \n",
      "  inflating: yolo_dataset/labels/train/obj0310_frame0000012.txt  \n",
      "  inflating: yolo_dataset/labels/train/bio0002_frame0000003.txt  \n",
      "  inflating: yolo_dataset/labels/train/obj1107_frame0000039.txt  \n",
      "  inflating: yolo_dataset/labels/train/bio0012_frame0000005.txt  \n",
      "  inflating: yolo_dataset/labels/train/obj1658_frame0000928.txt  \n",
      "  inflating: yolo_dataset/labels/train/obj0300_frame0000014.txt  \n",
      "  inflating: yolo_dataset/labels/train/bio0016_frame0000363.txt  \n",
      "  inflating: yolo_dataset/labels/train/obj1202_frame0000073.txt  \n",
      "  inflating: yolo_dataset/labels/train/obj1284_frame0000001.txt  \n",
      "  inflating: yolo_dataset/labels/train/obj1658_frame0001161.txt  \n",
      "  inflating: yolo_dataset/labels/train/obj1626_frame0000044.txt  \n",
      "  inflating: yolo_dataset/labels/train/bio0001_frame0000009.txt  \n",
      "  inflating: yolo_dataset/labels/train/obj1648_frame0000279.txt  \n",
      "  inflating: yolo_dataset/labels/train/obj1087_frame0000001.txt  \n",
      "  inflating: yolo_dataset/labels/train/obj0248_frame0000002.txt  \n",
      "  inflating: yolo_dataset/labels/train/obj1294_frame0000007.txt  \n",
      "  inflating: yolo_dataset/labels/train/obj0871_frame0000104.txt  \n",
      "  inflating: yolo_dataset/labels/train/obj1087_frame0000015.txt  \n",
      "  inflating: yolo_dataset/labels/train/obj1033_frame0000042.txt  \n",
      "  inflating: yolo_dataset/labels/train/obj1626_frame0000050.txt  \n",
      "  inflating: yolo_dataset/labels/train/obj0748_frame0000048.txt  \n",
      "  inflating: yolo_dataset/labels/train/obj0348_frame0000178.txt  \n",
      "  inflating: yolo_dataset/labels/train/obj1626_frame0000078.txt  \n",
      "  inflating: yolo_dataset/labels/train/bio0001_frame0000035.txt  \n",
      "  inflating: yolo_dataset/labels/train/obj0009_frame0000047.txt  \n",
      "  inflating: yolo_dataset/labels/train/obj0348_frame0000150.txt  \n",
      "  inflating: yolo_dataset/labels/train/obj0313_frame0000024.txt  \n",
      "  inflating: yolo_dataset/labels/train/obj1523_frame0000032.txt  \n",
      "  inflating: yolo_dataset/labels/train/bio0015_frame0000355.txt  \n",
      "  inflating: yolo_dataset/labels/train/obj1617_frame0000057.txt  \n",
      "  inflating: yolo_dataset/labels/train/bio0003_frame0000277.txt  \n",
      "  inflating: yolo_dataset/labels/train/obj1617_frame0000043.txt  \n",
      "  inflating: yolo_dataset/labels/train/obj0332_frame0000019.txt  \n",
      "  inflating: yolo_dataset/labels/train/obj0313_frame0000030.txt  \n",
      "  inflating: yolo_dataset/labels/train/bio0013_frame0000265.txt  \n",
      "  inflating: yolo_dataset/labels/train/obj1658_frame0001149.txt  \n",
      "  inflating: yolo_dataset/labels/train/obj1629_frame0000043.txt  \n",
      "  inflating: yolo_dataset/labels/train/bio0001_frame0000021.txt  \n",
      "  inflating: yolo_dataset/labels/train/obj1658_frame0000257.txt  \n",
      "  inflating: yolo_dataset/labels/train/obj0348_frame0000144.txt  \n",
      "  inflating: yolo_dataset/labels/train/obj0009_frame0000053.txt  \n",
      "  inflating: yolo_dataset/labels/train/obj0017_frame0000030.txt  \n",
      "  inflating: yolo_dataset/labels/train/obj1283_frame0000147.txt  \n",
      "  inflating: yolo_dataset/labels/train/obj1616_frame0000009.txt  \n",
      "  inflating: yolo_dataset/labels/train/bio0016_frame0000149.txt  \n",
      "  inflating: yolo_dataset/labels/train/obj1202_frame0000259.txt  \n",
      "  inflating: yolo_dataset/labels/train/obj0333_frame0000053.txt  \n",
      "  inflating: yolo_dataset/labels/train/obj1505_frame0000161.txt  \n",
      "  inflating: yolo_dataset/labels/train/obj0007_frame0000036.txt  \n",
      "  inflating: yolo_dataset/labels/train/obj1505_frame0000175.txt  \n",
      "  inflating: yolo_dataset/labels/train/obj1656_frame0000226.txt  \n",
      "  inflating: yolo_dataset/labels/train/obj0007_frame0000022.txt  \n",
      "  inflating: yolo_dataset/labels/train/obj0350_frame0000017.txt  \n",
      "  inflating: yolo_dataset/labels/train/bio0004_frame0000319.txt  \n",
      "  inflating: yolo_dataset/labels/train/obj0340_frame0000011.txt  \n",
      "  inflating: yolo_dataset/labels/train/obj0017_frame0000024.txt  \n",
      "  inflating: yolo_dataset/labels/train/obj1616_frame0000035.txt  \n",
      "  inflating: yolo_dataset/labels/train/obj1617_frame0000094.txt  \n",
      "  inflating: yolo_dataset/labels/train/obj1003_frame0000027.txt  \n",
      "  inflating: yolo_dataset/labels/train/bio0000_frame0000057.txt  \n",
      "  inflating: yolo_dataset/labels/train/obj0312_frame0000046.txt  \n",
      "  inflating: yolo_dataset/labels/train/bio0016_frame0000175.txt  \n",
      "  inflating: yolo_dataset/labels/train/bio0004_frame0000331.txt  \n",
      "  inflating: yolo_dataset/labels/train/obj0312_frame0000052.txt  \n",
      "  inflating: yolo_dataset/labels/train/bio0016_frame0000161.txt  \n",
      "  inflating: yolo_dataset/labels/train/obj0214_frame0000018.txt  \n",
      "  inflating: yolo_dataset/labels/train/bio0004_frame0000325.txt  \n",
      "  inflating: yolo_dataset/labels/train/obj1617_frame0000080.txt  \n",
      "  inflating: yolo_dataset/labels/train/obj1505_frame0000149.txt  \n",
      "  inflating: yolo_dataset/labels/train/bio0002_frame0000567.txt  \n",
      "  inflating: yolo_dataset/labels/train/obj1658_frame0000294.txt  \n",
      "  inflating: yolo_dataset/labels/train/obj0348_frame0000187.txt  \n",
      "  inflating: yolo_dataset/labels/train/obj1667_frame0000235.txt  \n",
      "  inflating: yolo_dataset/labels/train/obj1629_frame0000080.txt  \n",
      "  inflating: yolo_dataset/labels/train/obj1616_frame0000021.txt  \n",
      "  inflating: yolo_dataset/labels/train/bio0004_frame0000443.txt  \n",
      "  inflating: yolo_dataset/labels/train/obj1505_frame0000148.txt  \n",
      "  inflating: yolo_dataset/labels/train/bio0015_frame0000383.txt  \n",
      "  inflating: yolo_dataset/labels/train/obj0312_frame0000053.txt  \n",
      "  inflating: yolo_dataset/labels/train/bio0002_frame0000200.txt  \n",
      "  inflating: yolo_dataset/labels/train/obj0348_frame0000186.txt  \n",
      "  inflating: yolo_dataset/labels/train/bio0002_frame0000214.txt  \n",
      "  inflating: yolo_dataset/labels/train/obj0348_frame0000192.txt  \n",
      "  inflating: yolo_dataset/labels/train/obj0760_frame0000180.txt  \n",
      "  inflating: yolo_dataset/labels/train/obj0312_frame0000047.txt  \n",
      "  inflating: yolo_dataset/labels/train/bio0012_frame0000212.txt  \n",
      "  inflating: yolo_dataset/labels/train/obj0007_frame0000023.txt  \n",
      "  inflating: yolo_dataset/labels/train/obj1505_frame0000174.txt  \n",
      "  inflating: yolo_dataset/labels/train/obj1656_frame0000541.txt  \n",
      "  inflating: yolo_dataset/labels/train/obj0340_frame0000010.txt  \n",
      "  inflating: yolo_dataset/labels/train/obj0204_frame0000023.txt  \n",
      "  inflating: yolo_dataset/labels/train/obj0204_frame0000037.txt  \n",
      "  inflating: yolo_dataset/labels/train/bio0002_frame0000228.txt  \n",
      "  inflating: yolo_dataset/labels/train/obj1654_frame0000071.txt  \n",
      "  inflating: yolo_dataset/labels/train/obj0017_frame0000031.txt  \n",
      "  inflating: yolo_dataset/labels/train/obj0007_frame0000037.txt  \n",
      "  inflating: yolo_dataset/labels/train/obj1505_frame0000160.txt  \n",
      "  inflating: yolo_dataset/labels/train/bio0003_frame0000289.txt  \n",
      "  inflating: yolo_dataset/labels/train/bio0000_frame0000081.txt  \n",
      "  inflating: yolo_dataset/labels/train/obj0009_frame0000052.txt  \n",
      "  inflating: yolo_dataset/labels/train/obj0348_frame0000145.txt  \n",
      "  inflating: yolo_dataset/labels/train/obj0856_frame0000020.txt  \n",
      "  inflating: yolo_dataset/labels/train/obj1672_frame0000136.txt  \n",
      "  inflating: yolo_dataset/labels/train/obj0313_frame0000031.txt  \n",
      "  inflating: yolo_dataset/labels/train/obj0332_frame0000018.txt  \n",
      "  inflating: yolo_dataset/labels/train/obj1672_frame0000122.txt  \n",
      "  inflating: yolo_dataset/labels/train/obj0009_frame0000046.txt  \n",
      "  inflating: yolo_dataset/labels/train/obj0856_frame0000034.txt  \n",
      "  inflating: yolo_dataset/labels/train/bio0010_frame0000093.txt  \n",
      "  inflating: yolo_dataset/labels/train/obj0748_frame0000061.txt  \n",
      "  inflating: yolo_dataset/labels/train/obj1629_frame0000056.txt  \n",
      "  inflating: yolo_dataset/labels/train/bio0013_frame0000270.txt  \n",
      "  inflating: yolo_dataset/labels/train/bio0000_frame0000095.txt  \n",
      "  inflating: yolo_dataset/labels/train/obj1658_frame0002333.txt  \n",
      "  inflating: yolo_dataset/labels/train/obj1523_frame0000033.txt  \n",
      "  inflating: yolo_dataset/labels/train/obj1658_frame0001612.txt  \n",
      "  inflating: yolo_dataset/labels/train/obj0248_frame0000017.txt  \n",
      "  inflating: yolo_dataset/labels/train/bio0018_frame0000111.txt  \n",
      "  inflating: yolo_dataset/labels/train/obj0332_frame0000024.txt  \n",
      "  inflating: yolo_dataset/labels/train/obj0747_frame0000066.txt  \n",
      "  inflating: yolo_dataset/labels/train/obj0348_frame0000179.txt  \n",
      "  inflating: yolo_dataset/labels/train/obj0332_frame0000030.txt  \n",
      "  inflating: yolo_dataset/labels/train/obj0248_frame0000003.txt  \n",
      "  inflating: yolo_dataset/labels/train/obj1050_frame0000007.txt  \n",
      "  inflating: yolo_dataset/labels/train/bio0010_frame0000246.txt  \n",
      "  inflating: yolo_dataset/labels/train/obj1667_frame0000036.txt  \n",
      "  inflating: yolo_dataset/labels/train/obj0310_frame0000013.txt  \n",
      "  inflating: yolo_dataset/labels/train/bio0016_frame0000404.txt  \n",
      "  inflating: yolo_dataset/labels/train/obj0300_frame0000015.txt  \n",
      "  inflating: yolo_dataset/labels/train/bio0000_frame0000240.txt  \n",
      "  inflating: yolo_dataset/labels/train/obj1656_frame0000019.txt  \n",
      "  inflating: yolo_dataset/labels/train/bio0000_frame0000254.txt  \n",
      "  inflating: yolo_dataset/labels/train/obj1202_frame0000066.txt  \n",
      "  inflating: yolo_dataset/labels/train/obj0310_frame0000007.txt  \n",
      "  inflating: yolo_dataset/labels/train/bio0016_frame0000438.txt  \n",
      "  inflating: yolo_dataset/labels/train/obj1657_frame0000084.txt  \n",
      "  inflating: yolo_dataset/labels/train/obj1107_frame0000004.txt  \n",
      "  inflating: yolo_dataset/labels/train/obj0309_frame0000122.txt  \n",
      "  inflating: yolo_dataset/labels/train/obj0300_frame0000029.txt  \n",
      "  inflating: yolo_dataset/labels/train/obj1281_frame0000106.txt  \n",
      "  inflating: yolo_dataset/labels/train/bio0000_frame0000268.txt  \n",
      "  inflating: yolo_dataset/labels/train/obj1107_frame0000010.txt  \n",
      "  inflating: yolo_dataset/labels/train/obj0226_frame0000014.txt  \n",
      "  inflating: yolo_dataset/labels/train/bio0017_frame0000300.txt  \n",
      "  inflating: yolo_dataset/labels/train/obj1660_frame0000170.txt  \n",
      "  inflating: yolo_dataset/labels/train/bio0013_frame0000066.txt  \n",
      "  inflating: yolo_dataset/labels/train/bio0001_frame0000222.txt  \n",
      "  inflating: yolo_dataset/labels/train/obj1617_frame0000240.txt  \n",
      "  inflating: yolo_dataset/labels/train/obj1617_frame0000254.txt  \n",
      "  inflating: yolo_dataset/labels/train/obj1658_frame0001438.txt  \n",
      "  inflating: yolo_dataset/labels/train/bio0003_frame0000074.txt  \n",
      "  inflating: yolo_dataset/labels/train/bio0015_frame0000630.txt  \n",
      "  inflating: yolo_dataset/labels/train/obj0301_frame0000063.txt  \n",
      "  inflating: yolo_dataset/labels/train/obj0865_frame0000073.txt  \n",
      "  inflating: yolo_dataset/labels/train/obj0226_frame0000028.txt  \n",
      "  inflating: yolo_dataset/labels/train/obj0343_frame0000032.txt  \n",
      "  inflating: yolo_dataset/labels/train/obj1502_frame0000230.txt  \n",
      "  inflating: yolo_dataset/labels/train/obj1251_frame0000053.txt  \n",
      "  inflating: yolo_dataset/labels/train/bio0011_frame0000218.txt  \n",
      "  inflating: yolo_dataset/labels/train/obj0708_frame0000064.txt  \n",
      "  inflating: yolo_dataset/labels/train/obj1502_frame0000224.txt  \n",
      "  inflating: yolo_dataset/labels/train/obj1251_frame0000047.txt  \n",
      "  inflating: yolo_dataset/labels/train/bio0016_frame0000389.txt  \n",
      "  inflating: yolo_dataset/labels/train/obj0343_frame0000026.txt  \n",
      "  inflating: yolo_dataset/labels/train/obj1667_frame0000142.txt  \n",
      "  inflating: yolo_dataset/labels/train/obj1663_frame0000224.txt  \n",
      "  inflating: yolo_dataset/labels/train/obj1016_frame0000085.txt  \n",
      "  inflating: yolo_dataset/labels/train/obj1602_frame0000036.txt  \n",
      "  inflating: yolo_dataset/labels/train/bio0012_frame0000170.txt  \n",
      "  inflating: yolo_dataset/labels/train/obj1602_frame0000022.txt  \n",
      "  inflating: yolo_dataset/labels/train/bio0014_frame0000040.txt  \n",
      "  inflating: yolo_dataset/labels/train/bio0002_frame0000162.txt  \n",
      "  inflating: yolo_dataset/labels/train/obj0002_frame0000092.txt  \n",
      "  inflating: yolo_dataset/labels/train/obj1654_frame0000313.txt  \n",
      "  inflating: yolo_dataset/labels/train/bio0000_frame0000308.txt  \n",
      "  inflating: yolo_dataset/labels/train/obj1505_frame0000202.txt  \n",
      "  inflating: yolo_dataset/labels/train/obj1658_frame0000861.txt  \n",
      "  inflating: yolo_dataset/labels/train/obj1502_frame0000387.txt  \n",
      "  inflating: yolo_dataset/labels/train/obj1654_frame0000461.txt  \n",
      "  inflating: yolo_dataset/labels/train/obj0319_frame0000044.txt  \n",
      "  inflating: yolo_dataset/labels/train/obj1505_frame0000216.txt  \n",
      "  inflating: yolo_dataset/labels/train/obj0309_frame0000042.txt  \n",
      "  inflating: yolo_dataset/labels/train/obj1246_frame0000073.txt  \n",
      "  inflating: yolo_dataset/labels/train/obj1024_frame0000261.txt  \n",
      "  inflating: yolo_dataset/labels/train/obj0002_frame0000086.txt  \n",
      "  inflating: yolo_dataset/labels/train/bio0015_frame0000750.txt  \n",
      "  inflating: yolo_dataset/labels/train/bio0014_frame0000097.txt  \n",
      "  inflating: yolo_dataset/labels/train/obj0243_frame0000014.txt  \n",
      "  inflating: yolo_dataset/labels/train/bio0015_frame0000036.txt  \n",
      "  inflating: yolo_dataset/labels/train/obj1502_frame0000378.txt  \n",
      "  inflating: yolo_dataset/labels/train/obj1663_frame0000581.txt  \n",
      "  inflating: yolo_dataset/labels/train/bio0011_frame0000344.txt  \n",
      "  inflating: yolo_dataset/labels/train/obj0747_frame0000338.txt  \n",
      "  inflating: yolo_dataset/labels/train/bio0011_frame0000422.txt  \n",
      "  inflating: yolo_dataset/labels/train/obj1006_frame0000054.txt  \n",
      "  inflating: yolo_dataset/labels/train/obj1672_frame0000254.txt  \n",
      "  inflating: yolo_dataset/labels/train/obj0309_frame0000095.txt  \n",
      "  inflating: yolo_dataset/labels/train/obj0002_frame0000051.txt  \n",
      "  inflating: yolo_dataset/labels/train/obj1502_frame0000344.txt  \n",
      "  inflating: yolo_dataset/labels/train/bio0003_frame0000128.txt  \n",
      "  inflating: yolo_dataset/labels/train/obj0243_frame0000028.txt  \n",
      "  inflating: yolo_dataset/labels/train/obj0308_frame0000020.txt  \n",
      "  inflating: yolo_dataset/labels/train/bio0001_frame0000418.txt  \n",
      "  inflating: yolo_dataset/labels/train/bio0011_frame0000378.txt  \n",
      "  inflating: yolo_dataset/labels/train/obj1224_frame0000041.txt  \n",
      "  inflating: yolo_dataset/labels/train/obj1054_frame0000017.txt  \n",
      "  inflating: yolo_dataset/labels/train/obj0753_frame0000064.txt  \n",
      "  inflating: yolo_dataset/labels/train/obj1006_frame0000068.txt  \n",
      "  inflating: yolo_dataset/labels/train/obj0317_frame0000009.txt  \n",
      "  inflating: yolo_dataset/labels/train/obj0318_frame0000026.txt  \n",
      "  inflating: yolo_dataset/labels/train/obj0309_frame0000081.txt  \n",
      "  inflating: yolo_dataset/labels/train/obj0011_frame0000049.txt  \n",
      "  inflating: yolo_dataset/labels/train/bio0004_frame0000250.txt  \n",
      "  inflating: yolo_dataset/labels/train/bio0015_frame0000591.txt  \n",
      "  inflating: yolo_dataset/labels/train/bio0012_frame0000414.txt  \n",
      "  inflating: yolo_dataset/labels/train/bio0001_frame0000183.txt  \n",
      "  inflating: yolo_dataset/labels/train/obj0314_frame0000017.txt  \n",
      "  inflating: yolo_dataset/labels/train/bio0002_frame0000360.txt  \n",
      "  inflating: yolo_dataset/labels/train/obj1672_frame0000095.txt  \n",
      "  inflating: yolo_dataset/labels/train/bio0004_frame0000244.txt  \n",
      "  inflating: yolo_dataset/labels/train/obj0750_frame0000052.txt  \n",
      "  inflating: yolo_dataset/labels/train/obj1502_frame0000185.txt  \n",
      "  inflating: yolo_dataset/labels/train/obj0304_frame0000039.txt  \n",
      "  inflating: yolo_dataset/labels/train/bio0017_frame0000089.txt  \n",
      "  inflating: yolo_dataset/labels/train/obj0702_frame0000039.txt  \n",
      "  inflating: yolo_dataset/labels/train/bio0010_frame0000118.txt  \n",
      "  inflating: yolo_dataset/labels/train/obj1656_frame0000347.txt  \n",
      "  inflating: yolo_dataset/labels/train/obj1648_frame0000324.txt  \n",
      "  inflating: yolo_dataset/labels/train/obj0334_frame0000048.txt  \n",
      "  inflating: yolo_dataset/labels/train/obj1658_frame0001982.txt  \n",
      "  inflating: yolo_dataset/labels/train/obj1218_frame0000029.txt  \n",
      "  inflating: yolo_dataset/labels/train/obj1617_frame0000136.txt  \n",
      "  inflating: yolo_dataset/labels/train/bio0003_frame0000316.txt  \n",
      "  inflating: yolo_dataset/labels/train/obj0241_frame0000054.txt  \n",
      "  inflating: yolo_dataset/labels/train/obj0348_frame0000031.txt  \n",
      "  inflating: yolo_dataset/labels/train/obj0305_frame0000067.txt  \n",
      "  inflating: yolo_dataset/labels/train/obj0789_frame0000024.txt  \n",
      "  inflating: yolo_dataset/labels/train/obj0713_frame0000061.txt  \n",
      "  inflating: yolo_dataset/labels/train/obj0789_frame0000030.txt  \n",
      "  inflating: yolo_dataset/labels/train/bio0015_frame0000546.txt  \n",
      "  inflating: yolo_dataset/labels/train/obj0241_frame0000040.txt  \n",
      "  inflating: yolo_dataset/labels/train/obj1658_frame0001028.txt  \n",
      "  inflating: yolo_dataset/labels/train/obj0348_frame0000025.txt  \n",
      "  inflating: yolo_dataset/labels/train/obj1617_frame0000122.txt  \n",
      "  inflating: yolo_dataset/labels/train/obj1658_frame0002247.txt  \n",
      "  inflating: yolo_dataset/labels/train/obj0000_frame0000039.txt  \n",
      "  inflating: yolo_dataset/labels/train/obj1218_frame0000015.txt  \n",
      "  inflating: yolo_dataset/labels/train/obj1255_frame0000043.txt  \n",
      "  inflating: yolo_dataset/labels/train/obj1502_frame0000146.txt  \n",
      "  inflating: yolo_dataset/labels/train/obj0000_frame0000011.txt  \n",
      "  inflating: yolo_dataset/labels/train/obj0241_frame0000068.txt  \n",
      "  inflating: yolo_dataset/labels/train/obj0347_frame0000022.txt  \n",
      "  inflating: yolo_dataset/labels/train/obj0348_frame0000019.txt  \n",
      "  inflating: yolo_dataset/labels/train/obj1502_frame0000152.txt  \n",
      "  inflating: yolo_dataset/labels/train/obj1218_frame0000001.txt  \n",
      "  inflating: yolo_dataset/labels/train/bio0001_frame0000127.txt  \n",
      "  inflating: yolo_dataset/labels/train/obj1648_frame0000431.txt  \n",
      "  inflating: yolo_dataset/labels/train/obj0348_frame0000042.txt  \n",
      "  inflating: yolo_dataset/labels/train/obj1502_frame0000109.txt  \n",
      "  inflating: yolo_dataset/labels/train/obj0760_frame0000044.txt  \n",
      "  inflating: yolo_dataset/labels/train/obj1505_frame0000098.txt  \n",
      "  inflating: yolo_dataset/labels/train/bio0001_frame0000133.txt  \n",
      "  inflating: yolo_dataset/labels/train/bio0010_frame0000194.txt  \n",
      "  inflating: yolo_dataset/labels/train/obj0348_frame0000056.txt  \n",
      "  inflating: yolo_dataset/labels/train/obj1061_frame0000113.txt  \n",
      "  inflating: yolo_dataset/labels/train/bio0015_frame0000535.txt  \n",
      "  inflating: yolo_dataset/labels/train/obj0347_frame0000051.txt  \n",
      "  inflating: yolo_dataset/labels/train/obj1284_frame0000113.txt  \n",
      "  inflating: yolo_dataset/labels/train/obj1502_frame0000135.txt  \n",
      "  inflating: yolo_dataset/labels/train/obj1655_frame0000100.txt  \n",
      "  inflating: yolo_dataset/labels/train/obj0334_frame0000007.txt  \n",
      "  inflating: yolo_dataset/labels/train/obj0334_frame0000013.txt  \n",
      "  inflating: yolo_dataset/labels/train/obj1502_frame0000121.txt  \n",
      "  inflating: yolo_dataset/labels/train/obj0751_frame0000057.txt  \n",
      "  inflating: yolo_dataset/labels/train/bio0004_frame0000223.txt  \n",
      "  inflating: yolo_dataset/labels/train/obj0749_frame0000110.txt  \n",
      "  inflating: yolo_dataset/labels/train/bio0000_frame0000145.txt  \n",
      "  inflating: yolo_dataset/labels/train/obj1617_frame0000186.txt  \n",
      "  inflating: yolo_dataset/labels/train/obj0749_frame0000104.txt  \n",
      "  inflating: yolo_dataset/labels/train/bio0000_frame0000151.txt  \n",
      "  inflating: yolo_dataset/labels/train/obj1617_frame0000192.txt  \n",
      "  inflating: yolo_dataset/labels/train/bio0016_frame0000073.txt  \n",
      "  inflating: yolo_dataset/labels/train/bio0010_frame0000157.txt  \n",
      "  inflating: yolo_dataset/labels/train/obj0348_frame0000095.txt  \n",
      "  inflating: yolo_dataset/labels/train/bio0014_frame0000219.txt  \n",
      "  inflating: yolo_dataset/labels/train/obj0347_frame0000092.txt  \n",
      "  inflating: yolo_dataset/labels/train/obj1505_frame0000073.txt  \n",
      "  inflating: yolo_dataset/labels/train/obj0202_frame0000014.txt  \n",
      "  inflating: yolo_dataset/labels/train/obj1505_frame0000067.txt  \n",
      "  inflating: yolo_dataset/labels/train/bio0012_frame0000329.txt  \n",
      "  inflating: yolo_dataset/labels/train/obj0347_frame0000086.txt  \n",
      "  inflating: yolo_dataset/labels/train/obj1602_frame0000086.txt  \n",
      "  inflating: yolo_dataset/labels/train/bio0003_frame0000167.txt  \n",
      "  inflating: yolo_dataset/labels/train/obj0317_frame0000052.txt  \n",
      "  inflating: yolo_dataset/labels/train/bio0013_frame0000161.txt  \n",
      "  inflating: yolo_dataset/labels/train/bio0011_frame0000445.txt  \n",
      "  inflating: yolo_dataset/labels/train/obj1006_frame0000033.txt  \n",
      "  inflating: yolo_dataset/labels/train/obj1660_frame0000063.txt  \n",
      "  inflating: yolo_dataset/labels/train/obj0317_frame0000046.txt  \n",
      "  inflating: yolo_dataset/labels/train/obj1658_frame0001259.txt  \n",
      "  inflating: yolo_dataset/labels/train/bio0003_frame0000173.txt  \n",
      "  inflating: yolo_dataset/labels/train/obj1502_frame0000337.txt  \n",
      "  inflating: yolo_dataset/labels/train/obj0002_frame0000022.txt  \n",
      "  inflating: yolo_dataset/labels/train/obj1280_frame0000077.txt  \n",
      "  inflating: yolo_dataset/labels/train/bio0018_frame0000200.txt  \n",
      "  inflating: yolo_dataset/labels/train/obj0002_frame0000036.txt  \n",
      "  inflating: yolo_dataset/labels/train/obj0784_frame0000010.txt  \n",
      "  inflating: yolo_dataset/labels/train/bio0002_frame0000663.txt  \n",
      "  inflating: yolo_dataset/labels/train/obj1281_frame0000029.txt  \n",
      "  inflating: yolo_dataset/labels/train/bio0016_frame0000265.txt  \n",
      "  inflating: yolo_dataset/labels/train/obj1602_frame0000045.txt  \n",
      "  inflating: yolo_dataset/labels/train/bio0016_frame0000503.txt  \n",
      "  inflating: yolo_dataset/labels/train/obj0309_frame0000019.txt  \n",
      "  inflating: yolo_dataset/labels/train/obj0221_frame0000041.txt  \n",
      "  inflating: yolo_dataset/labels/train/obj1074_frame0000013.txt  \n",
      "  inflating: yolo_dataset/labels/train/bio0016_frame0000271.txt  \n",
      "  inflating: yolo_dataset/labels/train/obj1602_frame0000051.txt  \n",
      "  inflating: yolo_dataset/labels/train/bio0015_frame0000092.txt  \n",
      "  inflating: yolo_dataset/labels/train/bio0004_frame0000035.txt  \n",
      "  inflating: yolo_dataset/labels/train/obj1505_frame0000259.txt  \n",
      "  inflating: yolo_dataset/labels/train/obj1602_frame0000079.txt  \n",
      "  inflating: yolo_dataset/labels/train/obj0319_frame0000023.txt  \n",
      "  inflating: yolo_dataset/labels/train/obj0337_frame0000025.txt  \n",
      "  inflating: yolo_dataset/labels/train/obj1505_frame0000271.txt  \n",
      "  inflating: yolo_dataset/labels/train/obj1658_frame0000812.txt  \n",
      "  inflating: yolo_dataset/labels/train/obj1281_frame0000015.txt  \n",
      "  inflating: yolo_dataset/labels/train/obj1654_frame0000360.txt  \n",
      "  inflating: yolo_dataset/labels/train/obj0309_frame0000025.txt  \n",
      "  inflating: yolo_dataset/labels/train/obj1111_frame0000021.txt  \n",
      "  inflating: yolo_dataset/labels/train/obj1654_frame0000374.txt  \n",
      "  inflating: yolo_dataset/labels/train/obj0319_frame0000037.txt  \n",
      "  inflating: yolo_dataset/labels/train/obj1505_frame0000265.txt  \n",
      "  inflating: yolo_dataset/labels/train/obj0337_frame0000031.txt  \n",
      "  inflating: yolo_dataset/labels/train/obj1281_frame0000001.txt  \n",
      "  inflating: yolo_dataset/labels/train/obj1663_frame0000519.txt  \n",
      "  inflating: yolo_dataset/labels/train/obj1663_frame0000486.txt  \n",
      "  inflating: yolo_dataset/labels/train/bio0004_frame0000196.txt  \n",
      "  inflating: yolo_dataset/labels/train/obj0707_frame0000010.txt  \n",
      "  inflating: yolo_dataset/labels/train/obj0014_frame0000048.txt  \n",
      "  inflating: yolo_dataset/labels/train/bio0013_frame0000015.txt  \n",
      "  inflating: yolo_dataset/labels/train/obj0301_frame0000004.txt  \n",
      "  inflating: yolo_dataset/labels/train/obj0226_frame0000067.txt  \n",
      "  inflating: yolo_dataset/labels/train/obj0301_frame0000010.txt  \n",
      "  inflating: yolo_dataset/labels/train/obj1667_frame0000092.txt  \n",
      "  inflating: yolo_dataset/labels/train/obj1656_frame0000095.txt  \n",
      "  inflating: yolo_dataset/labels/train/obj1502_frame0000243.txt  \n",
      "  inflating: yolo_dataset/labels/train/obj1054_frame0000104.txt  \n",
      "  inflating: yolo_dataset/labels/train/obj0301_frame0000038.txt  \n",
      "  inflating: yolo_dataset/labels/train/bio0016_frame0000488.txt  \n",
      "  inflating: yolo_dataset/labels/train/obj1657_frame0000034.txt  \n",
      "  inflating: yolo_dataset/labels/train/obj1664_frame0000259.txt  \n",
      "  inflating: yolo_dataset/labels/train/obj1280_frame0000117.txt  \n",
      "  inflating: yolo_dataset/labels/train/obj0236_frame0000049.txt  \n",
      "  inflating: yolo_dataset/labels/train/obj1502_frame0000257.txt  \n",
      "  inflating: yolo_dataset/labels/train/obj0708_frame0000017.txt  \n",
      "  inflating: yolo_dataset/labels/train/obj1505_frame0000339.txt  \n",
      "  inflating: yolo_dataset/labels/train/bio0012_frame0000077.txt  \n",
      "  inflating: yolo_dataset/labels/train/bio0001_frame0000292.txt  \n",
      "  inflating: yolo_dataset/labels/train/bio0001_frame0000286.txt  \n",
      "  inflating: yolo_dataset/labels/train/bio0016_frame0000305.txt  \n",
      "  inflating: yolo_dataset/labels/train/obj1663_frame0000479.txt  \n",
      "  inflating: yolo_dataset/labels/train/obj0228_frame0000016.txt  \n",
      "  inflating: yolo_dataset/labels/train/obj1030_frame0000012.txt  \n",
      "  inflating: yolo_dataset/labels/train/obj1505_frame0000305.txt  \n",
      "  inflating: yolo_dataset/labels/train/obj1108_frame0000058.txt  \n",
      "  inflating: yolo_dataset/labels/train/obj1107_frame0000077.txt  \n",
      "  inflating: yolo_dataset/labels/train/obj0310_frame0000048.txt  \n",
      "  inflating: yolo_dataset/labels/train/obj1654_frame0000200.txt  \n",
      "  inflating: yolo_dataset/labels/train/obj1107_frame0000063.txt  \n",
      "  inflating: yolo_dataset/labels/train/obj1505_frame0000311.txt  \n",
      "  inflating: yolo_dataset/labels/train/obj1502_frame0000294.txt  \n",
      "  inflating: yolo_dataset/labels/train/obj0228_frame0000002.txt  \n",
      "  inflating: yolo_dataset/labels/train/bio0016_frame0000339.txt  \n",
      "  inflating: yolo_dataset/labels/train/obj0313_frame0000042.txt  \n",
      "  inflating: yolo_dataset/labels/train/obj1672_frame0000145.txt  \n",
      "  inflating: yolo_dataset/labels/train/obj1616_frame0000090.txt  \n",
      "  inflating: yolo_dataset/labels/train/obj1629_frame0000031.txt  \n",
      "  inflating: yolo_dataset/labels/train/obj0009_frame0000021.txt  \n",
      "  inflating: yolo_dataset/labels/train/obj1617_frame0000031.txt  \n",
      "  inflating: yolo_dataset/labels/train/obj0248_frame0000058.txt  \n",
      "  inflating: yolo_dataset/labels/train/obj1523_frame0000040.txt  \n",
      "  inflating: yolo_dataset/labels/train/obj1648_frame0000237.txt  \n",
      "  inflating: yolo_dataset/labels/train/obj1617_frame0000025.txt  \n",
      "  inflating: yolo_dataset/labels/train/obj1616_frame0000084.txt  \n",
      "  inflating: yolo_dataset/labels/train/obj0009_frame0000035.txt  \n",
      "  inflating: yolo_dataset/labels/train/obj0348_frame0000122.txt  \n",
      "  inflating: yolo_dataset/labels/train/bio0001_frame0000047.txt  \n",
      "  inflating: yolo_dataset/labels/train/obj0313_frame0000056.txt  \n",
      "  inflating: yolo_dataset/labels/train/obj1672_frame0000151.txt  \n",
      "  inflating: yolo_dataset/labels/train/obj1626_frame0000022.txt  \n",
      "  inflating: yolo_dataset/labels/train/bio0018_frame0000162.txt  \n",
      "  inflating: yolo_dataset/labels/train/obj0332_frame0000057.txt  \n",
      "  inflating: yolo_dataset/labels/train/bio0015_frame0000469.txt  \n",
      "  inflating: yolo_dataset/labels/train/obj0248_frame0000064.txt  \n",
      "  inflating: yolo_dataset/labels/train/obj1282_frame0000157.txt  \n",
      "  inflating: yolo_dataset/labels/train/bio0003_frame0000239.txt  \n",
      "  inflating: yolo_dataset/labels/train/obj1617_frame0000019.txt  \n",
      "  inflating: yolo_dataset/labels/train/obj0248_frame0000070.txt  \n",
      "  inflating: yolo_dataset/labels/train/bio0018_frame0000176.txt  \n",
      "  inflating: yolo_dataset/labels/train/obj0332_frame0000043.txt  \n",
      "  inflating: yolo_dataset/labels/train/obj1626_frame0000036.txt  \n",
      "  inflating: yolo_dataset/labels/train/obj0747_frame0000001.txt  \n",
      "  inflating: yolo_dataset/labels/train/obj0009_frame0000009.txt  \n",
      "  inflating: yolo_dataset/labels/train/obj1023_frame0000022.txt  \n",
      "  inflating: yolo_dataset/labels/train/obj1616_frame0000053.txt  \n",
      "  inflating: yolo_dataset/labels/train/bio0002_frame0000273.txt  \n",
      "  inflating: yolo_dataset/labels/train/obj0350_frame0000059.txt  \n",
      "  inflating: yolo_dataset/labels/train/bio0016_frame0000113.txt  \n",
      "  inflating: yolo_dataset/labels/train/obj0333_frame0000009.txt  \n",
      "  inflating: yolo_dataset/labels/train/obj1662_frame0000180.txt  \n",
      "  inflating: yolo_dataset/labels/train/obj0749_frame0000064.txt  \n",
      "  inflating: yolo_dataset/labels/train/bio0000_frame0000031.txt  \n",
      "  inflating: yolo_dataset/labels/train/obj0749_frame0000070.txt  \n",
      "  inflating: yolo_dataset/labels/train/obj1658_frame0001852.txt  \n",
      "  inflating: yolo_dataset/labels/train/bio0000_frame0000025.txt  \n",
      "  inflating: yolo_dataset/labels/train/bio0016_frame0000107.txt  \n",
      "  inflating: yolo_dataset/labels/train/obj1297_frame0000269.txt  \n",
      "  inflating: yolo_dataset/labels/train/obj0312_frame0000034.txt  \n",
      "  inflating: yolo_dataset/labels/train/bio0004_frame0000343.txt  \n",
      "  inflating: yolo_dataset/labels/train/obj1658_frame0002383.txt  \n",
      "  inflating: yolo_dataset/labels/train/obj1616_frame0000047.txt  \n",
      "  inflating: yolo_dataset/labels/train/bio0002_frame0000267.txt  \n",
      "  inflating: yolo_dataset/labels/train/obj1654_frame0000016.txt  \n",
      "  inflating: yolo_dataset/labels/train/obj1505_frame0000107.txt  \n",
      "  inflating: yolo_dataset/labels/train/bio0012_frame0000249.txt  \n",
      "  inflating: yolo_dataset/labels/train/obj0350_frame0000065.txt  \n",
      "  inflating: yolo_dataset/labels/train/obj0350_frame0000071.txt  \n",
      "  inflating: yolo_dataset/labels/train/obj1502_frame0000096.txt  \n",
      "  inflating: yolo_dataset/labels/train/obj1505_frame0000113.txt  \n",
      "  inflating: yolo_dataset/labels/train/bio0000_frame0000019.txt  \n",
      "  inflating: yolo_dataset/labels/train/obj0332_frame0000080.txt  \n",
      "  inflating: yolo_dataset/labels/train/obj1505_frame0000112.txt  \n",
      "  inflating: yolo_dataset/labels/train/obj1502_frame0000097.txt  \n",
      "  inflating: yolo_dataset/labels/train/obj0312_frame0000009.txt  \n",
      "  inflating: yolo_dataset/labels/train/obj0350_frame0000070.txt  \n",
      "  inflating: yolo_dataset/labels/train/obj1024_frame0000165.txt  \n",
      "  inflating: yolo_dataset/labels/train/obj1051_frame0000003.txt  \n",
      "  inflating: yolo_dataset/labels/train/bio0002_frame0000528.txt  \n",
      "  inflating: yolo_dataset/labels/train/obj1505_frame0000106.txt  \n",
      "  inflating: yolo_dataset/labels/train/obj1662_frame0000195.txt  \n",
      "  inflating: yolo_dataset/labels/train/obj0312_frame0000035.txt  \n",
      "  inflating: yolo_dataset/labels/train/obj1667_frame0000252.txt  \n",
      "  inflating: yolo_dataset/labels/train/obj1024_frame0000159.txt  \n",
      "  inflating: yolo_dataset/labels/train/bio0004_frame0000424.txt  \n",
      "  inflating: yolo_dataset/labels/train/bio0004_frame0000430.txt  \n",
      "  inflating: yolo_dataset/labels/train/obj1672_frame0000187.txt  \n",
      "  inflating: yolo_dataset/labels/train/bio0001_frame0000091.txt  \n",
      "  inflating: yolo_dataset/labels/train/obj0312_frame0000021.txt  \n",
      "  inflating: yolo_dataset/labels/train/obj0350_frame0000058.txt  \n",
      "  inflating: yolo_dataset/labels/train/obj0248_frame0000071.txt  \n",
      "  inflating: yolo_dataset/labels/train/obj1033_frame0000025.txt  \n",
      "  inflating: yolo_dataset/labels/train/obj0009_frame0000008.txt  \n",
      "  inflating: yolo_dataset/labels/train/obj1658_frame0001112.txt  \n",
      "  inflating: yolo_dataset/labels/train/obj1284_frame0000072.txt  \n",
      "  inflating: yolo_dataset/labels/train/obj0332_frame0000042.txt  \n",
      "  inflating: yolo_dataset/labels/train/bio0017_frame0000158.txt  \n",
      "  inflating: yolo_dataset/labels/train/obj0332_frame0000056.txt  \n",
      "  inflating: yolo_dataset/labels/train/obj0248_frame0000065.txt  \n",
      "  inflating: yolo_dataset/labels/train/obj1523_frame0000041.txt  \n",
      "  inflating: yolo_dataset/labels/train/obj0313_frame0000057.txt  \n",
      "  inflating: yolo_dataset/labels/train/obj0856_frame0000046.txt  \n",
      "  inflating: yolo_dataset/labels/train/obj0348_frame0000123.txt  \n",
      "  inflating: yolo_dataset/labels/train/obj0009_frame0000034.txt  \n",
      "  inflating: yolo_dataset/labels/train/obj1629_frame0000024.txt  \n",
      "  inflating: yolo_dataset/labels/train/obj1667_frame0000285.txt  \n",
      "  inflating: yolo_dataset/labels/train/obj0009_frame0000020.txt  \n",
      "  inflating: yolo_dataset/labels/train/obj0348_frame0000137.txt  \n",
      "  inflating: yolo_dataset/labels/train/bio0013_frame0000216.txt  \n",
      "  inflating: yolo_dataset/labels/train/obj0313_frame0000043.txt  \n",
      "  inflating: yolo_dataset/labels/train/obj0248_frame0000059.txt  \n",
      "  inflating: yolo_dataset/labels/train/obj1648_frame0000222.txt  \n",
      "  inflating: yolo_dataset/labels/train/obj0310_frame0000049.txt  \n",
      "  inflating: yolo_dataset/labels/train/obj0228_frame0000003.txt  \n",
      "  inflating: yolo_dataset/labels/train/obj1502_frame0000295.txt  \n",
      "  inflating: yolo_dataset/labels/train/obj1505_frame0000310.txt  \n",
      "  inflating: yolo_dataset/labels/train/obj1030_frame0000007.txt  \n",
      "  inflating: yolo_dataset/labels/train/obj1505_frame0000304.txt  \n",
      "  inflating: yolo_dataset/labels/train/obj0228_frame0000017.txt  \n",
      "  inflating: yolo_dataset/labels/train/obj1502_frame0000281.txt  \n",
      "  inflating: yolo_dataset/labels/train/obj1654_frame0000215.txt  \n",
      "  inflating: yolo_dataset/labels/train/bio0016_frame0000462.txt  \n",
      "  inflating: yolo_dataset/labels/train/obj1108_frame0000071.txt  \n",
      "  inflating: yolo_dataset/labels/train/obj0818_frame0000032.txt  \n",
      "  inflating: yolo_dataset/labels/train/bio0000_frame0000226.txt  \n",
      "  inflating: yolo_dataset/labels/train/bio0004_frame0000140.txt  \n",
      "  inflating: yolo_dataset/labels/train/obj1505_frame0000338.txt  \n",
      "  inflating: yolo_dataset/labels/train/bio0000_frame0000232.txt  \n",
      "  inflating: yolo_dataset/labels/train/obj0818_frame0000026.txt  \n",
      "  inflating: yolo_dataset/labels/train/bio0016_frame0000476.txt  \n",
      "  inflating: yolo_dataset/labels/train/obj0865_frame0000015.txt  \n",
      "  inflating: yolo_dataset/labels/train/obj1657_frame0000021.txt  \n",
      "  inflating: yolo_dataset/labels/train/obj1502_frame0000256.txt  \n",
      "  inflating: yolo_dataset/labels/train/obj0236_frame0000048.txt  \n",
      "  inflating: yolo_dataset/labels/train/obj1502_frame0000242.txt  \n",
      "  inflating: yolo_dataset/labels/train/bio0013_frame0000028.txt  \n",
      "  inflating: yolo_dataset/labels/train/obj1280_frame0000102.txt  \n",
      "  inflating: yolo_dataset/labels/train/obj0301_frame0000039.txt  \n",
      "  inflating: yolo_dataset/labels/train/obj0865_frame0000029.txt  \n",
      "  inflating: yolo_dataset/labels/train/bio0001_frame0000244.txt  \n",
      "  inflating: yolo_dataset/labels/train/bio0011_frame0000524.txt  \n",
      "  inflating: yolo_dataset/labels/train/obj0301_frame0000011.txt  \n",
      "  inflating: yolo_dataset/labels/train/obj1251_frame0000009.txt  \n",
      "  inflating: yolo_dataset/labels/train/obj1658_frame0000754.txt  \n",
      "  inflating: yolo_dataset/labels/train/obj0854_frame0000006.txt  \n",
      "  inflating: yolo_dataset/labels/train/bio0003_frame0000006.txt  \n",
      "  inflating: yolo_dataset/labels/train/obj1617_frame0000226.txt  \n",
      "  inflating: yolo_dataset/labels/train/obj0854_frame0000012.txt  \n",
      "  inflating: yolo_dataset/labels/train/obj0226_frame0000066.txt  \n",
      "  inflating: yolo_dataset/labels/train/obj0301_frame0000005.txt  \n",
      "  inflating: yolo_dataset/labels/train/obj1073_frame0000034.txt  \n",
      "  inflating: yolo_dataset/labels/train/obj0014_frame0000049.txt  \n",
      "  inflating: yolo_dataset/labels/train/obj1667_frame0000087.txt  \n",
      "  inflating: yolo_dataset/labels/train/bio0001_frame0000250.txt  \n",
      "  inflating: yolo_dataset/labels/train/obj0309_frame0000030.txt  \n",
      "  inflating: yolo_dataset/labels/train/obj1246_frame0000001.txt  \n",
      "  inflating: yolo_dataset/labels/train/obj1024_frame0000213.txt  \n",
      "  inflating: yolo_dataset/labels/train/bio0004_frame0000008.txt  \n",
      "  inflating: yolo_dataset/labels/train/obj1505_frame0000264.txt  \n",
      "  inflating: yolo_dataset/labels/train/obj0319_frame0000036.txt  \n",
      "  inflating: yolo_dataset/labels/train/obj1281_frame0000014.txt  \n",
      "  inflating: yolo_dataset/labels/train/obj0337_frame0000024.txt  \n",
      "  inflating: yolo_dataset/labels/train/obj1505_frame0000270.txt  \n",
      "  inflating: yolo_dataset/labels/train/obj0319_frame0000022.txt  \n",
      "  inflating: yolo_dataset/labels/train/obj1602_frame0000078.txt  \n",
      "  inflating: yolo_dataset/labels/train/bio0016_frame0000258.txt  \n",
      "  inflating: yolo_dataset/labels/train/obj0309_frame0000024.txt  \n",
      "  inflating: yolo_dataset/labels/train/obj1663_frame0000242.txt  \n",
      "  inflating: yolo_dataset/labels/train/bio0002_frame0000110.txt  \n",
      "  inflating: yolo_dataset/labels/train/bio0012_frame0000116.txt  \n",
      "  inflating: yolo_dataset/labels/train/obj1663_frame0000524.txt  \n",
      "  inflating: yolo_dataset/labels/train/obj1602_frame0000050.txt  \n",
      "  inflating: yolo_dataset/labels/train/obj1602_frame0000044.txt  \n",
      "  inflating: yolo_dataset/labels/train/bio0002_frame0000104.txt  \n",
      "  inflating: yolo_dataset/labels/train/obj0309_frame0000018.txt  \n",
      "  inflating: yolo_dataset/labels/train/bio0014_frame0000026.txt  \n",
      "  inflating: yolo_dataset/labels/train/obj0002_frame0000037.txt  \n",
      "  inflating: yolo_dataset/labels/train/obj1502_frame0000322.txt  \n",
      "  inflating: yolo_dataset/labels/train/obj0784_frame0000005.txt  \n",
      "  inflating: yolo_dataset/labels/train/obj0747_frame0000404.txt  \n",
      "  inflating: yolo_dataset/labels/train/obj1648_frame0000168.txt  \n",
      "  inflating: yolo_dataset/labels/train/obj1657_frame0000141.txt  \n",
      "  inflating: yolo_dataset/labels/train/bio0001_frame0000318.txt  \n",
      "  inflating: yolo_dataset/labels/train/obj0747_frame0000362.txt  \n",
      "  inflating: yolo_dataset/labels/train/bio0018_frame0000215.txt  \n",
      "  inflating: yolo_dataset/labels/train/bio0001_frame0000330.txt  \n",
      "  inflating: yolo_dataset/labels/train/bio0013_frame0000174.txt  \n",
      "  inflating: yolo_dataset/labels/train/obj0317_frame0000047.txt  \n",
      "  inflating: yolo_dataset/labels/train/obj1658_frame0002037.txt  \n",
      "  inflating: yolo_dataset/labels/train/obj1602_frame0000087.txt  \n",
      "  inflating: yolo_dataset/labels/train/obj1662_frame0000234.txt  \n",
      "  inflating: yolo_dataset/labels/train/bio0015_frame0000722.txt  \n",
      "  inflating: yolo_dataset/labels/train/obj1672_frame0000232.txt  \n",
      "  inflating: yolo_dataset/labels/train/bio0001_frame0000324.txt  \n",
      "  inflating: yolo_dataset/labels/train/obj0317_frame0000053.txt  \n",
      "  inflating: yolo_dataset/labels/train/obj1505_frame0000066.txt  \n",
      "  inflating: yolo_dataset/labels/train/obj0202_frame0000015.txt  \n",
      "  inflating: yolo_dataset/labels/train/obj0749_frame0000139.txt  \n",
      "  inflating: yolo_dataset/labels/train/obj0011_frame0000013.txt  \n",
      "  inflating: yolo_dataset/labels/train/obj0750_frame0000034.txt  \n",
      "  inflating: yolo_dataset/labels/train/obj0347_frame0000087.txt  \n",
      "  inflating: yolo_dataset/labels/train/obj0347_frame0000093.txt  \n",
      "  inflating: yolo_dataset/labels/train/obj1657_frame0000380.txt  \n",
      "  inflating: yolo_dataset/labels/train/obj1505_frame0000072.txt  \n",
      "  inflating: yolo_dataset/labels/train/obj0202_frame0000001.txt  \n",
      "  inflating: yolo_dataset/labels/train/obj1656_frame0000321.txt  \n",
      "  inflating: yolo_dataset/labels/train/bio0015_frame0000291.txt  \n",
      "  inflating: yolo_dataset/labels/train/bio0002_frame0000474.txt  \n",
      "  inflating: yolo_dataset/labels/train/bio0012_frame0000314.txt  \n",
      "  inflating: yolo_dataset/labels/train/obj1667_frame0000326.txt  \n",
      "  inflating: yolo_dataset/labels/train/obj0348_frame0000094.txt  \n",
      "  inflating: yolo_dataset/labels/train/bio0002_frame0000312.txt  \n",
      "  inflating: yolo_dataset/labels/train/bio0014_frame0000224.txt  \n",
      "  inflating: yolo_dataset/labels/train/obj1667_frame0000332.txt  \n",
      "  inflating: yolo_dataset/labels/train/bio0010_frame0000142.txt  \n",
      "  inflating: yolo_dataset/labels/train/obj1616_frame0000126.txt  \n",
      "  inflating: yolo_dataset/labels/train/bio0002_frame0000306.txt  \n",
      "  inflating: yolo_dataset/labels/train/obj1502_frame0000120.txt  \n",
      "  inflating: yolo_dataset/labels/train/obj0334_frame0000012.txt  \n",
      "  inflating: yolo_dataset/labels/train/obj1655_frame0000115.txt  \n",
      "  inflating: yolo_dataset/labels/train/obj1658_frame0001700.txt  \n",
      "  inflating: yolo_dataset/labels/train/obj1218_frame0000073.txt  \n",
      "  inflating: yolo_dataset/labels/train/obj1648_frame0000418.txt  \n",
      "  inflating: yolo_dataset/labels/train/obj0347_frame0000044.txt  \n",
      "  inflating: yolo_dataset/labels/train/obj0305_frame0000029.txt  \n",
      "  inflating: yolo_dataset/labels/train/obj0347_frame0000050.txt  \n",
      "  inflating: yolo_dataset/labels/train/obj0334_frame0000006.txt  \n",
      "  inflating: yolo_dataset/labels/train/obj1617_frame0000178.txt  \n",
      "  inflating: yolo_dataset/labels/train/obj1502_frame0000134.txt  \n",
      "  inflating: yolo_dataset/labels/train/obj1652_frame0000084.txt  \n",
      "  inflating: yolo_dataset/labels/train/bio0000_frame0000193.txt  \n",
      "  inflating: yolo_dataset/labels/train/obj1617_frame0000150.txt  \n",
      "  inflating: yolo_dataset/labels/train/obj0348_frame0000057.txt  \n",
      "  inflating: yolo_dataset/labels/train/obj0347_frame0000078.txt  \n",
      "  inflating: yolo_dataset/labels/train/obj0305_frame0000015.txt  \n",
      "  inflating: yolo_dataset/labels/train/bio0017_frame0000004.txt  \n",
      "  inflating: yolo_dataset/labels/train/bio0015_frame0000520.txt  \n",
      "  inflating: yolo_dataset/labels/train/obj1502_frame0000108.txt  \n",
      "  inflating: yolo_dataset/labels/train/obj1617_frame0000144.txt  \n",
      "  inflating: yolo_dataset/labels/train/obj0348_frame0000055.txt  \n",
      "  inflating: yolo_dataset/labels/train/obj0241_frame0000030.txt  \n",
      "  inflating: yolo_dataset/labels/train/obj1617_frame0000152.txt  \n",
      "  inflating: yolo_dataset/labels/train/obj1658_frame0000420.txt  \n",
      "  inflating: yolo_dataset/labels/train/obj1648_frame0000340.txt  \n",
      "  inflating: yolo_dataset/labels/train/bio0000_frame0000191.txt  \n",
      "  inflating: yolo_dataset/labels/train/obj1617_frame0000146.txt  \n",
      "  inflating: yolo_dataset/labels/train/obj1648_frame0000354.txt  \n",
      "  inflating: yolo_dataset/labels/train/bio0000_frame0000185.txt  \n",
      "  inflating: yolo_dataset/labels/train/obj0334_frame0000038.txt  \n",
      "  inflating: yolo_dataset/labels/train/obj0789_frame0000054.txt  \n",
      "  inflating: yolo_dataset/labels/train/obj0348_frame0000041.txt  \n",
      "  inflating: yolo_dataset/labels/train/obj0751_frame0000054.txt  \n",
      "  inflating: yolo_dataset/labels/train/obj0347_frame0000046.txt  \n",
      "  inflating: yolo_dataset/labels/train/obj0348_frame0000069.txt  \n",
      "  inflating: yolo_dataset/labels/train/obj1658_frame0001064.txt  \n",
      "  inflating: yolo_dataset/labels/train/obj1218_frame0000071.txt  \n",
      "  inflating: yolo_dataset/labels/train/bio0002_frame0000489.txt  \n",
      "  inflating: yolo_dataset/labels/train/obj1502_frame0000122.txt  \n",
      "  inflating: yolo_dataset/labels/train/obj1502_frame0000136.txt  \n",
      "  inflating: yolo_dataset/labels/train/obj1218_frame0000065.txt  \n",
      "  inflating: yolo_dataset/labels/train/obj0334_frame0000004.txt  \n",
      "  inflating: yolo_dataset/labels/train/obj0347_frame0000052.txt  \n",
      "  inflating: yolo_dataset/labels/train/obj1653_frame0000027.txt  \n",
      "  inflating: yolo_dataset/labels/train/obj0751_frame0000040.txt  \n",
      "  inflating: yolo_dataset/labels/train/bio0018_frame0000015.txt  \n",
      "  inflating: yolo_dataset/labels/train/obj0348_frame0000096.txt  \n",
      "  inflating: yolo_dataset/labels/train/obj0749_frame0000107.txt  \n",
      "  inflating: yolo_dataset/labels/train/obj1505_frame0000058.txt  \n",
      "  inflating: yolo_dataset/labels/train/bio0004_frame0000220.txt  \n",
      "  inflating: yolo_dataset/labels/train/obj1652_frame0000079.txt  \n",
      "  inflating: yolo_dataset/labels/train/obj1648_frame0000397.txt  \n",
      "  inflating: yolo_dataset/labels/train/obj0749_frame0000113.txt  \n",
      "  inflating: yolo_dataset/labels/train/bio0002_frame0000462.txt  \n",
      "  inflating: yolo_dataset/labels/train/obj0212_frame0000039.txt  \n",
      "  inflating: yolo_dataset/labels/train/obj0348_frame0000082.txt  \n",
      "  inflating: yolo_dataset/labels/train/obj1663_frame0000056.txt  \n",
      "  inflating: yolo_dataset/labels/train/obj0347_frame0000085.txt  \n",
      "  inflating: yolo_dataset/labels/train/bio0004_frame0000208.txt  \n",
      "  inflating: yolo_dataset/labels/train/obj0011_frame0000011.txt  \n",
      "  inflating: yolo_dataset/labels/train/obj0202_frame0000017.txt  \n",
      "  inflating: yolo_dataset/labels/train/obj0202_frame0000003.txt  \n",
      "  inflating: yolo_dataset/labels/train/obj1505_frame0000070.txt  \n",
      "  inflating: yolo_dataset/labels/train/bio0012_frame0000458.txt  \n",
      "  inflating: yolo_dataset/labels/train/obj1616_frame0000118.txt  \n",
      "  inflating: yolo_dataset/labels/train/obj0347_frame0000091.txt  \n",
      "  inflating: yolo_dataset/labels/train/bio0011_frame0000334.txt  \n",
      "  inflating: yolo_dataset/labels/train/obj1648_frame0000142.txt  \n",
      "  inflating: yolo_dataset/labels/train/bio0003_frame0000170.txt  \n",
      "  inflating: yolo_dataset/labels/train/obj1505_frame0000299.txt  \n",
      "  inflating: yolo_dataset/labels/train/obj1662_frame0000222.txt  \n",
      "  inflating: yolo_dataset/labels/train/obj1602_frame0000091.txt  \n",
      "  inflating: yolo_dataset/labels/train/obj1663_frame0000283.txt  \n",
      "  inflating: yolo_dataset/labels/train/obj1672_frame0000224.txt  \n",
      "  inflating: yolo_dataset/labels/train/obj0002_frame0000009.txt  \n",
      "  inflating: yolo_dataset/labels/train/obj1664_frame0000306.txt  \n",
      "  inflating: yolo_dataset/labels/train/obj0317_frame0000045.txt  \n",
      "  inflating: yolo_dataset/labels/train/obj1658_frame0000144.txt  \n",
      "  inflating: yolo_dataset/labels/train/obj0317_frame0000051.txt  \n",
      "  inflating: yolo_dataset/labels/train/bio0001_frame0000326.txt  \n",
      "  inflating: yolo_dataset/labels/train/obj1006_frame0000030.txt  \n",
      "  inflating: yolo_dataset/labels/train/obj1502_frame0000308.txt  \n",
      "  inflating: yolo_dataset/labels/train/obj1602_frame0000085.txt  \n",
      "  inflating: yolo_dataset/labels/train/bio0003_frame0000164.txt  \n",
      "  inflating: yolo_dataset/labels/train/obj1054_frame0000067.txt  \n",
      "  inflating: yolo_dataset/labels/train/bio0001_frame0000468.txt  \n",
      "  inflating: yolo_dataset/labels/train/bio0015_frame0000708.txt  \n",
      "  inflating: yolo_dataset/labels/train/obj0002_frame0000035.txt  \n",
      "  inflating: yolo_dataset/labels/train/obj0002_frame0000021.txt  \n",
      "  inflating: yolo_dataset/labels/train/obj1224_frame0000025.txt  \n",
      "  inflating: yolo_dataset/labels/train/bio0003_frame0000158.txt  \n",
      "  inflating: yolo_dataset/labels/train/obj1502_frame0000334.txt  \n",
      "  inflating: yolo_dataset/labels/train/bio0016_frame0000299.txt  \n",
      "  inflating: yolo_dataset/labels/train/obj1602_frame0000052.txt  \n",
      "  inflating: yolo_dataset/labels/train/obj0319_frame0000008.txt  \n",
      "  inflating: yolo_dataset/labels/train/obj0221_frame0000042.txt  \n",
      "  inflating: yolo_dataset/labels/train/bio0011_frame0000491.txt  \n",
      "  inflating: yolo_dataset/labels/train/bio0002_frame0000112.txt  \n",
      "  inflating: yolo_dataset/labels/train/bio0016_frame0000500.txt  \n",
      "  inflating: yolo_dataset/labels/train/obj1202_frame0000610.txt  \n",
      "  inflating: yolo_dataset/labels/train/obj1667_frame0000132.txt  \n",
      "  inflating: yolo_dataset/labels/train/obj1658_frame0000193.txt  \n",
      "  inflating: yolo_dataset/labels/train/bio0012_frame0000100.txt  \n",
      "  inflating: yolo_dataset/labels/train/bio0002_frame0000660.txt  \n",
      "  inflating: yolo_dataset/labels/train/obj1648_frame0000195.txt  \n",
      "  inflating: yolo_dataset/labels/train/obj1602_frame0000046.txt  \n",
      "  inflating: yolo_dataset/labels/train/bio0002_frame0000648.txt  \n",
      "  inflating: yolo_dataset/labels/train/obj0337_frame0000032.txt  \n",
      "  inflating: yolo_dataset/labels/train/obj1505_frame0000266.txt  \n",
      "  inflating: yolo_dataset/labels/train/obj0319_frame0000034.txt  \n",
      "  inflating: yolo_dataset/labels/train/obj1654_frame0000411.txt  \n",
      "  inflating: yolo_dataset/labels/train/obj1111_frame0000036.txt  \n",
      "  inflating: yolo_dataset/labels/train/obj0786_frame0000292.txt  \n",
      "  inflating: yolo_dataset/labels/train/obj1202_frame0000638.txt  \n",
      "  inflating: yolo_dataset/labels/train/obj0309_frame0000032.txt  \n",
      "  inflating: yolo_dataset/labels/train/obj0309_frame0000026.txt  \n",
      "  inflating: yolo_dataset/labels/train/obj1654_frame0000363.txt  \n",
      "  inflating: yolo_dataset/labels/train/obj1024_frame0000563.txt  \n",
      "  inflating: yolo_dataset/labels/train/obj1505_frame0000272.txt  \n",
      "  inflating: yolo_dataset/labels/train/obj0337_frame0000026.txt  \n",
      "  inflating: yolo_dataset/labels/train/obj0319_frame0000020.txt  \n",
      "  inflating: yolo_dataset/labels/train/obj1656_frame0000121.txt  \n",
      "  inflating: yolo_dataset/labels/train/obj1617_frame0000224.txt  \n",
      "  inflating: yolo_dataset/labels/train/obj0707_frame0000007.txt  \n",
      "  inflating: yolo_dataset/labels/train/obj1502_frame0000268.txt  \n",
      "  inflating: yolo_dataset/labels/train/obj0226_frame0000070.txt  \n",
      "  inflating: yolo_dataset/labels/train/bio0001_frame0000246.txt  \n",
      "  inflating: yolo_dataset/labels/train/obj1280_frame0000128.txt  \n",
      "  inflating: yolo_dataset/labels/train/bio0001_frame0000252.txt  \n",
      "  inflating: yolo_dataset/labels/train/obj0747_frame0000228.txt  \n",
      "  inflating: yolo_dataset/labels/train/obj1073_frame0000036.txt  \n",
      "  inflating: yolo_dataset/labels/train/bio0014_frame0000193.txt  \n",
      "  inflating: yolo_dataset/labels/train/obj0301_frame0000007.txt  \n",
      "  inflating: yolo_dataset/labels/train/obj0226_frame0000064.txt  \n",
      "  inflating: yolo_dataset/labels/train/bio0015_frame0000132.txt  \n",
      "  inflating: yolo_dataset/labels/train/obj1617_frame0000230.txt  \n",
      "  inflating: yolo_dataset/labels/train/obj0854_frame0000010.txt  \n",
      "  inflating: yolo_dataset/labels/train/obj0707_frame0000013.txt  \n",
      "  inflating: yolo_dataset/labels/train/obj0753_frame0000160.txt  \n",
      "  inflating: yolo_dataset/labels/train/obj1502_frame0000254.txt  \n",
      "  inflating: yolo_dataset/labels/train/obj1617_frame0000218.txt  \n",
      "  inflating: yolo_dataset/labels/train/obj1658_frame0001474.txt  \n",
      "  inflating: yolo_dataset/labels/train/obj0854_frame0000038.txt  \n",
      "  inflating: yolo_dataset/labels/train/obj1280_frame0000114.txt  \n",
      "  inflating: yolo_dataset/labels/train/obj0865_frame0000017.txt  \n",
      "  inflating: yolo_dataset/labels/train/bio0017_frame0000358.txt  \n",
      "  inflating: yolo_dataset/labels/train/bio0015_frame0000668.txt  \n",
      "  inflating: yolo_dataset/labels/train/obj1042_frame0000025.txt  \n",
      "  inflating: yolo_dataset/labels/train/obj1502_frame0000240.txt  \n",
      "  inflating: yolo_dataset/labels/train/bio0000_frame0000224.txt  \n",
      "  inflating: yolo_dataset/labels/train/obj1030_frame0000039.txt  \n",
      "  inflating: yolo_dataset/labels/train/obj0818_frame0000030.txt  \n",
      "  inflating: yolo_dataset/labels/train/bio0016_frame0000460.txt  \n",
      "  inflating: yolo_dataset/labels/train/obj1024_frame0000359.txt  \n",
      "  inflating: yolo_dataset/labels/train/bio0015_frame0000683.txt  \n",
      "  inflating: yolo_dataset/labels/train/bio0016_frame0000474.txt  \n",
      "  inflating: yolo_dataset/labels/train/obj0818_frame0000024.txt  \n",
      "  inflating: yolo_dataset/labels/train/obj1108_frame0000067.txt  \n",
      "  inflating: yolo_dataset/labels/train/bio0000_frame0000230.txt  \n",
      "  inflating: yolo_dataset/labels/train/obj0228_frame0000029.txt  \n",
      "  inflating: yolo_dataset/labels/train/bio0000_frame0000218.txt  \n",
      "  inflating: yolo_dataset/labels/train/obj1658_frame0000971.txt  \n",
      "  inflating: yolo_dataset/labels/train/obj1505_frame0000312.txt  \n",
      "  inflating: yolo_dataset/labels/train/obj1030_frame0000005.txt  \n",
      "  inflating: yolo_dataset/labels/train/obj1502_frame0000297.txt  \n",
      "  inflating: yolo_dataset/labels/train/obj0228_frame0000001.txt  \n",
      "  inflating: yolo_dataset/labels/train/bio0014_frame0000178.txt  \n",
      "  inflating: yolo_dataset/labels/train/obj1107_frame0000074.txt  \n",
      "  inflating: yolo_dataset/labels/train/obj1502_frame0000283.txt  \n",
      "  inflating: yolo_dataset/labels/train/obj1629_frame0000026.txt  \n",
      "  inflating: yolo_dataset/labels/train/obj1061_frame0000064.txt  \n",
      "  inflating: yolo_dataset/labels/train/obj0856_frame0000044.txt  \n",
      "  inflating: yolo_dataset/labels/train/obj0313_frame0000055.txt  \n",
      "  inflating: yolo_dataset/labels/train/obj1523_frame0000043.txt  \n",
      "  inflating: yolo_dataset/labels/train/obj1648_frame0000234.txt  \n",
      "  inflating: yolo_dataset/labels/train/bio0003_frame0000206.txt  \n",
      "  inflating: yolo_dataset/labels/train/obj1087_frame0000058.txt  \n",
      "  inflating: yolo_dataset/labels/train/bio0003_frame0000212.txt  \n",
      "  inflating: yolo_dataset/labels/train/bio0015_frame0000330.txt  \n",
      "  inflating: yolo_dataset/labels/train/obj0313_frame0000041.txt  \n",
      "  inflating: yolo_dataset/labels/train/obj0751_frame0000108.txt  \n",
      "  inflating: yolo_dataset/labels/train/bio0017_frame0000172.txt  \n",
      "  inflating: yolo_dataset/labels/train/obj0332_frame0000068.txt  \n",
      "  inflating: yolo_dataset/labels/train/obj0348_frame0000135.txt  \n",
      "  inflating: yolo_dataset/labels/train/obj0332_frame0000040.txt  \n",
      "  inflating: yolo_dataset/labels/train/obj1023_frame0000021.txt  \n",
      "  inflating: yolo_dataset/labels/train/obj1033_frame0000027.txt  \n",
      "  inflating: yolo_dataset/labels/train/obj1648_frame0000208.txt  \n",
      "  inflating: yolo_dataset/labels/train/obj1282_frame0000154.txt  \n",
      "  inflating: yolo_dataset/labels/train/obj1655_frame0000063.txt  \n",
      "  inflating: yolo_dataset/labels/train/obj0248_frame0000073.txt  \n",
      "  inflating: yolo_dataset/labels/train/obj0248_frame0000067.txt  \n",
      "  inflating: yolo_dataset/labels/train/obj1297_frame0000281.txt  \n",
      "  inflating: yolo_dataset/labels/train/obj0348_frame0000109.txt  \n",
      "  inflating: yolo_dataset/labels/train/obj1023_frame0000035.txt  \n",
      "  inflating: yolo_dataset/labels/train/obj0332_frame0000054.txt  \n",
      "  inflating: yolo_dataset/labels/train/bio0010_frame0000020.txt  \n",
      "  inflating: yolo_dataset/labels/train/bio0001_frame0000087.txt  \n",
      "  inflating: yolo_dataset/labels/train/bio0002_frame0000264.txt  \n",
      "  inflating: yolo_dataset/labels/train/obj0749_frame0000073.txt  \n",
      "  inflating: yolo_dataset/labels/train/obj1003_frame0000056.txt  \n",
      "  inflating: yolo_dataset/labels/train/obj0312_frame0000037.txt  \n",
      "  inflating: yolo_dataset/labels/train/bio0004_frame0000340.txt  \n",
      "  inflating: yolo_dataset/labels/train/obj1652_frame0000119.txt  \n",
      "  inflating: yolo_dataset/labels/train/obj0312_frame0000023.txt  \n",
      "  inflating: yolo_dataset/labels/train/bio0002_frame0000516.txt  \n",
      "  inflating: yolo_dataset/labels/train/obj1003_frame0000042.txt  \n",
      "  inflating: yolo_dataset/labels/train/bio0001_frame0000093.txt  \n",
      "  inflating: yolo_dataset/labels/train/bio0002_frame0000270.txt  \n",
      "  inflating: yolo_dataset/labels/train/obj1672_frame0000185.txt  \n",
      "  inflating: yolo_dataset/labels/train/obj1654_frame0000001.txt  \n",
      "  inflating: yolo_dataset/labels/train/bio0002_frame0000258.txt  \n",
      "  inflating: yolo_dataset/labels/train/obj0350_frame0000072.txt  \n",
      "  inflating: yolo_dataset/labels/train/obj1502_frame0000095.txt  \n",
      "  inflating: yolo_dataset/labels/train/obj0214_frame0000041.txt  \n",
      "  inflating: yolo_dataset/labels/train/obj0007_frame0000047.txt  \n",
      "  inflating: yolo_dataset/labels/train/obj1505_frame0000104.txt  \n",
      "  inflating: yolo_dataset/labels/train/obj0350_frame0000066.txt  \n",
      "  inflating: yolo_dataset/labels/train/obj1051_frame0000001.txt  \n",
      "  inflating: yolo_dataset/labels/train/obj0333_frame0000037.txt  \n",
      "  inflating: yolo_dataset/labels/train/obj1505_frame0000105.txt  \n",
      "  inflating: yolo_dataset/labels/train/obj1667_frame0000279.txt  \n",
      "  inflating: yolo_dataset/labels/train/obj0332_frame0000082.txt  \n",
      "  inflating: yolo_dataset/labels/train/obj1616_frame0000079.txt  \n",
      "  inflating: yolo_dataset/labels/train/obj0007_frame0000046.txt  \n",
      "  inflating: yolo_dataset/labels/train/obj1505_frame0000111.txt  \n",
      "  inflating: yolo_dataset/labels/train/obj1652_frame0000124.txt  \n",
      "  inflating: yolo_dataset/labels/train/obj1502_frame0000094.txt  \n",
      "  inflating: yolo_dataset/labels/train/obj0350_frame0000073.txt  \n",
      "  inflating: yolo_dataset/labels/train/bio0016_frame0000139.txt  \n",
      "  inflating: yolo_dataset/labels/train/bio0000_frame0000033.txt  \n",
      "  inflating: yolo_dataset/labels/train/obj1505_frame0000139.txt  \n",
      "  inflating: yolo_dataset/labels/train/obj0214_frame0000068.txt  \n",
      "  inflating: yolo_dataset/labels/train/bio0016_frame0000111.txt  \n",
      "  inflating: yolo_dataset/labels/train/bio0004_frame0000433.txt  \n",
      "  inflating: yolo_dataset/labels/train/obj1616_frame0000051.txt  \n",
      "  inflating: yolo_dataset/labels/train/bio0010_frame0000035.txt  \n",
      "  inflating: yolo_dataset/labels/train/obj1616_frame0000045.txt  \n",
      "  inflating: yolo_dataset/labels/train/bio0004_frame0000427.txt  \n",
      "  inflating: yolo_dataset/labels/train/obj0312_frame0000036.txt  \n",
      "  inflating: yolo_dataset/labels/train/bio0016_frame0000105.txt  \n",
      "  inflating: yolo_dataset/labels/train/obj1658_frame0000596.txt  \n",
      "  inflating: yolo_dataset/labels/train/bio0000_frame0000027.txt  \n",
      "  inflating: yolo_dataset/labels/train/bio0012_frame0000263.txt  \n",
      "  inflating: yolo_dataset/labels/train/bio0012_frame0000288.txt  \n",
      "  inflating: yolo_dataset/labels/train/obj1087_frame0000065.txt  \n",
      "  inflating: yolo_dataset/labels/train/obj0248_frame0000066.txt  \n",
      "  inflating: yolo_dataset/labels/train/obj0332_frame0000055.txt  \n",
      "  inflating: yolo_dataset/labels/train/bio0018_frame0000160.txt  \n",
      "  inflating: yolo_dataset/labels/train/bio0013_frame0000229.txt  \n",
      "  inflating: yolo_dataset/labels/train/obj1658_frame0001105.txt  \n",
      "  inflating: yolo_dataset/labels/train/obj1023_frame0000020.txt  \n",
      "  inflating: yolo_dataset/labels/train/obj1626_frame0000034.txt  \n",
      "  inflating: yolo_dataset/labels/train/obj0332_frame0000041.txt  \n",
      "  inflating: yolo_dataset/labels/train/obj1297_frame0000294.txt  \n",
      "  inflating: yolo_dataset/labels/train/obj0248_frame0000072.txt  \n",
      "  inflating: yolo_dataset/labels/train/bio0015_frame0000319.txt  \n",
      "  inflating: yolo_dataset/labels/train/obj1662_frame0000141.txt  \n",
      "  inflating: yolo_dataset/labels/train/obj1617_frame0000033.txt  \n",
      "  inflating: yolo_dataset/labels/train/obj1658_frame0000541.txt  \n",
      "  inflating: yolo_dataset/labels/train/obj1658_frame0001887.txt  \n",
      "  inflating: yolo_dataset/labels/train/obj1061_frame0000071.txt  \n",
      "  inflating: yolo_dataset/labels/train/obj0348_frame0000134.txt  \n",
      "  inflating: yolo_dataset/labels/train/obj1616_frame0000092.txt  \n",
      "  inflating: yolo_dataset/labels/train/obj1629_frame0000033.txt  \n",
      "  inflating: yolo_dataset/labels/train/obj1672_frame0000147.txt  \n",
      "  inflating: yolo_dataset/labels/train/obj0332_frame0000069.txt  \n",
      "  inflating: yolo_dataset/labels/train/obj0313_frame0000040.txt  \n",
      "  inflating: yolo_dataset/labels/train/obj1672_frame0000153.txt  \n",
      "  inflating: yolo_dataset/labels/train/obj1024_frame0000199.txt  \n",
      "  inflating: yolo_dataset/labels/train/obj0313_frame0000054.txt  \n",
      "  inflating: yolo_dataset/labels/train/bio0001_frame0000045.txt  \n",
      "  inflating: yolo_dataset/labels/train/obj0348_frame0000120.txt  \n",
      "  inflating: yolo_dataset/labels/train/obj0009_frame0000037.txt  \n",
      "  inflating: yolo_dataset/labels/train/bio0013_frame0000201.txt  \n",
      "  inflating: yolo_dataset/labels/train/obj1616_frame0000086.txt  \n",
      "  inflating: yolo_dataset/labels/train/obj1617_frame0000027.txt  \n",
      "  inflating: yolo_dataset/labels/train/obj1523_frame0000042.txt  \n",
      "  inflating: yolo_dataset/labels/train/obj1662_frame0000155.txt  \n",
      "  inflating: yolo_dataset/labels/train/bio0004_frame0000382.txt  \n",
      "  inflating: yolo_dataset/labels/train/bio0015_frame0000325.txt  \n",
      "  inflating: yolo_dataset/labels/train/obj1107_frame0000075.txt  \n",
      "  inflating: yolo_dataset/labels/train/obj1030_frame0000010.txt  \n",
      "  inflating: yolo_dataset/labels/train/bio0012_frame0000049.txt  \n",
      "  inflating: yolo_dataset/labels/train/obj1505_frame0000307.txt  \n",
      "  inflating: yolo_dataset/labels/train/obj0228_frame0000014.txt  \n",
      "  inflating: yolo_dataset/labels/train/obj1502_frame0000296.txt  \n",
      "  inflating: yolo_dataset/labels/train/obj1505_frame0000313.txt  \n",
      "  inflating: yolo_dataset/labels/train/obj1107_frame0000061.txt  \n",
      "  inflating: yolo_dataset/labels/train/obj1107_frame0000049.txt  \n",
      "  inflating: yolo_dataset/labels/train/bio0001_frame0000290.txt  \n",
      "  inflating: yolo_dataset/labels/train/bio0016_frame0000313.txt  \n",
      "  inflating: yolo_dataset/labels/train/bio0012_frame0000061.txt  \n",
      "  inflating: yolo_dataset/labels/train/bio0016_frame0000307.txt  \n",
      "  inflating: yolo_dataset/labels/train/bio0004_frame0000143.txt  \n",
      "  inflating: yolo_dataset/labels/train/bio0001_frame0000284.txt  \n",
      "  inflating: yolo_dataset/labels/train/obj0226_frame0000059.txt  \n",
      "  inflating: yolo_dataset/labels/train/obj1502_frame0000241.txt  \n",
      "  inflating: yolo_dataset/labels/train/obj1042_frame0000030.txt  \n",
      "  inflating: yolo_dataset/labels/train/obj1502_frame0000255.txt  \n",
      "  inflating: yolo_dataset/labels/train/obj1297_frame0000096.txt  \n",
      "  inflating: yolo_dataset/labels/train/obj1251_frame0000036.txt  \n",
      "  inflating: yolo_dataset/labels/train/bio0002_frame0000098.txt  \n",
      "  inflating: yolo_dataset/labels/train/obj0226_frame0000065.txt  \n",
      "  inflating: yolo_dataset/labels/train/obj0301_frame0000006.txt  \n",
      "  inflating: yolo_dataset/labels/train/obj1664_frame0000267.txt  \n",
      "  inflating: yolo_dataset/labels/train/obj1073_frame0000037.txt  \n",
      "  inflating: yolo_dataset/labels/train/obj0707_frame0000012.txt  \n",
      "  inflating: yolo_dataset/labels/train/bio0004_frame0000180.txt  \n",
      "  inflating: yolo_dataset/labels/train/bio0017_frame0000403.txt  \n",
      "  inflating: yolo_dataset/labels/train/bio0011_frame0000241.txt  \n",
      "  inflating: yolo_dataset/labels/train/obj1664_frame0000273.txt  \n",
      "  inflating: yolo_dataset/labels/train/obj0301_frame0000012.txt  \n",
      "  inflating: yolo_dataset/labels/train/obj0309_frame0000027.txt  \n",
      "  inflating: yolo_dataset/labels/train/obj0319_frame0000021.txt  \n",
      "  inflating: yolo_dataset/labels/train/obj1505_frame0000273.txt  \n",
      "  inflating: yolo_dataset/labels/train/obj0337_frame0000027.txt  \n",
      "  inflating: yolo_dataset/labels/train/obj0337_frame0000033.txt  \n",
      "  inflating: yolo_dataset/labels/train/obj0309_frame0000033.txt  \n",
      "  inflating: yolo_dataset/labels/train/bio0011_frame0000484.txt  \n",
      "  inflating: yolo_dataset/labels/train/bio0004_frame0000023.txt  \n",
      "  inflating: yolo_dataset/labels/train/bio0016_frame0000267.txt  \n",
      "  inflating: yolo_dataset/labels/train/obj1648_frame0000180.txt  \n",
      "  inflating: yolo_dataset/labels/train/bio0002_frame0000675.txt  \n",
      "  inflating: yolo_dataset/labels/train/obj1602_frame0000053.txt  \n",
      "  inflating: yolo_dataset/labels/train/bio0016_frame0000273.txt  \n",
      "  inflating: yolo_dataset/labels/train/bio0016_frame0000515.txt  \n",
      "  inflating: yolo_dataset/labels/train/bio0014_frame0000031.txt  \n",
      "  inflating: yolo_dataset/labels/train/obj0221_frame0000043.txt  \n",
      "  inflating: yolo_dataset/labels/train/obj0747_frame0000361.txt  \n",
      "  inflating: yolo_dataset/labels/train/obj1658_frame0001273.txt  \n",
      "  inflating: yolo_dataset/labels/train/obj0002_frame0000020.txt  \n",
      "  inflating: yolo_dataset/labels/train/obj1202_frame0000188.txt  \n",
      "  inflating: yolo_dataset/labels/train/obj1502_frame0000335.txt  \n",
      "  inflating: yolo_dataset/labels/train/obj1658_frame0001515.txt  \n",
      "  inflating: yolo_dataset/labels/train/obj1224_frame0000024.txt  \n",
      "  inflating: yolo_dataset/labels/train/obj1224_frame0000030.txt  \n",
      "  inflating: yolo_dataset/labels/train/obj1502_frame0000321.txt  \n",
      "  inflating: yolo_dataset/labels/train/obj0002_frame0000034.txt  \n",
      "  inflating: yolo_dataset/labels/train/obj1006_frame0000019.txt  \n",
      "  inflating: yolo_dataset/labels/train/obj0747_frame0000375.txt  \n",
      "  inflating: yolo_dataset/labels/train/obj1663_frame0000296.txt  \n",
      "  inflating: yolo_dataset/labels/train/obj0317_frame0000050.txt  \n",
      "  inflating: yolo_dataset/labels/train/obj0307_frame0000056.txt  \n",
      "  inflating: yolo_dataset/labels/train/bio0011_frame0000321.txt  \n",
      "  inflating: yolo_dataset/labels/train/obj1602_frame0000090.txt  \n",
      "  inflating: yolo_dataset/labels/train/obj1505_frame0000298.txt  \n",
      "  inflating: yolo_dataset/labels/train/bio0011_frame0000453.txt  \n",
      "  inflating: yolo_dataset/labels/train/obj1654_frame0000389.txt  \n",
      "  inflating: yolo_dataset/labels/train/obj0317_frame0000044.txt  \n",
      "  inflating: yolo_dataset/labels/train/bio0015_frame0000735.txt  \n",
      "  inflating: yolo_dataset/labels/train/obj1006_frame0000025.txt  \n",
      "  inflating: yolo_dataset/labels/train/obj0750_frame0000023.txt  \n",
      "  inflating: yolo_dataset/labels/train/obj1652_frame0000044.txt  \n",
      "  inflating: yolo_dataset/labels/train/obj1505_frame0000071.txt  \n",
      "  inflating: yolo_dataset/labels/train/obj0202_frame0000002.txt  \n",
      "  inflating: yolo_dataset/labels/train/obj0347_frame0000090.txt  \n",
      "  inflating: yolo_dataset/labels/train/obj1654_frame0000160.txt  \n",
      "  inflating: yolo_dataset/labels/train/obj0751_frame0000082.txt  \n",
      "  inflating: yolo_dataset/labels/train/obj1505_frame0000065.txt  \n",
      "  inflating: yolo_dataset/labels/train/obj0011_frame0000010.txt  \n",
      "  inflating: yolo_dataset/labels/train/bio0000_frame0000147.txt  \n",
      "  inflating: yolo_dataset/labels/train/bio0015_frame0000286.txt  \n",
      "  inflating: yolo_dataset/labels/train/obj0212_frame0000038.txt  \n",
      "  inflating: yolo_dataset/labels/train/bio0004_frame0000235.txt  \n",
      "  inflating: yolo_dataset/labels/train/obj1505_frame0000059.txt  \n",
      "  inflating: yolo_dataset/labels/train/bio0002_frame0000477.txt  \n",
      "  inflating: yolo_dataset/labels/train/obj1617_frame0000190.txt  \n",
      "  inflating: yolo_dataset/labels/train/obj1658_frame0001924.txt  \n",
      "  inflating: yolo_dataset/labels/train/bio0000_frame0000153.txt  \n",
      "  inflating: yolo_dataset/labels/train/obj1648_frame0000382.txt  \n",
      "  inflating: yolo_dataset/labels/train/obj1282_frame0000035.txt  \n",
      "  inflating: yolo_dataset/labels/train/obj1502_frame0000137.txt  \n",
      "  inflating: yolo_dataset/labels/train/bio0001_frame0000119.txt  \n",
      "  inflating: yolo_dataset/labels/train/obj0347_frame0000053.txt  \n",
      "  inflating: yolo_dataset/labels/train/obj0348_frame0000068.txt  \n",
      "  inflating: yolo_dataset/labels/train/obj0347_frame0000047.txt  \n",
      "  inflating: yolo_dataset/labels/train/obj1284_frame0000105.txt  \n",
      "  inflating: yolo_dataset/labels/train/obj1502_frame0000123.txt  \n",
      "  inflating: yolo_dataset/labels/train/obj0334_frame0000039.txt  \n",
      "  inflating: yolo_dataset/labels/train/obj0348_frame0000040.txt  \n",
      "  inflating: yolo_dataset/labels/train/obj0305_frame0000016.txt  \n",
      "  inflating: yolo_dataset/labels/train/obj1658_frame0000353.txt  \n",
      "  inflating: yolo_dataset/labels/train/bio0001_frame0000125.txt  \n",
      "  inflating: yolo_dataset/labels/train/obj0241_frame0000031.txt  \n",
      "  inflating: yolo_dataset/labels/train/obj1061_frame0000111.txt  \n",
      "  inflating: yolo_dataset/labels/train/obj0348_frame0000054.txt  \n",
      "  inflating: yolo_dataset/labels/train/bio0001_frame0000131.txt  \n",
      "  inflating: yolo_dataset/labels/train/obj1282_frame0000025.txt  \n",
      "  inflating: yolo_dataset/labels/train/obj0334_frame0000015.txt  \n",
      "  inflating: yolo_dataset/labels/train/obj1502_frame0000127.txt  \n",
      "  inflating: yolo_dataset/labels/train/bio0018_frame0000004.txt  \n",
      "  inflating: yolo_dataset/labels/train/bio0001_frame0000109.txt  \n",
      "  inflating: yolo_dataset/labels/train/obj0347_frame0000043.txt  \n",
      "  inflating: yolo_dataset/labels/train/obj0348_frame0000078.txt  \n",
      "  inflating: yolo_dataset/labels/train/obj0347_frame0000057.txt  \n",
      "  inflating: yolo_dataset/labels/train/obj1284_frame0000115.txt  \n",
      "  inflating: yolo_dataset/labels/train/obj1502_frame0000133.txt  \n",
      "  inflating: yolo_dataset/labels/train/bio0002_frame0000498.txt  \n",
      "  inflating: yolo_dataset/labels/train/obj1255_frame0000036.txt  \n",
      "  inflating: yolo_dataset/labels/train/obj0334_frame0000001.txt  \n",
      "  inflating: yolo_dataset/labels/train/obj0334_frame0000029.txt  \n",
      "  inflating: yolo_dataset/labels/train/obj0348_frame0000050.txt  \n",
      "  inflating: yolo_dataset/labels/train/bio0001_frame0000135.txt  \n",
      "  inflating: yolo_dataset/labels/train/bio0018_frame0000038.txt  \n",
      "  inflating: yolo_dataset/labels/train/obj0789_frame0000045.txt  \n",
      "  inflating: yolo_dataset/labels/train/obj0789_frame0000051.txt  \n",
      "  inflating: yolo_dataset/labels/train/obj1061_frame0000101.txt  \n",
      "  inflating: yolo_dataset/labels/train/obj0348_frame0000044.txt  \n",
      "  inflating: yolo_dataset/labels/train/obj1658_frame0000431.txt  \n",
      "  inflating: yolo_dataset/labels/train/obj1648_frame0000351.txt  \n",
      "  inflating: yolo_dataset/labels/train/obj1652_frame0000054.txt  \n",
      "  inflating: yolo_dataset/labels/train/obj1297_frame0000327.txt  \n",
      "  inflating: yolo_dataset/labels/train/bio0016_frame0000049.txt  \n",
      "  inflating: yolo_dataset/labels/train/obj0011_frame0000014.txt  \n",
      "  inflating: yolo_dataset/labels/train/obj1080_frame0000047.txt  \n",
      "  inflating: yolo_dataset/labels/train/obj1505_frame0000061.txt  \n",
      "  inflating: yolo_dataset/labels/train/obj0202_frame0000012.txt  \n",
      "  inflating: yolo_dataset/labels/train/obj1654_frame0000170.txt  \n",
      "  inflating: yolo_dataset/labels/train/obj0347_frame0000080.txt  \n",
      "  inflating: yolo_dataset/labels/train/obj1505_frame0000075.txt  \n",
      "  inflating: yolo_dataset/labels/train/obj0202_frame0000006.txt  \n",
      "  inflating: yolo_dataset/labels/train/obj0750_frame0000027.txt  \n",
      "  inflating: yolo_dataset/labels/train/obj1648_frame0000386.txt  \n",
      "  inflating: yolo_dataset/labels/train/obj1617_frame0000194.txt  \n",
      "  inflating: yolo_dataset/labels/train/bio0015_frame0000296.txt  \n",
      "  inflating: yolo_dataset/labels/train/obj0011_frame0000028.txt  \n",
      "  inflating: yolo_dataset/labels/train/obj1658_frame0000380.txt  \n",
      "  inflating: yolo_dataset/labels/train/obj0348_frame0000093.txt  \n",
      "  inflating: yolo_dataset/labels/train/obj0348_frame0000087.txt  \n",
      "  inflating: yolo_dataset/labels/train/bio0000_frame0000143.txt  \n",
      "  inflating: yolo_dataset/labels/train/obj1505_frame0000049.txt  \n",
      "  inflating: yolo_dataset/labels/train/obj1617_frame0000180.txt  \n",
      "  inflating: yolo_dataset/labels/train/obj0002_frame0000030.txt  \n",
      "  inflating: yolo_dataset/labels/train/obj1502_frame0000325.txt  \n",
      "  inflating: yolo_dataset/labels/train/obj0243_frame0000049.txt  \n",
      "  inflating: yolo_dataset/labels/train/bio0003_frame0000149.txt  \n",
      "  inflating: yolo_dataset/labels/train/obj1038_frame0000009.txt  \n",
      "  inflating: yolo_dataset/labels/train/obj1502_frame0000331.txt  \n",
      "  inflating: yolo_dataset/labels/train/obj0002_frame0000024.txt  \n",
      "  inflating: yolo_dataset/labels/train/obj0317_frame0000068.txt  \n",
      "  inflating: yolo_dataset/labels/train/bio0015_frame0000731.txt  \n",
      "  inflating: yolo_dataset/labels/train/obj1006_frame0000021.txt  \n",
      "  inflating: yolo_dataset/labels/train/obj0317_frame0000040.txt  \n",
      "  inflating: yolo_dataset/labels/train/bio0001_frame0000337.txt  \n",
      "  inflating: yolo_dataset/labels/train/bio0015_frame0000057.txt  \n",
      "  inflating: yolo_dataset/labels/train/bio0003_frame0000161.txt  \n",
      "  inflating: yolo_dataset/labels/train/obj0317_frame0000054.txt  \n",
      "  inflating: yolo_dataset/labels/train/obj0747_frame0000359.txt  \n",
      "  inflating: yolo_dataset/labels/train/obj1672_frame0000235.txt  \n",
      "  inflating: yolo_dataset/labels/train/obj1111_frame0000033.txt  \n",
      "  inflating: yolo_dataset/labels/train/obj1246_frame0000006.txt  \n",
      "  inflating: yolo_dataset/labels/train/obj0309_frame0000037.txt  \n",
      "  inflating: yolo_dataset/labels/train/obj0319_frame0000031.txt  \n",
      "  inflating: yolo_dataset/labels/train/obj0337_frame0000023.txt  \n",
      "  inflating: yolo_dataset/labels/train/obj1505_frame0000277.txt  \n",
      "  inflating: yolo_dataset/labels/train/obj0319_frame0000025.txt  \n",
      "  inflating: yolo_dataset/labels/train/obj1281_frame0000013.txt  \n",
      "  inflating: yolo_dataset/labels/train/obj0309_frame0000023.txt  \n",
      "  inflating: yolo_dataset/labels/train/obj1654_frame0000366.txt  \n",
      "  inflating: yolo_dataset/labels/train/obj1658_frame0000182.txt  \n",
      "  inflating: yolo_dataset/labels/train/obj1074_frame0000015.txt  \n",
      "  inflating: yolo_dataset/labels/train/obj1602_frame0000057.txt  \n",
      "  inflating: yolo_dataset/labels/train/obj1297_frame0000119.txt  \n",
      "  inflating: yolo_dataset/labels/train/obj1648_frame0000184.txt  \n",
      "  inflating: yolo_dataset/labels/train/bio0016_frame0000263.txt  \n",
      "  inflating: yolo_dataset/labels/train/bio0014_frame0000021.txt  \n",
      "  inflating: yolo_dataset/labels/train/obj1658_frame0000009.txt  \n",
      "  inflating: yolo_dataset/labels/train/obj1280_frame0000111.txt  \n",
      "  inflating: yolo_dataset/labels/train/obj0226_frame0000049.txt  \n",
      "  inflating: yolo_dataset/labels/train/obj1297_frame0000092.txt  \n",
      "  inflating: yolo_dataset/labels/train/obj1502_frame0000251.txt  \n",
      "  inflating: yolo_dataset/labels/train/obj0753_frame0000165.txt  \n",
      "  inflating: yolo_dataset/labels/train/bio0017_frame0000349.txt  \n",
      "  inflating: yolo_dataset/labels/train/bio0002_frame0000088.txt  \n",
      "  inflating: yolo_dataset/labels/train/obj0301_frame0000016.txt  \n",
      "  inflating: yolo_dataset/labels/train/obj1660_frame0000111.txt  \n",
      "  inflating: yolo_dataset/labels/train/obj0226_frame0000075.txt  \n",
      "  inflating: yolo_dataset/labels/train/bio0003_frame0000001.txt  \n",
      "  inflating: yolo_dataset/labels/train/obj1502_frame0000279.txt  \n",
      "  inflating: yolo_dataset/labels/train/bio0015_frame0000137.txt  \n",
      "  inflating: yolo_dataset/labels/train/obj0707_frame0000016.txt  \n",
      "  inflating: yolo_dataset/labels/train/obj1280_frame0000139.txt  \n",
      "  inflating: yolo_dataset/labels/train/obj0301_frame0000002.txt  \n",
      "  inflating: yolo_dataset/labels/train/obj0226_frame0000061.txt  \n",
      "  inflating: yolo_dataset/labels/train/obj1111_frame0000147.txt  \n",
      "  inflating: yolo_dataset/labels/train/obj1107_frame0000065.txt  \n",
      "  inflating: yolo_dataset/labels/train/obj1505_frame0000317.txt  \n",
      "  inflating: yolo_dataset/labels/train/obj1502_frame0000292.txt  \n",
      "  inflating: yolo_dataset/labels/train/obj1502_frame0000286.txt  \n",
      "  inflating: yolo_dataset/labels/train/obj0228_frame0000010.txt  \n",
      "  inflating: yolo_dataset/labels/train/obj1505_frame0000303.txt  \n",
      "  inflating: yolo_dataset/labels/train/obj1030_frame0000014.txt  \n",
      "  inflating: yolo_dataset/labels/train/obj1111_frame0000153.txt  \n",
      "  inflating: yolo_dataset/labels/train/obj0818_frame0000035.txt  \n",
      "  inflating: yolo_dataset/labels/train/obj1107_frame0000059.txt  \n",
      "  inflating: yolo_dataset/labels/train/bio0001_frame0000280.txt  \n",
      "  inflating: yolo_dataset/labels/train/bio0010_frame0000227.txt  \n",
      "  inflating: yolo_dataset/labels/train/obj1108_frame0000076.txt  \n",
      "  inflating: yolo_dataset/labels/train/bio0016_frame0000303.txt  \n",
      "  inflating: yolo_dataset/labels/train/obj0228_frame0000038.txt  \n",
      "  inflating: yolo_dataset/labels/train/bio0012_frame0000065.txt  \n",
      "  inflating: yolo_dataset/labels/train/bio0016_frame0000317.txt  \n",
      "  inflating: yolo_dataset/labels/train/bio0001_frame0000294.txt  \n",
      "  inflating: yolo_dataset/labels/train/bio0012_frame0000298.txt  \n",
      "  inflating: yolo_dataset/labels/train/obj0248_frame0000076.txt  \n",
      "  inflating: yolo_dataset/labels/train/obj0332_frame0000045.txt  \n",
      "  inflating: yolo_dataset/labels/train/obj1626_frame0000030.txt  \n",
      "  inflating: yolo_dataset/labels/train/obj1023_frame0000024.txt  \n",
      "  inflating: yolo_dataset/labels/train/obj0748_frame0000028.txt  \n",
      "  inflating: yolo_dataset/labels/train/obj1657_frame0000224.txt  \n",
      "  inflating: yolo_dataset/labels/train/obj0348_frame0000118.txt  \n",
      "  inflating: yolo_dataset/labels/train/obj1626_frame0000024.txt  \n",
      "  inflating: yolo_dataset/labels/train/obj1023_frame0000030.txt  \n",
      "  inflating: yolo_dataset/labels/train/bio0001_frame0000069.txt  \n",
      "  inflating: yolo_dataset/labels/train/obj0332_frame0000051.txt  \n",
      "  inflating: yolo_dataset/labels/train/bio0018_frame0000164.txt  \n",
      "  inflating: yolo_dataset/labels/train/obj0248_frame0000062.txt  \n",
      "  inflating: yolo_dataset/labels/train/obj1648_frame0000219.txt  \n",
      "  inflating: yolo_dataset/labels/train/obj1523_frame0000046.txt  \n",
      "  inflating: yolo_dataset/labels/train/obj1648_frame0000231.txt  \n",
      "  inflating: yolo_dataset/labels/train/obj1617_frame0000023.txt  \n",
      "  inflating: yolo_dataset/labels/train/bio0003_frame0000203.txt  \n",
      "  inflating: yolo_dataset/labels/train/bio0001_frame0000041.txt  \n",
      "  inflating: yolo_dataset/labels/train/obj1061_frame0000061.txt  \n",
      "  inflating: yolo_dataset/labels/train/obj0009_frame0000033.txt  \n",
      "  inflating: yolo_dataset/labels/train/obj0348_frame0000124.txt  \n",
      "  inflating: yolo_dataset/labels/train/bio0017_frame0000163.txt  \n",
      "  inflating: yolo_dataset/labels/train/obj0332_frame0000079.txt  \n",
      "  inflating: yolo_dataset/labels/train/obj0313_frame0000050.txt  \n",
      "  inflating: yolo_dataset/labels/train/obj1672_frame0000157.txt  \n",
      "  inflating: yolo_dataset/labels/train/bio0017_frame0000177.txt  \n",
      "  inflating: yolo_dataset/labels/train/obj0313_frame0000044.txt  \n",
      "  inflating: yolo_dataset/labels/train/bio0018_frame0000158.txt  \n",
      "  inflating: yolo_dataset/labels/train/obj1672_frame0000143.txt  \n",
      "  inflating: yolo_dataset/labels/train/obj1626_frame0000018.txt  \n",
      "  inflating: yolo_dataset/labels/train/bio0013_frame0000211.txt  \n",
      "  inflating: yolo_dataset/labels/train/obj1629_frame0000037.txt  \n",
      "  inflating: yolo_dataset/labels/train/obj1616_frame0000096.txt  \n",
      "  inflating: yolo_dataset/labels/train/bio0001_frame0000055.txt  \n",
      "  inflating: yolo_dataset/labels/train/obj0348_frame0000130.txt  \n",
      "  inflating: yolo_dataset/labels/train/obj0009_frame0000027.txt  \n",
      "  inflating: yolo_dataset/labels/train/obj1617_frame0000037.txt  \n",
      "  inflating: yolo_dataset/labels/train/bio0015_frame0000335.txt  \n",
      "  inflating: yolo_dataset/labels/train/obj0350_frame0000077.txt  \n",
      "  inflating: yolo_dataset/labels/train/obj0214_frame0000044.txt  \n",
      "  inflating: yolo_dataset/labels/train/bio0004_frame0000379.txt  \n",
      "  inflating: yolo_dataset/labels/train/obj0007_frame0000042.txt  \n",
      "  inflating: yolo_dataset/labels/train/obj1667_frame0000269.txt  \n",
      "  inflating: yolo_dataset/labels/train/obj1505_frame0000101.txt  \n",
      "  inflating: yolo_dataset/labels/train/obj1297_frame0000247.txt  \n",
      "  inflating: yolo_dataset/labels/train/obj0350_frame0000063.txt  \n",
      "  inflating: yolo_dataset/labels/train/bio0016_frame0000129.txt  \n",
      "  inflating: yolo_dataset/labels/train/obj1652_frame0000134.txt  \n",
      "  inflating: yolo_dataset/labels/train/obj1505_frame0000129.txt  \n",
      "  inflating: yolo_dataset/labels/train/bio0000_frame0000023.txt  \n",
      "  inflating: yolo_dataset/labels/train/obj0312_frame0000032.txt  \n",
      "  inflating: yolo_dataset/labels/train/bio0016_frame0000101.txt  \n",
      "  inflating: yolo_dataset/labels/train/bio0015_frame0000484.txt  \n",
      "  inflating: yolo_dataset/labels/train/bio0010_frame0000025.txt  \n",
      "  inflating: yolo_dataset/labels/train/obj1616_frame0000041.txt  \n",
      "  inflating: yolo_dataset/labels/train/obj1616_frame0000055.txt  \n",
      "  inflating: yolo_dataset/labels/train/bio0015_frame0000490.txt  \n",
      "  inflating: yolo_dataset/labels/train/obj0312_frame0000026.txt  \n",
      "  inflating: yolo_dataset/labels/train/bio0016_frame0000115.txt  \n",
      "  inflating: yolo_dataset/labels/train/bio0002_frame0000513.txt  \n",
      "  inflating: yolo_dataset/labels/train/obj1658_frame0000586.txt  \n",
      "  inflating: yolo_dataset/labels/train/bio0000_frame0000037.txt  \n",
      "  inflating: yolo_dataset/labels/train/obj0749_frame0000062.txt  \n",
      "  inflating: yolo_dataset/labels/train/bio0010_frame0000030.txt  \n",
      "  inflating: yolo_dataset/labels/train/bio0001_frame0000097.txt  \n",
      "  inflating: yolo_dataset/labels/train/obj1652_frame0000109.txt  \n",
      "  inflating: yolo_dataset/labels/train/obj0312_frame0000027.txt  \n",
      "  inflating: yolo_dataset/labels/train/obj1505_frame0000128.txt  \n",
      "  inflating: yolo_dataset/labels/train/bio0002_frame0000260.txt  \n",
      "  inflating: yolo_dataset/labels/train/bio0001_frame0000083.txt  \n",
      "  inflating: yolo_dataset/labels/train/obj1202_frame0000576.txt  \n",
      "  inflating: yolo_dataset/labels/train/obj1654_frame0000011.txt  \n",
      "  inflating: yolo_dataset/labels/train/obj1024_frame0000177.txt  \n",
      "  inflating: yolo_dataset/labels/train/obj0350_frame0000062.txt  \n",
      "  inflating: yolo_dataset/labels/train/obj1656_frame0000253.txt  \n",
      "  inflating: yolo_dataset/labels/train/obj1505_frame0000100.txt  \n",
      "  inflating: yolo_dataset/labels/train/obj1505_frame0000114.txt  \n",
      "  inflating: yolo_dataset/labels/train/obj1297_frame0000252.txt  \n",
      "  inflating: yolo_dataset/labels/train/obj0350_frame0000076.txt  \n",
      "  inflating: yolo_dataset/labels/train/obj1024_frame0000163.txt  \n",
      "  inflating: yolo_dataset/labels/train/obj0348_frame0000131.txt  \n",
      "  inflating: yolo_dataset/labels/train/obj0313_frame0000045.txt  \n",
      "  inflating: yolo_dataset/labels/train/obj1658_frame0000550.txt  \n",
      "  inflating: yolo_dataset/labels/train/obj1523_frame0000047.txt  \n",
      "  inflating: yolo_dataset/labels/train/obj1662_frame0000150.txt  \n",
      "  inflating: yolo_dataset/labels/train/obj0348_frame0000125.txt  \n",
      "  inflating: yolo_dataset/labels/train/obj0009_frame0000032.txt  \n",
      "  inflating: yolo_dataset/labels/train/obj1658_frame0000236.txt  \n",
      "  inflating: yolo_dataset/labels/train/obj1023_frame0000019.txt  \n",
      "  inflating: yolo_dataset/labels/train/obj1629_frame0000022.txt  \n",
      "  inflating: yolo_dataset/labels/train/obj1658_frame0001128.txt  \n",
      "  inflating: yolo_dataset/labels/train/obj0332_frame0000050.txt  \n",
      "  inflating: yolo_dataset/labels/train/obj1023_frame0000031.txt  \n",
      "  inflating: yolo_dataset/labels/train/obj1655_frame0000073.txt  \n",
      "  inflating: yolo_dataset/labels/train/obj0248_frame0000063.txt  \n",
      "  inflating: yolo_dataset/labels/train/obj1033_frame0000023.txt  \n",
      "  inflating: yolo_dataset/labels/train/obj0348_frame0000119.txt  \n",
      "  inflating: yolo_dataset/labels/train/obj1023_frame0000025.txt  \n",
      "  inflating: yolo_dataset/labels/train/bio0018_frame0000171.txt  \n",
      "  inflating: yolo_dataset/labels/train/bio0004_frame0000152.txt  \n",
      "  inflating: yolo_dataset/labels/train/bio0000_frame0000234.txt  \n",
      "  inflating: yolo_dataset/labels/train/obj1108_frame0000063.txt  \n",
      "  inflating: yolo_dataset/labels/train/bio0015_frame0000693.txt  \n",
      "  inflating: yolo_dataset/labels/train/bio0016_frame0000470.txt  \n",
      "  inflating: yolo_dataset/labels/train/bio0016_frame0000464.txt  \n",
      "  inflating: yolo_dataset/labels/train/bio0000_frame0000220.txt  \n",
      "  inflating: yolo_dataset/labels/train/obj0228_frame0000039.txt  \n",
      "  inflating: yolo_dataset/labels/train/bio0004_frame0000146.txt  \n",
      "  inflating: yolo_dataset/labels/train/obj1505_frame0000302.txt  \n",
      "  inflating: yolo_dataset/labels/train/bio0000_frame0000208.txt  \n",
      "  inflating: yolo_dataset/labels/train/obj1502_frame0000287.txt  \n",
      "  inflating: yolo_dataset/labels/train/bio0014_frame0000168.txt  \n",
      "  inflating: yolo_dataset/labels/train/obj1107_frame0000070.txt  \n",
      "  inflating: yolo_dataset/labels/train/obj1664_frame0000289.txt  \n",
      "  inflating: yolo_dataset/labels/train/obj1024_frame0000361.txt  \n",
      "  inflating: yolo_dataset/labels/train/obj0228_frame0000005.txt  \n",
      "  inflating: yolo_dataset/labels/train/obj1502_frame0000293.txt  \n",
      "  inflating: yolo_dataset/labels/train/bio0012_frame0000058.txt  \n",
      "  inflating: yolo_dataset/labels/train/obj1030_frame0000001.txt  \n",
      "  inflating: yolo_dataset/labels/train/obj0707_frame0000017.txt  \n",
      "  inflating: yolo_dataset/labels/train/obj0854_frame0000014.txt  \n",
      "  inflating: yolo_dataset/labels/train/obj1658_frame0002151.txt  \n",
      "  inflating: yolo_dataset/labels/train/obj1502_frame0000278.txt  \n",
      "  inflating: yolo_dataset/labels/train/obj0236_frame0000066.txt  \n",
      "  inflating: yolo_dataset/labels/train/obj0226_frame0000060.txt  \n",
      "  inflating: yolo_dataset/labels/train/bio0017_frame0000374.txt  \n",
      "  inflating: yolo_dataset/labels/train/obj0301_frame0000003.txt  \n",
      "  inflating: yolo_dataset/labels/train/bio0013_frame0000012.txt  \n",
      "  inflating: yolo_dataset/labels/train/obj1073_frame0000032.txt  \n",
      "  inflating: yolo_dataset/labels/train/bio0001_frame0000256.txt  \n",
      "  inflating: yolo_dataset/labels/train/obj1073_frame0000026.txt  \n",
      "  inflating: yolo_dataset/labels/train/bio0001_frame0000242.txt  \n",
      "  inflating: yolo_dataset/labels/train/obj1658_frame0000034.txt  \n",
      "  inflating: yolo_dataset/labels/train/obj0226_frame0000074.txt  \n",
      "  inflating: yolo_dataset/labels/train/bio0015_frame0000644.txt  \n",
      "  inflating: yolo_dataset/labels/train/bio0014_frame0000183.txt  \n",
      "  inflating: yolo_dataset/labels/train/obj0301_frame0000017.txt  \n",
      "  inflating: yolo_dataset/labels/train/obj1663_frame0000495.txt  \n",
      "  inflating: yolo_dataset/labels/train/bio0015_frame0000122.txt  \n",
      "  inflating: yolo_dataset/labels/train/obj0236_frame0000072.txt  \n",
      "  inflating: yolo_dataset/labels/train/obj1502_frame0000244.txt  \n",
      "  inflating: yolo_dataset/labels/train/obj1251_frame0000027.txt  \n",
      "  inflating: yolo_dataset/labels/train/obj1617_frame0000208.txt  \n",
      "  inflating: yolo_dataset/labels/train/obj0854_frame0000028.txt  \n",
      "  inflating: yolo_dataset/labels/train/obj1658_frame0001464.txt  \n",
      "  inflating: yolo_dataset/labels/train/obj0226_frame0000048.txt  \n",
      "  inflating: yolo_dataset/labels/train/bio0015_frame0000678.txt  \n",
      "  inflating: yolo_dataset/labels/train/obj0708_frame0000010.txt  \n",
      "  inflating: yolo_dataset/labels/train/obj1502_frame0000250.txt  \n",
      "  inflating: yolo_dataset/labels/train/obj1251_frame0000033.txt  \n",
      "  inflating: yolo_dataset/labels/train/bio0004_frame0000026.txt  \n",
      "  inflating: yolo_dataset/labels/train/obj1602_frame0000042.txt  \n",
      "  inflating: yolo_dataset/labels/train/bio0012_frame0000104.txt  \n",
      "  inflating: yolo_dataset/labels/train/obj0319_frame0000018.txt  \n",
      "  inflating: yolo_dataset/labels/train/bio0002_frame0000102.txt  \n",
      "  inflating: yolo_dataset/labels/train/bio0002_frame0000116.txt  \n",
      "  inflating: yolo_dataset/labels/train/obj1602_frame0000056.txt  \n",
      "  inflating: yolo_dataset/labels/train/obj0319_frame0000024.txt  \n",
      "  inflating: yolo_dataset/labels/train/obj1654_frame0000401.txt  \n",
      "  inflating: yolo_dataset/labels/train/obj0337_frame0000022.txt  \n",
      "  inflating: yolo_dataset/labels/train/obj0309_frame0000036.txt  \n",
      "  inflating: yolo_dataset/labels/train/obj1281_frame0000006.txt  \n",
      "  inflating: yolo_dataset/labels/train/obj1505_frame0000262.txt  \n",
      "  inflating: yolo_dataset/labels/train/obj0337_frame0000036.txt  \n",
      "  inflating: yolo_dataset/labels/train/obj1505_frame0000289.txt  \n",
      "  inflating: yolo_dataset/labels/train/obj1602_frame0000081.txt  \n",
      "  inflating: yolo_dataset/labels/train/obj1658_frame0002025.txt  \n",
      "  inflating: yolo_dataset/labels/train/obj0002_frame0000019.txt  \n",
      "  inflating: yolo_dataset/labels/train/bio0001_frame0000322.txt  \n",
      "  inflating: yolo_dataset/labels/train/obj0317_frame0000041.txt  \n",
      "  inflating: yolo_dataset/labels/train/obj1672_frame0000220.txt  \n",
      "  inflating: yolo_dataset/labels/train/obj1502_frame0000318.txt  \n",
      "  inflating: yolo_dataset/labels/train/obj1038_frame0000020.txt  \n",
      "  inflating: yolo_dataset/labels/train/bio0011_frame0000330.txt  \n",
      "  inflating: yolo_dataset/labels/train/obj1502_frame0000330.txt  \n",
      "  inflating: yolo_dataset/labels/train/obj1280_frame0000070.txt  \n",
      "  inflating: yolo_dataset/labels/train/obj0317_frame0000069.txt  \n",
      "  inflating: yolo_dataset/labels/train/bio0015_frame0000718.txt  \n",
      "  inflating: yolo_dataset/labels/train/obj0002_frame0000031.txt  \n",
      "  inflating: yolo_dataset/labels/train/obj1603_frame0000008.txt  \n",
      "  inflating: yolo_dataset/labels/train/obj0243_frame0000048.txt  \n",
      "  inflating: yolo_dataset/labels/train/bio0016_frame0000289.txt  \n",
      "  inflating: yolo_dataset/labels/train/obj1502_frame0000324.txt  \n",
      "  inflating: yolo_dataset/labels/train/obj1054_frame0000063.txt  \n",
      "  inflating: yolo_dataset/labels/train/obj0348_frame0000086.txt  \n",
      "  inflating: yolo_dataset/labels/train/bio0002_frame0000300.txt  \n",
      "  inflating: yolo_dataset/labels/train/obj1616_frame0000120.txt  \n",
      "  inflating: yolo_dataset/labels/train/obj1505_frame0000048.txt  \n",
      "  inflating: yolo_dataset/labels/train/obj0749_frame0000117.txt  \n",
      "  inflating: yolo_dataset/labels/train/obj0011_frame0000029.txt  \n",
      "  inflating: yolo_dataset/labels/train/obj0212_frame0000029.txt  \n",
      "  inflating: yolo_dataset/labels/train/bio0010_frame0000178.txt  \n",
      "  inflating: yolo_dataset/labels/train/obj1654_frame0000165.txt  \n",
      "  inflating: yolo_dataset/labels/train/obj0202_frame0000007.txt  \n",
      "  inflating: yolo_dataset/labels/train/obj1505_frame0000074.txt  \n",
      "  inflating: yolo_dataset/labels/train/obj0202_frame0000013.txt  \n",
      "  inflating: yolo_dataset/labels/train/obj1505_frame0000060.txt  \n",
      "  inflating: yolo_dataset/labels/train/obj1076_frame0000068.txt  \n",
      "  inflating: yolo_dataset/labels/train/obj0011_frame0000015.txt  \n",
      "  inflating: yolo_dataset/labels/train/obj0347_frame0000081.txt  \n",
      "  inflating: yolo_dataset/labels/train/obj0212_frame0000015.txt  \n",
      "  inflating: yolo_dataset/labels/train/obj1616_frame0000108.txt  \n",
      "  inflating: yolo_dataset/labels/train/obj1664_frame0000114.txt  \n",
      "  inflating: yolo_dataset/labels/train/obj0305_frame0000013.txt  \n",
      "  inflating: yolo_dataset/labels/train/obj1061_frame0000100.txt  \n",
      "  inflating: yolo_dataset/labels/train/obj0348_frame0000045.txt  \n",
      "  inflating: yolo_dataset/labels/train/bio0015_frame0000240.txt  \n",
      "  inflating: yolo_dataset/labels/train/obj1617_frame0000142.txt  \n",
      "  inflating: yolo_dataset/labels/train/obj0334_frame0000028.txt  \n",
      "  inflating: yolo_dataset/labels/train/obj1282_frame0000018.txt  \n",
      "  inflating: yolo_dataset/labels/train/obj0713_frame0000015.txt  \n",
      "  inflating: yolo_dataset/labels/train/bio0017_frame0000016.txt  \n",
      "  inflating: yolo_dataset/labels/train/obj0241_frame0000034.txt  \n",
      "  inflating: yolo_dataset/labels/train/obj1664_frame0000100.txt  \n",
      "  inflating: yolo_dataset/labels/train/obj0348_frame0000051.txt  \n",
      "  inflating: yolo_dataset/labels/train/obj0305_frame0000007.txt  \n",
      "  inflating: yolo_dataset/labels/train/obj0347_frame0000056.txt  \n",
      "  inflating: yolo_dataset/labels/train/obj0348_frame0000079.txt  \n",
      "  inflating: yolo_dataset/labels/train/obj1050_frame0000113.txt  \n",
      "  inflating: yolo_dataset/labels/train/obj1255_frame0000037.txt  \n",
      "  inflating: yolo_dataset/labels/train/obj1502_frame0000132.txt  \n",
      "  inflating: yolo_dataset/labels/train/obj1502_frame0000126.txt  \n",
      "  inflating: yolo_dataset/labels/train/obj1648_frame0000378.txt  \n",
      "  inflating: yolo_dataset/labels/train/obj1050_frame0000107.txt  \n",
      "  inflating: yolo_dataset/labels/train/obj0334_frame0000014.txt  \n",
      "  inflating: yolo_dataset/labels/train/obj0347_frame0000042.txt  \n",
      "  inflating: yolo_dataset/labels/train/obj0713_frame0000029.txt  \n",
      "  inflating: yolo_dataset/labels/train/obj0751_frame0000050.txt  \n",
      "  inflating: yolo_dataset/labels/train/obj1502_frame0000130.txt  \n",
      "  inflating: yolo_dataset/labels/train/obj1655_frame0000105.txt  \n",
      "  inflating: yolo_dataset/labels/train/obj1218_frame0000063.txt  \n",
      "  inflating: yolo_dataset/labels/train/obj0334_frame0000002.txt  \n",
      "  inflating: yolo_dataset/labels/train/obj0751_frame0000046.txt  \n",
      "  inflating: yolo_dataset/labels/train/obj0347_frame0000040.txt  \n",
      "  inflating: yolo_dataset/labels/train/obj0334_frame0000016.txt  \n",
      "  inflating: yolo_dataset/labels/train/obj1652_frame0000094.txt  \n",
      "  inflating: yolo_dataset/labels/train/obj1502_frame0000124.txt  \n",
      "  inflating: yolo_dataset/labels/train/obj1505_frame0000089.txt  \n",
      "  inflating: yolo_dataset/labels/train/obj1655_frame0000139.txt  \n",
      "  inflating: yolo_dataset/labels/train/obj1255_frame0000009.txt  \n",
      "  inflating: yolo_dataset/labels/train/obj1617_frame0000140.txt  \n",
      "  inflating: yolo_dataset/labels/train/bio0000_frame0000183.txt  \n",
      "  inflating: yolo_dataset/labels/train/obj0348_frame0000047.txt  \n",
      "  inflating: yolo_dataset/labels/train/obj1061_frame0000102.txt  \n",
      "  inflating: yolo_dataset/labels/train/obj0305_frame0000011.txt  \n",
      "  inflating: yolo_dataset/labels/train/obj1648_frame0000434.txt  \n",
      "  inflating: yolo_dataset/labels/train/obj1061_frame0000116.txt  \n",
      "  inflating: yolo_dataset/labels/train/obj0348_frame0000053.txt  \n",
      "  inflating: yolo_dataset/labels/train/obj1502_frame0000118.txt  \n",
      "  inflating: yolo_dataset/labels/train/bio0015_frame0000256.txt  \n",
      "  inflating: yolo_dataset/labels/train/obj1617_frame0000154.txt  \n",
      "  inflating: yolo_dataset/labels/train/bio0000_frame0000197.txt  \n",
      "  inflating: yolo_dataset/labels/train/obj0749_frame0000129.txt  \n",
      "  inflating: yolo_dataset/labels/train/obj1505_frame0000076.txt  \n",
      "  inflating: yolo_dataset/labels/train/obj0212_frame0000017.txt  \n",
      "  inflating: yolo_dataset/labels/train/obj0347_frame0000083.txt  \n",
      "  inflating: yolo_dataset/labels/train/obj0011_frame0000017.txt  \n",
      "  inflating: yolo_dataset/labels/train/obj0750_frame0000030.txt  \n",
      "  inflating: yolo_dataset/labels/train/obj0202_frame0000011.txt  \n",
      "  inflating: yolo_dataset/labels/train/bio0004_frame0000226.txt  \n",
      "  inflating: yolo_dataset/labels/train/obj1616_frame0000122.txt  \n",
      "  inflating: yolo_dataset/labels/train/obj0348_frame0000084.txt  \n",
      "  inflating: yolo_dataset/labels/train/bio0014_frame0000234.txt  \n",
      "  inflating: yolo_dataset/labels/train/obj0348_frame0000090.txt  \n",
      "  inflating: yolo_dataset/labels/train/bio0010_frame0000152.txt  \n",
      "  inflating: yolo_dataset/labels/train/bio0004_frame0000232.txt  \n",
      "  inflating: yolo_dataset/labels/train/obj0002_frame0000027.txt  \n",
      "  inflating: yolo_dataset/labels/train/obj0747_frame0000366.txt  \n",
      "  inflating: yolo_dataset/labels/train/obj1502_frame0000332.txt  \n",
      "  inflating: yolo_dataset/labels/train/obj1502_frame0000326.txt  \n",
      "  inflating: yolo_dataset/labels/train/bio0001_frame0000308.txt  \n",
      "  inflating: yolo_dataset/labels/train/obj0002_frame0000033.txt  \n",
      "  inflating: yolo_dataset/labels/train/obj0317_frame0000057.txt  \n",
      "  inflating: yolo_dataset/labels/train/bio0001_frame0000320.txt  \n",
      "  inflating: yolo_dataset/labels/train/obj1602_frame0000083.txt  \n",
      "  inflating: yolo_dataset/labels/train/obj1658_frame0000630.txt  \n",
      "  inflating: yolo_dataset/labels/train/bio0011_frame0000326.txt  \n",
      "  inflating: yolo_dataset/labels/train/obj0307_frame0000045.txt  \n",
      "  inflating: yolo_dataset/labels/train/bio0003_frame0000176.txt  \n",
      "  inflating: yolo_dataset/labels/train/obj1038_frame0000022.txt  \n",
      "  inflating: yolo_dataset/labels/train/bio0015_frame0000054.txt  \n",
      "  inflating: yolo_dataset/labels/train/bio0017_frame0000216.txt  \n",
      "  inflating: yolo_dataset/labels/train/obj1660_frame0000066.txt  \n",
      "  inflating: yolo_dataset/labels/train/obj1664_frame0000300.txt  \n",
      "  inflating: yolo_dataset/labels/train/obj0317_frame0000043.txt  \n",
      "  inflating: yolo_dataset/labels/train/bio0001_frame0000334.txt  \n",
      "  inflating: yolo_dataset/labels/train/obj1111_frame0000024.txt  \n",
      "  inflating: yolo_dataset/labels/train/obj1064_frame0000038.txt  \n",
      "  inflating: yolo_dataset/labels/train/obj1505_frame0000274.txt  \n",
      "  inflating: yolo_dataset/labels/train/obj0337_frame0000020.txt  \n",
      "  inflating: yolo_dataset/labels/train/obj1281_frame0000010.txt  \n",
      "  inflating: yolo_dataset/labels/train/obj0319_frame0000032.txt  \n",
      "  inflating: yolo_dataset/labels/train/obj0337_frame0000034.txt  \n",
      "  inflating: yolo_dataset/labels/train/obj1602_frame0000068.txt  \n",
      "  inflating: yolo_dataset/labels/train/obj0786_frame0000294.txt  \n",
      "  inflating: yolo_dataset/labels/train/obj1111_frame0000030.txt  \n",
      "  inflating: yolo_dataset/labels/train/bio0002_frame0000128.txt  \n",
      "  inflating: yolo_dataset/labels/train/obj0309_frame0000034.txt  \n",
      "  inflating: yolo_dataset/labels/train/bio0016_frame0000506.txt  \n",
      "  inflating: yolo_dataset/labels/train/obj1111_frame0000018.txt  \n",
      "  inflating: yolo_dataset/labels/train/bio0002_frame0000100.txt  \n",
      "  inflating: yolo_dataset/labels/train/obj1505_frame0000248.txt  \n",
      "  inflating: yolo_dataset/labels/train/bio0002_frame0000666.txt  \n",
      "  inflating: yolo_dataset/labels/train/obj1602_frame0000040.txt  \n",
      "  inflating: yolo_dataset/labels/train/bio0016_frame0000260.txt  \n",
      "  inflating: yolo_dataset/labels/train/obj1602_frame0000054.txt  \n",
      "  inflating: yolo_dataset/labels/train/bio0015_frame0000097.txt  \n",
      "  inflating: yolo_dataset/labels/train/bio0002_frame0000672.txt  \n",
      "  inflating: yolo_dataset/labels/train/obj1281_frame0000038.txt  \n",
      "  inflating: yolo_dataset/labels/train/obj0221_frame0000044.txt  \n",
      "  inflating: yolo_dataset/labels/train/bio0002_frame0000114.txt  \n",
      "  inflating: yolo_dataset/labels/train/bio0014_frame0000036.txt  \n",
      "  inflating: yolo_dataset/labels/train/bio0016_frame0000512.txt  \n",
      "  inflating: yolo_dataset/labels/train/bio0001_frame0000268.txt  \n",
      "  inflating: yolo_dataset/labels/train/obj0236_frame0000058.txt  \n",
      "  inflating: yolo_dataset/labels/train/obj1502_frame0000246.txt  \n",
      "  inflating: yolo_dataset/labels/train/obj1502_frame0000252.txt  \n",
      "  inflating: yolo_dataset/labels/train/obj0301_frame0000029.txt  \n",
      "  inflating: yolo_dataset/labels/train/bio0001_frame0000254.txt  \n",
      "  inflating: yolo_dataset/labels/train/obj1073_frame0000030.txt  \n",
      "  inflating: yolo_dataset/labels/train/obj0865_frame0000039.txt  \n",
      "  inflating: yolo_dataset/labels/train/obj0301_frame0000001.txt  \n",
      "  inflating: yolo_dataset/labels/train/obj0226_frame0000062.txt  \n",
      "  inflating: yolo_dataset/labels/train/obj0236_frame0000064.txt  \n",
      "  inflating: yolo_dataset/labels/train/bio0004_frame0000193.txt  \n",
      "  inflating: yolo_dataset/labels/train/obj1662_frame0000344.txt  \n",
      "  inflating: yolo_dataset/labels/train/obj0707_frame0000015.txt  \n",
      "  inflating: yolo_dataset/labels/train/obj1617_frame0000236.txt  \n",
      "  inflating: yolo_dataset/labels/train/obj1617_frame0000222.txt  \n",
      "  inflating: yolo_dataset/labels/train/obj0236_frame0000070.txt  \n",
      "  inflating: yolo_dataset/labels/train/bio0004_frame0000187.txt  \n",
      "  inflating: yolo_dataset/labels/train/obj0301_frame0000015.txt  \n",
      "  inflating: yolo_dataset/labels/train/obj0226_frame0000076.txt  \n",
      "  inflating: yolo_dataset/labels/train/obj1667_frame0000097.txt  \n",
      "  inflating: yolo_dataset/labels/train/bio0011_frame0000520.txt  \n",
      "  inflating: yolo_dataset/labels/train/bio0001_frame0000240.txt  \n",
      "  inflating: yolo_dataset/labels/train/obj1107_frame0000072.txt  \n",
      "  inflating: yolo_dataset/labels/train/obj0228_frame0000013.txt  \n",
      "  inflating: yolo_dataset/labels/train/obj1505_frame0000300.txt  \n",
      "  inflating: yolo_dataset/labels/train/obj1505_frame0000314.txt  \n",
      "  inflating: yolo_dataset/labels/train/obj1502_frame0000291.txt  \n",
      "  inflating: yolo_dataset/labels/train/obj1654_frame0000205.txt  \n",
      "  inflating: yolo_dataset/labels/train/obj0309_frame0000140.txt  \n",
      "  inflating: yolo_dataset/labels/train/bio0016_frame0000472.txt  \n",
      "  inflating: yolo_dataset/labels/train/obj1663_frame0000326.txt  \n",
      "  inflating: yolo_dataset/labels/train/obj0818_frame0000022.txt  \n",
      "  inflating: yolo_dataset/labels/train/bio0000_frame0000236.txt  \n",
      "  inflating: yolo_dataset/labels/train/obj1658_frame0000787.txt  \n",
      "  inflating: yolo_dataset/labels/train/obj1658_frame0002184.txt  \n",
      "  inflating: yolo_dataset/labels/train/bio0000_frame0000222.txt  \n",
      "  inflating: yolo_dataset/labels/train/obj1505_frame0000328.txt  \n",
      "  inflating: yolo_dataset/labels/train/bio0016_frame0000466.txt  \n",
      "  inflating: yolo_dataset/labels/train/obj0248_frame0000061.txt  \n",
      "  inflating: yolo_dataset/labels/train/obj1033_frame0000035.txt  \n",
      "  inflating: yolo_dataset/labels/train/obj1023_frame0000033.txt  \n",
      "  inflating: yolo_dataset/labels/train/obj0009_frame0000018.txt  \n",
      "  inflating: yolo_dataset/labels/train/obj0332_frame0000052.txt  \n",
      "  inflating: yolo_dataset/labels/train/bio0018_frame0000167.txt  \n",
      "  inflating: yolo_dataset/labels/train/obj0332_frame0000046.txt  \n",
      "  inflating: yolo_dataset/labels/train/bio0018_frame0000173.txt  \n",
      "  inflating: yolo_dataset/labels/train/obj1672_frame0000168.txt  \n",
      "  inflating: yolo_dataset/labels/train/obj1023_frame0000027.txt  \n",
      "  inflating: yolo_dataset/labels/train/obj0747_frame0000004.txt  \n",
      "  inflating: yolo_dataset/labels/train/obj1050_frame0000071.txt  \n",
      "  inflating: yolo_dataset/labels/train/obj0248_frame0000075.txt  \n",
      "  inflating: yolo_dataset/labels/train/obj1658_frame0002351.txt  \n",
      "  inflating: yolo_dataset/labels/train/obj1294_frame0000058.txt  \n",
      "  inflating: yolo_dataset/labels/train/bio0004_frame0000391.txt  \n",
      "  inflating: yolo_dataset/labels/train/obj1672_frame0000140.txt  \n",
      "  inflating: yolo_dataset/labels/train/obj1061_frame0000076.txt  \n",
      "  inflating: yolo_dataset/labels/train/obj0348_frame0000133.txt  \n",
      "  inflating: yolo_dataset/labels/train/bio0013_frame0000206.txt  \n",
      "  inflating: yolo_dataset/labels/train/obj1629_frame0000020.txt  \n",
      "  inflating: yolo_dataset/labels/train/obj0856_frame0000042.txt  \n",
      "  inflating: yolo_dataset/labels/train/obj0009_frame0000030.txt  \n",
      "  inflating: yolo_dataset/labels/train/obj0348_frame0000127.txt  \n",
      "  inflating: yolo_dataset/labels/train/obj0313_frame0000053.txt  \n",
      "  inflating: yolo_dataset/labels/train/bio0015_frame0000444.txt  \n",
      "  inflating: yolo_dataset/labels/train/obj0248_frame0000049.txt  \n",
      "  inflating: yolo_dataset/labels/train/obj1523_frame0000045.txt  \n",
      "  inflating: yolo_dataset/labels/train/bio0004_frame0000385.txt  \n",
      "  inflating: yolo_dataset/labels/train/bio0003_frame0000200.txt  \n",
      "  inflating: yolo_dataset/labels/train/obj1505_frame0000102.txt  \n",
      "  inflating: yolo_dataset/labels/train/bio0000_frame0000008.txt  \n",
      "  inflating: yolo_dataset/labels/train/obj0312_frame0000019.txt  \n",
      "  inflating: yolo_dataset/labels/train/obj0350_frame0000060.txt  \n",
      "  inflating: yolo_dataset/labels/train/obj1024_frame0000161.txt  \n",
      "  inflating: yolo_dataset/labels/train/obj0350_frame0000074.txt  \n",
      "  inflating: yolo_dataset/labels/train/obj0214_frame0000047.txt  \n",
      "  inflating: yolo_dataset/labels/train/obj1505_frame0000116.txt  \n",
      "  inflating: yolo_dataset/labels/train/bio0012_frame0000258.txt  \n",
      "  inflating: yolo_dataset/labels/train/obj0007_frame0000041.txt  \n",
      "  inflating: yolo_dataset/labels/train/obj1662_frame0000185.txt  \n",
      "  inflating: yolo_dataset/labels/train/bio0004_frame0000352.txt  \n",
      "  inflating: yolo_dataset/labels/train/bio0002_frame0000510.txt  \n",
      "  inflating: yolo_dataset/labels/train/bio0001_frame0000095.txt  \n",
      "  inflating: yolo_dataset/labels/train/obj1667_frame0000242.txt  \n",
      "  inflating: yolo_dataset/labels/train/bio0002_frame0000276.txt  \n",
      "  inflating: yolo_dataset/labels/train/obj1024_frame0000149.txt  \n",
      "  inflating: yolo_dataset/labels/train/bio0002_frame0000262.txt  \n",
      "  inflating: yolo_dataset/labels/train/bio0002_frame0000504.txt  \n",
      "  inflating: yolo_dataset/labels/train/obj0312_frame0000031.txt  \n",
      "  inflating: yolo_dataset/labels/train/obj0350_frame0000048.txt  \n",
      "  inflating: yolo_dataset/labels/train/bio0004_frame0000346.txt  \n",
      "  inflating: yolo_dataset/labels/train/obj1672_frame0000196.txt  \n",
      "  inflating: yolo_dataset/labels/train/obj1662_frame0000190.txt  \n",
      "  inflating: yolo_dataset/labels/train/obj0350_frame0000049.txt  \n",
      "  inflating: yolo_dataset/labels/train/obj0312_frame0000030.txt  \n",
      "  inflating: yolo_dataset/labels/train/bio0000_frame0000021.txt  \n",
      "  inflating: yolo_dataset/labels/train/obj1658_frame0001842.txt  \n",
      "  inflating: yolo_dataset/labels/train/bio0000_frame0000035.txt  \n",
      "  inflating: yolo_dataset/labels/train/bio0016_frame0000117.txt  \n",
      "  inflating: yolo_dataset/labels/train/obj0312_frame0000024.txt  \n",
      "  inflating: yolo_dataset/labels/train/obj1672_frame0000182.txt  \n",
      "  inflating: yolo_dataset/labels/train/obj1616_frame0000057.txt  \n",
      "  inflating: yolo_dataset/labels/train/obj1654_frame0000006.txt  \n",
      "  inflating: yolo_dataset/labels/train/obj1051_frame0000012.txt  \n",
      "  inflating: yolo_dataset/labels/train/obj0007_frame0000040.txt  \n",
      "  inflating: yolo_dataset/labels/train/obj1505_frame0000117.txt  \n",
      "  inflating: yolo_dataset/labels/train/obj0350_frame0000075.txt  \n",
      "  inflating: yolo_dataset/labels/train/obj0750_frame0000145.txt  \n",
      "  inflating: yolo_dataset/labels/train/obj0350_frame0000061.txt  \n",
      "  inflating: yolo_dataset/labels/train/obj0312_frame0000018.txt  \n",
      "  inflating: yolo_dataset/labels/train/obj1505_frame0000103.txt  \n",
      "  inflating: yolo_dataset/labels/train/obj1051_frame0000006.txt  \n",
      "  inflating: yolo_dataset/labels/train/obj1672_frame0000155.txt  \n",
      "  inflating: yolo_dataset/labels/train/obj0348_frame0000126.txt  \n",
      "  inflating: yolo_dataset/labels/train/obj0009_frame0000031.txt  \n",
      "  inflating: yolo_dataset/labels/train/bio0001_frame0000043.txt  \n",
      "  inflating: yolo_dataset/labels/train/obj1617_frame0000021.txt  \n",
      "  inflating: yolo_dataset/labels/train/obj1523_frame0000044.txt  \n",
      "  inflating: yolo_dataset/labels/train/obj0248_frame0000048.txt  \n",
      "  inflating: yolo_dataset/labels/train/obj1662_frame0000147.txt  \n",
      "  inflating: yolo_dataset/labels/train/obj1523_frame0000050.txt  \n",
      "  inflating: yolo_dataset/labels/train/obj1658_frame0001659.txt  \n",
      "  inflating: yolo_dataset/labels/train/bio0003_frame0000215.txt  \n",
      "  inflating: yolo_dataset/labels/train/obj1617_frame0000035.txt  \n",
      "  inflating: yolo_dataset/labels/train/obj0348_frame0000132.txt  \n",
      "  inflating: yolo_dataset/labels/train/bio0001_frame0000057.txt  \n",
      "  inflating: yolo_dataset/labels/train/obj1629_frame0000035.txt  \n",
      "  inflating: yolo_dataset/labels/train/obj1616_frame0000094.txt  \n",
      "  inflating: yolo_dataset/labels/train/obj0313_frame0000046.txt  \n",
      "  inflating: yolo_dataset/labels/train/obj1023_frame0000026.txt  \n",
      "  inflating: yolo_dataset/labels/train/obj1626_frame0000032.txt  \n",
      "  inflating: yolo_dataset/labels/train/obj1284_frame0000077.txt  \n",
      "  inflating: yolo_dataset/labels/train/bio0015_frame0000479.txt  \n",
      "  inflating: yolo_dataset/labels/train/obj1294_frame0000071.txt  \n",
      "  inflating: yolo_dataset/labels/train/obj0248_frame0000074.txt  \n",
      "  inflating: yolo_dataset/labels/train/obj1617_frame0000009.txt  \n",
      "  inflating: yolo_dataset/labels/train/obj1294_frame0000065.txt  \n",
      "  inflating: yolo_dataset/labels/train/obj0248_frame0000060.txt  \n",
      "  inflating: yolo_dataset/labels/train/obj0332_frame0000053.txt  \n",
      "  inflating: yolo_dataset/labels/train/obj0009_frame0000019.txt  \n",
      "  inflating: yolo_dataset/labels/train/obj1629_frame0000009.txt  \n",
      "  inflating: yolo_dataset/labels/train/bio0002_frame0000288.txt  \n",
      "  inflating: yolo_dataset/labels/train/obj1505_frame0000329.txt  \n",
      "  inflating: yolo_dataset/labels/train/bio0016_frame0000301.txt  \n",
      "  inflating: yolo_dataset/labels/train/obj1663_frame0000455.txt  \n",
      "  inflating: yolo_dataset/labels/train/bio0014_frame0000143.txt  \n",
      "  inflating: yolo_dataset/labels/train/obj1663_frame0000333.txt  \n",
      "  inflating: yolo_dataset/labels/train/obj1108_frame0000074.txt  \n",
      "  inflating: yolo_dataset/labels/train/bio0001_frame0000282.txt  \n",
      "  inflating: yolo_dataset/labels/train/obj1604_frame0000005.txt  \n",
      "  inflating: yolo_dataset/labels/train/bio0001_frame0000296.txt  \n",
      "  inflating: yolo_dataset/labels/train/obj1667_frame0000041.txt  \n",
      "  inflating: yolo_dataset/labels/train/obj0818_frame0000023.txt  \n",
      "  inflating: yolo_dataset/labels/train/bio0016_frame0000315.txt  \n",
      "  inflating: yolo_dataset/labels/train/bio0012_frame0000073.txt  \n",
      "  inflating: yolo_dataset/labels/train/obj1658_frame0001498.txt  \n",
      "  inflating: yolo_dataset/labels/train/obj0228_frame0000006.txt  \n",
      "  inflating: yolo_dataset/labels/train/obj1502_frame0000290.txt  \n",
      "  inflating: yolo_dataset/labels/train/obj1505_frame0000315.txt  \n",
      "  inflating: yolo_dataset/labels/train/obj1111_frame0000145.txt  \n",
      "  inflating: yolo_dataset/labels/train/obj1107_frame0000073.txt  \n",
      "  inflating: yolo_dataset/labels/train/obj1654_frame0000210.txt  \n",
      "  inflating: yolo_dataset/labels/train/obj1505_frame0000301.txt  \n",
      "  inflating: yolo_dataset/labels/train/obj1030_frame0000016.txt  \n",
      "  inflating: yolo_dataset/labels/train/obj1656_frame0000052.txt  \n",
      "  inflating: yolo_dataset/labels/train/obj0228_frame0000012.txt  \n",
      "  inflating: yolo_dataset/labels/train/bio0016_frame0000329.txt  \n",
      "  inflating: yolo_dataset/labels/train/obj1502_frame0000284.txt  \n",
      "  inflating: yolo_dataset/labels/train/obj0236_frame0000071.txt  \n",
      "  inflating: yolo_dataset/labels/train/obj1107_frame0000098.txt  \n",
      "  inflating: yolo_dataset/labels/train/bio0017_frame0000363.txt  \n",
      "  inflating: yolo_dataset/labels/train/obj0226_frame0000077.txt  \n",
      "  inflating: yolo_dataset/labels/train/obj0301_frame0000014.txt  \n",
      "  inflating: yolo_dataset/labels/train/obj1667_frame0000082.txt  \n",
      "  inflating: yolo_dataset/labels/train/obj0707_frame0000014.txt  \n",
      "  inflating: yolo_dataset/labels/train/obj0236_frame0000065.txt  \n",
      "  inflating: yolo_dataset/labels/train/obj1502_frame0000253.txt  \n",
      "  inflating: yolo_dataset/labels/train/obj1280_frame0000107.txt  \n",
      "  inflating: yolo_dataset/labels/train/obj1054_frame0000100.txt  \n",
      "  inflating: yolo_dataset/labels/train/obj1502_frame0000247.txt  \n",
      "  inflating: yolo_dataset/labels/train/obj1251_frame0000024.txt  \n",
      "  inflating: yolo_dataset/labels/train/obj0236_frame0000059.txt  \n",
      "  inflating: yolo_dataset/labels/train/obj1042_frame0000022.txt  \n",
      "  inflating: yolo_dataset/labels/train/obj0337_frame0000009.txt  \n",
      "  inflating: yolo_dataset/labels/train/bio0016_frame0000275.txt  \n",
      "  inflating: yolo_dataset/labels/train/obj1602_frame0000055.txt  \n",
      "  inflating: yolo_dataset/labels/train/obj1202_frame0000603.txt  \n",
      "  inflating: yolo_dataset/labels/train/obj0221_frame0000045.txt  \n",
      "  inflating: yolo_dataset/labels/train/obj1280_frame0000098.txt  \n",
      "  inflating: yolo_dataset/labels/train/bio0011_frame0000496.txt  \n",
      "  inflating: yolo_dataset/labels/train/bio0015_frame0000082.txt  \n",
      "  inflating: yolo_dataset/labels/train/obj1602_frame0000041.txt  \n",
      "  inflating: yolo_dataset/labels/train/obj1505_frame0000249.txt  \n",
      "  inflating: yolo_dataset/labels/train/obj1602_frame0000069.txt  \n",
      "  inflating: yolo_dataset/labels/train/obj0337_frame0000035.txt  \n",
      "  inflating: yolo_dataset/labels/train/bio0003_frame0000188.txt  \n",
      "  inflating: yolo_dataset/labels/train/obj1654_frame0000416.txt  \n",
      "  inflating: yolo_dataset/labels/train/obj0319_frame0000033.txt  \n",
      "  inflating: yolo_dataset/labels/train/obj0309_frame0000035.txt  \n",
      "  inflating: yolo_dataset/labels/train/obj1654_frame0000370.txt  \n",
      "  inflating: yolo_dataset/labels/train/obj1505_frame0000275.txt  \n",
      "  inflating: yolo_dataset/labels/train/obj0319_frame0000027.txt  \n",
      "  inflating: yolo_dataset/labels/train/obj1648_frame0000145.txt  \n",
      "  inflating: yolo_dataset/labels/train/obj0317_frame0000042.txt  \n",
      "  inflating: yolo_dataset/labels/train/bio0017_frame0000203.txt  \n",
      "  inflating: yolo_dataset/labels/train/obj1658_frame0000157.txt  \n",
      "  inflating: yolo_dataset/labels/train/bio0011_frame0000441.txt  \n",
      "  inflating: yolo_dataset/labels/train/obj1657_frame0000178.txt  \n",
      "  inflating: yolo_dataset/labels/train/obj0317_frame0000056.txt  \n",
      "  inflating: yolo_dataset/labels/train/obj0307_frame0000050.txt  \n",
      "  inflating: yolo_dataset/labels/train/bio0015_frame0000041.txt  \n",
      "  inflating: yolo_dataset/labels/train/obj0784_frame0000014.txt  \n",
      "  inflating: yolo_dataset/labels/train/obj1502_frame0000327.txt  \n",
      "  inflating: yolo_dataset/labels/train/obj0002_frame0000032.txt  \n",
      "  inflating: yolo_dataset/labels/train/obj1280_frame0000067.txt  \n",
      "  inflating: yolo_dataset/labels/train/obj1280_frame0000073.txt  \n",
      "  inflating: yolo_dataset/labels/train/obj0002_frame0000026.txt  \n",
      "  inflating: yolo_dataset/labels/train/bio0018_frame0000210.txt  \n",
      "  inflating: yolo_dataset/labels/train/obj1502_frame0000333.txt  \n",
      "  inflating: yolo_dataset/labels/train/obj0348_frame0000091.txt  \n",
      "  inflating: yolo_dataset/labels/train/obj1617_frame0000196.txt  \n",
      "  inflating: yolo_dataset/labels/train/bio0002_frame0000471.txt  \n",
      "  inflating: yolo_dataset/labels/train/bio0000_frame0000155.txt  \n",
      "  inflating: yolo_dataset/labels/train/obj0749_frame0000100.txt  \n",
      "  inflating: yolo_dataset/labels/train/obj1617_frame0000182.txt  \n",
      "  inflating: yolo_dataset/labels/train/bio0000_frame0000141.txt  \n",
      "  inflating: yolo_dataset/labels/train/bio0016_frame0000063.txt  \n",
      "  inflating: yolo_dataset/labels/train/bio0010_frame0000147.txt  \n",
      "  inflating: yolo_dataset/labels/train/obj0348_frame0000085.txt  \n",
      "  inflating: yolo_dataset/labels/train/obj1667_frame0000337.txt  \n",
      "  inflating: yolo_dataset/labels/train/bio0002_frame0000303.txt  \n",
      "  inflating: yolo_dataset/labels/train/obj0751_frame0000090.txt  \n",
      "  inflating: yolo_dataset/labels/train/obj0347_frame0000082.txt  \n",
      "  inflating: yolo_dataset/labels/train/obj0202_frame0000010.txt  \n",
      "  inflating: yolo_dataset/labels/train/obj1505_frame0000063.txt  \n",
      "  inflating: yolo_dataset/labels/train/obj0202_frame0000004.txt  \n",
      "  inflating: yolo_dataset/labels/train/bio0012_frame0000339.txt  \n",
      "  inflating: yolo_dataset/labels/train/bio0002_frame0000459.txt  \n",
      "  inflating: yolo_dataset/labels/train/obj1505_frame0000077.txt  \n",
      "  inflating: yolo_dataset/labels/train/obj0789_frame0000047.txt  \n",
      "  inflating: yolo_dataset/labels/train/obj1672_frame0000021.txt  \n",
      "  inflating: yolo_dataset/labels/train/obj0241_frame0000037.txt  \n",
      "  inflating: yolo_dataset/labels/train/bio0001_frame0000137.txt  \n",
      "  inflating: yolo_dataset/labels/train/obj1658_frame0000341.txt  \n",
      "  inflating: yolo_dataset/labels/train/obj1648_frame0000421.txt  \n",
      "  inflating: yolo_dataset/labels/train/obj0348_frame0000052.txt  \n",
      "  inflating: yolo_dataset/labels/train/obj1502_frame0000119.txt  \n",
      "  inflating: yolo_dataset/labels/train/obj1505_frame0000088.txt  \n",
      "  inflating: yolo_dataset/labels/train/obj0347_frame0000069.txt  \n",
      "  inflating: yolo_dataset/labels/train/obj0348_frame0000046.txt  \n",
      "  inflating: yolo_dataset/labels/train/obj0305_frame0000010.txt  \n",
      "  inflating: yolo_dataset/labels/train/obj1061_frame0000103.txt  \n",
      "  inflating: yolo_dataset/labels/train/bio0017_frame0000001.txt  \n",
      "  inflating: yolo_dataset/labels/train/bio0015_frame0000525.txt  \n",
      "  inflating: yolo_dataset/labels/train/obj1663_frame0000092.txt  \n",
      "  inflating: yolo_dataset/labels/train/obj0305_frame0000038.txt  \n",
      "  inflating: yolo_dataset/labels/train/obj1050_frame0000104.txt  \n",
      "  inflating: yolo_dataset/labels/train/obj0334_frame0000017.txt  \n",
      "  inflating: yolo_dataset/labels/train/obj0334_frame0000003.txt  \n",
      "  inflating: yolo_dataset/labels/train/obj1050_frame0000110.txt  \n",
      "  inflating: yolo_dataset/labels/train/obj1658_frame0001711.txt  \n",
      "  inflating: yolo_dataset/labels/train/obj0347_frame0000055.txt  \n",
      "  inflating: yolo_dataset/labels/train/obj1657_frame0000346.txt  \n",
      "  inflating: yolo_dataset/labels/train/obj1648_frame0000409.txt  \n",
      "  inflating: yolo_dataset/labels/val.cache  \n",
      "   creating: yolo_dataset/labels/val/\n",
      "  inflating: yolo_dataset/labels/val/obj0075_frame0000125.txt  \n",
      "  inflating: yolo_dataset/labels/val/obj1619_frame0000129.txt  \n",
      "  inflating: yolo_dataset/labels/val/obj1610_frame0000022.txt  \n",
      "  inflating: yolo_dataset/labels/val/obj1302_frame0000204.txt  \n",
      "  inflating: yolo_dataset/labels/val/obj1615_frame0000124.txt  \n",
      "  inflating: yolo_dataset/labels/val/obj1616_frame0000310.txt  \n",
      "  inflating: yolo_dataset/labels/val/obj0169_frame0000054.txt  \n",
      "  inflating: yolo_dataset/labels/val/obj1616_frame0000338.txt  \n",
      "  inflating: yolo_dataset/labels/val/obj1302_frame0000012.txt  \n",
      "  inflating: yolo_dataset/labels/val/obj1605_frame0000056.txt  \n",
      "  inflating: yolo_dataset/labels/val/obj1607_frame0000200.txt  \n",
      "  inflating: yolo_dataset/labels/val/obj1615_frame0000093.txt  \n",
      "  inflating: yolo_dataset/labels/val/obj1615_frame0000087.txt  \n",
      "  inflating: yolo_dataset/labels/val/obj1605_frame0000081.txt  \n",
      "  inflating: yolo_dataset/labels/val/obj0083_frame0000057.txt  \n",
      "  inflating: yolo_dataset/labels/val/obj1314_frame0000291.txt  \n",
      "  inflating: yolo_dataset/labels/val/obj1621_frame0000186.txt  \n",
      "  inflating: yolo_dataset/labels/val/obj0038_frame0000013.txt  \n",
      "  inflating: yolo_dataset/labels/val/obj0037_frame0000028.txt  \n",
      "  inflating: yolo_dataset/labels/val/obj1617_frame0000038.txt  \n",
      "  inflating: yolo_dataset/labels/val/obj1630_frame0000135.txt  \n",
      "  inflating: yolo_dataset/labels/val/obj1621_frame0000192.txt  \n",
      "  inflating: yolo_dataset/labels/val/obj1625_frame0000551.txt  \n",
      "  inflating: yolo_dataset/labels/val/obj1619_frame0000075.txt  \n",
      "  inflating: yolo_dataset/labels/val/obj1627_frame0000060.txt  \n",
      "  inflating: yolo_dataset/labels/val/obj1609_frame0000099.txt  \n",
      "  inflating: yolo_dataset/labels/val/obj1615_frame0000092.txt  \n",
      "  inflating: yolo_dataset/labels/val/obj1302_frame0000013.txt  \n",
      "  inflating: yolo_dataset/labels/val/obj1610_frame0000209.txt  \n",
      "  inflating: yolo_dataset/labels/val/obj1302_frame0000007.txt  \n",
      "  inflating: yolo_dataset/labels/val/obj0075_frame0000440.txt  \n",
      "  inflating: yolo_dataset/labels/val/obj1615_frame0000119.txt  \n",
      "  inflating: yolo_dataset/labels/val/obj1609_frame0000106.txt  \n",
      "  inflating: yolo_dataset/labels/val/obj0083_frame0000136.txt  \n",
      "  inflating: yolo_dataset/labels/val/obj0075_frame0000132.txt  \n",
      "  inflating: yolo_dataset/labels/val/obj0084_frame0000066.txt  \n",
      "  inflating: yolo_dataset/labels/val/obj1630_frame0000081.txt  \n",
      "  inflating: yolo_dataset/labels/val/obj1619_frame0000102.txt  \n",
      "  inflating: yolo_dataset/labels/val/obj1610_frame0000009.txt  \n",
      "  inflating: yolo_dataset/labels/val/obj1609_frame0000110.txt  \n",
      "  inflating: yolo_dataset/labels/val/obj1619_frame0000116.txt  \n",
      "  inflating: yolo_dataset/labels/val/obj1615_frame0000133.txt  \n",
      "  inflating: yolo_dataset/labels/val/obj1302_frame0000039.txt  \n",
      "  inflating: yolo_dataset/labels/val/obj1623_frame0000066.txt  \n",
      "  inflating: yolo_dataset/labels/val/obj1302_frame0000011.txt  \n",
      "  inflating: yolo_dataset/labels/val/obj0081_frame0000014.txt  \n",
      "  inflating: yolo_dataset/labels/val/obj1618_frame0000202.txt  \n",
      "  inflating: yolo_dataset/labels/val/obj1616_frame0000267.txt  \n",
      "  inflating: yolo_dataset/labels/val/obj1616_frame0000273.txt  \n",
      "  inflating: yolo_dataset/labels/val/obj1615_frame0000090.txt  \n",
      "  inflating: yolo_dataset/labels/val/obj1302_frame0000165.txt  \n",
      "  inflating: yolo_dataset/labels/val/obj0037_frame0000017.txt  \n",
      "  inflating: yolo_dataset/labels/val/obj1618_frame0000028.txt  \n",
      "  inflating: yolo_dataset/labels/val/obj1618_frame0000014.txt  \n",
      "  inflating: yolo_dataset/labels/val/obj0038_frame0000010.txt  \n",
      "  inflating: yolo_dataset/labels/val/obj1314_frame0000292.txt  \n",
      "  inflating: yolo_dataset/labels/val/obj1618_frame0000001.txt  \n",
      "  inflating: yolo_dataset/labels/val/obj1314_frame0000293.txt  \n",
      "  inflating: yolo_dataset/labels/val/obj0038_frame0000005.txt  \n",
      "  inflating: yolo_dataset/labels/val/obj1619_frame0000088.txt  \n",
      "  inflating: yolo_dataset/labels/val/obj0083_frame0000041.txt  \n",
      "  inflating: yolo_dataset/labels/val/obj1620_frame0000441.txt  \n",
      "  inflating: yolo_dataset/labels/val/obj1605_frame0000054.txt  \n",
      "  inflating: yolo_dataset/labels/val/obj1302_frame0000010.txt  \n",
      "  inflating: yolo_dataset/labels/val/obj0158_frame0000045.txt  \n",
      "  inflating: yolo_dataset/labels/val/obj1619_frame0000117.txt  \n",
      "  inflating: yolo_dataset/labels/val/obj0182_frame0000039.txt  \n",
      "  inflating: yolo_dataset/labels/val/obj1610_frame0000034.txt  \n",
      "  inflating: yolo_dataset/labels/val/obj1618_frame0000165.txt  \n",
      "  inflating: yolo_dataset/labels/val/obj1607_frame0000170.txt  \n",
      "  inflating: yolo_dataset/labels/val/obj1607_frame0000164.txt  \n",
      "  inflating: yolo_dataset/labels/val/obj1610_frame0000018.txt  \n",
      "  inflating: yolo_dataset/labels/val/obj1610_frame0000030.txt  \n",
      "  inflating: yolo_dataset/labels/val/obj1314_frame0000308.txt  \n",
      "  inflating: yolo_dataset/labels/val/obj0084_frame0000063.txt  \n",
      "  inflating: yolo_dataset/labels/val/obj1615_frame0000136.txt  \n",
      "  inflating: yolo_dataset/labels/val/obj1302_frame0000014.txt  \n",
      "  inflating: yolo_dataset/labels/val/obj0158_frame0000069.txt  \n",
      "  inflating: yolo_dataset/labels/val/obj1302_frame0000028.txt  \n",
      "  inflating: yolo_dataset/labels/val/obj0081_frame0000039.txt  \n",
      "  inflating: yolo_dataset/labels/val/obj1620_frame0000445.txt  \n",
      "  inflating: yolo_dataset/labels/val/obj0081_frame0000011.txt  \n",
      "  inflating: yolo_dataset/labels/val/obj1605_frame0000087.txt  \n",
      "  inflating: yolo_dataset/labels/val/obj0038_frame0000001.txt  \n",
      "  inflating: yolo_dataset/labels/val/obj1314_frame0000297.txt  \n",
      "  inflating: yolo_dataset/labels/val/obj1618_frame0000005.txt  \n",
      "  inflating: yolo_dataset/labels/val/obj1302_frame0000389.txt  \n",
      "  inflating: yolo_dataset/labels/val/obj0037_frame0000006.txt  \n",
      "  inflating: yolo_dataset/labels/val/obj1627_frame0000098.txt  \n",
      "  inflating: yolo_dataset/labels/val/obj1618_frame0000038.txt  \n",
      "  inflating: yolo_dataset/labels/val/obj1610_frame0000186.txt  \n",
      "  inflating: yolo_dataset/labels/val/obj0037_frame0000013.txt  \n",
      "  inflating: yolo_dataset/labels/val/obj1314_frame0000296.txt  \n",
      "  inflating: yolo_dataset/labels/val/obj1623_frame0000102.txt  \n",
      "  inflating: yolo_dataset/labels/val/obj1624_frame0000044.txt  \n",
      "  inflating: yolo_dataset/labels/val/obj0078_frame0000039.txt  \n",
      "  inflating: yolo_dataset/labels/val/obj1605_frame0000079.txt  \n",
      "  inflating: yolo_dataset/labels/val/obj1302_frame0000029.txt  \n",
      "  inflating: yolo_dataset/labels/val/obj1302_frame0000015.txt  \n",
      "  inflating: yolo_dataset/labels/val/obj0169_frame0000047.txt  \n",
      "  inflating: yolo_dataset/labels/val/obj0075_frame0000452.txt  \n",
      "  inflating: yolo_dataset/labels/val/obj1314_frame0000309.txt  \n",
      "  inflating: yolo_dataset/labels/val/obj1609_frame0000114.txt  \n",
      "  inflating: yolo_dataset/labels/val/obj0182_frame0000014.txt  \n",
      "  inflating: yolo_dataset/labels/val/obj1619_frame0000106.txt  \n",
      "  inflating: yolo_dataset/labels/val/obj0083_frame0000130.txt  \n",
      "  inflating: yolo_dataset/labels/val/obj1624_frame0000454.txt  \n",
      "  inflating: yolo_dataset/labels/val/obj0075_frame0000122.txt  \n",
      "  inflating: yolo_dataset/labels/val/obj1607_frame0000167.txt  \n",
      "  inflating: yolo_dataset/labels/val/obj1608_frame0000148.txt  \n",
      "  inflating: yolo_dataset/labels/val/obj1607_frame0000173.txt  \n",
      "  inflating: yolo_dataset/labels/val/obj1627_frame0000110.txt  \n",
      "  inflating: yolo_dataset/labels/val/obj1619_frame0000104.txt  \n",
      "  inflating: yolo_dataset/labels/val/obj1624_frame0000481.txt  \n",
      "  inflating: yolo_dataset/labels/val/obj1627_frame0000104.txt  \n",
      "  inflating: yolo_dataset/labels/val/obj1610_frame0000027.txt  \n",
      "  inflating: yolo_dataset/labels/val/obj0084_frame0000060.txt  \n",
      "  inflating: yolo_dataset/labels/val/obj1619_frame0000138.txt  \n",
      "  inflating: yolo_dataset/labels/val/obj1627_frame0000138.txt  \n",
      "  inflating: yolo_dataset/labels/val/obj1302_frame0000017.txt  \n",
      "  inflating: yolo_dataset/labels/val/obj0158_frame0000042.txt  \n",
      "  inflating: yolo_dataset/labels/val/obj1605_frame0000084.txt  \n",
      "  inflating: yolo_dataset/labels/val/obj1314_frame0000294.txt  \n",
      "  inflating: yolo_dataset/labels/val/obj0037_frame0000005.txt  \n",
      "  inflating: yolo_dataset/labels/val/obj0037_frame0000011.txt  \n",
      "  inflating: yolo_dataset/labels/val/obj1627_frame0000070.txt  \n",
      "  inflating: yolo_dataset/labels/val/obj1621_frame0000168.txt  \n",
      "  inflating: yolo_dataset/labels/val/obj1627_frame0000065.txt  \n",
      "  inflating: yolo_dataset/labels/val/obj0083_frame0000047.txt  \n",
      "  inflating: yolo_dataset/labels/val/obj0083_frame0000053.txt  \n",
      "  inflating: yolo_dataset/labels/val/obj0038_frame0000017.txt  \n",
      "  inflating: yolo_dataset/labels/val/obj1314_frame0000295.txt  \n",
      "  inflating: yolo_dataset/labels/val/obj1615_frame0000097.txt  \n",
      "  inflating: yolo_dataset/labels/val/obj1605_frame0000091.txt  \n",
      "  inflating: yolo_dataset/labels/val/obj1302_frame0000016.txt  \n",
      "  inflating: yolo_dataset/labels/val/obj1302_frame0000572.txt  \n",
      "  inflating: yolo_dataset/labels/val/obj1609_frame0000103.txt  \n",
      "  inflating: yolo_dataset/labels/val/obj1606_frame0000138.txt  \n",
      "  inflating: yolo_dataset/labels/val/obj1302_frame0000599.txt  \n",
      "  inflating: yolo_dataset/labels/val/obj1626_frame0000167.txt  \n",
      "  inflating: yolo_dataset/labels/val/obj0075_frame0000121.txt  \n",
      "  inflating: yolo_dataset/labels/val/obj1344_frame0000187.txt  \n",
      "  inflating: yolo_dataset/labels/val/obj1344_frame0000193.txt  \n",
      "  inflating: yolo_dataset/labels/val/obj1618_frame0000100.txt  \n",
      "  inflating: yolo_dataset/labels/val/obj1344_frame0000150.txt  \n",
      "  inflating: yolo_dataset/labels/val/obj1624_frame0000395.txt  \n",
      "  inflating: yolo_dataset/labels/val/obj1344_frame0000178.txt  \n",
      "  inflating: yolo_dataset/labels/val/obj1314_frame0000351.txt  \n",
      "  inflating: yolo_dataset/labels/val/obj1624_frame0000381.txt  \n",
      "  inflating: yolo_dataset/labels/val/obj1613_frame0000063.txt  \n",
      "  inflating: yolo_dataset/labels/val/obj1323_frame0000070.txt  \n",
      "  inflating: yolo_dataset/labels/val/obj1323_frame0000064.txt  \n",
      "  inflating: yolo_dataset/labels/val/obj1302_frame0000065.txt  \n",
      "  inflating: yolo_dataset/labels/val/obj1323_frame0000058.txt  \n",
      "  inflating: yolo_dataset/labels/val/obj1302_frame0000071.txt  \n",
      "  inflating: yolo_dataset/labels/val/obj1614_frame0000092.txt  \n",
      "  inflating: yolo_dataset/labels/val/obj0078_frame0000049.txt  \n",
      "  inflating: yolo_dataset/labels/val/obj1323_frame0000104.txt  \n",
      "  inflating: yolo_dataset/labels/val/obj1606_frame0000201.txt  \n",
      "  inflating: yolo_dataset/labels/val/obj1323_frame0000110.txt  \n",
      "  inflating: yolo_dataset/labels/val/obj0038_frame0000064.txt  \n",
      "  inflating: yolo_dataset/labels/val/obj1618_frame0000074.txt  \n",
      "  inflating: yolo_dataset/labels/val/obj0029_frame0000028.txt  \n",
      "  inflating: yolo_dataset/labels/val/obj1302_frame0000475.txt  \n",
      "  inflating: yolo_dataset/labels/val/obj0029_frame0000029.txt  \n",
      "  inflating: yolo_dataset/labels/val/obj0038_frame0000071.txt  \n",
      "  inflating: yolo_dataset/labels/val/obj0038_frame0000059.txt  \n",
      "  inflating: yolo_dataset/labels/val/obj1614_frame0000078.txt  \n",
      "  inflating: yolo_dataset/labels/val/obj1302_frame0000104.txt  \n",
      "  inflating: yolo_dataset/labels/val/obj1323_frame0000111.txt  \n",
      "  inflating: yolo_dataset/labels/val/obj1323_frame0000105.txt  \n",
      "  inflating: yolo_dataset/labels/val/obj0081_frame0000049.txt  \n",
      "  inflating: yolo_dataset/labels/val/obj1620_frame0000421.txt  \n",
      "  inflating: yolo_dataset/labels/val/obj1614_frame0000087.txt  \n",
      "  inflating: yolo_dataset/labels/val/obj1620_frame0000409.txt  \n",
      "  inflating: yolo_dataset/labels/val/obj1323_frame0000059.txt  \n",
      "  inflating: yolo_dataset/labels/val/obj1302_frame0000064.txt  \n",
      "  inflating: yolo_dataset/labels/val/obj0158_frame0000031.txt  \n",
      "  inflating: yolo_dataset/labels/val/obj1323_frame0000065.txt  \n",
      "  inflating: yolo_dataset/labels/val/obj1302_frame0000058.txt  \n",
      "  inflating: yolo_dataset/labels/val/obj1323_frame0000071.txt  \n",
      "  inflating: yolo_dataset/labels/val/obj1603_frame0000058.txt  \n",
      "  inflating: yolo_dataset/labels/val/obj1615_frame0000146.txt  \n",
      "  inflating: yolo_dataset/labels/val/obj1613_frame0000062.txt  \n",
      "  inflating: yolo_dataset/labels/val/obj1610_frame0000281.txt  \n",
      "  inflating: yolo_dataset/labels/val/obj0094_frame0000029.txt  \n",
      "  inflating: yolo_dataset/labels/val/obj1610_frame0000068.txt  \n",
      "  inflating: yolo_dataset/labels/val/obj1344_frame0000179.txt  \n",
      "  inflating: yolo_dataset/labels/val/obj1344_frame0000151.txt  \n",
      "  inflating: yolo_dataset/labels/val/obj1628_frame0000170.txt  \n",
      "  inflating: yolo_dataset/labels/val/obj1606_frame0000162.txt  \n",
      "  inflating: yolo_dataset/labels/val/obj1618_frame0000115.txt  \n",
      "  inflating: yolo_dataset/labels/val/obj1344_frame0000192.txt  \n",
      "  inflating: yolo_dataset/labels/val/obj1607_frame0000114.txt  \n",
      "  inflating: yolo_dataset/labels/val/obj1344_frame0000186.txt  \n",
      "  inflating: yolo_dataset/labels/val/obj1344_frame0000190.txt  \n",
      "  inflating: yolo_dataset/labels/val/obj1344_frame0000184.txt  \n",
      "  inflating: yolo_dataset/labels/val/obj0083_frame0000143.txt  \n",
      "  inflating: yolo_dataset/labels/val/obj1618_frame0000103.txt  \n",
      "  inflating: yolo_dataset/labels/val/obj1616_frame0000199.txt  \n",
      "  inflating: yolo_dataset/labels/val/obj1344_frame0000153.txt  \n",
      "  inflating: yolo_dataset/labels/val/obj1344_frame0000147.txt  \n",
      "  inflating: yolo_dataset/labels/val/obj1627_frame0000149.txt  \n",
      "  inflating: yolo_dataset/labels/val/obj1619_frame0000161.txt  \n",
      "  inflating: yolo_dataset/labels/val/obj1314_frame0000352.txt  \n",
      "  inflating: yolo_dataset/labels/val/obj1603_frame0000072.txt  \n",
      "  inflating: yolo_dataset/labels/val/obj1613_frame0000060.txt  \n",
      "  inflating: yolo_dataset/labels/val/obj1323_frame0000098.txt  \n",
      "  inflating: yolo_dataset/labels/val/obj1613_frame0000048.txt  \n",
      "  inflating: yolo_dataset/labels/val/obj1624_frame0000157.txt  \n",
      "  inflating: yolo_dataset/labels/val/obj1323_frame0000067.txt  \n",
      "  inflating: yolo_dataset/labels/val/obj1610_frame0000240.txt  \n",
      "  inflating: yolo_dataset/labels/val/obj1604_frame0000120.txt  \n",
      "  inflating: yolo_dataset/labels/val/obj0169_frame0000034.txt  \n",
      "  inflating: yolo_dataset/labels/val/obj1302_frame0000066.txt  \n",
      "  inflating: yolo_dataset/labels/val/obj1624_frame0000023.txt  \n",
      "  inflating: yolo_dataset/labels/val/obj1323_frame0000113.txt  \n",
      "  inflating: yolo_dataset/labels/val/obj1323_frame0000107.txt  \n",
      "  inflating: yolo_dataset/labels/val/obj1344_frame0000219.txt  \n",
      "  inflating: yolo_dataset/labels/val/obj1302_frame0000106.txt  \n",
      "  inflating: yolo_dataset/labels/val/obj1607_frame0000062.txt  \n",
      "  inflating: yolo_dataset/labels/val/obj1607_frame0000076.txt  \n",
      "  inflating: yolo_dataset/labels/val/obj1608_frame0000059.txt  \n",
      "  inflating: yolo_dataset/labels/val/obj1608_frame0000071.txt  \n",
      "  inflating: yolo_dataset/labels/val/obj0084_frame0000165.txt  \n",
      "  inflating: yolo_dataset/labels/val/obj0084_frame0000159.txt  \n",
      "  inflating: yolo_dataset/labels/val/obj1619_frame0000001.txt  \n",
      "  inflating: yolo_dataset/labels/val/obj1302_frame0000305.txt  \n",
      "  inflating: yolo_dataset/labels/val/obj0084_frame0000170.txt  \n",
      "  inflating: yolo_dataset/labels/val/obj1627_frame0000028.txt  \n",
      "  inflating: yolo_dataset/labels/val/obj1626_frame0000062.txt  \n",
      "  inflating: yolo_dataset/labels/val/obj1344_frame0000218.txt  \n",
      "  inflating: yolo_dataset/labels/val/obj1323_frame0000106.txt  \n",
      "  inflating: yolo_dataset/labels/val/obj1323_frame0000112.txt  \n",
      "  inflating: yolo_dataset/labels/val/obj1620_frame0000344.txt  \n",
      "  inflating: yolo_dataset/labels/val/obj1604_frame0000082.txt  \n",
      "  inflating: yolo_dataset/labels/val/obj1614_frame0000084.txt  \n",
      "  inflating: yolo_dataset/labels/val/obj1625_frame0000652.txt  \n",
      "  inflating: yolo_dataset/labels/val/obj1302_frame0000067.txt  \n",
      "  inflating: yolo_dataset/labels/val/obj1302_frame0000073.txt  \n",
      "  inflating: yolo_dataset/labels/val/obj1624_frame0000181.txt  \n",
      "  inflating: yolo_dataset/labels/val/obj1625_frame0000646.txt  \n",
      "  inflating: yolo_dataset/labels/val/obj1323_frame0000072.txt  \n",
      "  inflating: yolo_dataset/labels/val/obj1323_frame0000066.txt  \n",
      "  inflating: yolo_dataset/labels/val/obj0075_frame0000434.txt  \n",
      "  inflating: yolo_dataset/labels/val/obj1323_frame0000099.txt  \n",
      "  inflating: yolo_dataset/labels/val/obj1613_frame0000049.txt  \n",
      "  inflating: yolo_dataset/labels/val/obj1603_frame0000067.txt  \n",
      "  inflating: yolo_dataset/labels/val/obj1302_frame0000098.txt  \n",
      "  inflating: yolo_dataset/labels/val/obj1314_frame0000353.txt  \n",
      "  inflating: yolo_dataset/labels/val/obj1344_frame0000146.txt  \n",
      "  inflating: yolo_dataset/labels/val/obj1606_frame0000175.txt  \n",
      "  inflating: yolo_dataset/labels/val/obj1625_frame0000478.txt  \n",
      "  inflating: yolo_dataset/labels/val/obj1621_frame0000078.txt  \n",
      "  inflating: yolo_dataset/labels/val/obj1344_frame0000152.txt  \n",
      "  inflating: yolo_dataset/labels/val/obj1344_frame0000185.txt  \n",
      "  inflating: yolo_dataset/labels/val/obj1617_frame0000105.txt  \n",
      "  inflating: yolo_dataset/labels/val/obj1609_frame0000199.txt  \n",
      "  inflating: yolo_dataset/labels/val/obj1344_frame0000191.txt  \n",
      "  inflating: yolo_dataset/labels/val/obj1618_frame0000112.txt  \n",
      "  inflating: yolo_dataset/labels/val/obj0075_frame0000154.txt  \n",
      "  inflating: yolo_dataset/labels/val/obj1344_frame0000195.txt  \n",
      "  inflating: yolo_dataset/labels/val/obj1344_frame0000181.txt  \n",
      "  inflating: yolo_dataset/labels/val/obj1608_frame0000128.txt  \n",
      "  inflating: yolo_dataset/labels/val/obj1314_frame0000357.txt  \n",
      "  inflating: yolo_dataset/labels/val/obj0075_frame0000183.txt  \n",
      "  inflating: yolo_dataset/labels/val/obj1344_frame0000156.txt  \n",
      "  inflating: yolo_dataset/labels/val/obj1606_frame0000171.txt  \n",
      "  inflating: yolo_dataset/labels/val/obj1625_frame0000468.txt  \n",
      "  inflating: yolo_dataset/labels/val/obj1323_frame0000089.txt  \n",
      "  inflating: yolo_dataset/labels/val/obj1603_frame0000077.txt  \n",
      "  inflating: yolo_dataset/labels/val/obj1302_frame0000088.txt  \n",
      "  inflating: yolo_dataset/labels/val/obj1603_frame0000063.txt  \n",
      "  inflating: yolo_dataset/labels/val/obj1613_frame0000065.txt  \n",
      "  inflating: yolo_dataset/labels/val/obj1302_frame0000077.txt  \n",
      "  inflating: yolo_dataset/labels/val/obj0169_frame0000031.txt  \n",
      "  inflating: yolo_dataset/labels/val/obj1323_frame0000062.txt  \n",
      "  inflating: yolo_dataset/labels/val/obj1604_frame0000125.txt  \n",
      "  inflating: yolo_dataset/labels/val/obj1323_frame0000076.txt  \n",
      "  inflating: yolo_dataset/labels/val/obj1614_frame0000080.txt  \n",
      "  inflating: yolo_dataset/labels/val/obj1604_frame0000086.txt  \n",
      "  inflating: yolo_dataset/labels/val/obj1604_frame0000092.txt  \n",
      "  inflating: yolo_dataset/labels/val/obj1344_frame0000208.txt  \n",
      "  inflating: yolo_dataset/labels/val/obj1323_frame0000116.txt  \n",
      "  inflating: yolo_dataset/labels/val/obj1344_frame0000220.txt  \n",
      "  inflating: yolo_dataset/labels/val/obj1323_frame0000102.txt  \n",
      "  inflating: yolo_dataset/labels/val/obj1615_frame0000223.txt  \n",
      "  inflating: yolo_dataset/labels/val/obj0084_frame0000148.txt  \n",
      "  inflating: yolo_dataset/labels/val/obj1619_frame0000038.txt  \n",
      "  inflating: yolo_dataset/labels/val/obj1626_frame0000099.txt  \n",
      "  inflating: yolo_dataset/labels/val/obj1618_frame0000098.txt  \n",
      "  inflating: yolo_dataset/labels/val/obj1302_frame0000314.txt  \n",
      "  inflating: yolo_dataset/labels/val/obj1630_frame0000179.txt  \n",
      "  inflating: yolo_dataset/labels/val/obj1323_frame0000103.txt  \n",
      "  inflating: yolo_dataset/labels/val/obj1344_frame0000221.txt  \n",
      "  inflating: yolo_dataset/labels/val/obj1323_frame0000117.txt  \n",
      "  inflating: yolo_dataset/labels/val/obj1344_frame0000209.txt  \n",
      "  inflating: yolo_dataset/labels/val/obj1604_frame0000078.txt  \n",
      "  inflating: yolo_dataset/labels/val/obj1302_frame0000102.txt  \n",
      "  inflating: yolo_dataset/labels/val/obj1614_frame0000095.txt  \n",
      "  inflating: yolo_dataset/labels/val/obj1622_frame0000103.txt  \n",
      "  inflating: yolo_dataset/labels/val/obj1620_frame0000427.txt  \n",
      "  inflating: yolo_dataset/labels/val/obj1323_frame0000077.txt  \n",
      "  inflating: yolo_dataset/labels/val/obj1323_frame0000063.txt  \n",
      "  inflating: yolo_dataset/labels/val/obj1302_frame0000062.txt  \n",
      "  inflating: yolo_dataset/labels/val/obj1603_frame0000062.txt  \n",
      "  inflating: yolo_dataset/labels/val/obj1615_frame0000140.txt  \n",
      "  inflating: yolo_dataset/labels/val/obj1624_frame0000635.txt  \n",
      "  inflating: yolo_dataset/labels/val/obj1323_frame0000088.txt  \n",
      "  inflating: yolo_dataset/labels/val/obj1630_frame0000227.txt  \n",
      "  inflating: yolo_dataset/labels/val/obj1615_frame0000168.txt  \n",
      "  inflating: yolo_dataset/labels/val/obj1624_frame0000621.txt  \n",
      "  inflating: yolo_dataset/labels/val/obj0075_frame0000425.txt  \n",
      "  inflating: yolo_dataset/labels/val/obj1344_frame0000157.txt  \n",
      "  inflating: yolo_dataset/labels/val/obj1314_frame0000356.txt  \n",
      "  inflating: yolo_dataset/labels/val/obj1302_frame0000274.txt  \n",
      "  inflating: yolo_dataset/labels/val/obj0075_frame0000169.txt  \n",
      "  inflating: yolo_dataset/labels/val/obj1617_frame0000100.txt  \n",
      "  inflating: yolo_dataset/labels/val/obj1344_frame0000180.txt  \n",
      "  inflating: yolo_dataset/labels/val/obj1344_frame0000194.txt  \n",
      "  inflating: yolo_dataset/labels/val/obj1624_frame0000353.txt  \n",
      "  inflating: yolo_dataset/labels/val/obj0075_frame0000143.txt  \n",
      "  inflating: yolo_dataset/labels/val/obj1344_frame0000182.txt  \n",
      "  inflating: yolo_dataset/labels/val/obj1617_frame0000102.txt  \n",
      "  inflating: yolo_dataset/labels/val/obj1344_frame0000196.txt  \n",
      "  inflating: yolo_dataset/labels/val/obj0094_frame0000039.txt  \n",
      "  inflating: yolo_dataset/labels/val/obj1344_frame0000169.txt  \n",
      "  inflating: yolo_dataset/labels/val/obj1314_frame0000354.txt  \n",
      "  inflating: yolo_dataset/labels/val/obj1302_frame0000538.txt  \n",
      "  inflating: yolo_dataset/labels/val/obj1606_frame0000166.txt  \n",
      "  inflating: yolo_dataset/labels/val/obj1344_frame0000155.txt  \n",
      "  inflating: yolo_dataset/labels/val/obj1603_frame0000060.txt  \n",
      "  inflating: yolo_dataset/labels/val/obj1302_frame0000060.txt  \n",
      "  inflating: yolo_dataset/labels/val/obj1604_frame0000126.txt  \n",
      "  inflating: yolo_dataset/labels/val/obj1323_frame0000075.txt  \n",
      "  inflating: yolo_dataset/labels/val/obj1323_frame0000061.txt  \n",
      "  inflating: yolo_dataset/labels/val/obj1624_frame0000019.txt  \n",
      "  inflating: yolo_dataset/labels/val/obj1302_frame0000100.txt  \n",
      "  inflating: yolo_dataset/labels/val/obj1323_frame0000101.txt  \n",
      "  inflating: yolo_dataset/labels/val/obj1323_frame0000115.txt  \n",
      "  inflating: yolo_dataset/labels/val/obj0038_frame0000075.txt  \n",
      "  inflating: yolo_dataset/labels/val/obj1618_frame0000071.txt  \n",
      "  inflating: yolo_dataset/labels/val/obj1617_frame0000076.txt  \n",
      "  inflating: yolo_dataset/labels/val/obj0084_frame0000162.txt  \n",
      "  inflating: yolo_dataset/labels/val/obj1617_frame0000088.txt  \n",
      "  inflating: yolo_dataset/labels/val/obj1607_frame0000065.txt  \n",
      "  inflating: yolo_dataset/labels/val/obj1607_frame0000071.txt  \n",
      "  inflating: yolo_dataset/labels/val/obj1607_frame0000059.txt  \n",
      "  inflating: yolo_dataset/labels/val/obj1344_frame0000222.txt  \n",
      "  inflating: yolo_dataset/labels/val/obj1323_frame0000114.txt  \n",
      "  inflating: yolo_dataset/labels/val/obj1606_frame0000205.txt  \n",
      "  inflating: yolo_dataset/labels/val/obj1323_frame0000100.txt  \n",
      "  inflating: yolo_dataset/labels/val/obj1614_frame0000082.txt  \n",
      "  inflating: yolo_dataset/labels/val/obj1620_frame0000418.txt  \n",
      "  inflating: yolo_dataset/labels/val/obj0075_frame0000220.txt  \n",
      "  inflating: yolo_dataset/labels/val/obj1622_frame0000100.txt  \n",
      "  inflating: yolo_dataset/labels/val/obj1620_frame0000424.txt  \n",
      "  inflating: yolo_dataset/labels/val/obj1323_frame0000060.txt  \n",
      "  inflating: yolo_dataset/labels/val/obj1302_frame0000049.txt  \n",
      "  inflating: yolo_dataset/labels/val/obj1302_frame0000075.txt  \n",
      "  inflating: yolo_dataset/labels/val/obj1603_frame0000075.txt  \n",
      "  inflating: yolo_dataset/labels/val/obj1613_frame0000073.txt  \n",
      "  inflating: yolo_dataset/labels/val/obj1603_frame0000049.txt  \n",
      "  inflating: yolo_dataset/labels/val/obj1624_frame0000144.txt  \n",
      "  inflating: yolo_dataset/labels/val/obj1610_frame0000051.txt  \n",
      "  inflating: yolo_dataset/labels/val/obj1344_frame0000154.txt  \n",
      "  inflating: yolo_dataset/labels/val/obj1314_frame0000355.txt  \n",
      "  inflating: yolo_dataset/labels/val/obj1344_frame0000168.txt  \n",
      "  inflating: yolo_dataset/labels/val/obj1344_frame0000197.txt  \n",
      "  inflating: yolo_dataset/labels/val/obj1344_frame0000183.txt  \n",
      "  inflating: yolo_dataset/labels/val/obj1606_frame0000198.txt  \n",
      "  inflating: yolo_dataset/labels/val/obj1606_frame0000195.txt  \n",
      "  inflating: yolo_dataset/labels/val/obj1302_frame0000291.txt  \n",
      "  inflating: yolo_dataset/labels/val/obj1344_frame0000165.txt  \n",
      "  inflating: yolo_dataset/labels/val/obj1314_frame0000358.txt  \n",
      "  inflating: yolo_dataset/labels/val/obj0094_frame0000035.txt  \n",
      "  inflating: yolo_dataset/labels/val/obj1344_frame0000171.txt  \n",
      "  inflating: yolo_dataset/labels/val/obj1609_frame0000151.txt  \n",
      "  inflating: yolo_dataset/labels/val/obj1344_frame0000159.txt  \n",
      "  inflating: yolo_dataset/labels/val/obj1621_frame0000067.txt  \n",
      "  inflating: yolo_dataset/labels/val/obj1323_frame0000092.txt  \n",
      "  inflating: yolo_dataset/labels/val/obj1323_frame0000086.txt  \n",
      "  inflating: yolo_dataset/labels/val/obj1615_frame0000172.txt  \n",
      "  inflating: yolo_dataset/labels/val/obj1302_frame0000087.txt  \n",
      "  inflating: yolo_dataset/labels/val/obj1624_frame0000175.txt  \n",
      "  inflating: yolo_dataset/labels/val/obj1604_frame0000102.txt  \n",
      "  inflating: yolo_dataset/labels/val/obj1323_frame0000051.txt  \n",
      "  inflating: yolo_dataset/labels/val/obj1603_frame0000087.txt  \n",
      "  inflating: yolo_dataset/labels/val/obj1603_frame0000093.txt  \n",
      "  inflating: yolo_dataset/labels/val/obj0158_frame0000039.txt  \n",
      "  inflating: yolo_dataset/labels/val/obj1323_frame0000079.txt  \n",
      "  inflating: yolo_dataset/labels/val/obj1302_frame0000050.txt  \n",
      "  inflating: yolo_dataset/labels/val/obj0081_frame0000055.txt  \n",
      "  inflating: yolo_dataset/labels/val/obj1624_frame0000001.txt  \n",
      "  inflating: yolo_dataset/labels/val/obj1620_frame0000415.txt  \n",
      "  inflating: yolo_dataset/labels/val/obj1344_frame0000213.txt  \n",
      "  inflating: yolo_dataset/labels/val/obj1344_frame0000207.txt  \n",
      "  inflating: yolo_dataset/labels/val/obj1323_frame0000119.txt  \n",
      "  inflating: yolo_dataset/labels/val/obj1302_frame0000642.txt  \n",
      "  inflating: yolo_dataset/labels/val/obj0038_frame0000051.txt  \n",
      "  inflating: yolo_dataset/labels/val/obj1607_frame0000068.txt  \n",
      "  inflating: yolo_dataset/labels/val/obj1610_frame0000100.txt  \n",
      "  inflating: yolo_dataset/labels/val/obj0029_frame0000035.txt  \n",
      "  inflating: yolo_dataset/labels/val/obj1618_frame0000096.txt  \n",
      "  inflating: yolo_dataset/labels/val/obj1627_frame0000036.txt  \n",
      "  inflating: yolo_dataset/labels/val/obj1627_frame0000022.txt  \n",
      "  inflating: yolo_dataset/labels/val/obj1628_frame0000025.txt  \n",
      "  inflating: yolo_dataset/labels/val/obj0037_frame0000080.txt  \n",
      "  inflating: yolo_dataset/labels/val/obj1617_frame0000090.txt  \n",
      "  inflating: yolo_dataset/labels/val/obj1618_frame0000054.txt  \n",
      "  inflating: yolo_dataset/labels/val/obj0038_frame0000044.txt  \n",
      "  inflating: yolo_dataset/labels/val/obj1607_frame0000041.txt  \n",
      "  inflating: yolo_dataset/labels/val/obj1617_frame0000047.txt  \n",
      "  inflating: yolo_dataset/labels/val/obj1618_frame0000068.txt  \n",
      "  inflating: yolo_dataset/labels/val/obj1323_frame0000118.txt  \n",
      "  inflating: yolo_dataset/labels/val/obj1302_frame0000131.txt  \n",
      "  inflating: yolo_dataset/labels/val/obj1344_frame0000206.txt  \n",
      "  inflating: yolo_dataset/labels/val/obj1344_frame0000212.txt  \n",
      "  inflating: yolo_dataset/labels/val/obj1624_frame0000014.txt  \n",
      "  inflating: yolo_dataset/labels/val/obj1622_frame0000130.txt  \n",
      "  inflating: yolo_dataset/labels/val/obj1622_frame0000124.txt  \n",
      "  inflating: yolo_dataset/labels/val/obj0078_frame0000055.txt  \n",
      "  inflating: yolo_dataset/labels/val/obj1323_frame0000078.txt  \n",
      "  inflating: yolo_dataset/labels/val/obj1302_frame0000045.txt  \n",
      "  inflating: yolo_dataset/labels/val/obj1302_frame0000079.txt  \n",
      "  inflating: yolo_dataset/labels/val/obj1302_frame0000092.txt  \n",
      "  inflating: yolo_dataset/labels/val/obj1603_frame0000079.txt  \n",
      "  inflating: yolo_dataset/labels/val/obj1323_frame0000087.txt  \n",
      "  inflating: yolo_dataset/labels/val/obj1323_frame0000093.txt  \n",
      "  inflating: yolo_dataset/labels/val/obj0182_frame0000050.txt  \n",
      "  inflating: yolo_dataset/labels/val/obj1344_frame0000158.txt  \n",
      "  inflating: yolo_dataset/labels/val/obj1619_frame0000156.txt  \n",
      "  inflating: yolo_dataset/labels/val/obj1344_frame0000170.txt  \n",
      "  inflating: yolo_dataset/labels/val/obj0094_frame0000034.txt  \n",
      "  inflating: yolo_dataset/labels/val/obj1606_frame0000157.txt  \n",
      "  inflating: yolo_dataset/labels/val/obj1314_frame0000359.txt  \n",
      "  inflating: yolo_dataset/labels/val/obj1344_frame0000164.txt  \n",
      "  inflating: yolo_dataset/labels/val/obj1618_frame0000134.txt  \n",
      "  inflating: yolo_dataset/labels/val/obj1302_frame0000284.txt  \n",
      "  inflating: yolo_dataset/labels/val/obj1624_frame0000410.txt  \n",
      "  inflating: yolo_dataset/labels/val/obj1621_frame0000099.txt  \n",
      "  inflating: yolo_dataset/labels/val/obj1618_frame0000122.txt  \n",
      "  inflating: yolo_dataset/labels/val/obj1344_frame0000199.txt  \n",
      " extracting: yolo_dataset/labels/val/obj1344_frame0000172.txt  \n",
      "  inflating: yolo_dataset/labels/val/obj1344_frame0000166.txt  \n",
      "  inflating: yolo_dataset/labels/val/obj1609_frame0000146.txt  \n",
      "  inflating: yolo_dataset/labels/val/obj0182_frame0000046.txt  \n",
      "  inflating: yolo_dataset/labels/val/obj1302_frame0000245.txt  \n",
      "  inflating: yolo_dataset/labels/val/obj1323_frame0000085.txt  \n",
      "  inflating: yolo_dataset/labels/val/obj1603_frame0000053.txt  \n",
      "  inflating: yolo_dataset/labels/val/obj1613_frame0000055.txt  \n",
      "  inflating: yolo_dataset/labels/val/obj1323_frame0000091.txt  \n",
      "  inflating: yolo_dataset/labels/val/obj1302_frame0000090.txt  \n",
      "  inflating: yolo_dataset/labels/val/obj1613_frame0000069.txt  \n",
      "  inflating: yolo_dataset/labels/val/obj1603_frame0000090.txt  \n",
      "  inflating: yolo_dataset/labels/val/obj1604_frame0000115.txt  \n",
      "  inflating: yolo_dataset/labels/val/obj1323_frame0000052.txt  \n",
      "  inflating: yolo_dataset/labels/val/obj1603_frame0000084.txt  \n",
      "  inflating: yolo_dataset/labels/val/obj1302_frame0000053.txt  \n",
      "  inflating: yolo_dataset/labels/val/obj1622_frame0000091.txt  \n",
      "  inflating: yolo_dataset/labels/val/obj1302_frame0000047.txt  \n",
      "  inflating: yolo_dataset/labels/val/obj0081_frame0000042.txt  \n",
      "  inflating: yolo_dataset/labels/val/obj0078_frame0000043.txt  \n",
      "  inflating: yolo_dataset/labels/val/obj1614_frame0000098.txt  \n",
      "  inflating: yolo_dataset/labels/val/obj1620_frame0000364.txt  \n",
      "  inflating: yolo_dataset/labels/val/obj1344_frame0000204.txt  \n",
      "  inflating: yolo_dataset/labels/val/obj1604_frame0000061.txt  \n",
      "  inflating: yolo_dataset/labels/val/obj1628_frame0000231.txt  \n",
      "  inflating: yolo_dataset/labels/val/obj1344_frame0000210.txt  \n",
      "  inflating: yolo_dataset/labels/val/obj1617_frame0000045.txt  \n",
      "  inflating: yolo_dataset/labels/val/obj1618_frame0000042.txt  \n",
      "  inflating: yolo_dataset/labels/val/obj1617_frame0000092.txt  \n",
      "  inflating: yolo_dataset/labels/val/obj1302_frame0000325.txt  \n",
      "  inflating: yolo_dataset/labels/val/obj0029_frame0000037.txt  \n",
      "  inflating: yolo_dataset/labels/val/obj1619_frame0000035.txt  \n",
      "  inflating: yolo_dataset/labels/val/obj1621_frame0000111.txt  \n",
      "  inflating: yolo_dataset/labels/val/obj0084_frame0000151.txt  \n",
      "  inflating: yolo_dataset/labels/val/obj1617_frame0000087.txt  \n",
      "  inflating: yolo_dataset/labels/val/obj0084_frame0000145.txt  \n",
      "  inflating: yolo_dataset/labels/val/obj0038_frame0000047.txt  \n",
      "  inflating: yolo_dataset/labels/val/obj1615_frame0000212.txt  \n",
      "  inflating: yolo_dataset/labels/val/obj1607_frame0000056.txt  \n",
      "  inflating: yolo_dataset/labels/val/obj1344_frame0000211.txt  \n",
      "  inflating: yolo_dataset/labels/val/obj1604_frame0000074.txt  \n",
      "  inflating: yolo_dataset/labels/val/obj1344_frame0000205.txt  \n",
      "  inflating: yolo_dataset/labels/val/obj1620_frame0000371.txt  \n",
      "  inflating: yolo_dataset/labels/val/obj1302_frame0000052.txt  \n",
      "  inflating: yolo_dataset/labels/val/obj0169_frame0000028.txt  \n",
      "  inflating: yolo_dataset/labels/val/obj1323_frame0000053.txt  \n",
      "  inflating: yolo_dataset/labels/val/obj1302_frame0000085.txt  \n",
      "  inflating: yolo_dataset/labels/val/obj0075_frame0000429.txt  \n",
      "  inflating: yolo_dataset/labels/val/obj1323_frame0000090.txt  \n",
      "  inflating: yolo_dataset/labels/val/obj1323_frame0000084.txt  \n",
      "  inflating: yolo_dataset/labels/val/obj1621_frame0000071.txt  \n",
      "  inflating: yolo_dataset/labels/val/obj1625_frame0000471.txt  \n",
      "  inflating: yolo_dataset/labels/val/obj1619_frame0000141.txt  \n",
      "  inflating: yolo_dataset/labels/val/obj1344_frame0000167.txt  \n",
      "  inflating: yolo_dataset/labels/val/obj1606_frame0000154.txt  \n",
      "  inflating: yolo_dataset/labels/val/obj1610_frame0000076.txt  \n",
      "  inflating: yolo_dataset/labels/val/obj1624_frame0000413.txt  \n",
      "  inflating: yolo_dataset/labels/val/obj1344_frame0000198.txt  \n",
      "  inflating: yolo_dataset/labels/val/obj1624_frame0000375.txt  \n",
      "  inflating: yolo_dataset/labels/val/obj1608_frame0000125.txt  \n",
      "  inflating: yolo_dataset/labels/val/obj1606_frame0000183.txt  \n",
      "  inflating: yolo_dataset/labels/val/obj1344_frame0000188.txt  \n",
      "  inflating: yolo_dataset/labels/val/obj1609_frame0000180.txt  \n",
      "  inflating: yolo_dataset/labels/val/obj1619_frame0000145.txt  \n",
      "  inflating: yolo_dataset/labels/val/obj1302_frame0000532.txt  \n",
      "  inflating: yolo_dataset/labels/val/obj0182_frame0000057.txt  \n",
      "  inflating: yolo_dataset/labels/val/obj1609_frame0000157.txt  \n",
      "  inflating: yolo_dataset/labels/val/obj1344_frame0000177.txt  \n",
      "  inflating: yolo_dataset/labels/val/obj1606_frame0000144.txt  \n",
      "  inflating: yolo_dataset/labels/val/obj1344_frame0000163.txt  \n",
      "  inflating: yolo_dataset/labels/val/obj1302_frame0000081.txt  \n",
      "  inflating: yolo_dataset/labels/val/obj1323_frame0000080.txt  \n",
      "  inflating: yolo_dataset/labels/val/obj1323_frame0000094.txt  \n",
      "  inflating: yolo_dataset/labels/val/obj1302_frame0000056.txt  \n",
      "  inflating: yolo_dataset/labels/val/obj1622_frame0000094.txt  \n",
      "  inflating: yolo_dataset/labels/val/obj0169_frame0000010.txt  \n",
      "  inflating: yolo_dataset/labels/val/obj1323_frame0000057.txt  \n",
      "  inflating: yolo_dataset/labels/val/obj1616_frame0000340.txt  \n",
      "  inflating: yolo_dataset/labels/val/obj1603_frame0000081.txt  \n",
      "  inflating: yolo_dataset/labels/val/obj1614_frame0000102.txt  \n",
      "  inflating: yolo_dataset/labels/val/obj1614_frame0000089.txt  \n",
      "  inflating: yolo_dataset/labels/val/obj0078_frame0000046.txt  \n",
      "  inflating: yolo_dataset/labels/val/obj0081_frame0000047.txt  \n",
      "  inflating: yolo_dataset/labels/val/obj0078_frame0000052.txt  \n",
      "  inflating: yolo_dataset/labels/val/obj1344_frame0000201.txt  \n",
      "  inflating: yolo_dataset/labels/val/obj1604_frame0000064.txt  \n",
      "  inflating: yolo_dataset/labels/val/obj1344_frame0000215.txt  \n",
      "  inflating: yolo_dataset/labels/val/obj1614_frame0000076.txt  \n",
      "  inflating: yolo_dataset/labels/val/obj1629_frame0000068.txt  \n",
      "  inflating: yolo_dataset/labels/val/obj1617_frame0000040.txt  \n",
      "  inflating: yolo_dataset/labels/val/obj1619_frame0000031.txt  \n",
      "  inflating: yolo_dataset/labels/val/obj0029_frame0000033.txt  \n",
      "  inflating: yolo_dataset/labels/val/obj0084_frame0000141.txt  \n",
      "  inflating: yolo_dataset/labels/val/obj1617_frame0000083.txt  \n",
      "  inflating: yolo_dataset/labels/val/obj1617_frame0000097.txt  \n",
      "  inflating: yolo_dataset/labels/val/obj1610_frame0000113.txt  \n",
      "  inflating: yolo_dataset/labels/val/obj0084_frame0000154.txt  \n",
      "  inflating: yolo_dataset/labels/val/obj1617_frame0000096.txt  \n",
      "  inflating: yolo_dataset/labels/val/obj0029_frame0000032.txt  \n",
      "  inflating: yolo_dataset/labels/val/obj1618_frame0000085.txt  \n",
      "  inflating: yolo_dataset/labels/val/obj0084_frame0000168.txt  \n",
      "  inflating: yolo_dataset/labels/val/obj1302_frame0000321.txt  \n",
      "  inflating: yolo_dataset/labels/val/obj0029_frame0000026.txt  \n",
      "  inflating: yolo_dataset/labels/val/obj1607_frame0000053.txt  \n",
      "  inflating: yolo_dataset/labels/val/obj1607_frame0000047.txt  \n",
      "  inflating: yolo_dataset/labels/val/obj1344_frame0000214.txt  \n",
      "  inflating: yolo_dataset/labels/val/obj1604_frame0000071.txt  \n",
      "  inflating: yolo_dataset/labels/val/obj1344_frame0000200.txt  \n",
      "  inflating: yolo_dataset/labels/val/obj1604_frame0000059.txt  \n",
      "  inflating: yolo_dataset/labels/val/obj1302_frame0000123.txt  \n",
      "  inflating: yolo_dataset/labels/val/obj0081_frame0000052.txt  \n",
      "  inflating: yolo_dataset/labels/val/obj0081_frame0000046.txt  \n",
      "  inflating: yolo_dataset/labels/val/obj1620_frame0000374.txt  \n",
      "  inflating: yolo_dataset/labels/val/obj1620_frame0000412.txt  \n",
      "  inflating: yolo_dataset/labels/val/obj1323_frame0000056.txt  \n",
      "  inflating: yolo_dataset/labels/val/obj0169_frame0000039.txt  \n",
      "  inflating: yolo_dataset/labels/val/obj1604_frame0000111.txt  \n",
      "  inflating: yolo_dataset/labels/val/obj1302_frame0000043.txt  \n",
      "  inflating: yolo_dataset/labels/val/obj1302_frame0000057.txt  \n",
      "  inflating: yolo_dataset/labels/val/obj1323_frame0000095.txt  \n",
      "  inflating: yolo_dataset/labels/val/obj1613_frame0000051.txt  \n",
      "  inflating: yolo_dataset/labels/val/obj1603_frame0000057.txt  \n",
      "  inflating: yolo_dataset/labels/val/obj1323_frame0000081.txt  \n",
      "  inflating: yolo_dataset/labels/val/obj1624_frame0000166.txt  \n",
      "  inflating: yolo_dataset/labels/val/obj1302_frame0000094.txt  \n",
      "  inflating: yolo_dataset/labels/val/obj0094_frame0000026.txt  \n",
      "  inflating: yolo_dataset/labels/val/obj1344_frame0000162.txt  \n",
      "  inflating: yolo_dataset/labels/val/obj1344_frame0000176.txt  \n",
      "  inflating: yolo_dataset/labels/val/obj1606_frame0000179.txt  \n",
      "  inflating: yolo_dataset/labels/val/obj1625_frame0000474.txt  \n",
      "  inflating: yolo_dataset/labels/val/obj0182_frame0000042.txt  \n",
      "  inflating: yolo_dataset/labels/val/obj1609_frame0000142.txt  \n",
      "  inflating: yolo_dataset/labels/val/obj1606_frame0000186.txt  \n",
      "  inflating: yolo_dataset/labels/val/obj1344_frame0000189.txt  \n",
      "  inflating: yolo_dataset/labels/val/obj1629_frame0000109.txt  \n",
      "  inflating: yolo_dataset/labels/val/obj0075_frame0000160.txt  \n",
      "  inflating: yolo_dataset/labels/val/obj1607_frame0000119.txt  \n",
      "  inflating: yolo_dataset/labels/val/obj0075_frame0000176.txt  \n",
      "  inflating: yolo_dataset/labels/val/obj1618_frame0000118.txt  \n",
      "  inflating: yolo_dataset/labels/val/obj1344_frame0000148.txt  \n",
      "  inflating: yolo_dataset/labels/val/obj1344_frame0000160.txt  \n",
      "  inflating: yolo_dataset/labels/val/obj1344_frame0000174.txt  \n",
      "  inflating: yolo_dataset/labels/val/obj1314_frame0000349.txt  \n",
      "  inflating: yolo_dataset/labels/val/obj1603_frame0000069.txt  \n",
      "  inflating: yolo_dataset/labels/val/obj1302_frame0000096.txt  \n",
      "  inflating: yolo_dataset/labels/val/obj1624_frame0000602.txt  \n",
      "  inflating: yolo_dataset/labels/val/obj1323_frame0000097.txt  \n",
      "  inflating: yolo_dataset/labels/val/obj1323_frame0000083.txt  \n",
      "  inflating: yolo_dataset/labels/val/obj1603_frame0000055.txt  \n",
      "  inflating: yolo_dataset/labels/val/obj1630_frame0000238.txt  \n",
      "  inflating: yolo_dataset/labels/val/obj1613_frame0000053.txt  \n",
      "  inflating: yolo_dataset/labels/val/obj1622_frame0000097.txt  \n",
      "  inflating: yolo_dataset/labels/val/obj1302_frame0000041.txt  \n",
      "  inflating: yolo_dataset/labels/val/obj1323_frame0000068.txt  \n",
      "  inflating: yolo_dataset/labels/val/obj1302_frame0000055.txt  \n",
      "  inflating: yolo_dataset/labels/val/obj0158_frame0000028.txt  \n",
      "  inflating: yolo_dataset/labels/val/obj1604_frame0000107.txt  \n",
      "  inflating: yolo_dataset/labels/val/obj1323_frame0000054.txt  \n",
      "  inflating: yolo_dataset/labels/val/obj1302_frame0000069.txt  \n",
      "  inflating: yolo_dataset/labels/val/obj1604_frame0000098.txt  \n",
      "  inflating: yolo_dataset/labels/val/obj0081_frame0000044.txt  \n",
      "  inflating: yolo_dataset/labels/val/obj1618_frame0000285.txt  \n",
      "  inflating: yolo_dataset/labels/val/obj1302_frame0000653.txt  \n",
      "  inflating: yolo_dataset/labels/val/obj1323_frame0000108.txt  \n",
      "  inflating: yolo_dataset/labels/val/obj1323_frame0000120.txt  \n",
      "  inflating: yolo_dataset/labels/val/obj1344_frame0000216.txt  \n",
      "  inflating: yolo_dataset/labels/val/obj1344_frame0000202.txt  \n",
      "  inflating: yolo_dataset/labels/val/obj1618_frame0000050.txt  \n",
      "  inflating: yolo_dataset/labels/val/obj1618_frame0000078.txt  \n",
      "  inflating: yolo_dataset/labels/val/obj1617_frame0000043.txt  \n",
      "  inflating: yolo_dataset/labels/val/obj1615_frame0000201.txt  \n",
      "  inflating: yolo_dataset/labels/val/obj0029_frame0000030.txt  \n",
      "  inflating: yolo_dataset/labels/val/obj1627_frame0000032.txt  \n",
      "  inflating: yolo_dataset/labels/val/obj1621_frame0000116.txt  \n",
      "  inflating: yolo_dataset/labels/val/obj1617_frame0000094.txt  \n",
      "  inflating: yolo_dataset/labels/val/obj0084_frame0000156.txt  \n",
      "  inflating: yolo_dataset/labels/val/obj1617_frame0000080.txt  \n",
      "  inflating: yolo_dataset/labels/val/obj0029_frame0000025.txt  \n",
      "  inflating: yolo_dataset/labels/val/obj1619_frame0000027.txt  \n",
      "  inflating: yolo_dataset/labels/val/obj1607_frame0000044.txt  \n",
      "  inflating: yolo_dataset/labels/val/obj1607_frame0000050.txt  \n",
      "  inflating: yolo_dataset/labels/val/obj1618_frame0000045.txt  \n",
      "  inflating: yolo_dataset/labels/val/obj0038_frame0000055.txt  \n",
      "  inflating: yolo_dataset/labels/val/obj1344_frame0000203.txt  \n",
      "  inflating: yolo_dataset/labels/val/obj1344_frame0000217.txt  \n",
      "  inflating: yolo_dataset/labels/val/obj1302_frame0000108.txt  \n",
      "  inflating: yolo_dataset/labels/val/obj1323_frame0000109.txt  \n",
      "  inflating: yolo_dataset/labels/val/obj1622_frame0000135.txt  \n",
      "  inflating: yolo_dataset/labels/val/obj1614_frame0000100.txt  \n",
      "  inflating: yolo_dataset/labels/val/obj1323_frame0000055.txt  \n",
      "  inflating: yolo_dataset/labels/val/obj1302_frame0000054.txt  \n",
      "  inflating: yolo_dataset/labels/val/obj1615_frame0000189.txt  \n",
      "  inflating: yolo_dataset/labels/val/obj0169_frame0000012.txt  \n",
      "  inflating: yolo_dataset/labels/val/obj1323_frame0000069.txt  \n",
      "  inflating: yolo_dataset/labels/val/obj1323_frame0000082.txt  \n",
      "  inflating: yolo_dataset/labels/val/obj1323_frame0000096.txt  \n",
      "  inflating: yolo_dataset/labels/val/obj1302_frame0000083.txt  \n",
      "  inflating: yolo_dataset/labels/val/obj1344_frame0000175.txt  \n",
      "  inflating: yolo_dataset/labels/val/obj1344_frame0000161.txt  \n",
      "  inflating: yolo_dataset/labels/val/obj1344_frame0000149.txt  \n",
      "  inflating: yolo_dataset/labels/val/obj1314_frame0000360.txt  \n",
      "  inflating: yolo_dataset/labels/val/obj1619_frame0000153.txt  \n",
      "  inflating: yolo_dataset/labels/val/obj1606_frame0000191.txt  \n",
      "  inflating: yolo_dataset/labels/val/obj0075_frame0000138.txt  \n",
      "  inflating: yolo_dataset/labels/val/obj1607_frame0000157.txt  \n",
      "  inflating: yolo_dataset/labels/val/obj1619_frame0000108.txt  \n",
      "  inflating: yolo_dataset/labels/val/obj1610_frame0000003.txt  \n",
      "  inflating: yolo_dataset/labels/val/obj1606_frame0000135.txt  \n",
      "  inflating: yolo_dataset/labels/val/obj1314_frame0000307.txt  \n",
      "  inflating: yolo_dataset/labels/val/obj1302_frame0000225.txt  \n",
      "  inflating: yolo_dataset/labels/val/obj0182_frame0000032.txt  \n",
      "  inflating: yolo_dataset/labels/val/obj1618_frame0000181.txt  \n",
      "  inflating: yolo_dataset/labels/val/obj1302_frame0000027.txt  \n",
      "  inflating: yolo_dataset/labels/val/obj1302_frame0000033.txt  \n",
      "  inflating: yolo_dataset/labels/val/obj1605_frame0000077.txt  \n",
      "  inflating: yolo_dataset/labels/val/obj0037_frame0000021.txt  \n",
      "  inflating: yolo_dataset/labels/val/obj0037_frame0000035.txt  \n",
      "  inflating: yolo_dataset/labels/val/obj1314_frame0000298.txt  \n",
      "  inflating: yolo_dataset/labels/val/obj0037_frame0000009.txt  \n",
      "  inflating: yolo_dataset/labels/val/obj1618_frame0000036.txt  \n",
      "  inflating: yolo_dataset/labels/val/obj1619_frame0000097.txt  \n",
      "  inflating: yolo_dataset/labels/val/obj1627_frame0000055.txt  \n",
      "  inflating: yolo_dataset/labels/val/obj1628_frame0000052.txt  \n",
      "  inflating: yolo_dataset/labels/val/obj1609_frame0000090.txt  \n",
      "  inflating: yolo_dataset/labels/val/obj0037_frame0000008.txt  \n",
      "  inflating: yolo_dataset/labels/val/obj0038_frame0000027.txt  \n",
      "  inflating: yolo_dataset/labels/val/obj1619_frame0000082.txt  \n",
      "  inflating: yolo_dataset/labels/val/obj1314_frame0000299.txt  \n",
      "  inflating: yolo_dataset/labels/val/obj1302_frame0000146.txt  \n",
      "  inflating: yolo_dataset/labels/val/obj1605_frame0000089.txt  \n",
      "  inflating: yolo_dataset/labels/val/obj1623_frame0000119.txt  \n",
      "  inflating: yolo_dataset/labels/val/obj1605_frame0000062.txt  \n",
      "  inflating: yolo_dataset/labels/val/obj1605_frame0000076.txt  \n",
      "  inflating: yolo_dataset/labels/val/obj1616_frame0000293.txt  \n",
      "  inflating: yolo_dataset/labels/val/obj0081_frame0000037.txt  \n",
      "  inflating: yolo_dataset/labels/val/obj1302_frame0000032.txt  \n",
      "  inflating: yolo_dataset/labels/val/obj1302_frame0000026.txt  \n",
      "  inflating: yolo_dataset/labels/val/obj1616_frame0000330.txt  \n",
      "  inflating: yolo_dataset/labels/val/obj1623_frame0000086.txt  \n",
      "  inflating: yolo_dataset/labels/val/obj1615_frame0000110.txt  \n",
      "  inflating: yolo_dataset/labels/val/obj0182_frame0000027.txt  \n",
      "  inflating: yolo_dataset/labels/val/obj1619_frame0000121.txt  \n",
      "  inflating: yolo_dataset/labels/val/obj1619_frame0000135.txt  \n",
      "  inflating: yolo_dataset/labels/val/obj1314_frame0000306.txt  \n",
      "  inflating: yolo_dataset/labels/val/obj0084_frame0000051.txt  \n",
      "  inflating: yolo_dataset/labels/val/obj1624_frame0000467.txt  \n",
      "  inflating: yolo_dataset/labels/val/obj1615_frame0000312.txt  \n",
      "  inflating: yolo_dataset/labels/val/obj1607_frame0000142.txt  \n",
      "  inflating: yolo_dataset/labels/val/obj1630_frame0000049.txt  \n",
      "  inflating: yolo_dataset/labels/val/obj1618_frame0000169.txt  \n",
      "  inflating: yolo_dataset/labels/val/obj1618_frame0000141.txt  \n",
      "  inflating: yolo_dataset/labels/val/obj1610_frame0000014.txt  \n",
      "  inflating: yolo_dataset/labels/val/obj0084_frame0000047.txt  \n",
      "  inflating: yolo_dataset/labels/val/obj1630_frame0000088.txt  \n",
      "  inflating: yolo_dataset/labels/val/obj1314_frame0000310.txt  \n",
      "  inflating: yolo_dataset/labels/val/obj1302_frame0000554.txt  \n",
      "  inflating: yolo_dataset/labels/val/obj1609_frame0000125.txt  \n",
      "  inflating: yolo_dataset/labels/val/obj1314_frame0000304.txt  \n",
      "  inflating: yolo_dataset/labels/val/obj1302_frame0000018.txt  \n",
      "  inflating: yolo_dataset/labels/val/obj1302_frame0000030.txt  \n",
      "  inflating: yolo_dataset/labels/val/obj1302_frame0000024.txt  \n",
      "  inflating: yolo_dataset/labels/val/obj0078_frame0000020.txt  \n",
      "  inflating: yolo_dataset/labels/val/obj1605_frame0000074.txt  \n",
      "  inflating: yolo_dataset/labels/val/obj1616_frame0000252.txt  \n",
      "  inflating: yolo_dataset/labels/val/obj1628_frame0000087.txt  \n",
      "  inflating: yolo_dataset/labels/val/obj1618_frame0000021.txt  \n",
      "  inflating: yolo_dataset/labels/val/obj1626_frame0000021.txt  \n",
      "  inflating: yolo_dataset/labels/val/obj0084_frame0000133.txt  \n",
      "  inflating: yolo_dataset/labels/val/obj1302_frame0000409.txt  \n",
      "  inflating: yolo_dataset/labels/val/obj1609_frame0000087.txt  \n",
      "  inflating: yolo_dataset/labels/val/obj1615_frame0000259.txt  \n",
      "  inflating: yolo_dataset/labels/val/obj1609_frame0000093.txt  \n",
      "  inflating: yolo_dataset/labels/val/obj1618_frame0000034.txt  \n",
      "  inflating: yolo_dataset/labels/val/obj0037_frame0000023.txt  \n",
      "  inflating: yolo_dataset/labels/val/obj1618_frame0000008.txt  \n",
      "  inflating: yolo_dataset/labels/val/obj1302_frame0000025.txt  \n",
      "  inflating: yolo_dataset/labels/val/obj1302_frame0000031.txt  \n",
      "  inflating: yolo_dataset/labels/val/obj1302_frame0000019.txt  \n",
      "  inflating: yolo_dataset/labels/val/obj1615_frame0000107.txt  \n",
      "  inflating: yolo_dataset/labels/val/obj0169_frame0000088.txt  \n",
      "  inflating: yolo_dataset/labels/val/obj1609_frame0000130.txt  \n",
      "  inflating: yolo_dataset/labels/val/obj1314_frame0000305.txt  \n",
      "  inflating: yolo_dataset/labels/val/obj1314_frame0000311.txt  \n",
      "  inflating: yolo_dataset/labels/val/obj0182_frame0000024.txt  \n",
      "  inflating: yolo_dataset/labels/val/obj0182_frame0000018.txt  \n",
      "  inflating: yolo_dataset/labels/val/obj1609_frame0000118.txt  \n",
      "  inflating: yolo_dataset/labels/val/obj1608_frame0000152.txt  \n",
      "  inflating: yolo_dataset/labels/val/obj1624_frame0000302.txt  \n",
      "  inflating: yolo_dataset/labels/val/obj1607_frame0000179.txt  \n",
      "  inflating: yolo_dataset/labels/val/obj1619_frame0000126.txt  \n",
      "  inflating: yolo_dataset/labels/val/obj1314_frame0000301.txt  \n",
      "  inflating: yolo_dataset/labels/val/obj1619_frame0000132.txt  \n",
      "  inflating: yolo_dataset/labels/val/obj1610_frame0000011.txt  \n",
      "  inflating: yolo_dataset/labels/val/obj1302_frame0000035.txt  \n",
      "  inflating: yolo_dataset/labels/val/obj1302_frame0000021.txt  \n",
      "  inflating: yolo_dataset/labels/val/obj0075_frame0000499.txt  \n",
      "  inflating: yolo_dataset/labels/val/obj1302_frame0000009.txt  \n",
      "  inflating: yolo_dataset/labels/val/obj1323_frame0000020.txt  \n",
      "  inflating: yolo_dataset/labels/val/obj1616_frame0000323.txt  \n",
      "  inflating: yolo_dataset/labels/val/obj0078_frame0000019.txt  \n",
      "  inflating: yolo_dataset/labels/val/obj1605_frame0000059.txt  \n",
      "  inflating: yolo_dataset/labels/val/obj1623_frame0000122.txt  \n",
      "  inflating: yolo_dataset/labels/val/obj1615_frame0000088.txt  \n",
      "  inflating: yolo_dataset/labels/val/obj1618_frame0000030.txt  \n",
      "  inflating: yolo_dataset/labels/val/obj0038_frame0000008.txt  \n",
      "  inflating: yolo_dataset/labels/val/obj1618_frame0000018.txt  \n",
      "  inflating: yolo_dataset/labels/val/obj1621_frame0000176.txt  \n",
      "  inflating: yolo_dataset/labels/val/obj1302_frame0000357.txt  \n",
      "  inflating: yolo_dataset/labels/val/obj0037_frame0000026.txt  \n",
      "  inflating: yolo_dataset/labels/val/obj0037_frame0000032.txt  \n",
      "  inflating: yolo_dataset/labels/val/obj1618_frame0000025.txt  \n",
      "  inflating: yolo_dataset/labels/val/obj1609_frame0000096.txt  \n",
      "  inflating: yolo_dataset/labels/val/obj0083_frame0000059.txt  \n",
      "  inflating: yolo_dataset/labels/val/obj1624_frame0000273.txt  \n",
      "  inflating: yolo_dataset/labels/val/obj1609_frame0000243.txt  \n",
      "  inflating: yolo_dataset/labels/val/obj1615_frame0000089.txt  \n",
      "  inflating: yolo_dataset/labels/val/obj0169_frame0000112.txt  \n",
      "  inflating: yolo_dataset/labels/val/obj1605_frame0000070.txt  \n",
      "  inflating: yolo_dataset/labels/val/obj0081_frame0000031.txt  \n",
      "  inflating: yolo_dataset/labels/val/obj1302_frame0000183.txt  \n",
      "  inflating: yolo_dataset/labels/val/obj1323_frame0000021.txt  \n",
      "  inflating: yolo_dataset/labels/val/obj1302_frame0000008.txt  \n",
      "  inflating: yolo_dataset/labels/val/obj1302_frame0000020.txt  \n",
      "  inflating: yolo_dataset/labels/val/obj1302_frame0000034.txt  \n",
      "  inflating: yolo_dataset/labels/val/obj0158_frame0000049.txt  \n",
      "  inflating: yolo_dataset/labels/val/obj1615_frame0000102.txt  \n",
      "  inflating: yolo_dataset/labels/val/obj1623_frame0000080.txt  \n",
      "  inflating: yolo_dataset/labels/val/obj0084_frame0000057.txt  \n",
      "  inflating: yolo_dataset/labels/val/obj1314_frame0000300.txt  \n",
      "  inflating: yolo_dataset/labels/val/obj1610_frame0000038.txt  \n",
      "  inflating: yolo_dataset/labels/val/obj0182_frame0000035.txt  \n",
      "  inflating: yolo_dataset/labels/val/obj1628_frame0000108.txt  \n",
      "  inflating: yolo_dataset/labels/val/obj1624_frame0000477.txt  \n",
      "  inflating: yolo_dataset/labels/val/obj1608_frame0000155.txt  \n",
      "  inflating: yolo_dataset/labels/val/obj1302_frame0000546.txt  \n",
      "  inflating: yolo_dataset/labels/val/obj1314_frame0000302.txt  \n",
      "  inflating: yolo_dataset/labels/val/obj0084_frame0000069.txt  \n",
      "  inflating: yolo_dataset/labels/val/obj1627_frame0000119.txt  \n",
      "  inflating: yolo_dataset/labels/val/obj1615_frame0000128.txt  \n",
      "  inflating: yolo_dataset/labels/val/obj1615_frame0000114.txt  \n",
      "  inflating: yolo_dataset/labels/val/obj1302_frame0000022.txt  \n",
      "  inflating: yolo_dataset/labels/val/obj1623_frame0000069.txt  \n",
      "  inflating: yolo_dataset/labels/val/obj1302_frame0000624.txt  \n",
      "  inflating: yolo_dataset/labels/val/obj1624_frame0000098.txt  \n",
      "  inflating: yolo_dataset/labels/val/obj0037_frame0000024.txt  \n",
      "  inflating: yolo_dataset/labels/val/obj0037_frame0000030.txt  \n",
      "  inflating: yolo_dataset/labels/val/obj1302_frame0000432.txt  \n",
      "  inflating: yolo_dataset/labels/val/obj1615_frame0000289.txt  \n",
      "  inflating: yolo_dataset/labels/val/obj1302_frame0000341.txt  \n",
      "  inflating: yolo_dataset/labels/val/obj1617_frame0000035.txt  \n",
      "  inflating: yolo_dataset/labels/val/obj0037_frame0000025.txt  \n",
      "  inflating: yolo_dataset/labels/val/obj1629_frame0000035.txt  \n",
      "  inflating: yolo_dataset/labels/val/obj1619_frame0000093.txt  \n",
      "  inflating: yolo_dataset/labels/val/obj1618_frame0000032.txt  \n",
      "  inflating: yolo_dataset/labels/val/obj0038_frame0000022.txt  \n",
      "  inflating: yolo_dataset/labels/val/obj1624_frame0000264.txt  \n",
      "  inflating: yolo_dataset/labels/val/obj0037_frame0000019.txt  \n",
      "  inflating: yolo_dataset/labels/val/obj1605_frame0000067.txt  \n",
      "  inflating: yolo_dataset/labels/val/obj0081_frame0000026.txt  \n",
      "  inflating: yolo_dataset/labels/val/obj0078_frame0000027.txt  \n",
      "  inflating: yolo_dataset/labels/val/obj0078_frame0000033.txt  \n",
      "  inflating: yolo_dataset/labels/val/obj1605_frame0000073.txt  \n",
      "  inflating: yolo_dataset/labels/val/obj1302_frame0000037.txt  \n",
      "  inflating: yolo_dataset/labels/val/obj1302_frame0000023.txt  \n",
      "  inflating: yolo_dataset/labels/val/obj0075_frame0000458.txt  \n",
      "  inflating: yolo_dataset/labels/val/obj1623_frame0000083.txt  \n",
      "  inflating: yolo_dataset/labels/val/obj1623_frame0000097.txt  \n",
      "  inflating: yolo_dataset/labels/val/obj0084_frame0000054.txt  \n",
      "  inflating: yolo_dataset/labels/val/obj0084_frame0000040.txt  \n",
      "  inflating: yolo_dataset/labels/val/obj1609_frame0000122.txt  \n",
      "  inflating: yolo_dataset/labels/val/obj0182_frame0000022.txt  \n",
      "  inflating: yolo_dataset/labels/val/obj0182_frame0000036.txt  \n",
      "  inflating: yolo_dataset/labels/val/obj1609_frame0000136.txt  \n",
      "  inflating: yolo_dataset/labels/val/obj1608_frame0000197.txt  \n",
      "  inflating: yolo_dataset/labels/val/obj1314_frame0000303.txt  \n",
      "  inflating: yolo_dataset/labels/val/obj1607_frame0000153.txt  \n",
      "  inflating: yolo_dataset/labels/val/obj1618_frame0000146.txt  \n"
     ]
    }
   ],
   "source": [
    "!unzip /content/drive/MyDrive/yolo_dataset.zip"
   ]
  },
  {
   "cell_type": "code",
   "execution_count": null,
   "metadata": {
    "id": "Nm4aAg3tOSCW"
   },
   "outputs": [],
   "source": [
    "# copy the yaml file to local for use in training\n",
    "!cp /content/drive/MyDrive/custom-model.yaml ./content/drive/datasets/"
   ]
  },
  {
   "cell_type": "code",
   "execution_count": null,
   "metadata": {
    "colab": {
     "base_uri": "https://localhost:8080/"
    },
    "id": "Dntynt1HOCr0",
    "outputId": "3f678d91-e50f-4e58-e797-395c9cf8242a"
   },
   "outputs": [
    {
     "name": "stdout",
     "output_type": "stream",
     "text": [
      "Thu Dec  5 23:53:16 2024       \n",
      "+---------------------------------------------------------------------------------------+\n",
      "| NVIDIA-SMI 535.104.05             Driver Version: 535.104.05   CUDA Version: 12.2     |\n",
      "|-----------------------------------------+----------------------+----------------------+\n",
      "| GPU  Name                 Persistence-M | Bus-Id        Disp.A | Volatile Uncorr. ECC |\n",
      "| Fan  Temp   Perf          Pwr:Usage/Cap |         Memory-Usage | GPU-Util  Compute M. |\n",
      "|                                         |                      |               MIG M. |\n",
      "|=========================================+======================+======================|\n",
      "|   0  Tesla T4                       Off | 00000000:00:04.0 Off |                    0 |\n",
      "| N/A   46C    P8              10W /  70W |      0MiB / 15360MiB |      0%      Default |\n",
      "|                                         |                      |                  N/A |\n",
      "+-----------------------------------------+----------------------+----------------------+\n",
      "                                                                                         \n",
      "+---------------------------------------------------------------------------------------+\n",
      "| Processes:                                                                            |\n",
      "|  GPU   GI   CI        PID   Type   Process name                            GPU Memory |\n",
      "|        ID   ID                                                             Usage      |\n",
      "|=======================================================================================|\n",
      "|  No running processes found                                                           |\n",
      "+---------------------------------------------------------------------------------------+\n"
     ]
    }
   ],
   "source": [
    "# check the GPU availability\n",
    "!nvidia-smi"
   ]
  },
  {
   "cell_type": "code",
   "execution_count": null,
   "metadata": {
    "colab": {
     "base_uri": "https://localhost:8080/"
    },
    "id": "UTIAgZWhNINS",
    "outputId": "0450697e-0b59-4ef8-e322-e0a9cf92b0bd"
   },
   "outputs": [
    {
     "name": "stdout",
     "output_type": "stream",
     "text": [
      "Ultralytics 8.3.43 🚀 Python-3.10.12 torch-2.5.1+cu121 CUDA:0 (Tesla T4, 15102MiB)\n",
      "Setup complete ✅ (2 CPUs, 12.7 GB RAM, 32.9/112.6 GB disk)\n"
     ]
    }
   ],
   "source": [
    "%pip install ultralytics\n",
    "import ultralytics\n",
    "ultralytics.checks()"
   ]
  },
  {
   "cell_type": "code",
   "execution_count": null,
   "metadata": {
    "id": "mp9V4dp6NPki"
   },
   "outputs": [],
   "source": [
    "#import yolo\n",
    "from ultralytics import YOLO"
   ]
  },
  {
   "cell_type": "code",
   "execution_count": null,
   "metadata": {
    "colab": {
     "base_uri": "https://localhost:8080/"
    },
    "id": "hmHKkx29O3w_",
    "outputId": "7df5d99d-e200-4e6f-9dbd-9e903ee6f6bf"
   },
   "outputs": [
    {
     "name": "stdout",
     "output_type": "stream",
     "text": [
      "Downloading https://github.com/ultralytics/assets/releases/download/v8.3.0/yolov8s.pt to 'yolov8s.pt'...\n"
     ]
    },
    {
     "name": "stderr",
     "output_type": "stream",
     "text": [
      "100%|██████████| 21.5M/21.5M [00:00<00:00, 149MB/s]\n"
     ]
    }
   ],
   "source": [
    "# Load a pretrained YOLO model weights\n",
    "model = YOLO(\"yolov8s.pt\")"
   ]
  },
  {
   "cell_type": "code",
   "execution_count": null,
   "metadata": {
    "colab": {
     "base_uri": "https://localhost:8080/"
    },
    "id": "4YjM9lVgO5ga",
    "outputId": "933b0f8c-8386-4eb2-eeb9-b218f7c4b28c"
   },
   "outputs": [
    {
     "metadata": {
      "tags": null
     },
     "name": "stdout",
     "output_type": "stream",
     "text": [
      "Ultralytics 8.3.43 🚀 Python-3.10.12 torch-2.5.1+cu121 CUDA:0 (Tesla T4, 15102MiB)\n",
      "\u001b[34m\u001b[1mengine/trainer: \u001b[0mtask=detect, mode=train, model=yolov8s.pt, data=./custom-model.yaml, epochs=100, time=None, patience=100, batch=32, imgsz=640, save=True, save_period=-1, cache=False, device=0, workers=8, project=yolo8vsmodel, name=train4, exist_ok=False, pretrained=True, optimizer=auto, verbose=True, seed=0, deterministic=True, single_cls=False, rect=False, cos_lr=False, close_mosaic=10, resume=False, amp=True, fraction=1.0, profile=False, freeze=None, multi_scale=False, overlap_mask=True, mask_ratio=4, dropout=0.0, val=True, split=val, save_json=False, save_hybrid=False, conf=None, iou=0.7, max_det=300, half=False, dnn=False, plots=True, source=None, vid_stride=1, stream_buffer=False, visualize=False, augment=False, agnostic_nms=False, classes=None, retina_masks=False, embed=None, show=False, save_frames=False, save_txt=False, save_conf=False, save_crop=False, show_labels=True, show_conf=True, show_boxes=True, line_width=None, format=torchscript, keras=False, optimize=False, int8=False, dynamic=False, simplify=True, opset=None, workspace=None, nms=False, lr0=0.01, lrf=0.01, momentum=0.937, weight_decay=0.0005, warmup_epochs=3.0, warmup_momentum=0.8, warmup_bias_lr=0.1, box=7.5, cls=0.5, dfl=1.5, pose=12.0, kobj=1.0, nbs=64, hsv_h=0.015, hsv_s=0.7, hsv_v=0.4, degrees=0.0, translate=0.1, scale=0.5, shear=0.0, perspective=0.0, flipud=0.0, fliplr=0.5, bgr=0.0, mosaic=1.0, mixup=0.0, copy_paste=0.0, copy_paste_mode=flip, auto_augment=randaugment, erasing=0.4, crop_fraction=1.0, cfg=None, tracker=botsort.yaml, save_dir=yolo8vsmodel/train4\n",
      "\n",
      "                   from  n    params  module                                       arguments                     \n",
      "  0                  -1  1       928  ultralytics.nn.modules.conv.Conv             [3, 32, 3, 2]                 \n",
      "  1                  -1  1     18560  ultralytics.nn.modules.conv.Conv             [32, 64, 3, 2]                \n",
      "  2                  -1  1     29056  ultralytics.nn.modules.block.C2f             [64, 64, 1, True]             \n",
      "  3                  -1  1     73984  ultralytics.nn.modules.conv.Conv             [64, 128, 3, 2]               \n",
      "  4                  -1  2    197632  ultralytics.nn.modules.block.C2f             [128, 128, 2, True]           \n",
      "  5                  -1  1    295424  ultralytics.nn.modules.conv.Conv             [128, 256, 3, 2]              \n",
      "  6                  -1  2    788480  ultralytics.nn.modules.block.C2f             [256, 256, 2, True]           \n",
      "  7                  -1  1   1180672  ultralytics.nn.modules.conv.Conv             [256, 512, 3, 2]              \n",
      "  8                  -1  1   1838080  ultralytics.nn.modules.block.C2f             [512, 512, 1, True]           \n",
      "  9                  -1  1    656896  ultralytics.nn.modules.block.SPPF            [512, 512, 5]                 \n",
      " 10                  -1  1         0  torch.nn.modules.upsampling.Upsample         [None, 2, 'nearest']          \n",
      " 11             [-1, 6]  1         0  ultralytics.nn.modules.conv.Concat           [1]                           \n",
      " 12                  -1  1    591360  ultralytics.nn.modules.block.C2f             [768, 256, 1]                 \n",
      " 13                  -1  1         0  torch.nn.modules.upsampling.Upsample         [None, 2, 'nearest']          \n",
      " 14             [-1, 4]  1         0  ultralytics.nn.modules.conv.Concat           [1]                           \n",
      " 15                  -1  1    148224  ultralytics.nn.modules.block.C2f             [384, 128, 1]                 \n",
      " 16                  -1  1    147712  ultralytics.nn.modules.conv.Conv             [128, 128, 3, 2]              \n",
      " 17            [-1, 12]  1         0  ultralytics.nn.modules.conv.Concat           [1]                           \n",
      " 18                  -1  1    493056  ultralytics.nn.modules.block.C2f             [384, 256, 1]                 \n",
      " 19                  -1  1    590336  ultralytics.nn.modules.conv.Conv             [256, 256, 3, 2]              \n",
      " 20             [-1, 9]  1         0  ultralytics.nn.modules.conv.Concat           [1]                           \n",
      " 21                  -1  1   1969152  ultralytics.nn.modules.block.C2f             [768, 512, 1]                 \n",
      " 22        [15, 18, 21]  1   2117209  ultralytics.nn.modules.head.Detect           [3, [128, 256, 512]]          \n",
      "Model summary: 225 layers, 11,136,761 parameters, 11,136,745 gradients, 28.7 GFLOPs\n",
      "\n",
      "Transferred 355/355 items from pretrained weights\n",
      "\u001b[34m\u001b[1mTensorBoard: \u001b[0mStart with 'tensorboard --logdir yolo8vsmodel/train4', view at http://localhost:6006/\n",
      "Freezing layer 'model.22.dfl.conv.weight'\n",
      "\u001b[34m\u001b[1mAMP: \u001b[0mrunning Automatic Mixed Precision (AMP) checks...\n",
      "\u001b[34m\u001b[1mAMP: \u001b[0mchecks passed ✅\n"
     ]
    },
    {
     "metadata": {
      "tags": null
     },
     "name": "stderr",
     "output_type": "stream",
     "text": [
      "\u001b[34m\u001b[1mtrain: \u001b[0mScanning /content/datasets/yolo_dataset/labels/train.cache... 5720 images, 0 backgrounds, 0 corrupt: 100%|██████████| 5720/5720 [00:00<?, ?it/s]"
     ]
    },
    {
     "metadata": {
      "tags": null
     },
     "name": "stdout",
     "output_type": "stream",
     "text": [
      "\u001b[34m\u001b[1mtrain: \u001b[0mWARNING ⚠️ /content/datasets/yolo_dataset/images/train/obj1218_frame0000050.jpg: 1 duplicate labels removed\n",
      "\u001b[34m\u001b[1malbumentations: \u001b[0mBlur(p=0.01, blur_limit=(3, 7)), MedianBlur(p=0.01, blur_limit=(3, 7)), ToGray(p=0.01, num_output_channels=3, method='weighted_average'), CLAHE(p=0.01, clip_limit=(1.0, 4.0), tile_grid_size=(8, 8))\n"
     ]
    },
    {
     "metadata": {
      "tags": null
     },
     "name": "stderr",
     "output_type": "stream",
     "text": [
      "\n",
      "\u001b[34m\u001b[1mval: \u001b[0mScanning /content/datasets/yolo_dataset/labels/val.cache... 820 images, 1 backgrounds, 0 corrupt: 100%|██████████| 820/820 [00:00<?, ?it/s]\n"
     ]
    },
    {
     "metadata": {
      "tags": null
     },
     "name": "stdout",
     "output_type": "stream",
     "text": [
      "Plotting labels to yolo8vsmodel/train4/labels.jpg... \n",
      "\u001b[34m\u001b[1moptimizer:\u001b[0m 'optimizer=auto' found, ignoring 'lr0=0.01' and 'momentum=0.937' and determining best 'optimizer', 'lr0' and 'momentum' automatically... \n",
      "\u001b[34m\u001b[1moptimizer:\u001b[0m AdamW(lr=0.001429, momentum=0.9) with parameter groups 57 weight(decay=0.0), 64 weight(decay=0.0005), 63 bias(decay=0.0)\n",
      "\u001b[34m\u001b[1mTensorBoard: \u001b[0mmodel graph visualization added ✅\n",
      "Image sizes 640 train, 640 val\n",
      "Using 2 dataloader workers\n",
      "Logging results to \u001b[1myolo8vsmodel/train4\u001b[0m\n",
      "Starting training for 100 epochs...\n",
      "\n",
      "      Epoch    GPU_mem   box_loss   cls_loss   dfl_loss  Instances       Size\n"
     ]
    },
    {
     "metadata": {
      "tags": null
     },
     "name": "stderr",
     "output_type": "stream",
     "text": [
      "      1/100      10.7G      1.186      1.031      1.345         72        640: 100%|██████████| 179/179 [02:04<00:00,  1.43it/s]\n",
      "                 Class     Images  Instances      Box(P          R      mAP50  mAP50-95): 100%|██████████| 13/13 [00:09<00:00,  1.39it/s]"
     ]
    },
    {
     "metadata": {
      "tags": null
     },
     "name": "stdout",
     "output_type": "stream",
     "text": [
      "                   all        820       1064      0.429      0.381      0.379      0.237\n"
     ]
    },
    {
     "metadata": {
      "tags": null
     },
     "name": "stderr",
     "output_type": "stream",
     "text": [
      "\n"
     ]
    },
    {
     "metadata": {
      "tags": null
     },
     "name": "stdout",
     "output_type": "stream",
     "text": [
      "\n",
      "      Epoch    GPU_mem   box_loss   cls_loss   dfl_loss  Instances       Size\n"
     ]
    },
    {
     "metadata": {
      "tags": null
     },
     "name": "stderr",
     "output_type": "stream",
     "text": [
      "      2/100      7.64G      1.143     0.9461      1.303         68        640: 100%|██████████| 179/179 [02:02<00:00,  1.46it/s]\n",
      "                 Class     Images  Instances      Box(P          R      mAP50  mAP50-95): 100%|██████████| 13/13 [00:09<00:00,  1.32it/s]"
     ]
    },
    {
     "metadata": {
      "tags": null
     },
     "name": "stdout",
     "output_type": "stream",
     "text": [
      "                   all        820       1064      0.454      0.347       0.41      0.225\n"
     ]
    },
    {
     "metadata": {
      "tags": null
     },
     "name": "stderr",
     "output_type": "stream",
     "text": [
      "\n"
     ]
    },
    {
     "metadata": {
      "tags": null
     },
     "name": "stdout",
     "output_type": "stream",
     "text": [
      "\n",
      "      Epoch    GPU_mem   box_loss   cls_loss   dfl_loss  Instances       Size\n"
     ]
    },
    {
     "metadata": {
      "tags": null
     },
     "name": "stderr",
     "output_type": "stream",
     "text": [
      "      3/100      7.69G      1.165     0.9753      1.319         75        640: 100%|██████████| 179/179 [02:02<00:00,  1.47it/s]\n",
      "                 Class     Images  Instances      Box(P          R      mAP50  mAP50-95): 100%|██████████| 13/13 [00:07<00:00,  1.81it/s]"
     ]
    },
    {
     "metadata": {
      "tags": null
     },
     "name": "stdout",
     "output_type": "stream",
     "text": [
      "                   all        820       1064      0.474      0.254      0.325      0.163\n"
     ]
    },
    {
     "metadata": {
      "tags": null
     },
     "name": "stderr",
     "output_type": "stream",
     "text": [
      "\n"
     ]
    },
    {
     "metadata": {
      "tags": null
     },
     "name": "stdout",
     "output_type": "stream",
     "text": [
      "\n",
      "      Epoch    GPU_mem   box_loss   cls_loss   dfl_loss  Instances       Size\n"
     ]
    },
    {
     "metadata": {
      "tags": null
     },
     "name": "stderr",
     "output_type": "stream",
     "text": [
      "      4/100      7.65G      1.165     0.9801      1.315         64        640: 100%|██████████| 179/179 [02:01<00:00,  1.47it/s]\n",
      "                 Class     Images  Instances      Box(P          R      mAP50  mAP50-95): 100%|██████████| 13/13 [00:06<00:00,  1.98it/s]"
     ]
    },
    {
     "metadata": {
      "tags": null
     },
     "name": "stdout",
     "output_type": "stream",
     "text": [
      "                   all        820       1064      0.512      0.372      0.383        0.2\n"
     ]
    },
    {
     "metadata": {
      "tags": null
     },
     "name": "stderr",
     "output_type": "stream",
     "text": [
      "\n"
     ]
    },
    {
     "metadata": {
      "tags": null
     },
     "name": "stdout",
     "output_type": "stream",
     "text": [
      "\n",
      "      Epoch    GPU_mem   box_loss   cls_loss   dfl_loss  Instances       Size\n"
     ]
    },
    {
     "metadata": {
      "tags": null
     },
     "name": "stderr",
     "output_type": "stream",
     "text": [
      "      5/100      7.67G       1.12     0.9065      1.285         77        640: 100%|██████████| 179/179 [02:01<00:00,  1.48it/s]\n",
      "                 Class     Images  Instances      Box(P          R      mAP50  mAP50-95): 100%|██████████| 13/13 [00:06<00:00,  1.97it/s]"
     ]
    },
    {
     "metadata": {
      "tags": null
     },
     "name": "stdout",
     "output_type": "stream",
     "text": [
      "                   all        820       1064      0.369      0.417      0.354       0.21\n"
     ]
    },
    {
     "metadata": {
      "tags": null
     },
     "name": "stderr",
     "output_type": "stream",
     "text": [
      "\n"
     ]
    },
    {
     "metadata": {
      "tags": null
     },
     "name": "stdout",
     "output_type": "stream",
     "text": [
      "\n",
      "      Epoch    GPU_mem   box_loss   cls_loss   dfl_loss  Instances       Size\n"
     ]
    },
    {
     "metadata": {
      "tags": null
     },
     "name": "stderr",
     "output_type": "stream",
     "text": [
      "      6/100      7.64G      1.101     0.8676      1.267         71        640: 100%|██████████| 179/179 [02:02<00:00,  1.46it/s]\n",
      "                 Class     Images  Instances      Box(P          R      mAP50  mAP50-95): 100%|██████████| 13/13 [00:07<00:00,  1.80it/s]"
     ]
    },
    {
     "metadata": {
      "tags": null
     },
     "name": "stdout",
     "output_type": "stream",
     "text": [
      "                   all        820       1064      0.311       0.32      0.287      0.172\n"
     ]
    },
    {
     "metadata": {
      "tags": null
     },
     "name": "stderr",
     "output_type": "stream",
     "text": [
      "\n"
     ]
    },
    {
     "metadata": {
      "tags": null
     },
     "name": "stdout",
     "output_type": "stream",
     "text": [
      "\n",
      "      Epoch    GPU_mem   box_loss   cls_loss   dfl_loss  Instances       Size\n"
     ]
    },
    {
     "metadata": {
      "tags": null
     },
     "name": "stderr",
     "output_type": "stream",
     "text": [
      "      7/100      7.67G      1.071     0.8141      1.249         70        640: 100%|██████████| 179/179 [02:02<00:00,  1.46it/s]\n",
      "                 Class     Images  Instances      Box(P          R      mAP50  mAP50-95): 100%|██████████| 13/13 [00:08<00:00,  1.57it/s]"
     ]
    },
    {
     "metadata": {
      "tags": null
     },
     "name": "stdout",
     "output_type": "stream",
     "text": [
      "                   all        820       1064      0.347      0.364       0.32      0.192\n"
     ]
    },
    {
     "metadata": {
      "tags": null
     },
     "name": "stderr",
     "output_type": "stream",
     "text": [
      "\n"
     ]
    },
    {
     "metadata": {
      "tags": null
     },
     "name": "stdout",
     "output_type": "stream",
     "text": [
      "\n",
      "      Epoch    GPU_mem   box_loss   cls_loss   dfl_loss  Instances       Size\n"
     ]
    },
    {
     "metadata": {
      "tags": null
     },
     "name": "stderr",
     "output_type": "stream",
     "text": [
      "      8/100      7.64G      1.045     0.7948      1.238         75        640: 100%|██████████| 179/179 [02:02<00:00,  1.46it/s]\n",
      "                 Class     Images  Instances      Box(P          R      mAP50  mAP50-95): 100%|██████████| 13/13 [00:10<00:00,  1.26it/s]"
     ]
    },
    {
     "metadata": {
      "tags": null
     },
     "name": "stdout",
     "output_type": "stream",
     "text": [
      "                   all        820       1064      0.349      0.374      0.329      0.199\n"
     ]
    },
    {
     "metadata": {
      "tags": null
     },
     "name": "stderr",
     "output_type": "stream",
     "text": [
      "\n"
     ]
    },
    {
     "metadata": {
      "tags": null
     },
     "name": "stdout",
     "output_type": "stream",
     "text": [
      "\n",
      "      Epoch    GPU_mem   box_loss   cls_loss   dfl_loss  Instances       Size\n"
     ]
    },
    {
     "metadata": {
      "tags": null
     },
     "name": "stderr",
     "output_type": "stream",
     "text": [
      "      9/100       7.7G      1.034     0.7562       1.22         52        640: 100%|██████████| 179/179 [02:00<00:00,  1.48it/s]\n",
      "                 Class     Images  Instances      Box(P          R      mAP50  mAP50-95): 100%|██████████| 13/13 [00:07<00:00,  1.75it/s]"
     ]
    },
    {
     "metadata": {
      "tags": null
     },
     "name": "stdout",
     "output_type": "stream",
     "text": [
      "                   all        820       1064      0.373      0.342       0.31      0.187\n"
     ]
    },
    {
     "metadata": {
      "tags": null
     },
     "name": "stderr",
     "output_type": "stream",
     "text": [
      "\n"
     ]
    },
    {
     "metadata": {
      "tags": null
     },
     "name": "stdout",
     "output_type": "stream",
     "text": [
      "\n",
      "      Epoch    GPU_mem   box_loss   cls_loss   dfl_loss  Instances       Size\n"
     ]
    },
    {
     "metadata": {
      "tags": null
     },
     "name": "stderr",
     "output_type": "stream",
     "text": [
      "     10/100      7.64G      1.025     0.7564      1.221         75        640: 100%|██████████| 179/179 [02:02<00:00,  1.46it/s]\n",
      "                 Class     Images  Instances      Box(P          R      mAP50  mAP50-95): 100%|██████████| 13/13 [00:06<00:00,  1.89it/s]"
     ]
    },
    {
     "metadata": {
      "tags": null
     },
     "name": "stdout",
     "output_type": "stream",
     "text": [
      "                   all        820       1064      0.297      0.323      0.234      0.116\n"
     ]
    },
    {
     "metadata": {
      "tags": null
     },
     "name": "stderr",
     "output_type": "stream",
     "text": [
      "\n"
     ]
    },
    {
     "metadata": {
      "tags": null
     },
     "name": "stdout",
     "output_type": "stream",
     "text": [
      "\n",
      "      Epoch    GPU_mem   box_loss   cls_loss   dfl_loss  Instances       Size\n"
     ]
    },
    {
     "metadata": {
      "tags": null
     },
     "name": "stderr",
     "output_type": "stream",
     "text": [
      "     11/100       7.7G      1.005     0.7297      1.209         82        640: 100%|██████████| 179/179 [02:03<00:00,  1.44it/s]\n",
      "                 Class     Images  Instances      Box(P          R      mAP50  mAP50-95): 100%|██████████| 13/13 [00:06<00:00,  2.04it/s]"
     ]
    },
    {
     "metadata": {
      "tags": null
     },
     "name": "stdout",
     "output_type": "stream",
     "text": [
      "                   all        820       1064       0.41      0.379      0.354      0.201\n"
     ]
    },
    {
     "metadata": {
      "tags": null
     },
     "name": "stderr",
     "output_type": "stream",
     "text": [
      "\n"
     ]
    },
    {
     "metadata": {
      "tags": null
     },
     "name": "stdout",
     "output_type": "stream",
     "text": [
      "\n",
      "      Epoch    GPU_mem   box_loss   cls_loss   dfl_loss  Instances       Size\n"
     ]
    },
    {
     "metadata": {
      "tags": null
     },
     "name": "stderr",
     "output_type": "stream",
     "text": [
      "     12/100      7.68G     0.9809     0.6919      1.193         52        640: 100%|██████████| 179/179 [02:02<00:00,  1.46it/s]\n",
      "                 Class     Images  Instances      Box(P          R      mAP50  mAP50-95): 100%|██████████| 13/13 [00:07<00:00,  1.76it/s]"
     ]
    },
    {
     "metadata": {
      "tags": null
     },
     "name": "stdout",
     "output_type": "stream",
     "text": [
      "                   all        820       1064      0.488      0.403      0.443       0.28\n"
     ]
    },
    {
     "metadata": {
      "tags": null
     },
     "name": "stderr",
     "output_type": "stream",
     "text": [
      "\n"
     ]
    },
    {
     "metadata": {
      "tags": null
     },
     "name": "stdout",
     "output_type": "stream",
     "text": [
      "\n",
      "      Epoch    GPU_mem   box_loss   cls_loss   dfl_loss  Instances       Size\n"
     ]
    },
    {
     "metadata": {
      "tags": null
     },
     "name": "stderr",
     "output_type": "stream",
     "text": [
      "     13/100      7.71G     0.9619     0.6714      1.175         72        640: 100%|██████████| 179/179 [02:02<00:00,  1.46it/s]\n",
      "                 Class     Images  Instances      Box(P          R      mAP50  mAP50-95): 100%|██████████| 13/13 [00:07<00:00,  1.63it/s]"
     ]
    },
    {
     "metadata": {
      "tags": null
     },
     "name": "stdout",
     "output_type": "stream",
     "text": [
      "                   all        820       1064      0.383      0.372      0.359      0.205\n"
     ]
    },
    {
     "metadata": {
      "tags": null
     },
     "name": "stderr",
     "output_type": "stream",
     "text": [
      "\n"
     ]
    },
    {
     "metadata": {
      "tags": null
     },
     "name": "stdout",
     "output_type": "stream",
     "text": [
      "\n",
      "      Epoch    GPU_mem   box_loss   cls_loss   dfl_loss  Instances       Size\n"
     ]
    },
    {
     "metadata": {
      "tags": null
     },
     "name": "stderr",
     "output_type": "stream",
     "text": [
      "     14/100      7.64G     0.9655     0.6666      1.183         91        640: 100%|██████████| 179/179 [01:59<00:00,  1.50it/s]\n",
      "                 Class     Images  Instances      Box(P          R      mAP50  mAP50-95): 100%|██████████| 13/13 [00:09<00:00,  1.40it/s]"
     ]
    },
    {
     "metadata": {
      "tags": null
     },
     "name": "stdout",
     "output_type": "stream",
     "text": [
      "                   all        820       1064      0.497      0.375      0.378      0.226\n"
     ]
    },
    {
     "metadata": {
      "tags": null
     },
     "name": "stderr",
     "output_type": "stream",
     "text": [
      "\n"
     ]
    },
    {
     "metadata": {
      "tags": null
     },
     "name": "stdout",
     "output_type": "stream",
     "text": [
      "\n",
      "      Epoch    GPU_mem   box_loss   cls_loss   dfl_loss  Instances       Size\n"
     ]
    },
    {
     "metadata": {
      "tags": null
     },
     "name": "stderr",
     "output_type": "stream",
     "text": [
      "     15/100      7.67G     0.9519     0.6531      1.171         72        640: 100%|██████████| 179/179 [01:59<00:00,  1.50it/s]\n",
      "                 Class     Images  Instances      Box(P          R      mAP50  mAP50-95): 100%|██████████| 13/13 [00:09<00:00,  1.36it/s]"
     ]
    },
    {
     "metadata": {
      "tags": null
     },
     "name": "stdout",
     "output_type": "stream",
     "text": [
      "                   all        820       1064      0.403      0.513      0.425      0.251\n"
     ]
    },
    {
     "metadata": {
      "tags": null
     },
     "name": "stderr",
     "output_type": "stream",
     "text": [
      "\n"
     ]
    },
    {
     "metadata": {
      "tags": null
     },
     "name": "stdout",
     "output_type": "stream",
     "text": [
      "\n",
      "      Epoch    GPU_mem   box_loss   cls_loss   dfl_loss  Instances       Size\n"
     ]
    },
    {
     "metadata": {
      "tags": null
     },
     "name": "stderr",
     "output_type": "stream",
     "text": [
      "     16/100      7.64G     0.9431      0.639      1.164         69        640: 100%|██████████| 179/179 [02:01<00:00,  1.47it/s]\n",
      "                 Class     Images  Instances      Box(P          R      mAP50  mAP50-95): 100%|██████████| 13/13 [00:08<00:00,  1.56it/s]"
     ]
    },
    {
     "metadata": {
      "tags": null
     },
     "name": "stdout",
     "output_type": "stream",
     "text": [
      "                   all        820       1064      0.345      0.459      0.364      0.222\n"
     ]
    },
    {
     "metadata": {
      "tags": null
     },
     "name": "stderr",
     "output_type": "stream",
     "text": [
      "\n"
     ]
    },
    {
     "metadata": {
      "tags": null
     },
     "name": "stdout",
     "output_type": "stream",
     "text": [
      "\n",
      "      Epoch    GPU_mem   box_loss   cls_loss   dfl_loss  Instances       Size\n"
     ]
    },
    {
     "metadata": {
      "tags": null
     },
     "name": "stderr",
     "output_type": "stream",
     "text": [
      "     17/100       7.7G     0.9362     0.6311      1.162         60        640: 100%|██████████| 179/179 [02:00<00:00,  1.49it/s]\n",
      "                 Class     Images  Instances      Box(P          R      mAP50  mAP50-95): 100%|██████████| 13/13 [00:06<00:00,  1.88it/s]"
     ]
    },
    {
     "metadata": {
      "tags": null
     },
     "name": "stdout",
     "output_type": "stream",
     "text": [
      "                   all        820       1064      0.478       0.41      0.433      0.288\n"
     ]
    },
    {
     "metadata": {
      "tags": null
     },
     "name": "stderr",
     "output_type": "stream",
     "text": [
      "\n"
     ]
    },
    {
     "metadata": {
      "tags": null
     },
     "name": "stdout",
     "output_type": "stream",
     "text": [
      "\n",
      "      Epoch    GPU_mem   box_loss   cls_loss   dfl_loss  Instances       Size\n"
     ]
    },
    {
     "metadata": {
      "tags": null
     },
     "name": "stderr",
     "output_type": "stream",
     "text": [
      "     18/100      7.68G     0.9293     0.6187      1.155         86        640: 100%|██████████| 179/179 [02:02<00:00,  1.46it/s]\n",
      "                 Class     Images  Instances      Box(P          R      mAP50  mAP50-95): 100%|██████████| 13/13 [00:06<00:00,  2.01it/s]"
     ]
    },
    {
     "metadata": {
      "tags": null
     },
     "name": "stdout",
     "output_type": "stream",
     "text": [
      "                   all        820       1064      0.395      0.428      0.393      0.243\n"
     ]
    },
    {
     "metadata": {
      "tags": null
     },
     "name": "stderr",
     "output_type": "stream",
     "text": [
      "\n"
     ]
    },
    {
     "metadata": {
      "tags": null
     },
     "name": "stdout",
     "output_type": "stream",
     "text": [
      "\n",
      "      Epoch    GPU_mem   box_loss   cls_loss   dfl_loss  Instances       Size\n"
     ]
    },
    {
     "metadata": {
      "tags": null
     },
     "name": "stderr",
     "output_type": "stream",
     "text": [
      "     19/100       7.7G     0.9138     0.6009      1.146         67        640: 100%|██████████| 179/179 [02:03<00:00,  1.45it/s]\n",
      "                 Class     Images  Instances      Box(P          R      mAP50  mAP50-95): 100%|██████████| 13/13 [00:06<00:00,  1.99it/s]"
     ]
    },
    {
     "metadata": {
      "tags": null
     },
     "name": "stdout",
     "output_type": "stream",
     "text": [
      "                   all        820       1064      0.305      0.425      0.363      0.211\n"
     ]
    },
    {
     "metadata": {
      "tags": null
     },
     "name": "stderr",
     "output_type": "stream",
     "text": [
      "\n"
     ]
    },
    {
     "metadata": {
      "tags": null
     },
     "name": "stdout",
     "output_type": "stream",
     "text": [
      "\n",
      "      Epoch    GPU_mem   box_loss   cls_loss   dfl_loss  Instances       Size\n"
     ]
    },
    {
     "metadata": {
      "tags": null
     },
     "name": "stderr",
     "output_type": "stream",
     "text": [
      "     20/100      7.64G     0.9049      0.598      1.146         66        640: 100%|██████████| 179/179 [02:02<00:00,  1.46it/s]\n",
      "                 Class     Images  Instances      Box(P          R      mAP50  mAP50-95): 100%|██████████| 13/13 [00:08<00:00,  1.61it/s]"
     ]
    },
    {
     "metadata": {
      "tags": null
     },
     "name": "stdout",
     "output_type": "stream",
     "text": [
      "                   all        820       1064      0.557      0.328      0.391      0.234\n"
     ]
    },
    {
     "metadata": {
      "tags": null
     },
     "name": "stderr",
     "output_type": "stream",
     "text": [
      "\n"
     ]
    },
    {
     "metadata": {
      "tags": null
     },
     "name": "stdout",
     "output_type": "stream",
     "text": [
      "\n",
      "      Epoch    GPU_mem   box_loss   cls_loss   dfl_loss  Instances       Size\n"
     ]
    },
    {
     "metadata": {
      "tags": null
     },
     "name": "stderr",
     "output_type": "stream",
     "text": [
      "     21/100       7.7G     0.9052     0.5934      1.145         88        640: 100%|██████████| 179/179 [01:59<00:00,  1.50it/s]\n",
      "                 Class     Images  Instances      Box(P          R      mAP50  mAP50-95): 100%|██████████| 13/13 [00:09<00:00,  1.36it/s]"
     ]
    },
    {
     "metadata": {
      "tags": null
     },
     "name": "stdout",
     "output_type": "stream",
     "text": [
      "                   all        820       1064      0.491      0.383      0.408       0.24\n"
     ]
    },
    {
     "metadata": {
      "tags": null
     },
     "name": "stderr",
     "output_type": "stream",
     "text": [
      "\n"
     ]
    },
    {
     "metadata": {
      "tags": null
     },
     "name": "stdout",
     "output_type": "stream",
     "text": [
      "\n",
      "      Epoch    GPU_mem   box_loss   cls_loss   dfl_loss  Instances       Size\n"
     ]
    },
    {
     "metadata": {
      "tags": null
     },
     "name": "stderr",
     "output_type": "stream",
     "text": [
      "     22/100      7.64G     0.8949     0.5745      1.132         69        640: 100%|██████████| 179/179 [01:57<00:00,  1.52it/s]\n",
      "                 Class     Images  Instances      Box(P          R      mAP50  mAP50-95): 100%|██████████| 13/13 [00:08<00:00,  1.47it/s]"
     ]
    },
    {
     "metadata": {
      "tags": null
     },
     "name": "stdout",
     "output_type": "stream",
     "text": [
      "                   all        820       1064      0.501      0.407      0.444      0.282\n"
     ]
    },
    {
     "metadata": {
      "tags": null
     },
     "name": "stderr",
     "output_type": "stream",
     "text": [
      "\n"
     ]
    },
    {
     "metadata": {
      "tags": null
     },
     "name": "stdout",
     "output_type": "stream",
     "text": [
      "\n",
      "      Epoch    GPU_mem   box_loss   cls_loss   dfl_loss  Instances       Size\n"
     ]
    },
    {
     "metadata": {
      "tags": null
     },
     "name": "stderr",
     "output_type": "stream",
     "text": [
      "     23/100      7.67G     0.8786     0.5662      1.128         61        640: 100%|██████████| 179/179 [01:58<00:00,  1.51it/s]\n",
      "                 Class     Images  Instances      Box(P          R      mAP50  mAP50-95): 100%|██████████| 13/13 [00:08<00:00,  1.55it/s]"
     ]
    },
    {
     "metadata": {
      "tags": null
     },
     "name": "stdout",
     "output_type": "stream",
     "text": [
      "                   all        820       1064      0.477      0.372      0.428      0.271\n"
     ]
    },
    {
     "metadata": {
      "tags": null
     },
     "name": "stderr",
     "output_type": "stream",
     "text": [
      "\n"
     ]
    },
    {
     "metadata": {
      "tags": null
     },
     "name": "stdout",
     "output_type": "stream",
     "text": [
      "\n",
      "      Epoch    GPU_mem   box_loss   cls_loss   dfl_loss  Instances       Size\n"
     ]
    },
    {
     "metadata": {
      "tags": null
     },
     "name": "stderr",
     "output_type": "stream",
     "text": [
      "     24/100      7.59G     0.8742     0.5589      1.125         69        640: 100%|██████████| 179/179 [01:58<00:00,  1.51it/s]\n",
      "                 Class     Images  Instances      Box(P          R      mAP50  mAP50-95): 100%|██████████| 13/13 [00:06<00:00,  1.93it/s]"
     ]
    },
    {
     "metadata": {
      "tags": null
     },
     "name": "stdout",
     "output_type": "stream",
     "text": [
      "                   all        820       1064      0.434      0.486      0.434      0.252\n"
     ]
    },
    {
     "metadata": {
      "tags": null
     },
     "name": "stderr",
     "output_type": "stream",
     "text": [
      "\n"
     ]
    },
    {
     "metadata": {
      "tags": null
     },
     "name": "stdout",
     "output_type": "stream",
     "text": [
      "\n",
      "      Epoch    GPU_mem   box_loss   cls_loss   dfl_loss  Instances       Size\n"
     ]
    },
    {
     "metadata": {
      "tags": null
     },
     "name": "stderr",
     "output_type": "stream",
     "text": [
      "     25/100      7.71G     0.8718     0.5583      1.121         68        640: 100%|██████████| 179/179 [02:01<00:00,  1.47it/s]\n",
      "                 Class     Images  Instances      Box(P          R      mAP50  mAP50-95): 100%|██████████| 13/13 [00:06<00:00,  1.97it/s]"
     ]
    },
    {
     "metadata": {
      "tags": null
     },
     "name": "stdout",
     "output_type": "stream",
     "text": [
      "                   all        820       1064       0.53      0.415      0.416      0.254\n"
     ]
    },
    {
     "metadata": {
      "tags": null
     },
     "name": "stderr",
     "output_type": "stream",
     "text": [
      "\n"
     ]
    },
    {
     "metadata": {
      "tags": null
     },
     "name": "stdout",
     "output_type": "stream",
     "text": [
      "\n",
      "      Epoch    GPU_mem   box_loss   cls_loss   dfl_loss  Instances       Size\n"
     ]
    },
    {
     "metadata": {
      "tags": null
     },
     "name": "stderr",
     "output_type": "stream",
     "text": [
      "     26/100      7.64G     0.8672     0.5484      1.121         85        640: 100%|██████████| 179/179 [01:58<00:00,  1.51it/s]\n",
      "                 Class     Images  Instances      Box(P          R      mAP50  mAP50-95): 100%|██████████| 13/13 [00:09<00:00,  1.35it/s]"
     ]
    },
    {
     "metadata": {
      "tags": null
     },
     "name": "stdout",
     "output_type": "stream",
     "text": [
      "                   all        820       1064      0.417      0.365      0.354      0.211\n"
     ]
    },
    {
     "metadata": {
      "tags": null
     },
     "name": "stderr",
     "output_type": "stream",
     "text": [
      "\n"
     ]
    },
    {
     "metadata": {
      "tags": null
     },
     "name": "stdout",
     "output_type": "stream",
     "text": [
      "\n",
      "      Epoch    GPU_mem   box_loss   cls_loss   dfl_loss  Instances       Size\n"
     ]
    },
    {
     "metadata": {
      "tags": null
     },
     "name": "stderr",
     "output_type": "stream",
     "text": [
      "     27/100       7.7G     0.8604      0.544      1.107         79        640: 100%|██████████| 179/179 [01:58<00:00,  1.51it/s]\n",
      "                 Class     Images  Instances      Box(P          R      mAP50  mAP50-95): 100%|██████████| 13/13 [00:08<00:00,  1.53it/s]"
     ]
    },
    {
     "metadata": {
      "tags": null
     },
     "name": "stdout",
     "output_type": "stream",
     "text": [
      "                   all        820       1064      0.496      0.436      0.454      0.278\n"
     ]
    },
    {
     "metadata": {
      "tags": null
     },
     "name": "stderr",
     "output_type": "stream",
     "text": [
      "\n"
     ]
    },
    {
     "metadata": {
      "tags": null
     },
     "name": "stdout",
     "output_type": "stream",
     "text": [
      "\n",
      "      Epoch    GPU_mem   box_loss   cls_loss   dfl_loss  Instances       Size\n"
     ]
    },
    {
     "metadata": {
      "tags": null
     },
     "name": "stderr",
     "output_type": "stream",
     "text": [
      "     28/100      7.64G     0.8574     0.5353      1.109         80        640: 100%|██████████| 179/179 [02:00<00:00,  1.49it/s]\n",
      "                 Class     Images  Instances      Box(P          R      mAP50  mAP50-95): 100%|██████████| 13/13 [00:07<00:00,  1.81it/s]"
     ]
    },
    {
     "metadata": {
      "tags": null
     },
     "name": "stdout",
     "output_type": "stream",
     "text": [
      "                   all        820       1064       0.48      0.377      0.419      0.253\n"
     ]
    },
    {
     "metadata": {
      "tags": null
     },
     "name": "stderr",
     "output_type": "stream",
     "text": [
      "\n"
     ]
    },
    {
     "metadata": {
      "tags": null
     },
     "name": "stdout",
     "output_type": "stream",
     "text": [
      "\n",
      "      Epoch    GPU_mem   box_loss   cls_loss   dfl_loss  Instances       Size\n"
     ]
    },
    {
     "metadata": {
      "tags": null
     },
     "name": "stderr",
     "output_type": "stream",
     "text": [
      "     29/100      7.67G      0.859     0.5338       1.11         78        640: 100%|██████████| 179/179 [02:00<00:00,  1.48it/s]\n",
      "                 Class     Images  Instances      Box(P          R      mAP50  mAP50-95): 100%|██████████| 13/13 [00:06<00:00,  2.04it/s]"
     ]
    },
    {
     "metadata": {
      "tags": null
     },
     "name": "stdout",
     "output_type": "stream",
     "text": [
      "                   all        820       1064      0.426      0.395      0.397      0.253\n"
     ]
    },
    {
     "metadata": {
      "tags": null
     },
     "name": "stderr",
     "output_type": "stream",
     "text": [
      "\n"
     ]
    },
    {
     "metadata": {
      "tags": null
     },
     "name": "stdout",
     "output_type": "stream",
     "text": [
      "\n",
      "      Epoch    GPU_mem   box_loss   cls_loss   dfl_loss  Instances       Size\n"
     ]
    },
    {
     "metadata": {
      "tags": null
     },
     "name": "stderr",
     "output_type": "stream",
     "text": [
      "     30/100      7.69G     0.8437     0.5281      1.105         82        640: 100%|██████████| 179/179 [02:01<00:00,  1.48it/s]\n",
      "                 Class     Images  Instances      Box(P          R      mAP50  mAP50-95): 100%|██████████| 13/13 [00:06<00:00,  1.99it/s]"
     ]
    },
    {
     "metadata": {
      "tags": null
     },
     "name": "stdout",
     "output_type": "stream",
     "text": [
      "                   all        820       1064      0.521      0.477      0.435      0.251\n"
     ]
    },
    {
     "metadata": {
      "tags": null
     },
     "name": "stderr",
     "output_type": "stream",
     "text": [
      "\n"
     ]
    },
    {
     "metadata": {
      "tags": null
     },
     "name": "stdout",
     "output_type": "stream",
     "text": [
      "\n",
      "      Epoch    GPU_mem   box_loss   cls_loss   dfl_loss  Instances       Size\n"
     ]
    },
    {
     "metadata": {
      "tags": null
     },
     "name": "stderr",
     "output_type": "stream",
     "text": [
      "     31/100       7.7G     0.8411     0.5217      1.103         76        640: 100%|██████████| 179/179 [01:59<00:00,  1.49it/s]\n",
      "                 Class     Images  Instances      Box(P          R      mAP50  mAP50-95): 100%|██████████| 13/13 [00:08<00:00,  1.55it/s]"
     ]
    },
    {
     "metadata": {
      "tags": null
     },
     "name": "stdout",
     "output_type": "stream",
     "text": [
      "                   all        820       1064      0.398      0.424      0.414      0.257\n"
     ]
    },
    {
     "metadata": {
      "tags": null
     },
     "name": "stderr",
     "output_type": "stream",
     "text": [
      "\n"
     ]
    },
    {
     "metadata": {
      "tags": null
     },
     "name": "stdout",
     "output_type": "stream",
     "text": [
      "\n",
      "      Epoch    GPU_mem   box_loss   cls_loss   dfl_loss  Instances       Size\n"
     ]
    },
    {
     "metadata": {
      "tags": null
     },
     "name": "stderr",
     "output_type": "stream",
     "text": [
      "     32/100      7.68G      0.829     0.5103      1.091         76        640: 100%|██████████| 179/179 [01:58<00:00,  1.51it/s]\n",
      "                 Class     Images  Instances      Box(P          R      mAP50  mAP50-95): 100%|██████████| 13/13 [00:09<00:00,  1.32it/s]"
     ]
    },
    {
     "metadata": {
      "tags": null
     },
     "name": "stdout",
     "output_type": "stream",
     "text": [
      "                   all        820       1064      0.579      0.383      0.414      0.261\n"
     ]
    },
    {
     "metadata": {
      "tags": null
     },
     "name": "stderr",
     "output_type": "stream",
     "text": [
      "\n"
     ]
    },
    {
     "metadata": {
      "tags": null
     },
     "name": "stdout",
     "output_type": "stream",
     "text": [
      "\n",
      "      Epoch    GPU_mem   box_loss   cls_loss   dfl_loss  Instances       Size\n"
     ]
    },
    {
     "metadata": {
      "tags": null
     },
     "name": "stderr",
     "output_type": "stream",
     "text": [
      "     33/100       7.7G     0.8309     0.5097      1.093         79        640: 100%|██████████| 179/179 [01:59<00:00,  1.50it/s]\n",
      "                 Class     Images  Instances      Box(P          R      mAP50  mAP50-95): 100%|██████████| 13/13 [00:08<00:00,  1.56it/s]"
     ]
    },
    {
     "metadata": {
      "tags": null
     },
     "name": "stdout",
     "output_type": "stream",
     "text": [
      "                   all        820       1064      0.494      0.404      0.428      0.274\n"
     ]
    },
    {
     "metadata": {
      "tags": null
     },
     "name": "stderr",
     "output_type": "stream",
     "text": [
      "\n"
     ]
    },
    {
     "metadata": {
      "tags": null
     },
     "name": "stdout",
     "output_type": "stream",
     "text": [
      "\n",
      "      Epoch    GPU_mem   box_loss   cls_loss   dfl_loss  Instances       Size\n"
     ]
    },
    {
     "metadata": {
      "tags": null
     },
     "name": "stderr",
     "output_type": "stream",
     "text": [
      "     34/100      7.64G     0.8248     0.5068      1.087         81        640: 100%|██████████| 179/179 [01:59<00:00,  1.49it/s]\n",
      "                 Class     Images  Instances      Box(P          R      mAP50  mAP50-95): 100%|██████████| 13/13 [00:06<00:00,  1.98it/s]"
     ]
    },
    {
     "metadata": {
      "tags": null
     },
     "name": "stdout",
     "output_type": "stream",
     "text": [
      "                   all        820       1064      0.449      0.457      0.453      0.269\n"
     ]
    },
    {
     "metadata": {
      "tags": null
     },
     "name": "stderr",
     "output_type": "stream",
     "text": [
      "\n"
     ]
    },
    {
     "metadata": {
      "tags": null
     },
     "name": "stdout",
     "output_type": "stream",
     "text": [
      "\n",
      "      Epoch    GPU_mem   box_loss   cls_loss   dfl_loss  Instances       Size\n"
     ]
    },
    {
     "metadata": {
      "tags": null
     },
     "name": "stderr",
     "output_type": "stream",
     "text": [
      "     35/100       7.7G     0.8238     0.4982      1.088         87        640: 100%|██████████| 179/179 [02:00<00:00,  1.48it/s]\n",
      "                 Class     Images  Instances      Box(P          R      mAP50  mAP50-95): 100%|██████████| 13/13 [00:06<00:00,  2.02it/s]"
     ]
    },
    {
     "metadata": {
      "tags": null
     },
     "name": "stdout",
     "output_type": "stream",
     "text": [
      "                   all        820       1064      0.447      0.442      0.409      0.246\n"
     ]
    },
    {
     "metadata": {
      "tags": null
     },
     "name": "stderr",
     "output_type": "stream",
     "text": [
      "\n"
     ]
    },
    {
     "metadata": {
      "tags": null
     },
     "name": "stdout",
     "output_type": "stream",
     "text": [
      "\n",
      "      Epoch    GPU_mem   box_loss   cls_loss   dfl_loss  Instances       Size\n"
     ]
    },
    {
     "metadata": {
      "tags": null
     },
     "name": "stderr",
     "output_type": "stream",
     "text": [
      "     36/100      7.64G     0.8204     0.5032      1.089         84        640: 100%|██████████| 179/179 [02:01<00:00,  1.47it/s]\n",
      "                 Class     Images  Instances      Box(P          R      mAP50  mAP50-95): 100%|██████████| 13/13 [00:06<00:00,  1.94it/s]"
     ]
    },
    {
     "metadata": {
      "tags": null
     },
     "name": "stdout",
     "output_type": "stream",
     "text": [
      "                   all        820       1064      0.411      0.459      0.411      0.271\n"
     ]
    },
    {
     "metadata": {
      "tags": null
     },
     "name": "stderr",
     "output_type": "stream",
     "text": [
      "\n"
     ]
    },
    {
     "metadata": {
      "tags": null
     },
     "name": "stdout",
     "output_type": "stream",
     "text": [
      "\n",
      "      Epoch    GPU_mem   box_loss   cls_loss   dfl_loss  Instances       Size\n"
     ]
    },
    {
     "metadata": {
      "tags": null
     },
     "name": "stderr",
     "output_type": "stream",
     "text": [
      "     37/100       7.7G     0.8113     0.4917      1.082         75        640: 100%|██████████| 179/179 [01:59<00:00,  1.50it/s]\n",
      "                 Class     Images  Instances      Box(P          R      mAP50  mAP50-95): 100%|██████████| 13/13 [00:09<00:00,  1.40it/s]"
     ]
    },
    {
     "metadata": {
      "tags": null
     },
     "name": "stdout",
     "output_type": "stream",
     "text": [
      "                   all        820       1064       0.56      0.438      0.459      0.286\n"
     ]
    },
    {
     "metadata": {
      "tags": null
     },
     "name": "stderr",
     "output_type": "stream",
     "text": [
      "\n"
     ]
    },
    {
     "metadata": {
      "tags": null
     },
     "name": "stdout",
     "output_type": "stream",
     "text": [
      "\n",
      "      Epoch    GPU_mem   box_loss   cls_loss   dfl_loss  Instances       Size\n"
     ]
    },
    {
     "metadata": {
      "tags": null
     },
     "name": "stderr",
     "output_type": "stream",
     "text": [
      "     38/100      7.64G      0.807     0.4809      1.076         63        640: 100%|██████████| 179/179 [01:59<00:00,  1.50it/s]\n",
      "                 Class     Images  Instances      Box(P          R      mAP50  mAP50-95): 100%|██████████| 13/13 [00:08<00:00,  1.50it/s]"
     ]
    },
    {
     "metadata": {
      "tags": null
     },
     "name": "stdout",
     "output_type": "stream",
     "text": [
      "                   all        820       1064      0.439       0.43      0.423       0.28\n"
     ]
    },
    {
     "metadata": {
      "tags": null
     },
     "name": "stderr",
     "output_type": "stream",
     "text": [
      "\n"
     ]
    },
    {
     "metadata": {
      "tags": null
     },
     "name": "stdout",
     "output_type": "stream",
     "text": [
      "\n",
      "      Epoch    GPU_mem   box_loss   cls_loss   dfl_loss  Instances       Size\n"
     ]
    },
    {
     "metadata": {
      "tags": null
     },
     "name": "stderr",
     "output_type": "stream",
     "text": [
      "     39/100      7.67G     0.8062     0.4868      1.076         76        640: 100%|██████████| 179/179 [01:58<00:00,  1.52it/s]\n",
      "                 Class     Images  Instances      Box(P          R      mAP50  mAP50-95): 100%|██████████| 13/13 [00:07<00:00,  1.82it/s]"
     ]
    },
    {
     "metadata": {
      "tags": null
     },
     "name": "stdout",
     "output_type": "stream",
     "text": [
      "                   all        820       1064      0.464      0.476      0.445      0.267\n"
     ]
    },
    {
     "metadata": {
      "tags": null
     },
     "name": "stderr",
     "output_type": "stream",
     "text": [
      "\n"
     ]
    },
    {
     "metadata": {
      "tags": null
     },
     "name": "stdout",
     "output_type": "stream",
     "text": [
      "\n",
      "      Epoch    GPU_mem   box_loss   cls_loss   dfl_loss  Instances       Size\n"
     ]
    },
    {
     "metadata": {
      "tags": null
     },
     "name": "stderr",
     "output_type": "stream",
     "text": [
      "     40/100      7.64G     0.7909     0.4736      1.073         71        640: 100%|██████████| 179/179 [01:58<00:00,  1.51it/s]\n",
      "                 Class     Images  Instances      Box(P          R      mAP50  mAP50-95): 100%|██████████| 13/13 [00:06<00:00,  2.04it/s]"
     ]
    },
    {
     "metadata": {
      "tags": null
     },
     "name": "stdout",
     "output_type": "stream",
     "text": [
      "                   all        820       1064      0.418      0.429      0.409      0.254\n"
     ]
    },
    {
     "metadata": {
      "tags": null
     },
     "name": "stderr",
     "output_type": "stream",
     "text": [
      "\n"
     ]
    },
    {
     "metadata": {
      "tags": null
     },
     "name": "stdout",
     "output_type": "stream",
     "text": [
      "\n",
      "      Epoch    GPU_mem   box_loss   cls_loss   dfl_loss  Instances       Size\n"
     ]
    },
    {
     "metadata": {
      "tags": null
     },
     "name": "stderr",
     "output_type": "stream",
     "text": [
      "     41/100       7.7G     0.7971     0.4728      1.076         92        640: 100%|██████████| 179/179 [01:59<00:00,  1.50it/s]\n",
      "                 Class     Images  Instances      Box(P          R      mAP50  mAP50-95): 100%|██████████| 13/13 [00:07<00:00,  1.72it/s]"
     ]
    },
    {
     "metadata": {
      "tags": null
     },
     "name": "stdout",
     "output_type": "stream",
     "text": [
      "                   all        820       1064      0.469      0.423      0.419      0.257\n"
     ]
    },
    {
     "metadata": {
      "tags": null
     },
     "name": "stderr",
     "output_type": "stream",
     "text": [
      "\n"
     ]
    },
    {
     "metadata": {
      "tags": null
     },
     "name": "stdout",
     "output_type": "stream",
     "text": [
      "\n",
      "      Epoch    GPU_mem   box_loss   cls_loss   dfl_loss  Instances       Size\n"
     ]
    },
    {
     "metadata": {
      "tags": null
     },
     "name": "stderr",
     "output_type": "stream",
     "text": [
      "     42/100      7.64G     0.7865     0.4706       1.07         62        640: 100%|██████████| 179/179 [01:58<00:00,  1.51it/s]\n",
      "                 Class     Images  Instances      Box(P          R      mAP50  mAP50-95): 100%|██████████| 13/13 [00:08<00:00,  1.48it/s]"
     ]
    },
    {
     "metadata": {
      "tags": null
     },
     "name": "stdout",
     "output_type": "stream",
     "text": [
      "                   all        820       1064      0.527      0.379      0.428      0.279\n"
     ]
    },
    {
     "metadata": {
      "tags": null
     },
     "name": "stderr",
     "output_type": "stream",
     "text": [
      "\n"
     ]
    },
    {
     "metadata": {
      "tags": null
     },
     "name": "stdout",
     "output_type": "stream",
     "text": [
      "\n",
      "      Epoch    GPU_mem   box_loss   cls_loss   dfl_loss  Instances       Size\n"
     ]
    },
    {
     "metadata": {
      "tags": null
     },
     "name": "stderr",
     "output_type": "stream",
     "text": [
      "     43/100      7.67G     0.7781     0.4561      1.063         73        640: 100%|██████████| 179/179 [01:58<00:00,  1.52it/s]\n",
      "                 Class     Images  Instances      Box(P          R      mAP50  mAP50-95): 100%|██████████| 13/13 [00:06<00:00,  1.89it/s]"
     ]
    },
    {
     "metadata": {
      "tags": null
     },
     "name": "stdout",
     "output_type": "stream",
     "text": [
      "                   all        820       1064      0.529      0.434      0.463      0.292\n"
     ]
    },
    {
     "metadata": {
      "tags": null
     },
     "name": "stderr",
     "output_type": "stream",
     "text": [
      "\n"
     ]
    },
    {
     "metadata": {
      "tags": null
     },
     "name": "stdout",
     "output_type": "stream",
     "text": [
      "\n",
      "      Epoch    GPU_mem   box_loss   cls_loss   dfl_loss  Instances       Size\n"
     ]
    },
    {
     "metadata": {
      "tags": null
     },
     "name": "stderr",
     "output_type": "stream",
     "text": [
      "     44/100      7.64G     0.7773     0.4612      1.059         70        640: 100%|██████████| 179/179 [01:58<00:00,  1.50it/s]\n",
      "                 Class     Images  Instances      Box(P          R      mAP50  mAP50-95): 100%|██████████| 13/13 [00:06<00:00,  1.94it/s]"
     ]
    },
    {
     "metadata": {
      "tags": null
     },
     "name": "stdout",
     "output_type": "stream",
     "text": [
      "                   all        820       1064      0.559      0.386      0.413      0.246\n"
     ]
    },
    {
     "metadata": {
      "tags": null
     },
     "name": "stderr",
     "output_type": "stream",
     "text": [
      "\n"
     ]
    },
    {
     "metadata": {
      "tags": null
     },
     "name": "stdout",
     "output_type": "stream",
     "text": [
      "\n",
      "      Epoch    GPU_mem   box_loss   cls_loss   dfl_loss  Instances       Size\n"
     ]
    },
    {
     "metadata": {
      "tags": null
     },
     "name": "stderr",
     "output_type": "stream",
     "text": [
      "     45/100       7.7G     0.7758     0.4539      1.061         89        640: 100%|██████████| 179/179 [01:58<00:00,  1.51it/s]\n",
      "                 Class     Images  Instances      Box(P          R      mAP50  mAP50-95): 100%|██████████| 13/13 [00:09<00:00,  1.37it/s]"
     ]
    },
    {
     "metadata": {
      "tags": null
     },
     "name": "stdout",
     "output_type": "stream",
     "text": [
      "                   all        820       1064      0.507      0.376      0.421      0.265\n"
     ]
    },
    {
     "metadata": {
      "tags": null
     },
     "name": "stderr",
     "output_type": "stream",
     "text": [
      "\n"
     ]
    },
    {
     "metadata": {
      "tags": null
     },
     "name": "stdout",
     "output_type": "stream",
     "text": [
      "\n",
      "      Epoch    GPU_mem   box_loss   cls_loss   dfl_loss  Instances       Size\n"
     ]
    },
    {
     "metadata": {
      "tags": null
     },
     "name": "stderr",
     "output_type": "stream",
     "text": [
      "     46/100      7.64G       0.77     0.4487      1.061         73        640: 100%|██████████| 179/179 [01:57<00:00,  1.53it/s]\n",
      "                 Class     Images  Instances      Box(P          R      mAP50  mAP50-95): 100%|██████████| 13/13 [00:07<00:00,  1.69it/s]"
     ]
    },
    {
     "metadata": {
      "tags": null
     },
     "name": "stdout",
     "output_type": "stream",
     "text": [
      "                   all        820       1064      0.443      0.403      0.392      0.242\n"
     ]
    },
    {
     "metadata": {
      "tags": null
     },
     "name": "stderr",
     "output_type": "stream",
     "text": [
      "\n"
     ]
    },
    {
     "metadata": {
      "tags": null
     },
     "name": "stdout",
     "output_type": "stream",
     "text": [
      "\n",
      "      Epoch    GPU_mem   box_loss   cls_loss   dfl_loss  Instances       Size\n"
     ]
    },
    {
     "metadata": {
      "tags": null
     },
     "name": "stderr",
     "output_type": "stream",
     "text": [
      "     47/100       7.7G     0.7696     0.4472      1.057         75        640: 100%|██████████| 179/179 [01:58<00:00,  1.51it/s]\n",
      "                 Class     Images  Instances      Box(P          R      mAP50  mAP50-95): 100%|██████████| 13/13 [00:06<00:00,  2.06it/s]"
     ]
    },
    {
     "metadata": {
      "tags": null
     },
     "name": "stdout",
     "output_type": "stream",
     "text": [
      "                   all        820       1064      0.448      0.411      0.413      0.253\n"
     ]
    },
    {
     "metadata": {
      "tags": null
     },
     "name": "stderr",
     "output_type": "stream",
     "text": [
      "\n"
     ]
    },
    {
     "metadata": {
      "tags": null
     },
     "name": "stdout",
     "output_type": "stream",
     "text": [
      "\n",
      "      Epoch    GPU_mem   box_loss   cls_loss   dfl_loss  Instances       Size\n"
     ]
    },
    {
     "metadata": {
      "tags": null
     },
     "name": "stderr",
     "output_type": "stream",
     "text": [
      "     48/100      7.68G     0.7666     0.4426      1.057         63        640: 100%|██████████| 179/179 [01:57<00:00,  1.52it/s]\n",
      "                 Class     Images  Instances      Box(P          R      mAP50  mAP50-95): 100%|██████████| 13/13 [00:08<00:00,  1.47it/s]"
     ]
    },
    {
     "metadata": {
      "tags": null
     },
     "name": "stdout",
     "output_type": "stream",
     "text": [
      "                   all        820       1064      0.429      0.419      0.425      0.257\n"
     ]
    },
    {
     "metadata": {
      "tags": null
     },
     "name": "stderr",
     "output_type": "stream",
     "text": [
      "\n"
     ]
    },
    {
     "metadata": {
      "tags": null
     },
     "name": "stdout",
     "output_type": "stream",
     "text": [
      "\n",
      "      Epoch    GPU_mem   box_loss   cls_loss   dfl_loss  Instances       Size\n"
     ]
    },
    {
     "metadata": {
      "tags": null
     },
     "name": "stderr",
     "output_type": "stream",
     "text": [
      "     49/100       7.7G     0.7646     0.4432      1.052         88        640: 100%|██████████| 179/179 [01:57<00:00,  1.52it/s]\n",
      "                 Class     Images  Instances      Box(P          R      mAP50  mAP50-95): 100%|██████████| 13/13 [00:09<00:00,  1.42it/s]"
     ]
    },
    {
     "metadata": {
      "tags": null
     },
     "name": "stdout",
     "output_type": "stream",
     "text": [
      "                   all        820       1064       0.45      0.495      0.464      0.288\n"
     ]
    },
    {
     "metadata": {
      "tags": null
     },
     "name": "stderr",
     "output_type": "stream",
     "text": [
      "\n"
     ]
    },
    {
     "metadata": {
      "tags": null
     },
     "name": "stdout",
     "output_type": "stream",
     "text": [
      "\n",
      "      Epoch    GPU_mem   box_loss   cls_loss   dfl_loss  Instances       Size\n"
     ]
    },
    {
     "metadata": {
      "tags": null
     },
     "name": "stderr",
     "output_type": "stream",
     "text": [
      "     50/100      7.68G     0.7513     0.4348      1.051         88        640: 100%|██████████| 179/179 [01:53<00:00,  1.57it/s]\n",
      "                 Class     Images  Instances      Box(P          R      mAP50  mAP50-95): 100%|██████████| 13/13 [00:07<00:00,  1.84it/s]"
     ]
    },
    {
     "metadata": {
      "tags": null
     },
     "name": "stdout",
     "output_type": "stream",
     "text": [
      "                   all        820       1064      0.478      0.382      0.425      0.263\n"
     ]
    },
    {
     "metadata": {
      "tags": null
     },
     "name": "stderr",
     "output_type": "stream",
     "text": [
      "\n"
     ]
    },
    {
     "metadata": {
      "tags": null
     },
     "name": "stdout",
     "output_type": "stream",
     "text": [
      "\n",
      "      Epoch    GPU_mem   box_loss   cls_loss   dfl_loss  Instances       Size\n"
     ]
    },
    {
     "metadata": {
      "tags": null
     },
     "name": "stderr",
     "output_type": "stream",
     "text": [
      "     51/100       7.7G     0.7516     0.4283       1.05         76        640: 100%|██████████| 179/179 [01:57<00:00,  1.53it/s]\n",
      "                 Class     Images  Instances      Box(P          R      mAP50  mAP50-95): 100%|██████████| 13/13 [00:06<00:00,  2.12it/s]"
     ]
    },
    {
     "metadata": {
      "tags": null
     },
     "name": "stdout",
     "output_type": "stream",
     "text": [
      "                   all        820       1064      0.446      0.403      0.412      0.252\n"
     ]
    },
    {
     "metadata": {
      "tags": null
     },
     "name": "stderr",
     "output_type": "stream",
     "text": [
      "\n"
     ]
    },
    {
     "metadata": {
      "tags": null
     },
     "name": "stdout",
     "output_type": "stream",
     "text": [
      "\n",
      "      Epoch    GPU_mem   box_loss   cls_loss   dfl_loss  Instances       Size\n"
     ]
    },
    {
     "metadata": {
      "tags": null
     },
     "name": "stderr",
     "output_type": "stream",
     "text": [
      "     52/100      7.64G     0.7436     0.4267      1.043         70        640: 100%|██████████| 179/179 [01:57<00:00,  1.53it/s]\n",
      "                 Class     Images  Instances      Box(P          R      mAP50  mAP50-95): 100%|██████████| 13/13 [00:08<00:00,  1.57it/s]"
     ]
    },
    {
     "metadata": {
      "tags": null
     },
     "name": "stdout",
     "output_type": "stream",
     "text": [
      "                   all        820       1064      0.403      0.363      0.375      0.218\n"
     ]
    },
    {
     "metadata": {
      "tags": null
     },
     "name": "stderr",
     "output_type": "stream",
     "text": [
      "\n"
     ]
    },
    {
     "metadata": {
      "tags": null
     },
     "name": "stdout",
     "output_type": "stream",
     "text": [
      "\n",
      "      Epoch    GPU_mem   box_loss   cls_loss   dfl_loss  Instances       Size\n"
     ]
    },
    {
     "metadata": {
      "tags": null
     },
     "name": "stderr",
     "output_type": "stream",
     "text": [
      "     53/100       7.7G     0.7482     0.4295      1.044         63        640: 100%|██████████| 179/179 [01:58<00:00,  1.52it/s]\n",
      "                 Class     Images  Instances      Box(P          R      mAP50  mAP50-95): 100%|██████████| 13/13 [00:09<00:00,  1.44it/s]"
     ]
    },
    {
     "metadata": {
      "tags": null
     },
     "name": "stdout",
     "output_type": "stream",
     "text": [
      "                   all        820       1064      0.463      0.361      0.391      0.239\n"
     ]
    },
    {
     "metadata": {
      "tags": null
     },
     "name": "stderr",
     "output_type": "stream",
     "text": [
      "\n"
     ]
    },
    {
     "metadata": {
      "tags": null
     },
     "name": "stdout",
     "output_type": "stream",
     "text": [
      "\n",
      "      Epoch    GPU_mem   box_loss   cls_loss   dfl_loss  Instances       Size\n"
     ]
    },
    {
     "metadata": {
      "tags": null
     },
     "name": "stderr",
     "output_type": "stream",
     "text": [
      "     54/100      7.64G     0.7379       0.42      1.046         68        640: 100%|██████████| 179/179 [01:58<00:00,  1.52it/s]\n",
      "                 Class     Images  Instances      Box(P          R      mAP50  mAP50-95): 100%|██████████| 13/13 [00:07<00:00,  1.67it/s]"
     ]
    },
    {
     "metadata": {
      "tags": null
     },
     "name": "stdout",
     "output_type": "stream",
     "text": [
      "                   all        820       1064      0.401      0.427      0.395      0.243\n"
     ]
    },
    {
     "metadata": {
      "tags": null
     },
     "name": "stderr",
     "output_type": "stream",
     "text": [
      "\n"
     ]
    },
    {
     "metadata": {
      "tags": null
     },
     "name": "stdout",
     "output_type": "stream",
     "text": [
      "\n",
      "      Epoch    GPU_mem   box_loss   cls_loss   dfl_loss  Instances       Size\n"
     ]
    },
    {
     "metadata": {
      "tags": null
     },
     "name": "stderr",
     "output_type": "stream",
     "text": [
      "     55/100       7.7G      0.736     0.4165      1.044         71        640: 100%|██████████| 179/179 [01:57<00:00,  1.52it/s]\n",
      "                 Class     Images  Instances      Box(P          R      mAP50  mAP50-95): 100%|██████████| 13/13 [00:06<00:00,  2.06it/s]"
     ]
    },
    {
     "metadata": {
      "tags": null
     },
     "name": "stdout",
     "output_type": "stream",
     "text": [
      "                   all        820       1064      0.501      0.423      0.435      0.271\n"
     ]
    },
    {
     "metadata": {
      "tags": null
     },
     "name": "stderr",
     "output_type": "stream",
     "text": [
      "\n"
     ]
    },
    {
     "metadata": {
      "tags": null
     },
     "name": "stdout",
     "output_type": "stream",
     "text": [
      "\n",
      "      Epoch    GPU_mem   box_loss   cls_loss   dfl_loss  Instances       Size\n"
     ]
    },
    {
     "metadata": {
      "tags": null
     },
     "name": "stderr",
     "output_type": "stream",
     "text": [
      "     56/100      7.64G     0.7315     0.4117       1.04         76        640: 100%|██████████| 179/179 [02:00<00:00,  1.48it/s]\n",
      "                 Class     Images  Instances      Box(P          R      mAP50  mAP50-95): 100%|██████████| 13/13 [00:07<00:00,  1.77it/s]"
     ]
    },
    {
     "metadata": {
      "tags": null
     },
     "name": "stdout",
     "output_type": "stream",
     "text": [
      "                   all        820       1064      0.525      0.444      0.443      0.258\n"
     ]
    },
    {
     "metadata": {
      "tags": null
     },
     "name": "stderr",
     "output_type": "stream",
     "text": [
      "\n"
     ]
    },
    {
     "metadata": {
      "tags": null
     },
     "name": "stdout",
     "output_type": "stream",
     "text": [
      "\n",
      "      Epoch    GPU_mem   box_loss   cls_loss   dfl_loss  Instances       Size\n"
     ]
    },
    {
     "metadata": {
      "tags": null
     },
     "name": "stderr",
     "output_type": "stream",
     "text": [
      "     57/100       7.7G     0.7322     0.4125      1.037         65        640: 100%|██████████| 179/179 [01:57<00:00,  1.52it/s]\n",
      "                 Class     Images  Instances      Box(P          R      mAP50  mAP50-95): 100%|██████████| 13/13 [00:08<00:00,  1.47it/s]"
     ]
    },
    {
     "metadata": {
      "tags": null
     },
     "name": "stdout",
     "output_type": "stream",
     "text": [
      "                   all        820       1064      0.373       0.41      0.394       0.25\n"
     ]
    },
    {
     "metadata": {
      "tags": null
     },
     "name": "stderr",
     "output_type": "stream",
     "text": [
      "\n"
     ]
    },
    {
     "metadata": {
      "tags": null
     },
     "name": "stdout",
     "output_type": "stream",
     "text": [
      "\n",
      "      Epoch    GPU_mem   box_loss   cls_loss   dfl_loss  Instances       Size\n"
     ]
    },
    {
     "metadata": {
      "tags": null
     },
     "name": "stderr",
     "output_type": "stream",
     "text": [
      "     58/100      7.64G     0.7259     0.4135      1.035         76        640: 100%|██████████| 179/179 [01:58<00:00,  1.51it/s]\n",
      "                 Class     Images  Instances      Box(P          R      mAP50  mAP50-95): 100%|██████████| 13/13 [00:08<00:00,  1.58it/s]"
     ]
    },
    {
     "metadata": {
      "tags": null
     },
     "name": "stdout",
     "output_type": "stream",
     "text": [
      "                   all        820       1064      0.385      0.365      0.371      0.241\n"
     ]
    },
    {
     "metadata": {
      "tags": null
     },
     "name": "stderr",
     "output_type": "stream",
     "text": [
      "\n"
     ]
    },
    {
     "metadata": {
      "tags": null
     },
     "name": "stdout",
     "output_type": "stream",
     "text": [
      "\n",
      "      Epoch    GPU_mem   box_loss   cls_loss   dfl_loss  Instances       Size\n"
     ]
    },
    {
     "metadata": {
      "tags": null
     },
     "name": "stderr",
     "output_type": "stream",
     "text": [
      "     59/100       7.7G     0.7253     0.4086      1.033         68        640: 100%|██████████| 179/179 [01:58<00:00,  1.52it/s]\n",
      "                 Class     Images  Instances      Box(P          R      mAP50  mAP50-95): 100%|██████████| 13/13 [00:06<00:00,  2.06it/s]"
     ]
    },
    {
     "metadata": {
      "tags": null
     },
     "name": "stdout",
     "output_type": "stream",
     "text": [
      "                   all        820       1064      0.428      0.423      0.394      0.253\n"
     ]
    },
    {
     "metadata": {
      "tags": null
     },
     "name": "stderr",
     "output_type": "stream",
     "text": [
      "\n"
     ]
    },
    {
     "metadata": {
      "tags": null
     },
     "name": "stdout",
     "output_type": "stream",
     "text": [
      "\n",
      "      Epoch    GPU_mem   box_loss   cls_loss   dfl_loss  Instances       Size\n"
     ]
    },
    {
     "metadata": {
      "tags": null
     },
     "name": "stderr",
     "output_type": "stream",
     "text": [
      "     60/100      7.64G     0.7244      0.407      1.035         69        640: 100%|██████████| 179/179 [02:00<00:00,  1.48it/s]\n",
      "                 Class     Images  Instances      Box(P          R      mAP50  mAP50-95): 100%|██████████| 13/13 [00:06<00:00,  1.93it/s]"
     ]
    },
    {
     "metadata": {
      "tags": null
     },
     "name": "stdout",
     "output_type": "stream",
     "text": [
      "                   all        820       1064        0.4      0.462      0.409      0.246\n"
     ]
    },
    {
     "metadata": {
      "tags": null
     },
     "name": "stderr",
     "output_type": "stream",
     "text": [
      "\n"
     ]
    },
    {
     "metadata": {
      "tags": null
     },
     "name": "stdout",
     "output_type": "stream",
     "text": [
      "\n",
      "      Epoch    GPU_mem   box_loss   cls_loss   dfl_loss  Instances       Size\n"
     ]
    },
    {
     "metadata": {
      "tags": null
     },
     "name": "stderr",
     "output_type": "stream",
     "text": [
      "     61/100      7.67G     0.7252     0.4032      1.034         64        640: 100%|██████████| 179/179 [01:59<00:00,  1.49it/s]\n",
      "                 Class     Images  Instances      Box(P          R      mAP50  mAP50-95): 100%|██████████| 13/13 [00:08<00:00,  1.57it/s]"
     ]
    },
    {
     "metadata": {
      "tags": null
     },
     "name": "stdout",
     "output_type": "stream",
     "text": [
      "                   all        820       1064      0.508      0.449      0.438      0.271\n"
     ]
    },
    {
     "metadata": {
      "tags": null
     },
     "name": "stderr",
     "output_type": "stream",
     "text": [
      "\n"
     ]
    },
    {
     "metadata": {
      "tags": null
     },
     "name": "stdout",
     "output_type": "stream",
     "text": [
      "\n",
      "      Epoch    GPU_mem   box_loss   cls_loss   dfl_loss  Instances       Size\n"
     ]
    },
    {
     "metadata": {
      "tags": null
     },
     "name": "stderr",
     "output_type": "stream",
     "text": [
      "     62/100      7.64G     0.7116     0.4021      1.028         80        640: 100%|██████████| 179/179 [02:02<00:00,  1.46it/s]\n",
      "                 Class     Images  Instances      Box(P          R      mAP50  mAP50-95): 100%|██████████| 13/13 [00:08<00:00,  1.47it/s]"
     ]
    },
    {
     "metadata": {
      "tags": null
     },
     "name": "stdout",
     "output_type": "stream",
     "text": [
      "                   all        820       1064      0.472      0.461      0.425      0.263\n"
     ]
    },
    {
     "metadata": {
      "tags": null
     },
     "name": "stderr",
     "output_type": "stream",
     "text": [
      "\n"
     ]
    },
    {
     "metadata": {
      "tags": null
     },
     "name": "stdout",
     "output_type": "stream",
     "text": [
      "\n",
      "      Epoch    GPU_mem   box_loss   cls_loss   dfl_loss  Instances       Size\n"
     ]
    },
    {
     "metadata": {
      "tags": null
     },
     "name": "stderr",
     "output_type": "stream",
     "text": [
      "     63/100       7.7G     0.7117     0.3983      1.027         83        640: 100%|██████████| 179/179 [02:03<00:00,  1.45it/s]\n",
      "                 Class     Images  Instances      Box(P          R      mAP50  mAP50-95): 100%|██████████| 13/13 [00:09<00:00,  1.38it/s]"
     ]
    },
    {
     "metadata": {
      "tags": null
     },
     "name": "stdout",
     "output_type": "stream",
     "text": [
      "                   all        820       1064      0.483      0.405      0.442      0.273\n"
     ]
    },
    {
     "metadata": {
      "tags": null
     },
     "name": "stderr",
     "output_type": "stream",
     "text": [
      "\n"
     ]
    },
    {
     "metadata": {
      "tags": null
     },
     "name": "stdout",
     "output_type": "stream",
     "text": [
      "\n",
      "      Epoch    GPU_mem   box_loss   cls_loss   dfl_loss  Instances       Size\n"
     ]
    },
    {
     "metadata": {
      "tags": null
     },
     "name": "stderr",
     "output_type": "stream",
     "text": [
      "     64/100      7.64G     0.7121     0.3904      1.029         81        640: 100%|██████████| 179/179 [01:59<00:00,  1.50it/s]\n",
      "                 Class     Images  Instances      Box(P          R      mAP50  mAP50-95): 100%|██████████| 13/13 [00:08<00:00,  1.50it/s]"
     ]
    },
    {
     "metadata": {
      "tags": null
     },
     "name": "stdout",
     "output_type": "stream",
     "text": [
      "                   all        820       1064      0.441      0.437      0.432      0.264\n"
     ]
    },
    {
     "metadata": {
      "tags": null
     },
     "name": "stderr",
     "output_type": "stream",
     "text": [
      "\n"
     ]
    },
    {
     "metadata": {
      "tags": null
     },
     "name": "stdout",
     "output_type": "stream",
     "text": [
      "\n",
      "      Epoch    GPU_mem   box_loss   cls_loss   dfl_loss  Instances       Size\n"
     ]
    },
    {
     "metadata": {
      "tags": null
     },
     "name": "stderr",
     "output_type": "stream",
     "text": [
      "     65/100      7.71G      0.705     0.3907      1.024         71        640: 100%|██████████| 179/179 [01:58<00:00,  1.51it/s]\n",
      "                 Class     Images  Instances      Box(P          R      mAP50  mAP50-95): 100%|██████████| 13/13 [00:07<00:00,  1.85it/s]"
     ]
    },
    {
     "metadata": {
      "tags": null
     },
     "name": "stdout",
     "output_type": "stream",
     "text": [
      "                   all        820       1064      0.387      0.384      0.385      0.246\n"
     ]
    },
    {
     "metadata": {
      "tags": null
     },
     "name": "stderr",
     "output_type": "stream",
     "text": [
      "\n"
     ]
    },
    {
     "metadata": {
      "tags": null
     },
     "name": "stdout",
     "output_type": "stream",
     "text": [
      "\n",
      "      Epoch    GPU_mem   box_loss   cls_loss   dfl_loss  Instances       Size\n"
     ]
    },
    {
     "metadata": {
      "tags": null
     },
     "name": "stderr",
     "output_type": "stream",
     "text": [
      "     66/100      7.64G     0.6973     0.3894      1.027         66        640: 100%|██████████| 179/179 [02:00<00:00,  1.48it/s]\n",
      "                 Class     Images  Instances      Box(P          R      mAP50  mAP50-95): 100%|██████████| 13/13 [00:06<00:00,  1.99it/s]"
     ]
    },
    {
     "metadata": {
      "tags": null
     },
     "name": "stdout",
     "output_type": "stream",
     "text": [
      "                   all        820       1064      0.444       0.39      0.411      0.252\n"
     ]
    },
    {
     "metadata": {
      "tags": null
     },
     "name": "stderr",
     "output_type": "stream",
     "text": [
      "\n"
     ]
    },
    {
     "metadata": {
      "tags": null
     },
     "name": "stdout",
     "output_type": "stream",
     "text": [
      "\n",
      "      Epoch    GPU_mem   box_loss   cls_loss   dfl_loss  Instances       Size\n"
     ]
    },
    {
     "metadata": {
      "tags": null
     },
     "name": "stderr",
     "output_type": "stream",
     "text": [
      "     67/100      7.71G     0.6963     0.3848       1.02         75        640: 100%|██████████| 179/179 [02:00<00:00,  1.48it/s]\n",
      "                 Class     Images  Instances      Box(P          R      mAP50  mAP50-95): 100%|██████████| 13/13 [00:08<00:00,  1.56it/s]"
     ]
    },
    {
     "metadata": {
      "tags": null
     },
     "name": "stdout",
     "output_type": "stream",
     "text": [
      "                   all        820       1064      0.509       0.46      0.443      0.261\n"
     ]
    },
    {
     "metadata": {
      "tags": null
     },
     "name": "stderr",
     "output_type": "stream",
     "text": [
      "\n"
     ]
    },
    {
     "metadata": {
      "tags": null
     },
     "name": "stdout",
     "output_type": "stream",
     "text": [
      "\n",
      "      Epoch    GPU_mem   box_loss   cls_loss   dfl_loss  Instances       Size\n"
     ]
    },
    {
     "metadata": {
      "tags": null
     },
     "name": "stderr",
     "output_type": "stream",
     "text": [
      "     68/100      7.64G     0.6902     0.3835      1.014         76        640: 100%|██████████| 179/179 [01:58<00:00,  1.52it/s]\n",
      "                 Class     Images  Instances      Box(P          R      mAP50  mAP50-95): 100%|██████████| 13/13 [00:08<00:00,  1.44it/s]"
     ]
    },
    {
     "metadata": {
      "tags": null
     },
     "name": "stdout",
     "output_type": "stream",
     "text": [
      "                   all        820       1064      0.438      0.445      0.402      0.237\n"
     ]
    },
    {
     "metadata": {
      "tags": null
     },
     "name": "stderr",
     "output_type": "stream",
     "text": [
      "\n"
     ]
    },
    {
     "metadata": {
      "tags": null
     },
     "name": "stdout",
     "output_type": "stream",
     "text": [
      "\n",
      "      Epoch    GPU_mem   box_loss   cls_loss   dfl_loss  Instances       Size\n"
     ]
    },
    {
     "metadata": {
      "tags": null
     },
     "name": "stderr",
     "output_type": "stream",
     "text": [
      "     69/100       7.7G     0.6954     0.3779      1.017         83        640: 100%|██████████| 179/179 [01:59<00:00,  1.50it/s]\n",
      "                 Class     Images  Instances      Box(P          R      mAP50  mAP50-95): 100%|██████████| 13/13 [00:10<00:00,  1.22it/s]"
     ]
    },
    {
     "metadata": {
      "tags": null
     },
     "name": "stdout",
     "output_type": "stream",
     "text": [
      "                   all        820       1064      0.436      0.486      0.432      0.275\n"
     ]
    },
    {
     "metadata": {
      "tags": null
     },
     "name": "stderr",
     "output_type": "stream",
     "text": [
      "\n"
     ]
    },
    {
     "metadata": {
      "tags": null
     },
     "name": "stdout",
     "output_type": "stream",
     "text": [
      "\n",
      "      Epoch    GPU_mem   box_loss   cls_loss   dfl_loss  Instances       Size\n"
     ]
    },
    {
     "metadata": {
      "tags": null
     },
     "name": "stderr",
     "output_type": "stream",
     "text": [
      "     70/100      7.64G     0.6823     0.3735      1.011         87        640: 100%|██████████| 179/179 [02:22<00:00,  1.26it/s]\n",
      "                 Class     Images  Instances      Box(P          R      mAP50  mAP50-95): 100%|██████████| 13/13 [00:06<00:00,  2.07it/s]"
     ]
    },
    {
     "metadata": {
      "tags": null
     },
     "name": "stdout",
     "output_type": "stream",
     "text": [
      "                   all        820       1064      0.493      0.488      0.441      0.287\n"
     ]
    },
    {
     "metadata": {
      "tags": null
     },
     "name": "stderr",
     "output_type": "stream",
     "text": [
      "\n"
     ]
    },
    {
     "metadata": {
      "tags": null
     },
     "name": "stdout",
     "output_type": "stream",
     "text": [
      "\n",
      "      Epoch    GPU_mem   box_loss   cls_loss   dfl_loss  Instances       Size\n"
     ]
    },
    {
     "metadata": {
      "tags": null
     },
     "name": "stderr",
     "output_type": "stream",
     "text": [
      "     71/100       7.7G     0.6893     0.3718      1.015         64        640: 100%|██████████| 179/179 [01:58<00:00,  1.51it/s]\n",
      "                 Class     Images  Instances      Box(P          R      mAP50  mAP50-95): 100%|██████████| 13/13 [00:09<00:00,  1.43it/s]"
     ]
    },
    {
     "metadata": {
      "tags": null
     },
     "name": "stdout",
     "output_type": "stream",
     "text": [
      "                   all        820       1064      0.427      0.419      0.409      0.246\n"
     ]
    },
    {
     "metadata": {
      "tags": null
     },
     "name": "stderr",
     "output_type": "stream",
     "text": [
      "\n"
     ]
    },
    {
     "metadata": {
      "tags": null
     },
     "name": "stdout",
     "output_type": "stream",
     "text": [
      "\n",
      "      Epoch    GPU_mem   box_loss   cls_loss   dfl_loss  Instances       Size\n"
     ]
    },
    {
     "metadata": {
      "tags": null
     },
     "name": "stderr",
     "output_type": "stream",
     "text": [
      "     72/100      7.64G     0.6683     0.3693      1.011         62        640: 100%|██████████| 179/179 [01:58<00:00,  1.51it/s]\n",
      "                 Class     Images  Instances      Box(P          R      mAP50  mAP50-95): 100%|██████████| 13/13 [00:09<00:00,  1.41it/s]"
     ]
    },
    {
     "metadata": {
      "tags": null
     },
     "name": "stdout",
     "output_type": "stream",
     "text": [
      "                   all        820       1064      0.392      0.399      0.385      0.235\n"
     ]
    },
    {
     "metadata": {
      "tags": null
     },
     "name": "stderr",
     "output_type": "stream",
     "text": [
      "\n"
     ]
    },
    {
     "metadata": {
      "tags": null
     },
     "name": "stdout",
     "output_type": "stream",
     "text": [
      "\n",
      "      Epoch    GPU_mem   box_loss   cls_loss   dfl_loss  Instances       Size\n"
     ]
    },
    {
     "metadata": {
      "tags": null
     },
     "name": "stderr",
     "output_type": "stream",
     "text": [
      "     73/100       7.7G     0.6818     0.3721      1.012         71        640: 100%|██████████| 179/179 [01:59<00:00,  1.50it/s]\n",
      "                 Class     Images  Instances      Box(P          R      mAP50  mAP50-95): 100%|██████████| 13/13 [00:08<00:00,  1.54it/s]"
     ]
    },
    {
     "metadata": {
      "tags": null
     },
     "name": "stdout",
     "output_type": "stream",
     "text": [
      "                   all        820       1064       0.49       0.44      0.423      0.278\n"
     ]
    },
    {
     "metadata": {
      "tags": null
     },
     "name": "stderr",
     "output_type": "stream",
     "text": [
      "\n"
     ]
    },
    {
     "metadata": {
      "tags": null
     },
     "name": "stdout",
     "output_type": "stream",
     "text": [
      "\n",
      "      Epoch    GPU_mem   box_loss   cls_loss   dfl_loss  Instances       Size\n"
     ]
    },
    {
     "metadata": {
      "tags": null
     },
     "name": "stderr",
     "output_type": "stream",
     "text": [
      "     74/100      7.69G     0.6754     0.3627      1.005         75        640: 100%|██████████| 179/179 [01:57<00:00,  1.53it/s]\n",
      "                 Class     Images  Instances      Box(P          R      mAP50  mAP50-95): 100%|██████████| 13/13 [00:06<00:00,  1.93it/s]"
     ]
    },
    {
     "metadata": {
      "tags": null
     },
     "name": "stdout",
     "output_type": "stream",
     "text": [
      "                   all        820       1064      0.451      0.428        0.4      0.255\n"
     ]
    },
    {
     "metadata": {
      "tags": null
     },
     "name": "stderr",
     "output_type": "stream",
     "text": [
      "\n"
     ]
    },
    {
     "metadata": {
      "tags": null
     },
     "name": "stdout",
     "output_type": "stream",
     "text": [
      "\n",
      "      Epoch    GPU_mem   box_loss   cls_loss   dfl_loss  Instances       Size\n"
     ]
    },
    {
     "metadata": {
      "tags": null
     },
     "name": "stderr",
     "output_type": "stream",
     "text": [
      "     75/100       7.7G      0.671     0.3627      1.009         56        640: 100%|██████████| 179/179 [02:00<00:00,  1.49it/s]\n",
      "                 Class     Images  Instances      Box(P          R      mAP50  mAP50-95): 100%|██████████| 13/13 [00:06<00:00,  2.03it/s]"
     ]
    },
    {
     "metadata": {
      "tags": null
     },
     "name": "stdout",
     "output_type": "stream",
     "text": [
      "                   all        820       1064       0.46      0.467      0.428      0.258\n"
     ]
    },
    {
     "metadata": {
      "tags": null
     },
     "name": "stderr",
     "output_type": "stream",
     "text": [
      "\n"
     ]
    },
    {
     "metadata": {
      "tags": null
     },
     "name": "stdout",
     "output_type": "stream",
     "text": [
      "\n",
      "      Epoch    GPU_mem   box_loss   cls_loss   dfl_loss  Instances       Size\n"
     ]
    },
    {
     "metadata": {
      "tags": null
     },
     "name": "stderr",
     "output_type": "stream",
     "text": [
      "     76/100      7.64G     0.6696      0.364      1.008         75        640: 100%|██████████| 179/179 [01:59<00:00,  1.50it/s]\n",
      "                 Class     Images  Instances      Box(P          R      mAP50  mAP50-95): 100%|██████████| 13/13 [00:07<00:00,  1.65it/s]"
     ]
    },
    {
     "metadata": {
      "tags": null
     },
     "name": "stdout",
     "output_type": "stream",
     "text": [
      "                   all        820       1064      0.473      0.479      0.441      0.262\n"
     ]
    },
    {
     "metadata": {
      "tags": null
     },
     "name": "stderr",
     "output_type": "stream",
     "text": [
      "\n"
     ]
    },
    {
     "metadata": {
      "tags": null
     },
     "name": "stdout",
     "output_type": "stream",
     "text": [
      "\n",
      "      Epoch    GPU_mem   box_loss   cls_loss   dfl_loss  Instances       Size\n"
     ]
    },
    {
     "metadata": {
      "tags": null
     },
     "name": "stderr",
     "output_type": "stream",
     "text": [
      "     77/100      7.67G     0.6601     0.3599          1         42        640: 100%|██████████| 179/179 [01:58<00:00,  1.51it/s]\n",
      "                 Class     Images  Instances      Box(P          R      mAP50  mAP50-95): 100%|██████████| 13/13 [00:09<00:00,  1.44it/s]"
     ]
    },
    {
     "metadata": {
      "tags": null
     },
     "name": "stdout",
     "output_type": "stream",
     "text": [
      "                   all        820       1064      0.418      0.413      0.404      0.251\n"
     ]
    },
    {
     "metadata": {
      "tags": null
     },
     "name": "stderr",
     "output_type": "stream",
     "text": [
      "\n"
     ]
    },
    {
     "metadata": {
      "tags": null
     },
     "name": "stdout",
     "output_type": "stream",
     "text": [
      "\n",
      "      Epoch    GPU_mem   box_loss   cls_loss   dfl_loss  Instances       Size\n"
     ]
    },
    {
     "metadata": {
      "tags": null
     },
     "name": "stderr",
     "output_type": "stream",
     "text": [
      "     78/100      7.64G     0.6663     0.3572      1.003         76        640: 100%|██████████| 179/179 [01:58<00:00,  1.51it/s]\n",
      "                 Class     Images  Instances      Box(P          R      mAP50  mAP50-95): 100%|██████████| 13/13 [00:06<00:00,  1.87it/s]"
     ]
    },
    {
     "metadata": {
      "tags": null
     },
     "name": "stdout",
     "output_type": "stream",
     "text": [
      "                   all        820       1064      0.445      0.445      0.414      0.259\n"
     ]
    },
    {
     "metadata": {
      "tags": null
     },
     "name": "stderr",
     "output_type": "stream",
     "text": [
      "\n"
     ]
    },
    {
     "metadata": {
      "tags": null
     },
     "name": "stdout",
     "output_type": "stream",
     "text": [
      "\n",
      "      Epoch    GPU_mem   box_loss   cls_loss   dfl_loss  Instances       Size\n"
     ]
    },
    {
     "metadata": {
      "tags": null
     },
     "name": "stderr",
     "output_type": "stream",
     "text": [
      "     79/100      7.67G       0.66     0.3529      1.003         77        640: 100%|██████████| 179/179 [01:59<00:00,  1.50it/s]\n",
      "                 Class     Images  Instances      Box(P          R      mAP50  mAP50-95): 100%|██████████| 13/13 [00:06<00:00,  2.06it/s]"
     ]
    },
    {
     "metadata": {
      "tags": null
     },
     "name": "stdout",
     "output_type": "stream",
     "text": [
      "                   all        820       1064      0.425      0.422      0.413      0.252\n"
     ]
    },
    {
     "metadata": {
      "tags": null
     },
     "name": "stderr",
     "output_type": "stream",
     "text": [
      "\n"
     ]
    },
    {
     "metadata": {
      "tags": null
     },
     "name": "stdout",
     "output_type": "stream",
     "text": [
      "\n",
      "      Epoch    GPU_mem   box_loss   cls_loss   dfl_loss  Instances       Size\n"
     ]
    },
    {
     "metadata": {
      "tags": null
     },
     "name": "stderr",
     "output_type": "stream",
     "text": [
      "     80/100      7.64G     0.6554     0.3524      1.002         64        640: 100%|██████████| 179/179 [02:00<00:00,  1.48it/s]\n",
      "                 Class     Images  Instances      Box(P          R      mAP50  mAP50-95): 100%|██████████| 13/13 [00:08<00:00,  1.50it/s]"
     ]
    },
    {
     "metadata": {
      "tags": null
     },
     "name": "stdout",
     "output_type": "stream",
     "text": [
      "                   all        820       1064      0.434      0.448       0.41      0.252\n"
     ]
    },
    {
     "metadata": {
      "tags": null
     },
     "name": "stderr",
     "output_type": "stream",
     "text": [
      "\n"
     ]
    },
    {
     "metadata": {
      "tags": null
     },
     "name": "stdout",
     "output_type": "stream",
     "text": [
      "\n",
      "      Epoch    GPU_mem   box_loss   cls_loss   dfl_loss  Instances       Size\n"
     ]
    },
    {
     "metadata": {
      "tags": null
     },
     "name": "stderr",
     "output_type": "stream",
     "text": [
      "     81/100       7.7G     0.6513     0.3481     0.9977         79        640: 100%|██████████| 179/179 [01:59<00:00,  1.50it/s]\n",
      "                 Class     Images  Instances      Box(P          R      mAP50  mAP50-95): 100%|██████████| 13/13 [00:09<00:00,  1.43it/s]"
     ]
    },
    {
     "metadata": {
      "tags": null
     },
     "name": "stdout",
     "output_type": "stream",
     "text": [
      "                   all        820       1064      0.438      0.455      0.407      0.251\n"
     ]
    },
    {
     "metadata": {
      "tags": null
     },
     "name": "stderr",
     "output_type": "stream",
     "text": [
      "\n"
     ]
    },
    {
     "metadata": {
      "tags": null
     },
     "name": "stdout",
     "output_type": "stream",
     "text": [
      "\n",
      "      Epoch    GPU_mem   box_loss   cls_loss   dfl_loss  Instances       Size\n"
     ]
    },
    {
     "metadata": {
      "tags": null
     },
     "name": "stderr",
     "output_type": "stream",
     "text": [
      "     82/100      7.68G     0.6495     0.3475     0.9937         84        640: 100%|██████████| 179/179 [01:59<00:00,  1.50it/s]\n",
      "                 Class     Images  Instances      Box(P          R      mAP50  mAP50-95): 100%|██████████| 13/13 [00:07<00:00,  1.69it/s]"
     ]
    },
    {
     "metadata": {
      "tags": null
     },
     "name": "stdout",
     "output_type": "stream",
     "text": [
      "                   all        820       1064       0.45      0.462      0.425      0.255\n"
     ]
    },
    {
     "metadata": {
      "tags": null
     },
     "name": "stderr",
     "output_type": "stream",
     "text": [
      "\n"
     ]
    },
    {
     "metadata": {
      "tags": null
     },
     "name": "stdout",
     "output_type": "stream",
     "text": [
      "\n",
      "      Epoch    GPU_mem   box_loss   cls_loss   dfl_loss  Instances       Size\n"
     ]
    },
    {
     "metadata": {
      "tags": null
     },
     "name": "stderr",
     "output_type": "stream",
     "text": [
      "     83/100       7.7G     0.6424     0.3445      0.993         70        640: 100%|██████████| 179/179 [02:00<00:00,  1.49it/s]\n",
      "                 Class     Images  Instances      Box(P          R      mAP50  mAP50-95): 100%|██████████| 13/13 [00:06<00:00,  1.92it/s]"
     ]
    },
    {
     "metadata": {
      "tags": null
     },
     "name": "stdout",
     "output_type": "stream",
     "text": [
      "                   all        820       1064      0.471      0.448      0.444      0.271\n"
     ]
    },
    {
     "metadata": {
      "tags": null
     },
     "name": "stderr",
     "output_type": "stream",
     "text": [
      "\n"
     ]
    },
    {
     "metadata": {
      "tags": null
     },
     "name": "stdout",
     "output_type": "stream",
     "text": [
      "\n",
      "      Epoch    GPU_mem   box_loss   cls_loss   dfl_loss  Instances       Size\n"
     ]
    },
    {
     "metadata": {
      "tags": null
     },
     "name": "stderr",
     "output_type": "stream",
     "text": [
      "     84/100      7.64G      0.647     0.3438     0.9927         68        640: 100%|██████████| 179/179 [02:01<00:00,  1.47it/s]\n",
      "                 Class     Images  Instances      Box(P          R      mAP50  mAP50-95): 100%|██████████| 13/13 [00:06<00:00,  2.08it/s]"
     ]
    },
    {
     "metadata": {
      "tags": null
     },
     "name": "stdout",
     "output_type": "stream",
     "text": [
      "                   all        820       1064      0.512      0.424      0.443      0.269\n"
     ]
    },
    {
     "metadata": {
      "tags": null
     },
     "name": "stderr",
     "output_type": "stream",
     "text": [
      "\n"
     ]
    },
    {
     "metadata": {
      "tags": null
     },
     "name": "stdout",
     "output_type": "stream",
     "text": [
      "\n",
      "      Epoch    GPU_mem   box_loss   cls_loss   dfl_loss  Instances       Size\n"
     ]
    },
    {
     "metadata": {
      "tags": null
     },
     "name": "stderr",
     "output_type": "stream",
     "text": [
      "     85/100       7.7G     0.6461     0.3462     0.9949         89        640: 100%|██████████| 179/179 [01:57<00:00,  1.52it/s]\n",
      "                 Class     Images  Instances      Box(P          R      mAP50  mAP50-95): 100%|██████████| 13/13 [00:09<00:00,  1.44it/s]"
     ]
    },
    {
     "metadata": {
      "tags": null
     },
     "name": "stdout",
     "output_type": "stream",
     "text": [
      "                   all        820       1064      0.474      0.465      0.447      0.279\n"
     ]
    },
    {
     "metadata": {
      "tags": null
     },
     "name": "stderr",
     "output_type": "stream",
     "text": [
      "\n"
     ]
    },
    {
     "metadata": {
      "tags": null
     },
     "name": "stdout",
     "output_type": "stream",
     "text": [
      "\n",
      "      Epoch    GPU_mem   box_loss   cls_loss   dfl_loss  Instances       Size\n"
     ]
    },
    {
     "metadata": {
      "tags": null
     },
     "name": "stderr",
     "output_type": "stream",
     "text": [
      "     86/100      7.64G      0.636     0.3406       0.99         89        640: 100%|██████████| 179/179 [01:57<00:00,  1.52it/s]\n",
      "                 Class     Images  Instances      Box(P          R      mAP50  mAP50-95): 100%|██████████| 13/13 [00:06<00:00,  1.89it/s]"
     ]
    },
    {
     "metadata": {
      "tags": null
     },
     "name": "stdout",
     "output_type": "stream",
     "text": [
      "                   all        820       1064      0.491      0.447      0.437      0.271\n"
     ]
    },
    {
     "metadata": {
      "tags": null
     },
     "name": "stderr",
     "output_type": "stream",
     "text": [
      "\n"
     ]
    },
    {
     "metadata": {
      "tags": null
     },
     "name": "stdout",
     "output_type": "stream",
     "text": [
      "\n",
      "      Epoch    GPU_mem   box_loss   cls_loss   dfl_loss  Instances       Size\n"
     ]
    },
    {
     "metadata": {
      "tags": null
     },
     "name": "stderr",
     "output_type": "stream",
     "text": [
      "     87/100       7.7G     0.6337     0.3351     0.9868         74        640: 100%|██████████| 179/179 [01:56<00:00,  1.54it/s]\n",
      "                 Class     Images  Instances      Box(P          R      mAP50  mAP50-95): 100%|██████████| 13/13 [00:06<00:00,  2.12it/s]"
     ]
    },
    {
     "metadata": {
      "tags": null
     },
     "name": "stdout",
     "output_type": "stream",
     "text": [
      "                   all        820       1064      0.507      0.422      0.432      0.266\n"
     ]
    },
    {
     "metadata": {
      "tags": null
     },
     "name": "stderr",
     "output_type": "stream",
     "text": [
      "\n"
     ]
    },
    {
     "metadata": {
      "tags": null
     },
     "name": "stdout",
     "output_type": "stream",
     "text": [
      "\n",
      "      Epoch    GPU_mem   box_loss   cls_loss   dfl_loss  Instances       Size\n"
     ]
    },
    {
     "metadata": {
      "tags": null
     },
     "name": "stderr",
     "output_type": "stream",
     "text": [
      "     88/100      7.64G     0.6343     0.3363     0.9894         79        640: 100%|██████████| 179/179 [01:56<00:00,  1.54it/s]\n",
      "                 Class     Images  Instances      Box(P          R      mAP50  mAP50-95): 100%|██████████| 13/13 [00:07<00:00,  1.73it/s]"
     ]
    },
    {
     "metadata": {
      "tags": null
     },
     "name": "stdout",
     "output_type": "stream",
     "text": [
      "                   all        820       1064      0.465       0.45      0.435      0.272\n"
     ]
    },
    {
     "metadata": {
      "tags": null
     },
     "name": "stderr",
     "output_type": "stream",
     "text": [
      "\n"
     ]
    },
    {
     "metadata": {
      "tags": null
     },
     "name": "stdout",
     "output_type": "stream",
     "text": [
      "\n",
      "      Epoch    GPU_mem   box_loss   cls_loss   dfl_loss  Instances       Size\n"
     ]
    },
    {
     "metadata": {
      "tags": null
     },
     "name": "stderr",
     "output_type": "stream",
     "text": [
      "     89/100       7.7G     0.6299     0.3342     0.9878         80        640: 100%|██████████| 179/179 [01:55<00:00,  1.55it/s]\n",
      "                 Class     Images  Instances      Box(P          R      mAP50  mAP50-95): 100%|██████████| 13/13 [00:08<00:00,  1.54it/s]"
     ]
    },
    {
     "metadata": {
      "tags": null
     },
     "name": "stdout",
     "output_type": "stream",
     "text": [
      "                   all        820       1064      0.479      0.439      0.429      0.273\n"
     ]
    },
    {
     "metadata": {
      "tags": null
     },
     "name": "stderr",
     "output_type": "stream",
     "text": [
      "\n"
     ]
    },
    {
     "metadata": {
      "tags": null
     },
     "name": "stdout",
     "output_type": "stream",
     "text": [
      "\n",
      "      Epoch    GPU_mem   box_loss   cls_loss   dfl_loss  Instances       Size\n"
     ]
    },
    {
     "name": "stderr",
     "output_type": "stream",
     "text": [
      "     90/100      7.64G     0.6269     0.3284     0.9867         63        640: 100%|██████████| 179/179 [01:56<00:00,  1.53it/s]\n",
      "                 Class     Images  Instances      Box(P          R      mAP50  mAP50-95): 100%|██████████| 13/13 [00:08<00:00,  1.51it/s]"
     ]
    },
    {
     "name": "stdout",
     "output_type": "stream",
     "text": [
      "                   all        820       1064      0.492      0.433       0.43      0.262\n"
     ]
    },
    {
     "name": "stderr",
     "output_type": "stream",
     "text": [
      "\n"
     ]
    },
    {
     "name": "stdout",
     "output_type": "stream",
     "text": [
      "Closing dataloader mosaic\n",
      "\u001b[34m\u001b[1malbumentations: \u001b[0mBlur(p=0.01, blur_limit=(3, 7)), MedianBlur(p=0.01, blur_limit=(3, 7)), ToGray(p=0.01, num_output_channels=3, method='weighted_average'), CLAHE(p=0.01, clip_limit=(1.0, 4.0), tile_grid_size=(8, 8))\n",
      "\n",
      "      Epoch    GPU_mem   box_loss   cls_loss   dfl_loss  Instances       Size\n"
     ]
    },
    {
     "name": "stderr",
     "output_type": "stream",
     "text": [
      "     91/100      7.67G     0.6044      0.278     0.9585         31        640: 100%|██████████| 179/179 [01:56<00:00,  1.54it/s]\n",
      "                 Class     Images  Instances      Box(P          R      mAP50  mAP50-95): 100%|██████████| 13/13 [00:06<00:00,  2.04it/s]"
     ]
    },
    {
     "name": "stdout",
     "output_type": "stream",
     "text": [
      "                   all        820       1064      0.474       0.42      0.412      0.256\n"
     ]
    },
    {
     "name": "stderr",
     "output_type": "stream",
     "text": [
      "\n"
     ]
    },
    {
     "name": "stdout",
     "output_type": "stream",
     "text": [
      "\n",
      "      Epoch    GPU_mem   box_loss   cls_loss   dfl_loss  Instances       Size\n"
     ]
    },
    {
     "name": "stderr",
     "output_type": "stream",
     "text": [
      "     92/100      7.64G     0.5917     0.2662     0.9559         34        640: 100%|██████████| 179/179 [01:53<00:00,  1.58it/s]\n",
      "                 Class     Images  Instances      Box(P          R      mAP50  mAP50-95): 100%|██████████| 13/13 [00:08<00:00,  1.48it/s]"
     ]
    },
    {
     "name": "stdout",
     "output_type": "stream",
     "text": [
      "                   all        820       1064      0.468      0.421      0.403      0.252\n"
     ]
    },
    {
     "name": "stderr",
     "output_type": "stream",
     "text": [
      "\n"
     ]
    },
    {
     "name": "stdout",
     "output_type": "stream",
     "text": [
      "\n",
      "      Epoch    GPU_mem   box_loss   cls_loss   dfl_loss  Instances       Size\n"
     ]
    },
    {
     "name": "stderr",
     "output_type": "stream",
     "text": [
      "     93/100      7.67G     0.5835     0.2592     0.9458         36        640: 100%|██████████| 179/179 [01:55<00:00,  1.55it/s]\n",
      "                 Class     Images  Instances      Box(P          R      mAP50  mAP50-95): 100%|██████████| 13/13 [00:06<00:00,  2.03it/s]"
     ]
    },
    {
     "name": "stdout",
     "output_type": "stream",
     "text": [
      "                   all        820       1064      0.455       0.43      0.413      0.255\n"
     ]
    },
    {
     "name": "stderr",
     "output_type": "stream",
     "text": [
      "\n"
     ]
    },
    {
     "name": "stdout",
     "output_type": "stream",
     "text": [
      "\n",
      "      Epoch    GPU_mem   box_loss   cls_loss   dfl_loss  Instances       Size\n"
     ]
    },
    {
     "name": "stderr",
     "output_type": "stream",
     "text": [
      "     94/100      7.64G     0.5775     0.2561     0.9382         35        640: 100%|██████████| 179/179 [01:52<00:00,  1.59it/s]\n",
      "                 Class     Images  Instances      Box(P          R      mAP50  mAP50-95): 100%|██████████| 13/13 [00:08<00:00,  1.45it/s]"
     ]
    },
    {
     "name": "stdout",
     "output_type": "stream",
     "text": [
      "                   all        820       1064      0.439      0.421      0.405       0.26\n"
     ]
    },
    {
     "name": "stderr",
     "output_type": "stream",
     "text": [
      "\n"
     ]
    },
    {
     "name": "stdout",
     "output_type": "stream",
     "text": [
      "\n",
      "      Epoch    GPU_mem   box_loss   cls_loss   dfl_loss  Instances       Size\n"
     ]
    },
    {
     "name": "stderr",
     "output_type": "stream",
     "text": [
      "     95/100      7.67G     0.5771     0.2577     0.9412         28        640: 100%|██████████| 179/179 [01:52<00:00,  1.59it/s]\n",
      "                 Class     Images  Instances      Box(P          R      mAP50  mAP50-95): 100%|██████████| 13/13 [00:06<00:00,  2.04it/s]"
     ]
    },
    {
     "name": "stdout",
     "output_type": "stream",
     "text": [
      "                   all        820       1064      0.488      0.388      0.405      0.261\n"
     ]
    },
    {
     "name": "stderr",
     "output_type": "stream",
     "text": [
      "\n"
     ]
    },
    {
     "name": "stdout",
     "output_type": "stream",
     "text": [
      "\n",
      "      Epoch    GPU_mem   box_loss   cls_loss   dfl_loss  Instances       Size\n"
     ]
    },
    {
     "name": "stderr",
     "output_type": "stream",
     "text": [
      "     96/100      7.64G      0.567     0.2536     0.9377         41        640: 100%|██████████| 179/179 [01:51<00:00,  1.60it/s]\n",
      "                 Class     Images  Instances      Box(P          R      mAP50  mAP50-95): 100%|██████████| 13/13 [00:08<00:00,  1.58it/s]"
     ]
    },
    {
     "name": "stdout",
     "output_type": "stream",
     "text": [
      "                   all        820       1064      0.417      0.407      0.396      0.254\n"
     ]
    },
    {
     "name": "stderr",
     "output_type": "stream",
     "text": [
      "\n"
     ]
    },
    {
     "name": "stdout",
     "output_type": "stream",
     "text": [
      "\n",
      "      Epoch    GPU_mem   box_loss   cls_loss   dfl_loss  Instances       Size\n"
     ]
    },
    {
     "name": "stderr",
     "output_type": "stream",
     "text": [
      "     97/100      7.67G     0.5682     0.2512     0.9375         34        640: 100%|██████████| 179/179 [01:53<00:00,  1.57it/s]\n",
      "                 Class     Images  Instances      Box(P          R      mAP50  mAP50-95): 100%|██████████| 13/13 [00:06<00:00,  2.06it/s]"
     ]
    },
    {
     "name": "stdout",
     "output_type": "stream",
     "text": [
      "                   all        820       1064      0.451      0.391      0.394      0.253\n"
     ]
    },
    {
     "name": "stderr",
     "output_type": "stream",
     "text": [
      "\n"
     ]
    },
    {
     "name": "stdout",
     "output_type": "stream",
     "text": [
      "\n",
      "      Epoch    GPU_mem   box_loss   cls_loss   dfl_loss  Instances       Size\n"
     ]
    },
    {
     "name": "stderr",
     "output_type": "stream",
     "text": [
      "     98/100      7.64G     0.5638      0.251     0.9329         36        640: 100%|██████████| 179/179 [01:52<00:00,  1.58it/s]\n",
      "                 Class     Images  Instances      Box(P          R      mAP50  mAP50-95): 100%|██████████| 13/13 [00:09<00:00,  1.44it/s]"
     ]
    },
    {
     "name": "stdout",
     "output_type": "stream",
     "text": [
      "                   all        820       1064      0.454      0.394      0.392      0.253\n"
     ]
    },
    {
     "name": "stderr",
     "output_type": "stream",
     "text": [
      "\n"
     ]
    },
    {
     "name": "stdout",
     "output_type": "stream",
     "text": [
      "\n",
      "      Epoch    GPU_mem   box_loss   cls_loss   dfl_loss  Instances       Size\n"
     ]
    },
    {
     "name": "stderr",
     "output_type": "stream",
     "text": [
      "     99/100      7.67G     0.5625     0.2503     0.9348         33        640: 100%|██████████| 179/179 [01:52<00:00,  1.59it/s]\n",
      "                 Class     Images  Instances      Box(P          R      mAP50  mAP50-95): 100%|██████████| 13/13 [00:06<00:00,  2.11it/s]"
     ]
    },
    {
     "name": "stdout",
     "output_type": "stream",
     "text": [
      "                   all        820       1064      0.432      0.394      0.391      0.252\n"
     ]
    },
    {
     "name": "stderr",
     "output_type": "stream",
     "text": [
      "\n"
     ]
    },
    {
     "name": "stdout",
     "output_type": "stream",
     "text": [
      "\n",
      "      Epoch    GPU_mem   box_loss   cls_loss   dfl_loss  Instances       Size\n"
     ]
    },
    {
     "name": "stderr",
     "output_type": "stream",
     "text": [
      "    100/100      7.64G     0.5538     0.2463     0.9291         33        640: 100%|██████████| 179/179 [01:53<00:00,  1.58it/s]\n",
      "                 Class     Images  Instances      Box(P          R      mAP50  mAP50-95): 100%|██████████| 13/13 [00:08<00:00,  1.50it/s]"
     ]
    },
    {
     "name": "stdout",
     "output_type": "stream",
     "text": [
      "                   all        820       1064      0.447       0.39      0.394      0.252\n"
     ]
    },
    {
     "name": "stderr",
     "output_type": "stream",
     "text": [
      "\n"
     ]
    },
    {
     "name": "stdout",
     "output_type": "stream",
     "text": [
      "\n",
      "100 epochs completed in 3.559 hours.\n",
      "Optimizer stripped from yolo8vsmodel/train4/weights/last.pt, 22.5MB\n",
      "Optimizer stripped from yolo8vsmodel/train4/weights/best.pt, 22.5MB\n",
      "\n",
      "Validating yolo8vsmodel/train4/weights/best.pt...\n",
      "Ultralytics 8.3.43 🚀 Python-3.10.12 torch-2.5.1+cu121 CUDA:0 (Tesla T4, 15102MiB)\n",
      "Model summary (fused): 168 layers, 11,126,745 parameters, 0 gradients, 28.4 GFLOPs\n"
     ]
    },
    {
     "name": "stderr",
     "output_type": "stream",
     "text": [
      "                 Class     Images  Instances      Box(P          R      mAP50  mAP50-95): 100%|██████████| 13/13 [00:08<00:00,  1.61it/s]\n"
     ]
    },
    {
     "name": "stdout",
     "output_type": "stream",
     "text": [
      "                   all        820       1064      0.527      0.436      0.463      0.291\n",
      "               plastic        819        853      0.869      0.646      0.795      0.526\n",
      "               biolife         54         70      0.131      0.129     0.0587     0.0339\n",
      "                   rov        141        141       0.58      0.532      0.534      0.314\n",
      "Speed: 0.1ms preprocess, 3.1ms inference, 0.0ms loss, 1.9ms postprocess per image\n",
      "Results saved to \u001b[1myolo8vsmodel/train4\u001b[0m\n"
     ]
    }
   ],
   "source": [
    "# start training with the custom dataset\n",
    "results = model.train(data=\"./custom-model.yaml\",\n",
    "                      epochs=100,\n",
    "                      imgsz=640,\n",
    "                      device=0,\n",
    "                      workers=8,\n",
    "                      batch=32,\n",
    "                      project=\"yolo8vsmodel\")"
   ]
  },
  {
   "cell_type": "markdown",
   "metadata": {
    "id": "VK0p8uv6G_-1"
   },
   "source": [
    "The model training weights gets stored in `yolo8vsmodel/weights` directory"
   ]
  }
 ],
 "metadata": {
  "accelerator": "GPU",
  "colab": {
   "gpuType": "T4",
   "provenance": [],
   "toc_visible": true
  },
  "kernelspec": {
   "display_name": "Python 3 (ipykernel)",
   "language": "python",
   "name": "python3"
  },
  "language_info": {
   "codemirror_mode": {
    "name": "ipython",
    "version": 3
   },
   "file_extension": ".py",
   "mimetype": "text/x-python",
   "name": "python",
   "nbconvert_exporter": "python",
   "pygments_lexer": "ipython3",
   "version": "3.12.7"
  }
 },
 "nbformat": 4,
 "nbformat_minor": 4
}
